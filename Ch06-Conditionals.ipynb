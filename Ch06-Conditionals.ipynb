{
 "cells": [
  {
   "cell_type": "markdown",
   "metadata": {},
   "source": [
    "# Conditionals\n",
    "- statements that are used to perform different actions based on different conditions\n",
    "- if, else, else if, and switch keyword help us create conditional statements\n",
    "- helps us add or use logic into the programs to change the behavior of programs"
   ]
  },
  {
   "cell_type": "markdown",
   "metadata": {},
   "source": [
    "## Boolean expressions\n",
    "- expression that is either true or false, off or on, yes or no\n",
    "- boolean expressions help us create conditions\n",
    "- boolean operators:\n",
    "    - $==$ - equal to (not assignment but comparing two values)\n",
    "    - $!=$ - not equal values\n",
    "    - $===$ - equality in both type and value\n",
    "    - $!==$ - not equal value or not equal type\n",
    "    - $>$ - greater than\n",
    "    - $<$ - less than\n",
    "    - $<=$ - greater than or equal to\n",
    "    - $<=$ - less than or equal to"
   ]
  },
  {
   "cell_type": "code",
   "execution_count": 1,
   "metadata": {},
   "outputs": [
    {
     "name": "stdout",
     "output_type": "stream",
     "text": [
      "true\n",
      "false\n"
     ]
    }
   ],
   "source": [
    "console.log(5 == 5);\n",
    "console.log(5 != 5);"
   ]
  },
  {
   "cell_type": "code",
   "execution_count": 2,
   "metadata": {},
   "outputs": [
    {
     "name": "stdout",
     "output_type": "stream",
     "text": [
      "true\n",
      "true\n"
     ]
    }
   ],
   "source": [
    "var x = 10;\n",
    "console.log(x == 10);\n",
    "console.log(x == '10');"
   ]
  },
  {
   "cell_type": "code",
   "execution_count": 3,
   "metadata": {},
   "outputs": [
    {
     "name": "stdout",
     "output_type": "stream",
     "text": [
      "true\n",
      "false\n"
     ]
    }
   ],
   "source": [
    "console.log(x === 10);\n",
    "console.log(x === '10');"
   ]
  },
  {
   "cell_type": "code",
   "execution_count": 4,
   "metadata": {},
   "outputs": [
    {
     "name": "stdout",
     "output_type": "stream",
     "text": [
      "false\n",
      "true\n"
     ]
    }
   ],
   "source": [
    "console.log(x > 15);\n",
    "console.log(x >= 10);"
   ]
  },
  {
   "cell_type": "code",
   "execution_count": 5,
   "metadata": {},
   "outputs": [
    {
     "name": "stdout",
     "output_type": "stream",
     "text": [
      "true\n",
      "false\n"
     ]
    }
   ],
   "source": [
    "console.log(x < 100);\n",
    "console.log(x <= 9);"
   ]
  },
  {
   "cell_type": "code",
   "execution_count": 6,
   "metadata": {},
   "outputs": [
    {
     "name": "stdout",
     "output_type": "stream",
     "text": [
      "true\n",
      "false\n"
     ]
    }
   ],
   "source": [
    "console.log('apple' < 'ball');\n",
    "console.log('Apple' > 'apple');"
   ]
  },
  {
   "cell_type": "code",
   "execution_count": 7,
   "metadata": {},
   "outputs": [
    {
     "name": "stdout",
     "output_type": "stream",
     "text": [
      "false\n"
     ]
    }
   ],
   "source": [
    "console.log('2' < '12'); // alphabetically or ascii value comparison"
   ]
  },
  {
   "cell_type": "markdown",
   "metadata": {},
   "source": [
    "## Logical Operators\n",
    "- help us determine the logic between multiple boolean expressions\n",
    "- && - and\n",
    "- Truth table for &&\n",
    "    - T && T => T\n",
    "    - T && F => F\n",
    "    - F && T => F\n",
    "    - F && F => F\n",
    "- || - or\n",
    "- Truth table for ||\n",
    "    - T || T => T\n",
    "    - T || F => T\n",
    "    - F || T => T\n",
    "    - F || F => F\n",
    "- ! - not\n",
    "    - !T => F\n",
    "    - !F => T"
   ]
  },
  {
   "cell_type": "code",
   "execution_count": 8,
   "metadata": {},
   "outputs": [
    {
     "data": {
      "text/plain": [
       "15"
      ]
     },
     "execution_count": 8,
     "metadata": {},
     "output_type": "execute_result"
    }
   ],
   "source": [
    "x = 5;\n",
    "y = 15;"
   ]
  },
  {
   "cell_type": "code",
   "execution_count": 9,
   "metadata": {},
   "outputs": [
    {
     "name": "stdout",
     "output_type": "stream",
     "text": [
      "true\n"
     ]
    }
   ],
   "source": [
    "console.log(x < 10 && y > 1);"
   ]
  },
  {
   "cell_type": "code",
   "execution_count": 10,
   "metadata": {},
   "outputs": [
    {
     "name": "stdout",
     "output_type": "stream",
     "text": [
      "false\n"
     ]
    }
   ],
   "source": [
    "console.log(x < 10 && y > 15);"
   ]
  },
  {
   "cell_type": "code",
   "execution_count": 11,
   "metadata": {},
   "outputs": [
    {
     "name": "stdout",
     "output_type": "stream",
     "text": [
      "false\n"
     ]
    }
   ],
   "source": [
    "console.log(x >= 10 && y <= 10);"
   ]
  },
  {
   "cell_type": "code",
   "execution_count": 12,
   "metadata": {},
   "outputs": [
    {
     "name": "stdout",
     "output_type": "stream",
     "text": [
      "true\n"
     ]
    }
   ],
   "source": [
    "console.log(x >= 5 || y > 100);"
   ]
  },
  {
   "cell_type": "code",
   "execution_count": 13,
   "metadata": {},
   "outputs": [
    {
     "name": "stdout",
     "output_type": "stream",
     "text": [
      "false\n"
     ]
    }
   ],
   "source": [
    "console.log(x >= 100 || y >= 100);"
   ]
  },
  {
   "cell_type": "markdown",
   "metadata": {},
   "source": [
    "## Conditional execution\n",
    "### One way selection - if statement\n",
    "- syntax:\n",
    "```javascript\n",
    "    if (condition) {\n",
    "        // block of code to be executed if the condition is true\n",
    "    }\n",
    "```"
   ]
  },
  {
   "cell_type": "code",
   "execution_count": 14,
   "metadata": {},
   "outputs": [
    {
     "name": "stdout",
     "output_type": "stream",
     "text": [
      "Good morning!\n"
     ]
    }
   ],
   "source": [
    "var hour = 8;\n",
    "if (hour < 12)\n",
    "    console.log('Good morning!');\n"
   ]
  },
  {
   "cell_type": "markdown",
   "metadata": {},
   "source": [
    "## Two way selection - if ... else ... statements\n",
    "- syntax:\n",
    "```javascript\n",
    "    if (condition) {\n",
    "        // block of code to be executed if the condition is true\n",
    "    }\n",
    "    else {\n",
    "        // block of code to be executed if the condition is false\n",
    "    }\n",
    "```"
   ]
  },
  {
   "cell_type": "code",
   "execution_count": 15,
   "metadata": {},
   "outputs": [
    {
     "name": "stdout",
     "output_type": "stream",
     "text": [
      "Good afternoon!\n"
     ]
    }
   ],
   "source": [
    "hour = 12\n",
    "if (hour < 12)\n",
    "    console.log('Good morning!');\n",
    "else\n",
    "    console.log('Good afternoon!');"
   ]
  },
  {
   "cell_type": "markdown",
   "metadata": {},
   "source": [
    "### Multi way selection - if ... else if ... else if ... else statements\n",
    "- syntax:\n",
    "```javascript\n",
    "    if (condition1) {\n",
    "        // execute this block if condition1 is true\n",
    "    }\n",
    "    else if (condition2) {\n",
    "        // execute this block if condition2 is true\n",
    "    }\n",
    "    \n",
    "    ...\n",
    "    \n",
    "    else {\n",
    "        // execute this block if no condition before is true\n",
    "    }\n",
    "```"
   ]
  },
  {
   "cell_type": "code",
   "execution_count": 16,
   "metadata": {},
   "outputs": [
    {
     "name": "stdout",
     "output_type": "stream",
     "text": [
      "Good evening!\n"
     ]
    }
   ],
   "source": [
    "var hour = 18;\n",
    "var greeting;\n",
    "if (hour < 12) {\n",
    "    greeting = \"Good morning!\";\n",
    "} else if (hour < 17) {\n",
    "    greeting = \"Good day!\";\n",
    "} else {\n",
    "    greeting = \"Good evening!\";\n",
    "}\n",
    "console.log(greeting);"
   ]
  },
  {
   "cell_type": "markdown",
   "metadata": {},
   "source": [
    "## Switch statement\n",
    "- similar to multiway selection, switch statement allows to select one of many code blocks to be executed\n",
    "- syntax:\n",
    "```javascript\n",
    "    switch(expression) {\n",
    "        case x:\n",
    "            code block\n",
    "            break;\n",
    "        case y:\n",
    "            code block\n",
    "            break;\n",
    "        \n",
    "        ...\n",
    "        \n",
    "        [default:\n",
    "            code block]\n",
    "    }\n",
    "```    \n",
    "- switch expression is evaluated once\n",
    "- uses strict comparison === (both type and value must be equal)\n",
    "- the value of the expression is compared with the values of each case\n",
    "- if there's a match, the associated block of code is executed and break out the switch statement\n",
    "- if no case is matched, default block is executed\n",
    "    "
   ]
  },
  {
   "cell_type": "code",
   "execution_count": 17,
   "metadata": {},
   "outputs": [
    {
     "name": "stdout",
     "output_type": "stream",
     "text": [
      "Tuesday\n"
     ]
    }
   ],
   "source": [
    "var day;\n",
    "switch (new Date().getDay()) {\n",
    "    case 0:\n",
    "        day = \"Sunday\";\n",
    "        break;\n",
    "    case 1:\n",
    "        day = \"Monday\";\n",
    "        break;\n",
    "    case 2:\n",
    "        day = \"Tuesday\";\n",
    "        break;\n",
    "    case 3:\n",
    "        day = \"Wednesday\";\n",
    "        break;\n",
    "    case 4:\n",
    "        day = \"Thursday\";\n",
    "        break;\n",
    "    case 5:\n",
    "        day = \"Friday\";\n",
    "        break;\n",
    "    case 6:\n",
    "        day = \"Saturday\";\n",
    "}\n",
    "console.log(day);"
   ]
  },
  {
   "cell_type": "code",
   "execution_count": 18,
   "metadata": {},
   "outputs": [
    {
     "name": "stdout",
     "output_type": "stream",
     "text": [
      "Looking forward to the Weekend\n"
     ]
    }
   ],
   "source": [
    "var text;\n",
    "switch (new Date().getDay()) {\n",
    "    case 4:\n",
    "    case 5:\n",
    "        text = \"Soon it'll be Weekend\";\n",
    "        break; \n",
    "    case 0:\n",
    "    case 6:\n",
    "        text = \"It is Weekend\";\n",
    "        break;\n",
    "    default: \n",
    "        text = \"Looking forward to the Weekend\";\n",
    "}\n",
    "console.log(text);"
   ]
  },
  {
   "cell_type": "code",
   "execution_count": 19,
   "metadata": {},
   "outputs": [
    {
     "name": "stdout",
     "output_type": "stream",
     "text": [
      "No value matched!\n"
     ]
    }
   ],
   "source": [
    "// strict comparison === is used, e.g.,\n",
    "var x = \"0\";\n",
    "switch (x) {\n",
    "    case 0:\n",
    "        text = \"Off\";\n",
    "        break;\n",
    "    case 1:\n",
    "        text = \"On\";\n",
    "        break;\n",
    "    default:\n",
    "        text = \"No value matched!\";\n",
    "}\n",
    "console.log(text);"
   ]
  },
  {
   "cell_type": "markdown",
   "metadata": {},
   "source": [
    "### exercise 1\n",
    "- use nested conditional statements to determine whether someone is eligible to vote in the US Federal election "
   ]
  },
  {
   "cell_type": "markdown",
   "metadata": {},
   "source": [
    "## Conditional operator\n",
    "```javascript\n",
    "( condition ) ? value1 : value2;\n",
    "```\n",
    "- if the (condition) is true use value1 otherwise use value2"
   ]
  },
  {
   "cell_type": "code",
   "execution_count": 20,
   "metadata": {},
   "outputs": [
    {
     "name": "stdout",
     "output_type": "stream",
     "text": [
      "ans =  jump\n"
     ]
    }
   ],
   "source": [
    "var ans = (5 < 10)? 'jump': 'do not jump';\n",
    "console.log('ans = ', ans)"
   ]
  },
  {
   "cell_type": "code",
   "execution_count": null,
   "metadata": {},
   "outputs": [],
   "source": []
  }
 ],
 "metadata": {
  "kernelspec": {
   "display_name": "Javascript (Node.js)",
   "language": "javascript",
   "name": "javascript"
  },
  "language_info": {
   "file_extension": ".js",
   "mimetype": "application/javascript",
   "name": "javascript",
   "version": "10.13.0"
  }
 },
 "nbformat": 4,
 "nbformat_minor": 2
}
