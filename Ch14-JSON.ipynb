{
 "cells": [
  {
   "cell_type": "markdown",
   "metadata": {},
   "source": [
    "# JSON (JavaScript Object Notation)\n",
    " - <strong>J</strong>ava<strong>S</strong>cript <strong>O</strong>bject <strong>N</strong>otation\n",
    " - lightweight data interchange (storing and transporting) format\n",
    " - JSON is \"self-describing\" and easy to understand\n",
    " - JSON is language independent (text only format, that's used by many languages)\n",
    " - see `package.json` file used by npm, e.g."
   ]
  },
  {
   "cell_type": "code",
   "execution_count": 1,
   "metadata": {},
   "outputs": [],
   "source": [
    "// example of text that has json structure\n",
    "var jsonText = '{firstName: \"John\", lastName: \"Smith\"}';"
   ]
  },
  {
   "cell_type": "markdown",
   "metadata": {},
   "source": [
    "### Example - employee records\n",
    "- following example defines an array of 3 employee records (objects) using JSON notation"
   ]
  },
  {
   "cell_type": "code",
   "execution_count": 2,
   "metadata": {},
   "outputs": [
    {
     "name": "stdout",
     "output_type": "stream",
     "text": [
      "{\n",
      "  employees: [\n",
      "    { firstName: \u001b[32m'John'\u001b[39m, lastName: \u001b[32m'Doe'\u001b[39m },\n",
      "    { firstName: \u001b[32m'Anna'\u001b[39m, lastName: \u001b[32m'Smith'\u001b[39m },\n",
      "    { firstName: \u001b[32m'Peter'\u001b[39m, lastName: \u001b[32m'Jones'\u001b[39m }\n",
      "  ]\n",
      "}\n"
     ]
    }
   ],
   "source": [
    "var emps = {\n",
    "    \"employees\":[\n",
    "        {\"firstName\":\"John\", \"lastName\":\"Doe\"}, \n",
    "        {\"firstName\":\"Anna\", \"lastName\":\"Smith\"},\n",
    "        {\"firstName\":\"Peter\", \"lastName\":\"Jones\"}\n",
    "    ]\n",
    "}\n",
    "console.log(emps);"
   ]
  },
  {
   "cell_type": "markdown",
   "metadata": {},
   "source": [
    "## JSON Syntax Rules\n",
    "- data is in `name:value` pairs\n",
    "- data is separated by commas\n",
    "- data can be an object or an array\n",
    "- curley `{ }` braces hold an object\n",
    "- square brackets `[ ]` hold arrays"
   ]
  },
  {
   "cell_type": "markdown",
   "metadata": {},
   "source": [
    "### converting JSON text to a JS Object\n",
    "- deserializing JSON strings\n",
    "- syntax:\n",
    "```javascript\n",
    "JSON.parse(json_text);\n",
    "```"
   ]
  },
  {
   "cell_type": "code",
   "execution_count": 3,
   "metadata": {},
   "outputs": [],
   "source": [
    "var text = '{ \"employees\" : [' +\n",
    "'{ \"firstName\":\"John\" , \"lastName\":\"Doe\" },' +\n",
    "'{ \"firstName\":\"Anna\" , \"lastName\":\"Smith\" },' +\n",
    "'{ \"firstName\":\"Peter\" , \"lastName\":\"Jones\" } ]}';"
   ]
  },
  {
   "cell_type": "code",
   "execution_count": 4,
   "metadata": {},
   "outputs": [
    {
     "name": "stdout",
     "output_type": "stream",
     "text": [
      "{ \"employees\" : [{ \"firstName\":\"John\" , \"lastName\":\"Doe\" },{ \"firstName\":\"Anna\" , \"lastName\":\"Smith\" },{ \"firstName\":\"Peter\" , \"lastName\":\"Jones\" } ]}\n"
     ]
    }
   ],
   "source": [
    "text"
   ]
  },
  {
   "cell_type": "code",
   "execution_count": 5,
   "metadata": {},
   "outputs": [],
   "source": [
    "// JSON is built-in global name\n",
    "var object = JSON.parse(text);"
   ]
  },
  {
   "cell_type": "code",
   "execution_count": 6,
   "metadata": {},
   "outputs": [
    {
     "name": "stdout",
     "output_type": "stream",
     "text": [
      "{\n",
      "  employees: [\n",
      "    { firstName: \u001b[32m'John'\u001b[39m, lastName: \u001b[32m'Doe'\u001b[39m },\n",
      "    { firstName: \u001b[32m'Anna'\u001b[39m, lastName: \u001b[32m'Smith'\u001b[39m },\n",
      "    { firstName: \u001b[32m'Peter'\u001b[39m, lastName: \u001b[32m'Jones'\u001b[39m }\n",
      "  ]\n",
      "}\n"
     ]
    }
   ],
   "source": [
    "console.log(object);"
   ]
  },
  {
   "cell_type": "code",
   "execution_count": 7,
   "metadata": {},
   "outputs": [
    {
     "name": "stdout",
     "output_type": "stream",
     "text": [
      "{ firstName: \u001b[32m'John'\u001b[39m, lastName: \u001b[32m'Doe'\u001b[39m }\n"
     ]
    }
   ],
   "source": [
    "// access the first employee value in employees name\n",
    "console.log(object.employees[0]);"
   ]
  },
  {
   "cell_type": "code",
   "execution_count": 8,
   "metadata": {},
   "outputs": [
    {
     "name": "stdout",
     "output_type": "stream",
     "text": [
      "Anna\n"
     ]
    }
   ],
   "source": [
    "// access the firstName attribute of the 2nd employee\n",
    "console.log(object.employees[1].firstName);"
   ]
  },
  {
   "cell_type": "code",
   "execution_count": 9,
   "metadata": {},
   "outputs": [
    {
     "name": "stdout",
     "output_type": "stream",
     "text": [
      "Smith\n"
     ]
    }
   ],
   "source": [
    "// access the firstName attribute of the 2nd employee\n",
    "console.log(object.employees[1].lastName);"
   ]
  },
  {
   "cell_type": "markdown",
   "metadata": {},
   "source": [
    "## read json file created by npm - package.json"
   ]
  },
  {
   "cell_type": "code",
   "execution_count": 10,
   "metadata": {},
   "outputs": [
    {
     "name": "stdout",
     "output_type": "stream",
     "text": [
      "{\n",
      "  \"name\": \"nodejs\",\n",
      "  \"version\": \"1.0.0\",\n",
      "  \"description\": \"Jupyter notebooks for learning JavaScript(JS)/ECMAScript (ES 6) using Node.js\",\n",
      "  \"main\": \"index.js\",\n",
      "  \"type\": \"module\",\n",
      "  \"scripts\": {\n",
      "    \"test\": \"echo \\\"Error: no test specified\\\" && exit 1\"\n",
      "  },\n",
      "  \"repository\": {\n",
      "    \"type\": \"git\",\n",
      "    \"url\": \"git+https://github.com/rambasnet/NodeJS.git\"\n",
      "  },\n",
      "  \"keywords\": [\n",
      "    \"NodeJS\",\n",
      "    \"Node\",\n",
      "    \"JavaScript\",\n",
      "    \"JupyterNotebook for JS\",\n",
      "    \"Express\",\n",
      "    \"jQuery\"\n",
      "  ],\n",
      "  \"author\": \"Ram Basnet\",\n",
      "  \"license\": \"MIT\",\n",
      "  \"bugs\": {\n",
      "    \"url\": \"https://github.com/rambasnet/NodeJS/issues\"\n",
      "  },\n",
      "  \"homepage\": \"https://github.com/rambasnet/NodeJS#readme\",\n",
      "  \"dependencies\": {\n",
      "    \"chalk\": \"^5.0.0\",\n",
      "    \"log4js\": \"^6.4.1\",\n",
      "    \"mongodb\": \"^3.6.3\",\n",
      "    \"pug\": \"^3.0.2\",\n",
      "    \"readline-sync\": \"^1.4.10\"\n",
      "  }\n",
      "}\n",
      "\n"
     ]
    }
   ],
   "source": [
    "// create json file if doesn't exist; use npm init\n",
    "const fs = require('fs');\n",
    "var data = fs.readFileSync('package.json');\n",
    "console.log(data.toString());"
   ]
  },
  {
   "cell_type": "code",
   "execution_count": 12,
   "metadata": {},
   "outputs": [],
   "source": [
    "var pack = JSON.parse(data);"
   ]
  },
  {
   "cell_type": "code",
   "execution_count": 13,
   "metadata": {},
   "outputs": [
    {
     "name": "stdout",
     "output_type": "stream",
     "text": [
      "{\n",
      "  name: \u001b[32m'nodejs'\u001b[39m,\n",
      "  version: \u001b[32m'1.0.0'\u001b[39m,\n",
      "  description: \u001b[32m'Jupyter notebooks for learning JavaScript(JS)/ECMAScript (ES 6) using Node.js'\u001b[39m,\n",
      "  main: \u001b[32m'index.js'\u001b[39m,\n",
      "  type: \u001b[32m'module'\u001b[39m,\n",
      "  scripts: { test: \u001b[32m'echo \"Error: no test specified\" && exit 1'\u001b[39m },\n",
      "  repository: { type: \u001b[32m'git'\u001b[39m, url: \u001b[32m'git+https://github.com/rambasnet/NodeJS.git'\u001b[39m },\n",
      "  keywords: [\n",
      "    \u001b[32m'NodeJS'\u001b[39m,\n",
      "    \u001b[32m'Node'\u001b[39m,\n",
      "    \u001b[32m'JavaScript'\u001b[39m,\n",
      "    \u001b[32m'JupyterNotebook for JS'\u001b[39m,\n",
      "    \u001b[32m'Express'\u001b[39m,\n",
      "    \u001b[32m'jQuery'\u001b[39m\n",
      "  ],\n",
      "  author: \u001b[32m'Ram Basnet'\u001b[39m,\n",
      "  license: \u001b[32m'MIT'\u001b[39m,\n",
      "  bugs: { url: \u001b[32m'https://github.com/rambasnet/NodeJS/issues'\u001b[39m },\n",
      "  homepage: \u001b[32m'https://github.com/rambasnet/NodeJS#readme'\u001b[39m,\n",
      "  dependencies: {\n",
      "    chalk: \u001b[32m'^5.0.0'\u001b[39m,\n",
      "    log4js: \u001b[32m'^6.4.1'\u001b[39m,\n",
      "    mongodb: \u001b[32m'^3.6.3'\u001b[39m,\n",
      "    pug: \u001b[32m'^3.0.2'\u001b[39m,\n",
      "    \u001b[32m'readline-sync'\u001b[39m: \u001b[32m'^1.4.10'\u001b[39m\n",
      "  }\n",
      "}\n"
     ]
    }
   ],
   "source": [
    "console.log(pack);"
   ]
  },
  {
   "cell_type": "code",
   "execution_count": 14,
   "metadata": {},
   "outputs": [
    {
     "name": "stdout",
     "output_type": "stream",
     "text": [
      "nodejs\n"
     ]
    }
   ],
   "source": [
    "console.log(pack.name);"
   ]
  },
  {
   "cell_type": "code",
   "execution_count": 15,
   "metadata": {},
   "outputs": [
    {
     "name": "stdout",
     "output_type": "stream",
     "text": [
      "{ test: \u001b[32m'echo \"Error: no test specified\" && exit 1'\u001b[39m }\n"
     ]
    }
   ],
   "source": [
    "console.log(pack.scripts);"
   ]
  },
  {
   "cell_type": "code",
   "execution_count": 16,
   "metadata": {},
   "outputs": [
    {
     "name": "stdout",
     "output_type": "stream",
     "text": [
      "echo \"Error: no test specified\" && exit 1\n"
     ]
    }
   ],
   "source": [
    "console.log(pack.scripts.test);"
   ]
  },
  {
   "cell_type": "code",
   "execution_count": 17,
   "metadata": {},
   "outputs": [
    {
     "name": "stdout",
     "output_type": "stream",
     "text": [
      "git+https://github.com/rambasnet/NodeJS.git\n"
     ]
    }
   ],
   "source": [
    "console.log(pack.repository.url);"
   ]
  },
  {
   "cell_type": "markdown",
   "metadata": {},
   "source": [
    "## converting JS object to string\n",
    "- serialize JSON objects to strings\n",
    "- typically done to send objects across the network or store JSON into filesystems\n",
    "- syntax:\n",
    "```javascript\n",
    "JSON.stringify(JS_Object);\n",
    "```"
   ]
  },
  {
   "cell_type": "code",
   "execution_count": 18,
   "metadata": {},
   "outputs": [],
   "source": [
    "// a JavaScript object...:\n",
    "var myObj = {name:\"John\", \"age\":31, \"city\":\"New York\" };"
   ]
  },
  {
   "cell_type": "code",
   "execution_count": 19,
   "metadata": {},
   "outputs": [
    {
     "name": "stdout",
     "output_type": "stream",
     "text": [
      "{\"name\":\"John\",\"age\":31,\"city\":\"New York\"}\n"
     ]
    }
   ],
   "source": [
    "// ...converted into JSON:\n",
    "var myJSON = JSON.stringify(myObj);\n",
    "console.log(myJSON);"
   ]
  },
  {
   "cell_type": "code",
   "execution_count": 20,
   "metadata": {},
   "outputs": [
    {
     "name": "stdout",
     "output_type": "stream",
     "text": [
      "string\n"
     ]
    }
   ],
   "source": [
    "console.log(typeof myJSON);"
   ]
  },
  {
   "cell_type": "code",
   "execution_count": 21,
   "metadata": {},
   "outputs": [],
   "source": [
    "var str1 = JSON.stringify({ x: 5, y: 6 });"
   ]
  },
  {
   "cell_type": "code",
   "execution_count": 22,
   "metadata": {},
   "outputs": [
    {
     "name": "stdout",
     "output_type": "stream",
     "text": [
      "{\"x\":5,\"y\":6}\n"
     ]
    }
   ],
   "source": [
    "str1"
   ]
  },
  {
   "cell_type": "code",
   "execution_count": 23,
   "metadata": {},
   "outputs": [],
   "source": [
    "var str2 = JSON.stringify([new Number(3), new String('false'), new Boolean(false)]);"
   ]
  },
  {
   "cell_type": "code",
   "execution_count": 24,
   "metadata": {},
   "outputs": [
    {
     "name": "stdout",
     "output_type": "stream",
     "text": [
      "[3,\"false\",false]\n"
     ]
    }
   ],
   "source": [
    "str2"
   ]
  },
  {
   "cell_type": "code",
   "execution_count": 25,
   "metadata": {},
   "outputs": [],
   "source": [
    "var str3 = JSON.stringify({ x: [10, undefined, function(){}, Symbol('')] });"
   ]
  },
  {
   "cell_type": "code",
   "execution_count": 26,
   "metadata": {},
   "outputs": [
    {
     "name": "stdout",
     "output_type": "stream",
     "text": [
      "{\"x\":[10,null,null,null]}\n"
     ]
    }
   ],
   "source": [
    "str3"
   ]
  },
  {
   "cell_type": "code",
   "execution_count": 27,
   "metadata": {},
   "outputs": [],
   "source": [
    "// can't serialize code\n",
    "var str4 = JSON.stringify({'func': function(x){ return x**2}});"
   ]
  },
  {
   "cell_type": "code",
   "execution_count": 28,
   "metadata": {},
   "outputs": [
    {
     "name": "stdout",
     "output_type": "stream",
     "text": [
      "{}\n"
     ]
    }
   ],
   "source": [
    "str4"
   ]
  },
  {
   "cell_type": "code",
   "execution_count": 29,
   "metadata": {},
   "outputs": [],
   "source": [
    "var str5 = JSON.stringify(new Date(2006, 0, 2, 15, 4, 5)); //year, month, day, hour, min, secs"
   ]
  },
  {
   "cell_type": "code",
   "execution_count": 30,
   "metadata": {},
   "outputs": [
    {
     "name": "stdout",
     "output_type": "stream",
     "text": [
      "\"2006-01-02T22:04:05.000Z\"\n"
     ]
    }
   ],
   "source": [
    "str5"
   ]
  },
  {
   "cell_type": "markdown",
   "metadata": {},
   "source": [
    "## Deserialize string by parsing into JSON objects\n",
    "- typically, receiving end will do this\n",
    "- syntax:\n",
    "```javascript\n",
    "JSON.parse(JSON_string);\n",
    "```"
   ]
  },
  {
   "cell_type": "code",
   "execution_count": 31,
   "metadata": {},
   "outputs": [],
   "source": [
    "var obj1 = JSON.parse(str1);"
   ]
  },
  {
   "cell_type": "code",
   "execution_count": 32,
   "metadata": {},
   "outputs": [
    {
     "name": "stdout",
     "output_type": "stream",
     "text": [
      "x = 5 y = 6\n"
     ]
    }
   ],
   "source": [
    "console.log(`x = ${obj1.x} y = ${obj1.y}`);"
   ]
  },
  {
   "cell_type": "code",
   "execution_count": 33,
   "metadata": {},
   "outputs": [],
   "source": [
    "var obj5 = JSON.parse(str5);"
   ]
  },
  {
   "cell_type": "code",
   "execution_count": 34,
   "metadata": {},
   "outputs": [
    {
     "name": "stdout",
     "output_type": "stream",
     "text": [
      "\u001b[35m2006-01-02T22:04:05.000Z\u001b[39m\n"
     ]
    }
   ],
   "source": [
    "// since obj5 is actually object of Date type; convert it so explictly\n",
    "obj5 = new Date(obj5)"
   ]
  },
  {
   "cell_type": "code",
   "execution_count": 35,
   "metadata": {},
   "outputs": [
    {
     "name": "stdout",
     "output_type": "stream",
     "text": [
      "\u001b[33m1\u001b[39m\n"
     ]
    }
   ],
   "source": [
    "obj5.getDay(); //0-6 Sun - Sat"
   ]
  },
  {
   "cell_type": "code",
   "execution_count": 36,
   "metadata": {},
   "outputs": [
    {
     "name": "stdout",
     "output_type": "stream",
     "text": [
      "\u001b[33m2006\u001b[39m\n"
     ]
    }
   ],
   "source": [
    "obj5.getFullYear();"
   ]
  },
  {
   "cell_type": "code",
   "execution_count": 37,
   "metadata": {},
   "outputs": [
    {
     "name": "stdout",
     "output_type": "stream",
     "text": [
      "\u001b[33m0\u001b[39m\n"
     ]
    }
   ],
   "source": [
    "obj5.getMonth(); // 0-11"
   ]
  },
  {
   "cell_type": "code",
   "execution_count": 38,
   "metadata": {},
   "outputs": [
    {
     "name": "stdout",
     "output_type": "stream",
     "text": [
      "\u001b[33m2\u001b[39m\n"
     ]
    }
   ],
   "source": [
    "obj5.getDate(); // 1-31"
   ]
  },
  {
   "cell_type": "code",
   "execution_count": 39,
   "metadata": {},
   "outputs": [
    {
     "name": "stdout",
     "output_type": "stream",
     "text": [
      "H:M:S = 15:4:5\n"
     ]
    }
   ],
   "source": [
    "console.log(`H:M:S = ${obj5.getHours()}:${obj5.getMinutes()}:${obj5.getSeconds()}`);"
   ]
  },
  {
   "cell_type": "markdown",
   "metadata": {},
   "source": [
    "## Valid JSON data types\n",
    "- a string\n",
    "- a number\n",
    "- an object (containing valid JSON values)\n",
    "- an array (containing valid JSON values)\n",
    "- a boolean\n",
    "- null"
   ]
  },
  {
   "cell_type": "code",
   "execution_count": 40,
   "metadata": {},
   "outputs": [],
   "source": [
    "// stringify JS array\n",
    "var nums = [1, 10, 100];"
   ]
  },
  {
   "cell_type": "code",
   "execution_count": 41,
   "metadata": {},
   "outputs": [],
   "source": [
    "var jsonNum = JSON.stringify(nums);"
   ]
  },
  {
   "cell_type": "code",
   "execution_count": 42,
   "metadata": {},
   "outputs": [
    {
     "name": "stdout",
     "output_type": "stream",
     "text": [
      "[1,10,100]\n"
     ]
    }
   ],
   "source": [
    "jsonNum"
   ]
  },
  {
   "cell_type": "code",
   "execution_count": 43,
   "metadata": {},
   "outputs": [],
   "source": [
    "// parse stringified array into array object\n",
    "var numObj = JSON.parse(jsonNum);"
   ]
  },
  {
   "cell_type": "code",
   "execution_count": 44,
   "metadata": {},
   "outputs": [
    {
     "name": "stdout",
     "output_type": "stream",
     "text": [
      "[ \u001b[33m1\u001b[39m, \u001b[33m10\u001b[39m, \u001b[33m100\u001b[39m ]\n"
     ]
    }
   ],
   "source": [
    "numObj"
   ]
  },
  {
   "cell_type": "code",
   "execution_count": 45,
   "metadata": {},
   "outputs": [
    {
     "name": "stdout",
     "output_type": "stream",
     "text": [
      "\u001b[33m1\u001b[39m\n"
     ]
    }
   ],
   "source": [
    "numObj[0]"
   ]
  },
  {
   "cell_type": "code",
   "execution_count": null,
   "metadata": {},
   "outputs": [],
   "source": []
  }
 ],
 "metadata": {
  "kernelspec": {
   "display_name": "TypeScript",
   "language": "typescript",
   "name": "tslab"
  },
  "language_info": {
   "codemirror_mode": {
    "mode": "typescript",
    "name": "javascript",
    "typescript": true
   },
   "file_extension": ".ts",
   "mimetype": "text/typescript",
   "name": "typescript",
   "version": "3.7.2"
  }
 },
 "nbformat": 4,
 "nbformat_minor": 2
}
