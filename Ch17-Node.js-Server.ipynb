{
 "cells": [
  {
   "cell_type": "markdown",
   "metadata": {},
   "source": [
    "# Node.js\n",
    "- free and open source server environment for JavaScript programming language\n",
    "- platform independent (Windows, Linux, Unix, Mac OS X, etc.)\n",
    "- https://www.tutorialspoint.com/nodejs/nodejs_event_loop.htm\n",
    "- https://www.w3schools.com/nodejs/default.asp"
   ]
  },
  {
   "cell_type": "markdown",
   "metadata": {},
   "source": [
    "## Features and benefits of Node.js\n",
    "- uses asynchronous (non-blocking) programming model\n",
    "- eliminates the waiting on events or completition of certain functions or tasks\n",
    "- simply continues with the next request/task\n",
    "- single threaded but highly scalable (providing services to a large number of clients simultanesously) and very fast (built on Google Chrome's V8 JS Engine)\n",
    "- Node.js applications never buffer any data, but simply output the data in chunks"
   ]
  },
  {
   "cell_type": "markdown",
   "metadata": {},
   "source": [
    "## common applications\n",
    "- used by large companies such as Microsoft, Google, GE, GoDaddy, Uber, Yahoo!, eBay, PayPal, etc.\n",
    "- I/O bound applications\n",
    "- Data Streaming applications\n",
    "- JSON APIs based applications\n",
    "- Single Page applications\n",
    "- Data intensive real-time applications (DIRT)"
   ]
  },
  {
   "cell_type": "markdown",
   "metadata": {},
   "source": [
    "## callback concepts\n",
    "- Node.js makes heavy use of callback functions\n",
    "- callback functions that are asynchronous\n",
    "- called at the completetion of a given task or operation\n",
    "- most API/methods and functions of Node.js are written in such a way that they support callbacks\n",
    "- callback makes Node.js highly scalable as there's no blocking on certain operations. \n",
    "    - E.g., a function to read a file may start reading file and return the control to the execution environment immidiately so that the next instruction can be executed. \n",
    "    - Once file I/O is complete, it'll call the callback function while passing the content of the the file as an argument to the file -- no blocking or wait to complete File I/O! \n",
    "- most async functions are higher order functions that accept a callback function as the last parameter\n",
    "- callback function accepts an error as the first parameter\n",
    "- callback function is usually anonymous (arrow function), but can be named function"
   ]
  },
  {
   "cell_type": "markdown",
   "metadata": {},
   "source": [
    "### blocking code example"
   ]
  },
  {
   "cell_type": "code",
   "execution_count": 1,
   "metadata": {},
   "outputs": [
    {
     "name": "stdout",
     "output_type": "stream",
     "text": [
      "first line\n",
      "hello there! This is second line.\n",
      "Third line is as plain as This.\n",
      "Apple\n",
      "How about ball?\n",
      "\n",
      "all done!\n"
     ]
    }
   ],
   "source": [
    "var fs = require('fs');\n",
    "var data = fs.readFileSync('./JSDemo/input.txt');\n",
    "console.log(data.toString());\n",
    "console.log('all done!');"
   ]
  },
  {
   "cell_type": "markdown",
   "metadata": {},
   "source": [
    "### non-blocking callback example"
   ]
  },
  {
   "cell_type": "code",
   "execution_count": 2,
   "metadata": {},
   "outputs": [
    {
     "name": "stdout",
     "output_type": "stream",
     "text": [
      "all done!\n",
      "first line\n",
      "hello there! This is second line.\n",
      "Third line is as plain as This.\n",
      "Apple\n",
      "How about ball?\n",
      "\n"
     ]
    }
   ],
   "source": [
    "var fs = require('fs');\n",
    "\n",
    "// use anonyous function\n",
    "fs.readFile('./JSDemo/input.txt', function(err, data) {\n",
    "    if (err) return console.error(err);\n",
    "    console.log(data.toString());\n",
    "});\n",
    "\n",
    "console.log('all done!'); //Notice when this line is printed in output"
   ]
  },
  {
   "cell_type": "code",
   "execution_count": 3,
   "metadata": {},
   "outputs": [
    {
     "name": "stdout",
     "output_type": "stream",
     "text": [
      "all done!\n",
      "first line\n",
      "hello there! This is second line.\n",
      "Third line is as plain as This.\n",
      "Apple\n",
      "How about ball?\n",
      "\n"
     ]
    }
   ],
   "source": [
    "var fs = require('fs');\n",
    "\n",
    "function readData(err, data) {\n",
    "    if (err) return console.error(err);\n",
    "    console.log(data.toString());\n",
    "}\n",
    "\n",
    "// use named function\n",
    "fs.readFile('./JSDemo/input.txt', readData);\n",
    "\n",
    "console.log('all done!');"
   ]
  },
  {
   "cell_type": "markdown",
   "metadata": {},
   "source": [
    "## blocking vs non-blocking\n",
    "- With blocking: code exectue in sequence as we're most familiar with from many programming concepts\n",
    "    - easier to implement, because we can predict the sequence\n",
    "- With non-blocking:\n",
    "    - program doesn't wait for file reading and continues to print 'all done!'\n",
    "    - codes do not execute in sequence\n",
    "    - in case a program needs to use any data to be processed, it should be kept inside the callback function block to execute in sequence"
   ]
  },
  {
   "cell_type": "markdown",
   "metadata": {},
   "source": [
    "## Event Loop\n",
    "- https://nodejs.org/api/events.html\n",
    "\n",
    "- Node.js is a single-threaded application, but it can support concurrency via the concept of event and callbacks\n",
    "- Node thread keeps an event loop and whenever a task gets completed, it fires the corresponding event which signals the event-listener function to execute\n",
    "- much of Node.js API follows asynchronous event-driven architecture in which certain kinds of objects (called \"emitters\") emit named events that cause Function objects or event handlers (\"listeners\") to be called"
   ]
  },
  {
   "cell_type": "markdown",
   "metadata": {},
   "source": [
    "## Event-driven architecture\n",
    "- when Node starts its server, it simply declares its variables, functions and then simply waits for the event to occur\n",
    "- there's generally a main loop that listens for events, and then triggers a callback function when one of the events is detected\n",
    "<img src=\"event_loop.jpg\">\n",
    "- built-in module called \"Events\" allow you to create, fire and listen for events"
   ]
  },
  {
   "cell_type": "markdown",
   "metadata": {},
   "source": [
    "## events example "
   ]
  },
  {
   "cell_type": "code",
   "execution_count": 4,
   "metadata": {},
   "outputs": [
    {
     "name": "stdout",
     "output_type": "stream",
     "text": [
      "connection succesful.\n",
      "data received succesfully.\n",
      "connection closed.\n",
      "Good bye!\n"
     ]
    }
   ],
   "source": [
    "// Import events module\n",
    "var events = require('events');\n",
    "// Create an eventEmitter object\n",
    "var eventEmitter = new events.EventEmitter();\n",
    "\n",
    "// Create an event handler\n",
    "function connectHandler() {\n",
    "   console.log('connection succesful.');\n",
    "  \n",
    "   // Fire the data_received event \n",
    "   eventEmitter.emit('data_received');\n",
    "}\n",
    "\n",
    "// Bind the connection event with the handler\n",
    "eventEmitter.on('connect', connectHandler);\n",
    " \n",
    "// Bind the data_received event with the anonymous event handler\n",
    "eventEmitter.on('data_received', function(){\n",
    "   console.log('data received succesfully.');\n",
    "});\n",
    "\n",
    "var closeListener = function () {\n",
    "    console.log('connection closed.');\n",
    "}\n",
    "eventEmitter.on('close', closeListener);\n",
    "\n",
    "// Fire the connection event \n",
    "eventEmitter.emit('connect');\n",
    "eventEmitter.emit('close');\n",
    "console.log(\"Good bye!\");"
   ]
  },
  {
   "cell_type": "markdown",
   "metadata": {},
   "source": [
    "### passing arguments and `this` to listeners\n",
    "- eventEmitter.emit() method allows an arbitrary set of arguments to be passed to the listener/handler functions"
   ]
  },
  {
   "cell_type": "code",
   "execution_count": 1,
   "metadata": {},
   "outputs": [
    {
     "name": "stdout",
     "output_type": "stream",
     "text": [
      "an event occured!\n"
     ]
    },
    {
     "data": {
      "text/plain": [
       "true"
      ]
     },
     "execution_count": 1,
     "metadata": {},
     "output_type": "execute_result"
    }
   ],
   "source": [
    "var EventEmitter = require('events');\n",
    "class MyEmitter extends EventEmitter {}; // create MyEmitter class derived from EventEmitter\n",
    "\n",
    "var emitter = new MyEmitter();\n",
    "emitter.on('event', () => {\n",
    "    console.log('an event occured!');\n",
    "});\n",
    "emitter.emit('event');"
   ]
  },
  {
   "cell_type": "code",
   "execution_count": 2,
   "metadata": {},
   "outputs": [
    {
     "name": "stdout",
     "output_type": "stream",
     "text": [
      "100 200 MyEmitter {\n",
      "  _events: [Object: null prototype] { someEvent: [Function] },\n",
      "  _eventsCount: 1,\n",
      "  _maxListeners: undefined }\n"
     ]
    },
    {
     "data": {
      "text/plain": [
       "true"
      ]
     },
     "execution_count": 2,
     "metadata": {},
     "output_type": "execute_result"
    }
   ],
   "source": [
    "var emitter1 = new MyEmitter();\n",
    "emitter1.on('someEvent', function(a, b) {\n",
    "    console.log(a, b, this);\n",
    "});\n",
    "emitter1.emit('someEvent', 100, 200);"
   ]
  },
  {
   "cell_type": "markdown",
   "metadata": {},
   "source": [
    "## see NodeDemo folder for quick demo of Node.js serverside scripts\n",
    "- run node hello-world.js and index.js"
   ]
  },
  {
   "cell_type": "code",
   "execution_count": null,
   "metadata": {},
   "outputs": [],
   "source": []
  }
 ],
 "metadata": {
  "kernelspec": {
   "display_name": "Javascript (Node.js)",
   "language": "javascript",
   "name": "javascript"
  },
  "language_info": {
   "file_extension": ".js",
   "mimetype": "application/javascript",
   "name": "javascript",
   "version": "11.14.0"
  }
 },
 "nbformat": 4,
 "nbformat_minor": 2
}
