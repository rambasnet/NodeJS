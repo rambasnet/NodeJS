{
 "cells": [
  {
   "cell_type": "markdown",
   "metadata": {},
   "source": [
    "# MongoDB\n",
    "- https://www.mongodb.com/\n",
    "- https://docs.mongodb.com/manual/tutorial/getting-started/\n",
    "- https://www.w3schools.com/nodejs/nodejs_mongodb.asp\n",
    "- NoSQL - json based database\n",
    "-\n",
    "\n",
    "## Installing MongoDB\n",
    "- https://docs.mongodb.com/manual/administration/install-community/\n",
    "- E.g., on Mac, you can use brew to install Mongodb\n",
    "    - https://docs.mongodb.com/manual/tutorial/install-mongodb-on-os-x/\n",
    "    - $ brew install mongodb"
   ]
  },
  {
   "cell_type": "markdown",
   "metadata": {},
   "source": [
    "## MongoDB GUI-based management tool\n",
    "- Robo 3T: free and opensource: https://www.robomongo.org/\n",
    "- Download and installed Robo 3T\n",
    "- MongoDB Compass Community Edition: https://www.mongodb.com/download-center/compass"
   ]
  },
  {
   "cell_type": "markdown",
   "metadata": {},
   "source": [
    "## Run MongoDB server\n",
    "- https://docs.mongodb.com/guides/server/install/\n",
    "- add /bin folder to path or simply CD into the folder to run mongod app\n",
    "- Using terminal: \n",
    "    - $ mongod --dbpath=[dbfolder]\n",
    "    \n",
    "- CD into MongoDB folder and run the following command:\n",
    "    - $ mongod --dbpath=data\n",
    "- MongoDB by defualt runs on localhost:27017"
   ]
  },
  {
   "cell_type": "markdown",
   "metadata": {},
   "source": [
    "## Connect to the server using Robo 3T\n",
    "<img src=\"Robo3T.png\">"
   ]
  },
  {
   "cell_type": "markdown",
   "metadata": {},
   "source": [
    "## Connect to the server using Nodejs\n",
    "- see sample scripts in MongoDemo folder\n",
    "- install mongodb driver for nodejs\n",
    "- $ npm install -g mongodb"
   ]
  },
  {
   "cell_type": "code",
   "execution_count": 7,
   "metadata": {},
   "outputs": [
    {
     "data": {
      "text/plain": [
       "undefined"
      ]
     },
     "execution_count": 7,
     "metadata": {},
     "output_type": "execute_result"
    },
    {
     "name": "stdout",
     "output_type": "stream",
     "text": [
      "Database created!\n"
     ]
    }
   ],
   "source": [
    "var mongo = require(\"mongodb\")\n",
    "\n",
    "var MongoClient = require(\"mongodb\").MongoClient\n",
    "var url = \"mongodb://localhost:27017/test\"\n",
    "\n",
    "MongoClient.connect(\n",
    "    url,\n",
    "    function(err, db) {\n",
    "        if (err) throw err\n",
    "        console.log(\"Database created!\")\n",
    "        // database is not actually created until one collection/table\n",
    "        db.close()\n",
    "    }\n",
    ")"
   ]
  },
  {
   "cell_type": "markdown",
   "metadata": {},
   "source": [
    "## MongoDB CRUD Operations\n",
    "- create\n",
    "- read\n",
    "- update\n",
    "- delete"
   ]
  },
  {
   "cell_type": "markdown",
   "metadata": {},
   "source": [
    "## create collection"
   ]
  },
  {
   "cell_type": "code",
   "execution_count": 53,
   "metadata": {},
   "outputs": [
    {
     "data": {
      "text/plain": [
       "undefined"
      ]
     },
     "execution_count": 53,
     "metadata": {},
     "output_type": "execute_result"
    },
    {
     "name": "stdout",
     "output_type": "stream",
     "text": [
      "Collection created!\n"
     ]
    }
   ],
   "source": [
    "var MongoClient = require('mongodb').MongoClient;\n",
    "var url = \"mongodb://localhost:27017/\";\n",
    "\n",
    "MongoClient.connect(url, function(err, db) {\n",
    "  if (err) throw err;\n",
    "  var dbo = db.db(\"test\");\n",
    "  dbo.createCollection(\"inventory\", function(err, res) {\n",
    "    if (err) throw err;\n",
    "    console.log(\"Collection created!\");\n",
    "    db.close();\n",
    "  });\n",
    "});"
   ]
  },
  {
   "cell_type": "markdown",
   "metadata": {},
   "source": [
    "## insert a single document"
   ]
  },
  {
   "cell_type": "code",
   "execution_count": 9,
   "metadata": {},
   "outputs": [
    {
     "data": {
      "text/plain": [
       "undefined"
      ]
     },
     "execution_count": 9,
     "metadata": {},
     "output_type": "execute_result"
    }
   ],
   "source": [
    "var MongoClient = require('mongodb').MongoClient;\n",
    "var url = \"mongodb://localhost:27017/\";\n",
    "\n",
    "MongoClient.connect(url, function(err, db) {\n",
    "  if (err) throw err;\n",
    "  var dbo = db.db(\"test\");\n",
    "  dbo.collection(\"inventory\").insertOne({\n",
    "    item: 'canvas',\n",
    "      qty: 100,\n",
    "      tags: ['cotton'],\n",
    "      size: {h: 28, w:35.5, uom: 'cm'}\n",
    "  })\n",
    "    db.close();\n",
    "  \n",
    "});"
   ]
  },
  {
   "cell_type": "markdown",
   "metadata": {},
   "source": [
    "## insert many documents"
   ]
  },
  {
   "cell_type": "code",
   "execution_count": 63,
   "metadata": {},
   "outputs": [
    {
     "data": {
      "text/plain": [
       "undefined"
      ]
     },
     "execution_count": 63,
     "metadata": {},
     "output_type": "execute_result"
    },
    {
     "name": "stdout",
     "output_type": "stream",
     "text": [
      "3 document(s) inserted!\n"
     ]
    }
   ],
   "source": [
    "var MongoClient = require('mongodb').MongoClient;\n",
    "var url = \"mongodb://localhost:27017/\";\n",
    "\n",
    "MongoClient.connect(url, function(err, db) {\n",
    "    if (err) throw err;\n",
    "    var dbo = db.db(\"test\");\n",
    "    insertManyInventory(dbo);\n",
    "    db.close();\n",
    "});\n",
    "\n",
    "function insertManyInventory(db) {\n",
    "    db.collection('inventory').insertMany([\n",
    "      {\n",
    "        item: 'journal',\n",
    "        qty: 25,\n",
    "        tags: ['blank', 'red'],\n",
    "        size: { h: 14, w: 21, uom: 'cm' }\n",
    "      },\n",
    "      {\n",
    "        item: 'mat',\n",
    "        qty: 85,\n",
    "        tags: ['gray'],\n",
    "        size: { h: 27.9, w: 35.5, uom: 'cm' }\n",
    "      },\n",
    "      {\n",
    "        item: 'mousepad',\n",
    "        qty: 25,\n",
    "        tags: ['gel', 'blue'],\n",
    "        size: { h: 19, w: 22.85, uom: 'cm' }\n",
    "      }\n",
    "    ], function(err, res) {\n",
    "        console.log(`${res.insertedCount} document(s) inserted!`)\n",
    "    });\n",
    "}"
   ]
  },
  {
   "cell_type": "markdown",
   "metadata": {},
   "source": [
    "## select all documents in a collection\n",
    "-SQL: select * from inventory"
   ]
  },
  {
   "cell_type": "code",
   "execution_count": 19,
   "metadata": {},
   "outputs": [
    {
     "data": {
      "text/plain": [
       "undefined"
      ]
     },
     "execution_count": 19,
     "metadata": {},
     "output_type": "execute_result"
    },
    {
     "name": "stdout",
     "output_type": "stream",
     "text": [
      "[ { _id: 5bd610c3ce6cf9fc501024b7,\n",
      "    item: 'canvas',\n",
      "    qty: 100,\n",
      "    tags: [ 'cotton' ],\n",
      "    size: { h: 28, w: 35.5, uom: 'cm' } },\n",
      "  { _id: 5bd611bcce6cf9fc501024b8,\n",
      "    item: 'journal',\n",
      "    qty: 25,\n",
      "    tags: [ 'blank', 'red' ],\n",
      "    size: { h: 14, w: 21, uom: 'cm' } },\n",
      "  { _id: 5bd611bcce6cf9fc501024b9,\n",
      "    item: 'mat',\n",
      "    qty: 85,\n",
      "    tags: [ 'gray' ],\n",
      "    size: { h: 27.9, w: 35.5, uom: 'cm' } },\n",
      "  { _id: 5bd611bcce6cf9fc501024ba,\n",
      "    item: 'mousepad',\n",
      "    qty: 25,\n",
      "    tags: [ 'gel', 'blue' ],\n",
      "    size: { h: 19, w: 22.85, uom: 'cm' } },\n",
      "  { _id: 5bd611ffce6cf9fc501024bb,\n",
      "    item: 'journal',\n",
      "    qty: 25,\n",
      "    tags: [ 'blank', 'red' ],\n",
      "    size: { h: 14, w: 21, uom: 'cm' } },\n",
      "  { _id: 5bd611ffce6cf9fc501024bc,\n",
      "    item: 'mat',\n",
      "    qty: 85,\n",
      "    tags: [ 'gray' ],\n",
      "    size: { h: 27.9, w: 35.5, uom: 'cm' } },\n",
      "  { _id: 5bd611ffce6cf9fc501024bd,\n",
      "    item: 'mousepad',\n",
      "    qty: 25,\n",
      "    tags: [ 'gel', 'blue' ],\n",
      "    size: { h: 19, w: 22.85, uom: 'cm' } },\n",
      "  { _id: 5bd61229ce6cf9fc501024be,\n",
      "    item: 'journal',\n",
      "    qty: 25,\n",
      "    tags: [ 'blank', 'red' ],\n",
      "    size: { h: 14, w: 21, uom: 'cm' } },\n",
      "  { _id: 5bd61229ce6cf9fc501024bf,\n",
      "    item: 'mat',\n",
      "    qty: 85,\n",
      "    tags: [ 'gray' ],\n",
      "    size: { h: 27.9, w: 35.5, uom: 'cm' } },\n",
      "  { _id: 5bd61229ce6cf9fc501024c0,\n",
      "    item: 'mousepad',\n",
      "    qty: 25,\n",
      "    tags: [ 'gel', 'blue' ],\n",
      "    size: { h: 19, w: 22.85, uom: 'cm' } },\n",
      "  { _id: 5bd6124fce6cf9fc501024c1,\n",
      "    item: 'journal',\n",
      "    qty: 25,\n",
      "    tags: [ 'blank', 'red' ],\n",
      "    size: { h: 14, w: 21, uom: 'cm' } },\n",
      "  { _id: 5bd6124fce6cf9fc501024c2,\n",
      "    item: 'mat',\n",
      "    qty: 85,\n",
      "    tags: [ 'gray' ],\n",
      "    size: { h: 27.9, w: 35.5, uom: 'cm' } },\n",
      "  { _id: 5bd6124fce6cf9fc501024c3,\n",
      "    item: 'mousepad',\n",
      "    qty: 25,\n",
      "    tags: [ 'gel', 'blue' ],\n",
      "    size: { h: 19, w: 22.85, uom: 'cm' } } ]\n"
     ]
    }
   ],
   "source": [
    "var MongoClient = require('mongodb').MongoClient;\n",
    "var url = \"mongodb://localhost:27017/\";\n",
    "\n",
    "MongoClient.connect(url, function(err, db) {\n",
    "    if (err) throw err;\n",
    "    var dbo = db.db(\"test\");\n",
    "    dbo.collection('inventory').find({}).toArray(function (err, result) {\n",
    "        if (err) throw err;\n",
    "        console.log(result)\n",
    "    });\n",
    "    db.close();\n",
    "});"
   ]
  },
  {
   "cell_type": "markdown",
   "metadata": {},
   "source": [
    "## seelct one document - find one"
   ]
  },
  {
   "cell_type": "code",
   "execution_count": 21,
   "metadata": {},
   "outputs": [
    {
     "data": {
      "text/plain": [
       "undefined"
      ]
     },
     "execution_count": 21,
     "metadata": {},
     "output_type": "execute_result"
    },
    {
     "name": "stdout",
     "output_type": "stream",
     "text": [
      "{ _id: 5bd610c3ce6cf9fc501024b7,\n",
      "  item: 'canvas',\n",
      "  qty: 100,\n",
      "  tags: [ 'cotton' ],\n",
      "  size: { h: 28, w: 35.5, uom: 'cm' } }\n"
     ]
    }
   ],
   "source": [
    "var MongoClient = require('mongodb').MongoClient;\n",
    "var url = \"mongodb://localhost:27017/\";\n",
    "\n",
    "MongoClient.connect(url, function(err, db) {\n",
    "    if (err) throw err;\n",
    "    var dbo = db.db(\"test\");\n",
    "    dbo.collection('inventory').findOne({}, function (err, result) {\n",
    "        if (err) throw err;\n",
    "        console.log(result)\n",
    "    });\n",
    "    db.close();\n",
    "});"
   ]
  },
  {
   "cell_type": "markdown",
   "metadata": {},
   "source": [
    "## filter the result using query object\n",
    "- SQL: select * from inventory where item='canvas'"
   ]
  },
  {
   "cell_type": "code",
   "execution_count": 22,
   "metadata": {},
   "outputs": [
    {
     "data": {
      "text/plain": [
       "undefined"
      ]
     },
     "execution_count": 22,
     "metadata": {},
     "output_type": "execute_result"
    },
    {
     "name": "stdout",
     "output_type": "stream",
     "text": [
      "[ { _id: 5bd611bcce6cf9fc501024b9,\n",
      "    item: 'mat',\n",
      "    qty: 85,\n",
      "    tags: [ 'gray' ],\n",
      "    size: { h: 27.9, w: 35.5, uom: 'cm' } },\n",
      "  { _id: 5bd611ffce6cf9fc501024bc,\n",
      "    item: 'mat',\n",
      "    qty: 85,\n",
      "    tags: [ 'gray' ],\n",
      "    size: { h: 27.9, w: 35.5, uom: 'cm' } },\n",
      "  { _id: 5bd61229ce6cf9fc501024bf,\n",
      "    item: 'mat',\n",
      "    qty: 85,\n",
      "    tags: [ 'gray' ],\n",
      "    size: { h: 27.9, w: 35.5, uom: 'cm' } },\n",
      "  { _id: 5bd6124fce6cf9fc501024c2,\n",
      "    item: 'mat',\n",
      "    qty: 85,\n",
      "    tags: [ 'gray' ],\n",
      "    size: { h: 27.9, w: 35.5, uom: 'cm' } } ]\n"
     ]
    }
   ],
   "source": [
    "var MongoClient = require('mongodb').MongoClient;\n",
    "var url = \"mongodb://localhost:27017/\";\n",
    "\n",
    "MongoClient.connect(url, function(err, db) {\n",
    "    if (err) throw err;\n",
    "    var dbo = db.db(\"test\");\n",
    "    var query = {item: 'mat'};\n",
    "    dbo.collection('inventory').find(query).toArray(function (err, result) {\n",
    "        if (err) throw err;\n",
    "        console.log(result)\n",
    "    });\n",
    "    db.close();\n",
    "});"
   ]
  },
  {
   "cell_type": "markdown",
   "metadata": {},
   "source": [
    "## filter with regular expression\n",
    " - find only the documents/objects where the item starts with the letter \"m\" - /^m/"
   ]
  },
  {
   "cell_type": "code",
   "execution_count": 23,
   "metadata": {},
   "outputs": [
    {
     "data": {
      "text/plain": [
       "undefined"
      ]
     },
     "execution_count": 23,
     "metadata": {},
     "output_type": "execute_result"
    },
    {
     "name": "stdout",
     "output_type": "stream",
     "text": [
      "[ { _id: 5bd611bcce6cf9fc501024b9,\n",
      "    item: 'mat',\n",
      "    qty: 85,\n",
      "    tags: [ 'gray' ],\n",
      "    size: { h: 27.9, w: 35.5, uom: 'cm' } },\n",
      "  { _id: 5bd611bcce6cf9fc501024ba,\n",
      "    item: 'mousepad',\n",
      "    qty: 25,\n",
      "    tags: [ 'gel', 'blue' ],\n",
      "    size: { h: 19, w: 22.85, uom: 'cm' } },\n",
      "  { _id: 5bd611ffce6cf9fc501024bc,\n",
      "    item: 'mat',\n",
      "    qty: 85,\n",
      "    tags: [ 'gray' ],\n",
      "    size: { h: 27.9, w: 35.5, uom: 'cm' } },\n",
      "  { _id: 5bd611ffce6cf9fc501024bd,\n",
      "    item: 'mousepad',\n",
      "    qty: 25,\n",
      "    tags: [ 'gel', 'blue' ],\n",
      "    size: { h: 19, w: 22.85, uom: 'cm' } },\n",
      "  { _id: 5bd61229ce6cf9fc501024bf,\n",
      "    item: 'mat',\n",
      "    qty: 85,\n",
      "    tags: [ 'gray' ],\n",
      "    size: { h: 27.9, w: 35.5, uom: 'cm' } },\n",
      "  { _id: 5bd61229ce6cf9fc501024c0,\n",
      "    item: 'mousepad',\n",
      "    qty: 25,\n",
      "    tags: [ 'gel', 'blue' ],\n",
      "    size: { h: 19, w: 22.85, uom: 'cm' } },\n",
      "  { _id: 5bd6124fce6cf9fc501024c2,\n",
      "    item: 'mat',\n",
      "    qty: 85,\n",
      "    tags: [ 'gray' ],\n",
      "    size: { h: 27.9, w: 35.5, uom: 'cm' } },\n",
      "  { _id: 5bd6124fce6cf9fc501024c3,\n",
      "    item: 'mousepad',\n",
      "    qty: 25,\n",
      "    tags: [ 'gel', 'blue' ],\n",
      "    size: { h: 19, w: 22.85, uom: 'cm' } } ]\n"
     ]
    }
   ],
   "source": [
    "var MongoClient = require('mongodb').MongoClient;\n",
    "var url = \"mongodb://localhost:27017/\";\n",
    "\n",
    "MongoClient.connect(url, function(err, db) {\n",
    "    if (err) throw err;\n",
    "    var dbo = db.db(\"test\");\n",
    "    var query = {item: /^m/ };\n",
    "    dbo.collection('inventory').find(query).toArray(function (err, result) {\n",
    "        if (err) throw err;\n",
    "        console.log(result)\n",
    "    });\n",
    "    db.close();\n",
    "});"
   ]
  },
  {
   "cell_type": "markdown",
   "metadata": {},
   "source": [
    "## specify AND, OR conditions and comparisons\n",
    "- SQL: select * from inventory where item like 'm%' and qty >= 85\n",
    "- $gt = >\n",
    "\n",
    "- $gte = >= \n",
    "\n",
    "- $lt = <\n",
    "\n",
    "- $lte = <=\n",
    "\n",
    "- $ne = !="
   ]
  },
  {
   "cell_type": "code",
   "execution_count": 29,
   "metadata": {},
   "outputs": [
    {
     "data": {
      "text/plain": [
       "undefined"
      ]
     },
     "execution_count": 29,
     "metadata": {},
     "output_type": "execute_result"
    },
    {
     "name": "stdout",
     "output_type": "stream",
     "text": [
      "[ { _id: 5bd611bcce6cf9fc501024ba,\n",
      "    item: 'mousepad',\n",
      "    qty: 25,\n",
      "    tags: [ 'gel', 'blue' ],\n",
      "    size: { h: 19, w: 22.85, uom: 'cm' } },\n",
      "  { _id: 5bd611ffce6cf9fc501024bd,\n",
      "    item: 'mousepad',\n",
      "    qty: 25,\n",
      "    tags: [ 'gel', 'blue' ],\n",
      "    size: { h: 19, w: 22.85, uom: 'cm' } },\n",
      "  { _id: 5bd61229ce6cf9fc501024c0,\n",
      "    item: 'mousepad',\n",
      "    qty: 25,\n",
      "    tags: [ 'gel', 'blue' ],\n",
      "    size: { h: 19, w: 22.85, uom: 'cm' } },\n",
      "  { _id: 5bd6124fce6cf9fc501024c3,\n",
      "    item: 'mousepad',\n",
      "    qty: 25,\n",
      "    tags: [ 'gel', 'blue' ],\n",
      "    size: { h: 19, w: 22.85, uom: 'cm' } } ]\n"
     ]
    }
   ],
   "source": [
    "var MongoClient = require('mongodb').MongoClient;\n",
    "var url = \"mongodb://localhost:27017/\";\n",
    "\n",
    "MongoClient.connect(url, function(err, db) {\n",
    "    if (err) throw err;\n",
    "    var dbo = db.db(\"test\");\n",
    "    var query = {item: /^m/,\n",
    "                qty: {$ne: 85}}; // AND\n",
    "    dbo.collection('inventory').find(query).toArray(function (err, result) {\n",
    "        if (err) throw err;\n",
    "        console.log(result)\n",
    "    });\n",
    "    db.close();\n",
    "});"
   ]
  },
  {
   "cell_type": "code",
   "execution_count": 32,
   "metadata": {},
   "outputs": [
    {
     "data": {
      "text/plain": [
       "undefined"
      ]
     },
     "execution_count": 32,
     "metadata": {},
     "output_type": "execute_result"
    },
    {
     "name": "stdout",
     "output_type": "stream",
     "text": [
      "[ { _id: 5bd610c3ce6cf9fc501024b7,\n",
      "    item: 'canvas',\n",
      "    qty: 100,\n",
      "    tags: [ 'cotton' ],\n",
      "    size: { h: 28, w: 35.5, uom: 'cm' } },\n",
      "  { _id: 5bd611bcce6cf9fc501024b9,\n",
      "    item: 'mat',\n",
      "    qty: 85,\n",
      "    tags: [ 'gray' ],\n",
      "    size: { h: 27.9, w: 35.5, uom: 'cm' } },\n",
      "  { _id: 5bd611ffce6cf9fc501024bc,\n",
      "    item: 'mat',\n",
      "    qty: 85,\n",
      "    tags: [ 'gray' ],\n",
      "    size: { h: 27.9, w: 35.5, uom: 'cm' } },\n",
      "  { _id: 5bd61229ce6cf9fc501024bf,\n",
      "    item: 'mat',\n",
      "    qty: 85,\n",
      "    tags: [ 'gray' ],\n",
      "    size: { h: 27.9, w: 35.5, uom: 'cm' } },\n",
      "  { _id: 5bd6124fce6cf9fc501024c2,\n",
      "    item: 'mat',\n",
      "    qty: 85,\n",
      "    tags: [ 'gray' ],\n",
      "    size: { h: 27.9, w: 35.5, uom: 'cm' } } ]\n"
     ]
    }
   ],
   "source": [
    "var MongoClient = require('mongodb').MongoClient;\n",
    "var url = \"mongodb://localhost:27017/\";\n",
    "\n",
    "MongoClient.connect(url, function(err, db) {\n",
    "    if (err) throw err;\n",
    "    var dbo = db.db(\"test\");\n",
    "    var query = {$or: [{item: /^m/}, {item: /^c/}], // OR\n",
    "                 qty: {$gte: 85}}; // AND\n",
    "    dbo.collection('inventory').find(query).toArray(function (err, result) {\n",
    "        if (err) throw err;\n",
    "        console.log(result)\n",
    "    });\n",
    "    db.close();\n",
    "});"
   ]
  },
  {
   "cell_type": "markdown",
   "metadata": {},
   "source": [
    "## sort the result - ascending order: fieldName: 1"
   ]
  },
  {
   "cell_type": "code",
   "execution_count": 33,
   "metadata": {},
   "outputs": [
    {
     "data": {
      "text/plain": [
       "undefined"
      ]
     },
     "execution_count": 33,
     "metadata": {},
     "output_type": "execute_result"
    },
    {
     "name": "stdout",
     "output_type": "stream",
     "text": [
      "[ { _id: 5bd611bcce6cf9fc501024b9,\n",
      "    item: 'mat',\n",
      "    qty: 85,\n",
      "    tags: [ 'gray' ],\n",
      "    size: { h: 27.9, w: 35.5, uom: 'cm' } },\n",
      "  { _id: 5bd611ffce6cf9fc501024bc,\n",
      "    item: 'mat',\n",
      "    qty: 85,\n",
      "    tags: [ 'gray' ],\n",
      "    size: { h: 27.9, w: 35.5, uom: 'cm' } },\n",
      "  { _id: 5bd61229ce6cf9fc501024bf,\n",
      "    item: 'mat',\n",
      "    qty: 85,\n",
      "    tags: [ 'gray' ],\n",
      "    size: { h: 27.9, w: 35.5, uom: 'cm' } },\n",
      "  { _id: 5bd6124fce6cf9fc501024c2,\n",
      "    item: 'mat',\n",
      "    qty: 85,\n",
      "    tags: [ 'gray' ],\n",
      "    size: { h: 27.9, w: 35.5, uom: 'cm' } },\n",
      "  { _id: 5bd610c3ce6cf9fc501024b7,\n",
      "    item: 'canvas',\n",
      "    qty: 100,\n",
      "    tags: [ 'cotton' ],\n",
      "    size: { h: 28, w: 35.5, uom: 'cm' } } ]\n"
     ]
    }
   ],
   "source": [
    "var MongoClient = require('mongodb').MongoClient;\n",
    "var url = \"mongodb://localhost:27017/\";\n",
    "\n",
    "MongoClient.connect(url, function(err, db) {\n",
    "    if (err) throw err;\n",
    "    var dbo = db.db(\"test\");\n",
    "    var query = {$or: [{item: /^m/}, {item: /^c/}], // OR\n",
    "                 qty: {$gte: 85}}; // AND\n",
    "    dbo.collection('inventory').find(query).sort({qty: 1}).toArray(function (err, result) {\n",
    "        if (err) throw err;\n",
    "        console.log(result)\n",
    "    });\n",
    "    db.close();\n",
    "});"
   ]
  },
  {
   "cell_type": "markdown",
   "metadata": {},
   "source": [
    "## sort the result - descending order: fieldName: -1"
   ]
  },
  {
   "cell_type": "code",
   "execution_count": 34,
   "metadata": {},
   "outputs": [
    {
     "data": {
      "text/plain": [
       "undefined"
      ]
     },
     "execution_count": 34,
     "metadata": {},
     "output_type": "execute_result"
    },
    {
     "name": "stdout",
     "output_type": "stream",
     "text": [
      "[ { _id: 5bd610c3ce6cf9fc501024b7,\n",
      "    item: 'canvas',\n",
      "    qty: 100,\n",
      "    tags: [ 'cotton' ],\n",
      "    size: { h: 28, w: 35.5, uom: 'cm' } },\n",
      "  { _id: 5bd611bcce6cf9fc501024b9,\n",
      "    item: 'mat',\n",
      "    qty: 85,\n",
      "    tags: [ 'gray' ],\n",
      "    size: { h: 27.9, w: 35.5, uom: 'cm' } },\n",
      "  { _id: 5bd611ffce6cf9fc501024bc,\n",
      "    item: 'mat',\n",
      "    qty: 85,\n",
      "    tags: [ 'gray' ],\n",
      "    size: { h: 27.9, w: 35.5, uom: 'cm' } },\n",
      "  { _id: 5bd61229ce6cf9fc501024bf,\n",
      "    item: 'mat',\n",
      "    qty: 85,\n",
      "    tags: [ 'gray' ],\n",
      "    size: { h: 27.9, w: 35.5, uom: 'cm' } },\n",
      "  { _id: 5bd6124fce6cf9fc501024c2,\n",
      "    item: 'mat',\n",
      "    qty: 85,\n",
      "    tags: [ 'gray' ],\n",
      "    size: { h: 27.9, w: 35.5, uom: 'cm' } } ]\n"
     ]
    }
   ],
   "source": [
    "var MongoClient = require('mongodb').MongoClient;\n",
    "var url = \"mongodb://localhost:27017/\";\n",
    "\n",
    "MongoClient.connect(url, function(err, db) {\n",
    "    if (err) throw err;\n",
    "    var dbo = db.db(\"test\");\n",
    "    var query = {$or: [{item: /^m/}, {item: /^c/}], // OR\n",
    "                 qty: {$gte: 85}}; // AND\n",
    "    dbo.collection('inventory').find(query).sort({qty: -1}).toArray(function (err, result) {\n",
    "        if (err) throw err;\n",
    "        console.log(result)\n",
    "    });\n",
    "    db.close();\n",
    "});"
   ]
  },
  {
   "cell_type": "markdown",
   "metadata": {},
   "source": [
    "## update document\n",
    "### updateOne(query, newValue, function)\n",
    "- updateOne() - only 1 document (the first matching) is updated even if the query matched many documents"
   ]
  },
  {
   "cell_type": "code",
   "execution_count": 35,
   "metadata": {},
   "outputs": [
    {
     "data": {
      "text/plain": [
       "undefined"
      ]
     },
     "execution_count": 35,
     "metadata": {},
     "output_type": "execute_result"
    },
    {
     "name": "stdout",
     "output_type": "stream",
     "text": [
      "1 document updated!\n"
     ]
    }
   ],
   "source": [
    "var MongoClient = require('mongodb').MongoClient;\n",
    "var url = \"mongodb://localhost:27017/\";\n",
    "\n",
    "MongoClient.connect(url, function(err, db) {\n",
    "    if (err) throw err;\n",
    "    var dbo = db.db(\"test\");\n",
    "    var query = { item: /^m/,\n",
    "                 qty: {$gte: 85}};\n",
    "    var newValue = {$set: {qty: 75}}\n",
    "    dbo.collection('inventory').updateOne(query, newValue, function (err, res) {\n",
    "        if (err) throw err;\n",
    "        console.log(`${res.result.nModified} document updated!`);\n",
    "    });\n",
    "    db.close();\n",
    "});"
   ]
  },
  {
   "cell_type": "markdown",
   "metadata": {},
   "source": [
    "## updateMany(query, newValue, function) \n",
    "- update all documents that meet the criteria of the query"
   ]
  },
  {
   "cell_type": "code",
   "execution_count": 36,
   "metadata": {},
   "outputs": [
    {
     "data": {
      "text/plain": [
       "undefined"
      ]
     },
     "execution_count": 36,
     "metadata": {},
     "output_type": "execute_result"
    },
    {
     "name": "stdout",
     "output_type": "stream",
     "text": [
      "3 document(s) updated!\n"
     ]
    }
   ],
   "source": [
    "var MongoClient = require('mongodb').MongoClient;\n",
    "var url = \"mongodb://localhost:27017/\";\n",
    "\n",
    "MongoClient.connect(url, function(err, db) {\n",
    "    if (err) throw err;\n",
    "    var dbo = db.db(\"test\");\n",
    "    var query = { item: /^m/,\n",
    "                 qty: {$gte: 85}};\n",
    "    var newValue = {$set: {qty: 70}}\n",
    "    dbo.collection('inventory').updateMany(query, newValue, function (err, res) {\n",
    "        if (err) throw err;\n",
    "        console.log(`${res.result.nModified} document(s) updated!`);\n",
    "    });\n",
    "    db.close();\n",
    "});"
   ]
  },
  {
   "cell_type": "markdown",
   "metadata": {},
   "source": [
    "## delete document\n",
    "### deleteOne(query, function)\n",
    "- delete a record/document (if query matches multiple documents, first occurance is deleted)"
   ]
  },
  {
   "cell_type": "code",
   "execution_count": 46,
   "metadata": {},
   "outputs": [
    {
     "data": {
      "text/plain": [
       "undefined"
      ]
     },
     "execution_count": 46,
     "metadata": {},
     "output_type": "execute_result"
    },
    {
     "name": "stdout",
     "output_type": "stream",
     "text": [
      "0 document deleted!\n"
     ]
    }
   ],
   "source": [
    "var MongoClient = require('mongodb').MongoClient;\n",
    "var url = \"mongodb://localhost:27017/\";\n",
    "\n",
    "MongoClient.connect(url, function(err, db) {\n",
    "    if (err) throw err;\n",
    "    var dbo = db.db(\"test\");\n",
    "    var query = { item: /^m/,\n",
    "                 qty: {$gte: 70}};\n",
    "    dbo.collection('inventory').deleteOne(query, function (err, res) {\n",
    "        if (err) throw err;\n",
    "        console.log(`${res.result.n} document deleted!`);\n",
    "    });\n",
    "    db.close();\n",
    "});"
   ]
  },
  {
   "cell_type": "markdown",
   "metadata": {},
   "source": [
    "### deleteMany(query, function)\n",
    "- delete all records/documents matching query"
   ]
  },
  {
   "cell_type": "code",
   "execution_count": 49,
   "metadata": {},
   "outputs": [
    {
     "data": {
      "text/plain": [
       "undefined"
      ]
     },
     "execution_count": 49,
     "metadata": {},
     "output_type": "execute_result"
    },
    {
     "name": "stdout",
     "output_type": "stream",
     "text": [
      "0 document(s) deleted!\n"
     ]
    }
   ],
   "source": [
    "var MongoClient = require('mongodb').MongoClient;\n",
    "var url = \"mongodb://localhost:27017/\";\n",
    "\n",
    "MongoClient.connect(url, function(err, db) {\n",
    "    if (err) throw err;\n",
    "    var dbo = db.db(\"test\");\n",
    "    var query = { item: /^m/,\n",
    "                 qty: 25};\n",
    "    dbo.collection('inventory').deleteMany(query, function (err, res) {\n",
    "        if (err) throw err;\n",
    "        console.log(`${res.result.n} document(s) deleted!`);\n",
    "    });\n",
    "    db.close();\n",
    "});"
   ]
  },
  {
   "cell_type": "markdown",
   "metadata": {},
   "source": [
    "## drop collection\n",
    "- drop table/collection"
   ]
  },
  {
   "cell_type": "code",
   "execution_count": 64,
   "metadata": {},
   "outputs": [
    {
     "data": {
      "text/plain": [
       "undefined"
      ]
     },
     "execution_count": 64,
     "metadata": {},
     "output_type": "execute_result"
    },
    {
     "name": "stderr",
     "output_type": "stream",
     "text": [
      "MongoError: topology was destroyed\n",
      "    at executeCommand (/Volumes/Storage/GoogleDrive/CMU/Web2/NodeJSNotebooks/node_modules/mongodb/lib/operations/db_ops.js:342:23)\n",
      "    at handleCallback (/Volumes/Storage/GoogleDrive/CMU/Web2/NodeJSNotebooks/node_modules/mongodb/lib/utils.js:128:55)\n",
      "    at db.s.topology.command (/Volumes/Storage/GoogleDrive/CMU/Web2/NodeJSNotebooks/node_modules/mongodb/lib/operations/db_ops.js:494:5)\n",
      "    at /Volumes/Storage/GoogleDrive/CMU/Web2/NodeJSNotebooks/node_modules/mongodb-core/lib/connection/pool.js:532:18\n",
      "    at process._tickCallback (internal/process/next_tick.js:61:11)"
     ]
    }
   ],
   "source": [
    "var MongoClient = require('mongodb').MongoClient;\n",
    "var url = \"mongodb://localhost:27017/\";\n",
    "\n",
    "MongoClient.connect(url, function(err, db) {\n",
    "    if (err) throw err;\n",
    "    var dbo = db.db(\"test\");\n",
    "    dbo.dropCollection('inventory', function (err, res) {\n",
    "        if (err) throw err;\n",
    "        console.log(`${res} Collection dropped!`);\n",
    "    });\n",
    "    db.close();\n",
    "});"
   ]
  },
  {
   "cell_type": "code",
   "execution_count": null,
   "metadata": {},
   "outputs": [],
   "source": []
  }
 ],
 "metadata": {
  "kernelspec": {
   "display_name": "Javascript (Node.js)",
   "language": "javascript",
   "name": "javascript"
  },
  "language_info": {
   "file_extension": ".js",
   "mimetype": "application/javascript",
   "name": "javascript",
   "version": "11.14.0"
  }
 },
 "nbformat": 4,
 "nbformat_minor": 2
}
