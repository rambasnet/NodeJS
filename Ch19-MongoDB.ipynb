{
 "cells": [
  {
   "cell_type": "markdown",
   "metadata": {},
   "source": [
    "# MongoDB\n",
    "- https://www.mongodb.com/\n",
    "- https://docs.mongodb.com/manual/tutorial/getting-started/\n",
    "- https://www.w3schools.com/nodejs/nodejs_mongodb.asp\n",
    "- NoSQL DB\n",
    "- json-based document database (unlike traditional row/column model used by SQL)\n",
    "- Rich JSON documents are the most natural productive way to work with data\n",
    "- supports arrays and nested objects as values\n",
    "- allows for flexible and dynamic schemas\n",
    "- supports aggregations and modern use-cases such as geo-based search, graph search and text searh\n",
    "- queries are themselves JSON; just know your JSON!\n",
    "\n",
    "## Install MongoDB\n",
    "- https://docs.mongodb.com/manual/administration/install-community/\n",
    "- E.g., on Mac, you can use brew to install Mongodb\n",
    "    - see: https://docs.mongodb.com/manual/tutorial/install-mongodb-on-os-x/\n",
    "    "
   ]
  },
  {
   "cell_type": "markdown",
   "metadata": {},
   "source": [
    "## MongoDB GUI-based clients and management tools\n",
    "- MongoDB Compass Community Edition: https://www.mongodb.com/download-center/compass\n",
    "- Robo 3T: free and opensource: https://www.robomongo.org/\n",
    "- There're web-based clients as well"
   ]
  },
  {
   "cell_type": "markdown",
   "metadata": {},
   "source": [
    "## Run MongoDB server\n",
    "- add /bin folder to path or simply CD into the folder to run mongod app\n",
    "- Using terminal: \n",
    "    - $ mongod --dbpath=[dbfolder]\n",
    "    \n",
    "- CD into MongoDB folder and run the following command:\n",
    "    - $ mongod --dbpath=data\n",
    "- MongoDB by defualt runs on localhost:27017"
   ]
  },
  {
   "cell_type": "markdown",
   "metadata": {},
   "source": [
    "## Connect to the local/remote server\n",
    "- you can use CLI mongo client or Compass\n",
    "<img src=\"./resources/MongoDBCompass.png\">\n",
    "<img src=\"./resources/Robo3T.png\">"
   ]
  },
  {
   "cell_type": "markdown",
   "metadata": {},
   "source": [
    "## Connect to the server using NodeJS mongodb client\n",
    "- install mongodb client driver for nodejs\n",
    "\n",
    "```bash\n",
    "npm install -g mongodb\n",
    "```"
   ]
  },
  {
   "cell_type": "code",
   "execution_count": 15,
   "metadata": {},
   "outputs": [
    {
     "name": "stdout",
     "output_type": "stream",
     "text": [
      "Database created!\n"
     ]
    }
   ],
   "source": [
    "var mongo = require(\"mongodb\")\n",
    "\n",
    "var MongoClient = require(\"mongodb\").MongoClient\n",
    "var url = \"mongodb://localhost:27017/test\"\n",
    "\n",
    "MongoClient.connect(\n",
    "    url,\n",
    "    function(err, db) {\n",
    "        if (err) throw err\n",
    "        console.log(\"Database created!\")\n",
    "        // database is not actually created until one collection/table\n",
    "        db.close()\n",
    "    }\n",
    ")"
   ]
  },
  {
   "cell_type": "markdown",
   "metadata": {},
   "source": [
    "## MongoDB CRUD Operations\n",
    "- C: create\n",
    "- R: read/find/select\n",
    "- U: update\n",
    "- D: delete"
   ]
  },
  {
   "cell_type": "markdown",
   "metadata": {},
   "source": [
    "## Create Operations\n",
    "\n",
    "### create collection\n",
    "SQL \n",
    "```sql\n",
    "CREATE TABLE table_name (\n",
    "    column1 datatype,\n",
    "    column2 datatype,\n",
    "    column3 datatype,\n",
    "   ....\n",
    ");\n",
    "```\n",
    "\n",
    "Mongodb\n",
    "\n",
    "```javascriopt\n",
    "db.createCollection(collectionName, ()=>{})\n",
    "```"
   ]
  },
  {
   "cell_type": "code",
   "execution_count": 16,
   "metadata": {},
   "outputs": [
    {
     "name": "stdout",
     "output_type": "stream",
     "text": [
      "Collection created!\n"
     ]
    }
   ],
   "source": [
    "var MongoClient = require('mongodb').MongoClient;\n",
    "var url = \"mongodb://localhost:27017/\";\n",
    "\n",
    "// connect(url, settings, callback)\n",
    "MongoClient.connect(url, {useUnifiedTopology: true}, function(err, db) {\n",
    "  if (err) throw err;\n",
    "  var dbo = db.db(\"test\");\n",
    "  dbo.createCollection(\"inventory\", function(err, res) {\n",
    "    if (err) throw err;\n",
    "    console.log(\"Collection created!\");\n",
    "    db.close();\n",
    "  });\n",
    "});"
   ]
  },
  {
   "cell_type": "markdown",
   "metadata": {},
   "source": [
    "### insert document\n",
    "SQL\n",
    "```SQL\n",
    "INSERT INTO table_name (column1, column2, column3, ...)\n",
    "VALUES (value1, value2, value3, ...);\n",
    "```\n",
    "\n",
    "Mongodb\n",
    "### insert a single document\n",
    "```javascript\n",
    "dbo.insertOne( {key: value, key1: value1, ...}, ()=>{})\n",
    "```"
   ]
  },
  {
   "cell_type": "code",
   "execution_count": 17,
   "metadata": {},
   "outputs": [],
   "source": [
    "var MongoClient = require('mongodb').MongoClient;\n",
    "var url = \"mongodb://localhost:27017/\";\n",
    "\n",
    "MongoClient.connect(url, function(err, db) {\n",
    "  if (err) throw err;\n",
    "  var dbo = db.db(\"test\");\n",
    "  dbo.collection(\"inventory\").insertOne({\n",
    "    item: 'canvas',\n",
    "      qty: 100,\n",
    "      tags: ['cotton'],\n",
    "      size: {h: 28, w:35.5, uom: 'cm'}\n",
    "  })\n",
    "    db.close();\n",
    "  \n",
    "});"
   ]
  },
  {
   "cell_type": "markdown",
   "metadata": {},
   "source": [
    "### insert many documents\n",
    "```javascript\n",
    "dbo.insertMany([ json_doc1, json_doc2, ... ], ()=> {})\n",
    "```"
   ]
  },
  {
   "cell_type": "code",
   "execution_count": 18,
   "metadata": {},
   "outputs": [
    {
     "name": "stdout",
     "output_type": "stream",
     "text": [
      "3 document(s) inserted!\n"
     ]
    }
   ],
   "source": [
    "var MongoClient = require('mongodb').MongoClient;\n",
    "var url = \"mongodb://localhost:27017/\";\n",
    "\n",
    "MongoClient.connect(url, function(err, db) {\n",
    "    if (err) throw err;\n",
    "    var dbo = db.db(\"test\");\n",
    "    insertManyInventory(dbo);\n",
    "    db.close();\n",
    "});\n",
    "\n",
    "function insertManyInventory(db) {\n",
    "    db.collection('inventory').insertMany([\n",
    "      {\n",
    "        item: 'journal',\n",
    "        qty: 25,\n",
    "        tags: ['blank', 'red'],\n",
    "        size: { h: 14, w: 21, uom: 'cm' }\n",
    "      },\n",
    "      {\n",
    "        item: 'mat',\n",
    "        qty: 85,\n",
    "        tags: ['gray'],\n",
    "        size: { h: 27.9, w: 35.5, uom: 'cm' }\n",
    "      },\n",
    "      {\n",
    "        item: 'mousepad',\n",
    "        qty: 25,\n",
    "        tags: ['gel', 'blue'],\n",
    "        size: { h: 19, w: 22.85, uom: 'cm' }\n",
    "      }\n",
    "    ], function(err, res) {\n",
    "        console.log(`${res.insertedCount} document(s) inserted!`)\n",
    "    });\n",
    "}"
   ]
  },
  {
   "cell_type": "markdown",
   "metadata": {},
   "source": [
    "## read operations\n",
    "\n",
    "### select all documents in a collection\n",
    "SQL\n",
    "```sql\n",
    "SELECT *\n",
    "FROM table_name;\n",
    "```\n",
    "\n",
    "Mongodb\n",
    "- must convert find all result to array\n",
    "- use empty query object {}\n",
    "\n",
    "```javascript\n",
    "dbo.find({}).toArray(()=>{})\n",
    "```"
   ]
  },
  {
   "cell_type": "code",
   "execution_count": 19,
   "metadata": {},
   "outputs": [
    {
     "name": "stdout",
     "output_type": "stream",
     "text": [
      "[ { _id: 5e9f525def0f7b825e9ddcaa,\n",
      "    item: 'canvas',\n",
      "    qty: 100,\n",
      "    tags: [ 'cotton' ],\n",
      "    size: { h: 28, w: 35.5, uom: 'cm' } },\n",
      "  { _id: 5e9f525eef0f7b825e9ddcab,\n",
      "    item: 'journal',\n",
      "    qty: 25,\n",
      "    tags: [ 'blank', 'red' ],\n",
      "    size: { h: 14, w: 21, uom: 'cm' } },\n",
      "  { _id: 5e9f525eef0f7b825e9ddcac,\n",
      "    item: 'mat',\n",
      "    qty: 85,\n",
      "    tags: [ 'gray' ],\n",
      "    size: { h: 27.9, w: 35.5, uom: 'cm' } },\n",
      "  { _id: 5e9f525eef0f7b825e9ddcad,\n",
      "    item: 'mousepad',\n",
      "    qty: 25,\n",
      "    tags: [ 'gel', 'blue' ],\n",
      "    size: { h: 19, w: 22.85, uom: 'cm' } } ]\n"
     ]
    }
   ],
   "source": [
    "var MongoClient = require('mongodb').MongoClient;\n",
    "var url = \"mongodb://localhost:27017/\";\n",
    "\n",
    "MongoClient.connect(url, function(err, db) {\n",
    "    if (err) throw err;\n",
    "    var dbo = db.db(\"test\");\n",
    "    dbo.collection('inventory').find({}).toArray(function (err, result) {\n",
    "        if (err) throw err;\n",
    "        console.log(result)\n",
    "    });\n",
    "    db.close();\n",
    "});"
   ]
  },
  {
   "cell_type": "markdown",
   "metadata": {},
   "source": [
    "### select/find one document\n",
    "\n",
    "SQL\n",
    "\n",
    "```sql\n",
    "SELECT * FROM TABLE WHERE primary_key = value\n",
    "```\n",
    "\n",
    "- return the first document from results\n",
    "```javascript\n",
    "dbo.findOne({}, ()=>{})\n",
    "```"
   ]
  },
  {
   "cell_type": "code",
   "execution_count": 20,
   "metadata": {},
   "outputs": [
    {
     "name": "stdout",
     "output_type": "stream",
     "text": [
      "{ _id: 5e9f525def0f7b825e9ddcaa,\n",
      "  item: 'canvas',\n",
      "  qty: 100,\n",
      "  tags: [ 'cotton' ],\n",
      "  size: { h: 28, w: 35.5, uom: 'cm' } }\n"
     ]
    }
   ],
   "source": [
    "var MongoClient = require('mongodb').MongoClient;\n",
    "var url = \"mongodb://localhost:27017/\";\n",
    "\n",
    "MongoClient.connect(url, function(err, db) {\n",
    "    if (err) throw err;\n",
    "    var dbo = db.db(\"test\");\n",
    "    dbo.collection('inventory').findOne({}, function (err, result) {\n",
    "        if (err) throw err;\n",
    "        console.log(result)\n",
    "    });\n",
    "    db.close();\n",
    "});"
   ]
  },
  {
   "cell_type": "markdown",
   "metadata": {},
   "source": [
    "### projection - limit fields/attributes to return from a query\n",
    "SQL\n",
    "```sql\n",
    "SELECT column1, column2, ... FROM tableName\n",
    "```\n",
    "\n",
    "Mongodb\n",
    "- https://docs.mongodb.com/manual/tutorial/project-fields-from-query-results/\n",
    "- {field: 0/1} : 0 omit, 1 include in result\n",
    "- doesn't work here, but works fine in Compass!\n",
    "```javascript\n",
    "dbo.findOne({}, {field:0, field1:1, ...}, ()=>{})\n",
    "```"
   ]
  },
  {
   "cell_type": "code",
   "execution_count": 22,
   "metadata": {},
   "outputs": [
    {
     "name": "stdout",
     "output_type": "stream",
     "text": [
      "{ _id: 5e9f525def0f7b825e9ddcaa,\n",
      "  item: 'canvas',\n",
      "  qty: 100,\n",
      "  tags: [ 'cotton' ],\n",
      "  size: { h: 28, w: 35.5, uom: 'cm' } }\n"
     ]
    }
   ],
   "source": [
    "var MongoClient = require('mongodb').MongoClient;\n",
    "var url = \"mongodb://localhost:27017/\";\n",
    "\n",
    "MongoClient.connect(url, function(err, db) {\n",
    "    if (err) throw err;\n",
    "    var dbo = db.db(\"test\");\n",
    "    // {fieldname: 1, fieldname: 0}; 1 include (bydefault), 0 exclude\n",
    "    dbo.collection(\"inventory\").findOne({}, {_id:0}, function (err, result) {\n",
    "        if (err) throw err;\n",
    "        console.log(result);\n",
    "    });\n",
    "    db.close();\n",
    "});"
   ]
  },
  {
   "cell_type": "markdown",
   "metadata": {},
   "source": [
    "### filter the result using query object\n",
    "SQL\n",
    "```sql\n",
    "SELECT * FROM inventory WHERE item = 'canvas'\n",
    "```\n",
    "\n",
    "Mongodb\n",
    "- explictly create a query object and pass it to find()\n",
    "- must convert find result to array\n",
    "```javascript\n",
    "{fieldName: value}\n",
    "```\n",
    "- filter and return all documents having a given fieldName = value"
   ]
  },
  {
   "cell_type": "code",
   "execution_count": 23,
   "metadata": {},
   "outputs": [
    {
     "name": "stdout",
     "output_type": "stream",
     "text": [
      "[ { _id: 5e9f525eef0f7b825e9ddcac,\n",
      "    item: 'mat',\n",
      "    qty: 85,\n",
      "    tags: [ 'gray' ],\n",
      "    size: { h: 27.9, w: 35.5, uom: 'cm' } } ]\n"
     ]
    }
   ],
   "source": [
    "var MongoClient = require('mongodb').MongoClient;\n",
    "var url = \"mongodb://localhost:27017/\";\n",
    "\n",
    "MongoClient.connect(url, function(err, db) {\n",
    "    if (err) throw err;\n",
    "    var dbo = db.db(\"test\");\n",
    "    var query = {item: 'mat'};\n",
    "    dbo.collection('inventory').find(query).toArray(function (err, result) {\n",
    "        if (err) throw err;\n",
    "        console.log(result)\n",
    "    });\n",
    "    db.close();\n",
    "});"
   ]
  },
  {
   "cell_type": "markdown",
   "metadata": {},
   "source": [
    "### filter with regular expression\n",
    "SQL\n",
    "```sql\n",
    "SELECT * FROM inventory WHERE item LIKE 'm%'\n",
    "```\n",
    "Mongodb\n",
    "- find only the documents/objects where the item starts with the letter \"m\" - /^m/\n",
    " ```javascript\n",
    " db.find({ fieldName: re })\n",
    " ```"
   ]
  },
  {
   "cell_type": "code",
   "execution_count": 24,
   "metadata": {},
   "outputs": [
    {
     "name": "stdout",
     "output_type": "stream",
     "text": [
      "[ { _id: 5e9f525eef0f7b825e9ddcac,\n",
      "    item: 'mat',\n",
      "    qty: 85,\n",
      "    tags: [ 'gray' ],\n",
      "    size: { h: 27.9, w: 35.5, uom: 'cm' } },\n",
      "  { _id: 5e9f525eef0f7b825e9ddcad,\n",
      "    item: 'mousepad',\n",
      "    qty: 25,\n",
      "    tags: [ 'gel', 'blue' ],\n",
      "    size: { h: 19, w: 22.85, uom: 'cm' } } ]\n"
     ]
    }
   ],
   "source": [
    "var MongoClient = require('mongodb').MongoClient;\n",
    "var url = \"mongodb://localhost:27017/\";\n",
    "\n",
    "MongoClient.connect(url, function(err, db) {\n",
    "    if (err) throw err;\n",
    "    var dbo = db.db(\"test\");\n",
    "    var query = {item: /^m/ };\n",
    "    dbo.collection('inventory').find(query).toArray(function (err, result) {\n",
    "        if (err) throw err;\n",
    "        console.log(result)\n",
    "    });\n",
    "    db.close();\n",
    "});"
   ]
  },
  {
   "cell_type": "markdown",
   "metadata": {},
   "source": [
    "### specify AND, OR conditions and comparisons\n",
    "SQL\n",
    "```sql\n",
    "select * from inventory where item like 'm%' and qty >= 85;\n",
    "```\n",
    "Mongodb\n",
    "\n",
    "- Mongodb provides named operators for comparisons and logics\n",
    "- $gt:  >\n",
    "\n",
    "- $gte: >= \n",
    "\n",
    "- $lt: <\n",
    "\n",
    "- $lte: <=\n",
    "\n",
    "- $ne: !=\n",
    "\n",
    "- $or: OR\n",
    "\n",
    "```javascript\n",
    "{ fieldName: {$gt: value} }\n",
    "{ fieldName: {$lte: value} }\n",
    "$or : [{fieldName1 : value1}, {fieldName2: value2}]\n",
    "// and\n",
    "{ fieldName1 : value1, fieldName2: {$lte: value2} }\n",
    "```\n",
    "\n"
   ]
  },
  {
   "cell_type": "code",
   "execution_count": 25,
   "metadata": {},
   "outputs": [
    {
     "name": "stdout",
     "output_type": "stream",
     "text": [
      "[ { _id: 5e9f525eef0f7b825e9ddcad,\n",
      "    item: 'mousepad',\n",
      "    qty: 25,\n",
      "    tags: [ 'gel', 'blue' ],\n",
      "    size: { h: 19, w: 22.85, uom: 'cm' } } ]\n"
     ]
    }
   ],
   "source": [
    "var MongoClient = require('mongodb').MongoClient;\n",
    "var url = \"mongodb://localhost:27017/\";\n",
    "\n",
    "MongoClient.connect(url, function(err, db) {\n",
    "    if (err) throw err;\n",
    "    var dbo = db.db(\"test\");\n",
    "    var query = {item: /^m/,\n",
    "                qty: {$ne: 85}}; // AND\n",
    "    dbo.collection('inventory').find(query).toArray(function (err, result) {\n",
    "        if (err) throw err;\n",
    "        console.log(result)\n",
    "    });\n",
    "    db.close();\n",
    "});"
   ]
  },
  {
   "cell_type": "code",
   "execution_count": 26,
   "metadata": {},
   "outputs": [
    {
     "name": "stdout",
     "output_type": "stream",
     "text": [
      "[ { _id: 5e9f525def0f7b825e9ddcaa,\n",
      "    item: 'canvas',\n",
      "    qty: 100,\n",
      "    tags: [ 'cotton' ],\n",
      "    size: { h: 28, w: 35.5, uom: 'cm' } },\n",
      "  { _id: 5e9f525eef0f7b825e9ddcac,\n",
      "    item: 'mat',\n",
      "    qty: 85,\n",
      "    tags: [ 'gray' ],\n",
      "    size: { h: 27.9, w: 35.5, uom: 'cm' } } ]\n"
     ]
    }
   ],
   "source": [
    "var MongoClient = require('mongodb').MongoClient;\n",
    "var url = \"mongodb://localhost:27017/\";\n",
    "\n",
    "MongoClient.connect(url, function(err, db) {\n",
    "    if (err) throw err;\n",
    "    var dbo = db.db(\"test\");\n",
    "    var query = {$or: [{item: /^m/}, {item: /^c/}], // OR\n",
    "                 qty: {$gte: 85}}; // AND\n",
    "    dbo.collection('inventory').find(query).toArray(function (err, result) {\n",
    "        if (err) throw err;\n",
    "        console.log(result)\n",
    "    });\n",
    "    db.close();\n",
    "});"
   ]
  },
  {
   "cell_type": "markdown",
   "metadata": {},
   "source": [
    "### sort the result - non-decreasing order\n",
    "SQL\n",
    "```sql\n",
    "SELECT column1, column2, ...\n",
    "FROM table_name\n",
    "ORDER BY column1, column2, ... ASC;\n",
    "```\n",
    "\n",
    "Mongodb\n",
    "- sort in ascending (non-decreasing) order based on fieldName\n",
    "```javascript\n",
    "dbo.find({}).sort({ fieldName: 1 })\n",
    "```"
   ]
  },
  {
   "cell_type": "code",
   "execution_count": 27,
   "metadata": {},
   "outputs": [
    {
     "name": "stdout",
     "output_type": "stream",
     "text": [
      "[ { _id: 5e9f525eef0f7b825e9ddcac,\n",
      "    item: 'mat',\n",
      "    qty: 85,\n",
      "    tags: [ 'gray' ],\n",
      "    size: { h: 27.9, w: 35.5, uom: 'cm' } },\n",
      "  { _id: 5e9f525def0f7b825e9ddcaa,\n",
      "    item: 'canvas',\n",
      "    qty: 100,\n",
      "    tags: [ 'cotton' ],\n",
      "    size: { h: 28, w: 35.5, uom: 'cm' } } ]\n"
     ]
    }
   ],
   "source": [
    "var MongoClient = require('mongodb').MongoClient;\n",
    "var url = \"mongodb://localhost:27017/\";\n",
    "\n",
    "MongoClient.connect(url, function(err, db) {\n",
    "    if (err) throw err;\n",
    "    var dbo = db.db(\"test\");\n",
    "    var query = {$or: [{item: /^m/}, {item: /^c/}], // OR\n",
    "                 qty: {$gte: 85}}; // AND\n",
    "    dbo.collection('inventory').find(query).sort({qty: 1}).toArray(function (err, result) {\n",
    "        if (err) throw err;\n",
    "        console.log(result)\n",
    "    });\n",
    "    db.close();\n",
    "});"
   ]
  },
  {
   "cell_type": "markdown",
   "metadata": {},
   "source": [
    "### sort the result - non-increasing order\n",
    "SQL\n",
    "```sql\n",
    "SELECT column1, column2, ...\n",
    "FROM table_name\n",
    "ORDER BY column1, column2, ... ASC|DESC;\n",
    "```\n",
    "\n",
    "Mongodb\n",
    "\n",
    "- sort the result in descending (non-increasing) order\n",
    "```javascript\n",
    "dbo.find({}).sort({ fieldName: -1 })\n",
    "```"
   ]
  },
  {
   "cell_type": "code",
   "execution_count": 28,
   "metadata": {},
   "outputs": [
    {
     "name": "stdout",
     "output_type": "stream",
     "text": [
      "[ { _id: 5e9f525def0f7b825e9ddcaa,\n",
      "    item: 'canvas',\n",
      "    qty: 100,\n",
      "    tags: [ 'cotton' ],\n",
      "    size: { h: 28, w: 35.5, uom: 'cm' } },\n",
      "  { _id: 5e9f525eef0f7b825e9ddcac,\n",
      "    item: 'mat',\n",
      "    qty: 85,\n",
      "    tags: [ 'gray' ],\n",
      "    size: { h: 27.9, w: 35.5, uom: 'cm' } } ]\n"
     ]
    }
   ],
   "source": [
    "var MongoClient = require('mongodb').MongoClient;\n",
    "var url = \"mongodb://localhost:27017/\";\n",
    "\n",
    "MongoClient.connect(url, function(err, db) {\n",
    "    if (err) throw err;\n",
    "    var dbo = db.db(\"test\");\n",
    "    var query = {$or: [{item: /^m/}, {item: /^c/}], // OR\n",
    "                 qty: {$gte: 85}}; // AND\n",
    "    dbo.collection('inventory').find(query).sort({qty: -1}).toArray(function (err, result) {\n",
    "        if (err) throw err;\n",
    "        console.log(result)\n",
    "    });\n",
    "    db.close();\n",
    "});"
   ]
  },
  {
   "cell_type": "markdown",
   "metadata": {},
   "source": [
    "## update document\n",
    "SQL\n",
    "```sql\n",
    "UPDATE table_name\n",
    "SET column1 = value1, column2 = value2, ...\n",
    "WHERE condition;\n",
    "```\n",
    "\n",
    "### updateOne(query, newValue, callback)\n",
    "\n",
    "- use $set operator to set {key : newvalue}\n",
    "\n",
    "```javascript\n",
    "db.updateOne( {query}, {$set: {key : newvalue} }, ()=>{} )\n",
    "```\n",
    "- only 1 document (the first matching) is updated even if the query matches many documents"
   ]
  },
  {
   "cell_type": "code",
   "execution_count": 8,
   "metadata": {},
   "outputs": [
    {
     "name": "stdout",
     "output_type": "stream",
     "text": [
      "1 document updated!\n"
     ]
    }
   ],
   "source": [
    "var MongoClient = require('mongodb').MongoClient;\n",
    "var url = \"mongodb://localhost:27017/\";\n",
    "\n",
    "MongoClient.connect(url, function(err, db) {\n",
    "    if (err) throw err;\n",
    "    var dbo = db.db(\"test\");\n",
    "    var query = { item: /^m/,\n",
    "                 qty: {$gte: 85}};\n",
    "    var newValue = {$set: {qty: 75}}\n",
    "    dbo.collection('inventory').updateOne(query, newValue, function (err, res) {\n",
    "        if (err) throw err;\n",
    "        console.log(`${res.result.nModified} document updated!`);\n",
    "    });\n",
    "    db.close();\n",
    "});"
   ]
  },
  {
   "cell_type": "markdown",
   "metadata": {},
   "source": [
    "### updateMany(query, newValue, callback) \n",
    "- update all documents that meet the criteria of the query\n",
    "- use $set operator to set the { key : newvalue}\n",
    "\n",
    "```javascript\n",
    "db.updateMany({query}, {$set: {key: newValue})\n",
    "```"
   ]
  },
  {
   "cell_type": "code",
   "execution_count": 9,
   "metadata": {},
   "outputs": [
    {
     "name": "stdout",
     "output_type": "stream",
     "text": [
      "0 document(s) updated!\n"
     ]
    }
   ],
   "source": [
    "var MongoClient = require('mongodb').MongoClient;\n",
    "var url = \"mongodb://localhost:27017/\";\n",
    "\n",
    "MongoClient.connect(url, function(err, db) {\n",
    "    if (err) throw err;\n",
    "    var dbo = db.db(\"test\");\n",
    "    var query = { item: /^m/,\n",
    "                 qty: {$gte: 85}};\n",
    "    var newValue = {$set: {qty: 70}}\n",
    "    dbo.collection('inventory').updateMany(query, newValue, function (err, res) {\n",
    "        if (err) throw err;\n",
    "        console.log(`${res.result.nModified} document(s) updated!`);\n",
    "    });\n",
    "    db.close();\n",
    "});"
   ]
  },
  {
   "cell_type": "markdown",
   "metadata": {},
   "source": [
    "## delete operations\n",
    "\n",
    "### delete document\n",
    "SQL\n",
    "```sql\n",
    "DELETE FROM table_name WHERE condition;\n",
    "```\n",
    "\n",
    "Mongodb\n",
    "\n",
    "### deleteOne(query, callback)\n",
    "- delete a record/document\n",
    "- if query matches multiple documents, first occurance is deleted\n",
    "```javascript\n",
    "db.deleteOne({query}, ()={})\n",
    "```"
   ]
  },
  {
   "cell_type": "code",
   "execution_count": 1,
   "metadata": {},
   "outputs": [
    {
     "name": "stderr",
     "output_type": "stream",
     "text": [
      "(node:5237) DeprecationWarning: current Server Discovery and Monitoring engine is deprecated, and will be removed in a future version. To use the new Server Discover and Monitoring engine, pass option { useUnifiedTopology: true } to the MongoClient constructor.\n",
      "MongoNetworkError: failed to connect to server [localhost:27017] on first connect [MongoNetworkError: connect ECONNREFUSED 127.0.0.1:27017]\n",
      "    at Pool.<anonymous> (/Users/rbasnet/CMU/projects/NodeJSNotebooks/node_modules/mongodb/lib/core/topologies/server.js:438:11)\n",
      "    at Pool.emit (events.js:193:13)\n",
      "    at createConnection (/Users/rbasnet/CMU/projects/NodeJSNotebooks/node_modules/mongodb/lib/core/connection/pool.js:561:14)\n",
      "    at connect (/Users/rbasnet/CMU/projects/NodeJSNotebooks/node_modules/mongodb/lib/core/connection/pool.js:994:11)\n",
      "    at makeConnection (/Users/rbasnet/CMU/projects/NodeJSNotebooks/node_modules/mongodb/lib/core/connection/connect.js:31:7)\n",
      "    at callback (/Users/rbasnet/CMU/projects/NodeJSNotebooks/node_modules/mongodb/lib/core/connection/connect.js:264:5)\n",
      "    at Socket.err (/Users/rbasnet/CMU/projects/NodeJSNotebooks/node_modules/mongodb/lib/core/connection/connect.js:294:7)\n",
      "    at Object.onceWrapper (events.js:281:20)\n",
      "    at Socket.emit (events.js:193:13)\n",
      "    at emitErrorNT (internal/streams/destroy.js:91:8)"
     ]
    }
   ],
   "source": [
    "var MongoClient = require('mongodb').MongoClient;\n",
    "var url = \"mongodb://localhost:27017/\";\n",
    "\n",
    "MongoClient.connect(url, function(err, db) {\n",
    "    if (err) throw err;\n",
    "    var dbo = db.db(\"test\");\n",
    "    var query = { item: /^m/,\n",
    "                 qty: {$gte: 70}};\n",
    "    dbo.collection('inventory').deleteOne(query, function (err, res) {\n",
    "        if (err) throw err;\n",
    "        console.log(`${res.result.n} document deleted!`);\n",
    "    });\n",
    "    db.close();\n",
    "});"
   ]
  },
  {
   "cell_type": "markdown",
   "metadata": {},
   "source": [
    "### deleteMany(query, callback)\n",
    "- delete all records/documents matching query\n",
    "- careful with this; can't undo!\n",
    "\n",
    "```javascript\n",
    "db.deleteMany({query}, ()=>{})\n",
    "```"
   ]
  },
  {
   "cell_type": "code",
   "execution_count": 11,
   "metadata": {},
   "outputs": [
    {
     "name": "stdout",
     "output_type": "stream",
     "text": [
      "1 document(s) deleted!\n"
     ]
    }
   ],
   "source": [
    "var MongoClient = require('mongodb').MongoClient;\n",
    "var url = \"mongodb://localhost:27017/\";\n",
    "\n",
    "MongoClient.connect(url, function(err, db) {\n",
    "    if (err) throw err;\n",
    "    var dbo = db.db(\"test\");\n",
    "    var query = { item: /^m/,\n",
    "                 qty: 25};\n",
    "    dbo.collection('inventory').deleteMany(query, function (err, res) {\n",
    "        if (err) throw err;\n",
    "        console.log(`${res.result.n} document(s) deleted!`);\n",
    "    });\n",
    "    db.close();\n",
    "});"
   ]
  },
  {
   "cell_type": "markdown",
   "metadata": {},
   "source": [
    "### drop collection\n",
    "- careful with drop; can't undo!\n",
    "\n",
    "SQL\n",
    "```\n",
    "DROP TABLE tableName\n",
    "```\n",
    "\n",
    "Mongodb\n",
    "```javascript\n",
    "db.dropCollection(collectionName, ()=>{})\n",
    "```"
   ]
  },
  {
   "cell_type": "code",
   "execution_count": 12,
   "metadata": {},
   "outputs": [
    {
     "name": "stdout",
     "output_type": "stream",
     "text": [
      "true Collection dropped!\n"
     ]
    }
   ],
   "source": [
    "var MongoClient = require('mongodb').MongoClient;\n",
    "var url = \"mongodb://localhost:27017/\";\n",
    "\n",
    "MongoClient.connect(url, function(err, db) {\n",
    "    if (err) throw err;\n",
    "    var dbo = db.db(\"test\");\n",
    "    dbo.dropCollection('inventory', function (err, res) {\n",
    "        if (err) throw err;\n",
    "        console.log(`${res} Collection dropped!`);\n",
    "    });\n",
    "    db.close();\n",
    "});"
   ]
  },
  {
   "cell_type": "code",
   "execution_count": null,
   "metadata": {},
   "outputs": [],
   "source": []
  }
 ],
 "metadata": {
  "kernelspec": {
   "display_name": "Javascript (Node.js)",
   "language": "javascript",
   "name": "javascript"
  },
  "language_info": {
   "file_extension": ".js",
   "mimetype": "application/javascript",
   "name": "javascript",
   "version": "15.3.0"
  }
 },
 "nbformat": 4,
 "nbformat_minor": 2
}
