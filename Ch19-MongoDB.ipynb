{
 "cells": [
  {
   "cell_type": "markdown",
   "metadata": {},
   "source": [
    "# MongoDB\n",
    "- https://www.mongodb.com/\n",
    "- https://docs.mongodb.com/manual/tutorial/getting-started/\n",
    "- https://www.w3schools.com/nodejs/nodejs_mongodb.asp\n",
    "- NoSQL DB\n",
    "- json-based document database (unlike traditional row/column model used by SQL)\n",
    "- Rich JSON documents are the most natural productive way to work with data\n",
    "- supports arrays and nested objects as values\n",
    "- allows for flexible and dynamic schemas\n",
    "- supports aggregations and modern use-cases such as geo-based search, graph search and text searh\n",
    "- queries are themselves JSON; just know your JSON!\n",
    "\n",
    "## Installing MongoDB\n",
    "- https://docs.mongodb.com/manual/administration/install-community/\n",
    "- E.g., on Mac, you can use brew to install Mongodb\n",
    "    - https://docs.mongodb.com/manual/tutorial/install-mongodb-on-os-x/\n",
    "    - $ brew install mongodb"
   ]
  },
  {
   "cell_type": "markdown",
   "metadata": {},
   "source": [
    "## MongoDB GUI-based management tools\n",
    "- Robo 3T: free and opensource: https://www.robomongo.org/\n",
    "- MongoDB Compass Community Edition: https://www.mongodb.com/download-center/compass\n",
    "- There're web-based clients as well"
   ]
  },
  {
   "cell_type": "markdown",
   "metadata": {},
   "source": [
    "## Run MongoDB server\n",
    "- https://docs.mongodb.com/guides/server/install/\n",
    "- add /bin folder to path or simply CD into the folder to run mongod app\n",
    "- Using terminal: \n",
    "    - $ mongod --dbpath=[dbfolder]\n",
    "    \n",
    "- CD into MongoDB folder and run the following command:\n",
    "    - $ mongod --dbpath=data\n",
    "- MongoDB by defualt runs on localhost:27017"
   ]
  },
  {
   "cell_type": "markdown",
   "metadata": {},
   "source": [
    "## Connect to the local/remote server\n",
    "- you can use CLI mongo client or Compass\n",
    "<img src=\"./resources/MongoDBCompass.png\">\n",
    "<img src=\"./resources/Robo3T.png\">"
   ]
  },
  {
   "cell_type": "markdown",
   "metadata": {},
   "source": [
    "## Connect to the server using NodeJS mongodb client\n",
    "- install mongodb client driver for nodejs\n",
    "```bash\n",
    "$ npm install -g mongodb\n",
    "```"
   ]
  },
  {
   "cell_type": "code",
   "execution_count": 15,
   "metadata": {},
   "outputs": [
    {
     "name": "stdout",
     "output_type": "stream",
     "text": [
      "Database created!\n"
     ]
    }
   ],
   "source": [
    "var mongo = require(\"mongodb\")\n",
    "\n",
    "var MongoClient = require(\"mongodb\").MongoClient\n",
    "var url = \"mongodb://localhost:27017/test\"\n",
    "\n",
    "MongoClient.connect(\n",
    "    url,\n",
    "    function(err, db) {\n",
    "        if (err) throw err\n",
    "        console.log(\"Database created!\")\n",
    "        // database is not actually created until one collection/table\n",
    "        db.close()\n",
    "    }\n",
    ")"
   ]
  },
  {
   "cell_type": "markdown",
   "metadata": {},
   "source": [
    "## MongoDB CRUD Operations\n",
    "- create\n",
    "- read\n",
    "- update\n",
    "- delete"
   ]
  },
  {
   "cell_type": "markdown",
   "metadata": {},
   "source": [
    "## create collection\n",
    "\n",
    "```javascriopt\n",
    "db.createCollection(collectionName, ()=>{})\n",
    "```"
   ]
  },
  {
   "cell_type": "code",
   "execution_count": 16,
   "metadata": {},
   "outputs": [
    {
     "name": "stdout",
     "output_type": "stream",
     "text": [
      "Collection created!\n"
     ]
    }
   ],
   "source": [
    "var MongoClient = require('mongodb').MongoClient;\n",
    "var url = \"mongodb://localhost:27017/\";\n",
    "\n",
    "// connect(url, settings, callback)\n",
    "MongoClient.connect(url, {useUnifiedTopology: true}, function(err, db) {\n",
    "  if (err) throw err;\n",
    "  var dbo = db.db(\"test\");\n",
    "  dbo.createCollection(\"inventory\", function(err, res) {\n",
    "    if (err) throw err;\n",
    "    console.log(\"Collection created!\");\n",
    "    db.close();\n",
    "  });\n",
    "});"
   ]
  },
  {
   "cell_type": "markdown",
   "metadata": {},
   "source": [
    "## insert a single document\n",
    "```javascript\n",
    "dbo.insertOne( {key: value, key1: value1, ...}, ()=>{})\n",
    "```"
   ]
  },
  {
   "cell_type": "code",
   "execution_count": 17,
   "metadata": {},
   "outputs": [],
   "source": [
    "var MongoClient = require('mongodb').MongoClient;\n",
    "var url = \"mongodb://localhost:27017/\";\n",
    "\n",
    "MongoClient.connect(url, function(err, db) {\n",
    "  if (err) throw err;\n",
    "  var dbo = db.db(\"test\");\n",
    "  dbo.collection(\"inventory\").insertOne({\n",
    "    item: 'canvas',\n",
    "      qty: 100,\n",
    "      tags: ['cotton'],\n",
    "      size: {h: 28, w:35.5, uom: 'cm'}\n",
    "  })\n",
    "    db.close();\n",
    "  \n",
    "});"
   ]
  },
  {
   "cell_type": "markdown",
   "metadata": {},
   "source": [
    "## insert many documents\n",
    "```javascript\n",
    "dbo.insertMany([ json_doc1, json_doc2, ... ], ()=> {})\n",
    "```"
   ]
  },
  {
   "cell_type": "code",
   "execution_count": 18,
   "metadata": {},
   "outputs": [
    {
     "name": "stdout",
     "output_type": "stream",
     "text": [
      "3 document(s) inserted!\n"
     ]
    }
   ],
   "source": [
    "var MongoClient = require('mongodb').MongoClient;\n",
    "var url = \"mongodb://localhost:27017/\";\n",
    "\n",
    "MongoClient.connect(url, function(err, db) {\n",
    "    if (err) throw err;\n",
    "    var dbo = db.db(\"test\");\n",
    "    insertManyInventory(dbo);\n",
    "    db.close();\n",
    "});\n",
    "\n",
    "function insertManyInventory(db) {\n",
    "    db.collection('inventory').insertMany([\n",
    "      {\n",
    "        item: 'journal',\n",
    "        qty: 25,\n",
    "        tags: ['blank', 'red'],\n",
    "        size: { h: 14, w: 21, uom: 'cm' }\n",
    "      },\n",
    "      {\n",
    "        item: 'mat',\n",
    "        qty: 85,\n",
    "        tags: ['gray'],\n",
    "        size: { h: 27.9, w: 35.5, uom: 'cm' }\n",
    "      },\n",
    "      {\n",
    "        item: 'mousepad',\n",
    "        qty: 25,\n",
    "        tags: ['gel', 'blue'],\n",
    "        size: { h: 19, w: 22.85, uom: 'cm' }\n",
    "      }\n",
    "    ], function(err, res) {\n",
    "        console.log(`${res.insertedCount} document(s) inserted!`)\n",
    "    });\n",
    "}"
   ]
  },
  {
   "cell_type": "markdown",
   "metadata": {},
   "source": [
    "## select all documents in a collection\n",
    "- SQL: select * from inventory\n",
    "- must convert find all result to array\n",
    "- use empty query object {}\n",
    "```javascript\n",
    "dbo.find({}).toArray(()=>{})\n",
    "```"
   ]
  },
  {
   "cell_type": "code",
   "execution_count": 19,
   "metadata": {},
   "outputs": [
    {
     "name": "stdout",
     "output_type": "stream",
     "text": [
      "[ { _id: 5e9f525def0f7b825e9ddcaa,\n",
      "    item: 'canvas',\n",
      "    qty: 100,\n",
      "    tags: [ 'cotton' ],\n",
      "    size: { h: 28, w: 35.5, uom: 'cm' } },\n",
      "  { _id: 5e9f525eef0f7b825e9ddcab,\n",
      "    item: 'journal',\n",
      "    qty: 25,\n",
      "    tags: [ 'blank', 'red' ],\n",
      "    size: { h: 14, w: 21, uom: 'cm' } },\n",
      "  { _id: 5e9f525eef0f7b825e9ddcac,\n",
      "    item: 'mat',\n",
      "    qty: 85,\n",
      "    tags: [ 'gray' ],\n",
      "    size: { h: 27.9, w: 35.5, uom: 'cm' } },\n",
      "  { _id: 5e9f525eef0f7b825e9ddcad,\n",
      "    item: 'mousepad',\n",
      "    qty: 25,\n",
      "    tags: [ 'gel', 'blue' ],\n",
      "    size: { h: 19, w: 22.85, uom: 'cm' } } ]\n"
     ]
    }
   ],
   "source": [
    "var MongoClient = require('mongodb').MongoClient;\n",
    "var url = \"mongodb://localhost:27017/\";\n",
    "\n",
    "MongoClient.connect(url, function(err, db) {\n",
    "    if (err) throw err;\n",
    "    var dbo = db.db(\"test\");\n",
    "    dbo.collection('inventory').find({}).toArray(function (err, result) {\n",
    "        if (err) throw err;\n",
    "        console.log(result)\n",
    "    });\n",
    "    db.close();\n",
    "});"
   ]
  },
  {
   "cell_type": "markdown",
   "metadata": {},
   "source": [
    "## seelct one document - find one document\n",
    "- return the first document from results\n",
    "```javascript\n",
    "dbo.findOne({}, ()=>{})\n",
    "```"
   ]
  },
  {
   "cell_type": "code",
   "execution_count": 20,
   "metadata": {},
   "outputs": [
    {
     "name": "stdout",
     "output_type": "stream",
     "text": [
      "{ _id: 5e9f525def0f7b825e9ddcaa,\n",
      "  item: 'canvas',\n",
      "  qty: 100,\n",
      "  tags: [ 'cotton' ],\n",
      "  size: { h: 28, w: 35.5, uom: 'cm' } }\n"
     ]
    }
   ],
   "source": [
    "var MongoClient = require('mongodb').MongoClient;\n",
    "var url = \"mongodb://localhost:27017/\";\n",
    "\n",
    "MongoClient.connect(url, function(err, db) {\n",
    "    if (err) throw err;\n",
    "    var dbo = db.db(\"test\");\n",
    "    dbo.collection('inventory').findOne({}, function (err, result) {\n",
    "        if (err) throw err;\n",
    "        console.log(result)\n",
    "    });\n",
    "    db.close();\n",
    "});"
   ]
  },
  {
   "cell_type": "markdown",
   "metadata": {},
   "source": [
    "## projection - limit fields/attributes to return from a query\n",
    "- https://docs.mongodb.com/manual/tutorial/project-fields-from-query-results/\n",
    "- {field: 0/1} : 0 omit, 1 include in result\n",
    "- doesn't work here, but works fine in Compass!\n",
    "```javascript\n",
    "dbo.findOne({}, {field:0, field1:1, ...}, ()=>{})\n",
    "```"
   ]
  },
  {
   "cell_type": "code",
   "execution_count": 22,
   "metadata": {},
   "outputs": [
    {
     "name": "stdout",
     "output_type": "stream",
     "text": [
      "{ _id: 5e9f525def0f7b825e9ddcaa,\n",
      "  item: 'canvas',\n",
      "  qty: 100,\n",
      "  tags: [ 'cotton' ],\n",
      "  size: { h: 28, w: 35.5, uom: 'cm' } }\n"
     ]
    }
   ],
   "source": [
    "var MongoClient = require('mongodb').MongoClient;\n",
    "var url = \"mongodb://localhost:27017/\";\n",
    "\n",
    "MongoClient.connect(url, function(err, db) {\n",
    "    if (err) throw err;\n",
    "    var dbo = db.db(\"test\");\n",
    "    // {fieldname: 1, fieldname: 0}; 1 include (bydefault), 0 exclude\n",
    "    dbo.collection(\"inventory\").findOne({}, {_id:0}, function (err, result) {\n",
    "        if (err) throw err;\n",
    "        console.log(result);\n",
    "    });\n",
    "    db.close();\n",
    "});"
   ]
  },
  {
   "cell_type": "markdown",
   "metadata": {},
   "source": [
    "## filter the result using query object\n",
    "- SQL: select * from inventory where item='canvas'\n",
    "- explictly create query object and pass it to find()\n",
    "- must convert find result to array\n",
    "```javascript\n",
    "{fieldName: value}\n",
    "```\n",
    "- filter and return all documents having a given fieldName = value"
   ]
  },
  {
   "cell_type": "code",
   "execution_count": 23,
   "metadata": {},
   "outputs": [
    {
     "name": "stdout",
     "output_type": "stream",
     "text": [
      "[ { _id: 5e9f525eef0f7b825e9ddcac,\n",
      "    item: 'mat',\n",
      "    qty: 85,\n",
      "    tags: [ 'gray' ],\n",
      "    size: { h: 27.9, w: 35.5, uom: 'cm' } } ]\n"
     ]
    }
   ],
   "source": [
    "var MongoClient = require('mongodb').MongoClient;\n",
    "var url = \"mongodb://localhost:27017/\";\n",
    "\n",
    "MongoClient.connect(url, function(err, db) {\n",
    "    if (err) throw err;\n",
    "    var dbo = db.db(\"test\");\n",
    "    var query = {item: 'mat'};\n",
    "    dbo.collection('inventory').find(query).toArray(function (err, result) {\n",
    "        if (err) throw err;\n",
    "        console.log(result)\n",
    "    });\n",
    "    db.close();\n",
    "});"
   ]
  },
  {
   "cell_type": "markdown",
   "metadata": {},
   "source": [
    "## filter with regular expression\n",
    " - find only the documents/objects where the item starts with the letter \"m\" - /^m/\n",
    " ```javascript\n",
    " db.find({ fieldName: re })\n",
    " ```"
   ]
  },
  {
   "cell_type": "code",
   "execution_count": 24,
   "metadata": {},
   "outputs": [
    {
     "name": "stdout",
     "output_type": "stream",
     "text": [
      "[ { _id: 5e9f525eef0f7b825e9ddcac,\n",
      "    item: 'mat',\n",
      "    qty: 85,\n",
      "    tags: [ 'gray' ],\n",
      "    size: { h: 27.9, w: 35.5, uom: 'cm' } },\n",
      "  { _id: 5e9f525eef0f7b825e9ddcad,\n",
      "    item: 'mousepad',\n",
      "    qty: 25,\n",
      "    tags: [ 'gel', 'blue' ],\n",
      "    size: { h: 19, w: 22.85, uom: 'cm' } } ]\n"
     ]
    }
   ],
   "source": [
    "var MongoClient = require('mongodb').MongoClient;\n",
    "var url = \"mongodb://localhost:27017/\";\n",
    "\n",
    "MongoClient.connect(url, function(err, db) {\n",
    "    if (err) throw err;\n",
    "    var dbo = db.db(\"test\");\n",
    "    var query = {item: /^m/ };\n",
    "    dbo.collection('inventory').find(query).toArray(function (err, result) {\n",
    "        if (err) throw err;\n",
    "        console.log(result)\n",
    "    });\n",
    "    db.close();\n",
    "});"
   ]
  },
  {
   "cell_type": "markdown",
   "metadata": {},
   "source": [
    "## specify AND, OR conditions and comparisons\n",
    "- SQL: select * from inventory where item like 'm%' and qty >= 85\n",
    "- Mongodb provides named operators for comparisons\n",
    "- $gt:  >\n",
    "\n",
    "- $gte: >= \n",
    "\n",
    "- $lt: <\n",
    "\n",
    "- $lte: <=\n",
    "\n",
    "- $ne: !=\n",
    "\n",
    "```javascript\n",
    "{ fieldName: {$gt: value} }\n",
    "{ fieldName: {$lte: value} }\n",
    "$or : [{fieldName1 : value1}, {fieldName2: value2}]\n",
    "// and\n",
    "{ fieldName1 : value1, fieldName2: {$lte: value2} }\n",
    "```\n",
    "\n"
   ]
  },
  {
   "cell_type": "code",
   "execution_count": 25,
   "metadata": {},
   "outputs": [
    {
     "name": "stdout",
     "output_type": "stream",
     "text": [
      "[ { _id: 5e9f525eef0f7b825e9ddcad,\n",
      "    item: 'mousepad',\n",
      "    qty: 25,\n",
      "    tags: [ 'gel', 'blue' ],\n",
      "    size: { h: 19, w: 22.85, uom: 'cm' } } ]\n"
     ]
    }
   ],
   "source": [
    "var MongoClient = require('mongodb').MongoClient;\n",
    "var url = \"mongodb://localhost:27017/\";\n",
    "\n",
    "MongoClient.connect(url, function(err, db) {\n",
    "    if (err) throw err;\n",
    "    var dbo = db.db(\"test\");\n",
    "    var query = {item: /^m/,\n",
    "                qty: {$ne: 85}}; // AND\n",
    "    dbo.collection('inventory').find(query).toArray(function (err, result) {\n",
    "        if (err) throw err;\n",
    "        console.log(result)\n",
    "    });\n",
    "    db.close();\n",
    "});"
   ]
  },
  {
   "cell_type": "code",
   "execution_count": 26,
   "metadata": {},
   "outputs": [
    {
     "name": "stdout",
     "output_type": "stream",
     "text": [
      "[ { _id: 5e9f525def0f7b825e9ddcaa,\n",
      "    item: 'canvas',\n",
      "    qty: 100,\n",
      "    tags: [ 'cotton' ],\n",
      "    size: { h: 28, w: 35.5, uom: 'cm' } },\n",
      "  { _id: 5e9f525eef0f7b825e9ddcac,\n",
      "    item: 'mat',\n",
      "    qty: 85,\n",
      "    tags: [ 'gray' ],\n",
      "    size: { h: 27.9, w: 35.5, uom: 'cm' } } ]\n"
     ]
    }
   ],
   "source": [
    "var MongoClient = require('mongodb').MongoClient;\n",
    "var url = \"mongodb://localhost:27017/\";\n",
    "\n",
    "MongoClient.connect(url, function(err, db) {\n",
    "    if (err) throw err;\n",
    "    var dbo = db.db(\"test\");\n",
    "    var query = {$or: [{item: /^m/}, {item: /^c/}], // OR\n",
    "                 qty: {$gte: 85}}; // AND\n",
    "    dbo.collection('inventory').find(query).toArray(function (err, result) {\n",
    "        if (err) throw err;\n",
    "        console.log(result)\n",
    "    });\n",
    "    db.close();\n",
    "});"
   ]
  },
  {
   "cell_type": "markdown",
   "metadata": {},
   "source": [
    "## sort the result - non-decreasing order\n",
    "- sort in ascending order (non-decreasing order) based on fieldName\n",
    "```javascript\n",
    "dbo.find({}).sort({ fieldName: 1 })\n",
    "```"
   ]
  },
  {
   "cell_type": "code",
   "execution_count": 27,
   "metadata": {},
   "outputs": [
    {
     "name": "stdout",
     "output_type": "stream",
     "text": [
      "[ { _id: 5e9f525eef0f7b825e9ddcac,\n",
      "    item: 'mat',\n",
      "    qty: 85,\n",
      "    tags: [ 'gray' ],\n",
      "    size: { h: 27.9, w: 35.5, uom: 'cm' } },\n",
      "  { _id: 5e9f525def0f7b825e9ddcaa,\n",
      "    item: 'canvas',\n",
      "    qty: 100,\n",
      "    tags: [ 'cotton' ],\n",
      "    size: { h: 28, w: 35.5, uom: 'cm' } } ]\n"
     ]
    }
   ],
   "source": [
    "var MongoClient = require('mongodb').MongoClient;\n",
    "var url = \"mongodb://localhost:27017/\";\n",
    "\n",
    "MongoClient.connect(url, function(err, db) {\n",
    "    if (err) throw err;\n",
    "    var dbo = db.db(\"test\");\n",
    "    var query = {$or: [{item: /^m/}, {item: /^c/}], // OR\n",
    "                 qty: {$gte: 85}}; // AND\n",
    "    dbo.collection('inventory').find(query).sort({qty: 1}).toArray(function (err, result) {\n",
    "        if (err) throw err;\n",
    "        console.log(result)\n",
    "    });\n",
    "    db.close();\n",
    "});"
   ]
  },
  {
   "cell_type": "markdown",
   "metadata": {},
   "source": [
    "## sort the result - non-increasing order\n",
    "- sort the result in descending (non-increasing) order\n",
    "```javascript\n",
    "dbo.find({}).sort({ fieldName: -1 })\n",
    "```"
   ]
  },
  {
   "cell_type": "code",
   "execution_count": 28,
   "metadata": {},
   "outputs": [
    {
     "name": "stdout",
     "output_type": "stream",
     "text": [
      "[ { _id: 5e9f525def0f7b825e9ddcaa,\n",
      "    item: 'canvas',\n",
      "    qty: 100,\n",
      "    tags: [ 'cotton' ],\n",
      "    size: { h: 28, w: 35.5, uom: 'cm' } },\n",
      "  { _id: 5e9f525eef0f7b825e9ddcac,\n",
      "    item: 'mat',\n",
      "    qty: 85,\n",
      "    tags: [ 'gray' ],\n",
      "    size: { h: 27.9, w: 35.5, uom: 'cm' } } ]\n"
     ]
    }
   ],
   "source": [
    "var MongoClient = require('mongodb').MongoClient;\n",
    "var url = \"mongodb://localhost:27017/\";\n",
    "\n",
    "MongoClient.connect(url, function(err, db) {\n",
    "    if (err) throw err;\n",
    "    var dbo = db.db(\"test\");\n",
    "    var query = {$or: [{item: /^m/}, {item: /^c/}], // OR\n",
    "                 qty: {$gte: 85}}; // AND\n",
    "    dbo.collection('inventory').find(query).sort({qty: -1}).toArray(function (err, result) {\n",
    "        if (err) throw err;\n",
    "        console.log(result)\n",
    "    });\n",
    "    db.close();\n",
    "});"
   ]
  },
  {
   "cell_type": "markdown",
   "metadata": {},
   "source": [
    "## update document\n",
    "\n",
    "### updateOne(query, newValue, function)\n",
    "\n",
    "- use $set operator to set {key : newvalue}\n",
    "\n",
    "```javascript\n",
    "db.updateOne( {query}, {$set: {key : newvalue} }, ()=>{} )\n",
    "```\n",
    "- only 1 document (the first matching) is updated even if the query matches many documents"
   ]
  },
  {
   "cell_type": "code",
   "execution_count": 8,
   "metadata": {},
   "outputs": [
    {
     "name": "stdout",
     "output_type": "stream",
     "text": [
      "1 document updated!\n"
     ]
    }
   ],
   "source": [
    "var MongoClient = require('mongodb').MongoClient;\n",
    "var url = \"mongodb://localhost:27017/\";\n",
    "\n",
    "MongoClient.connect(url, function(err, db) {\n",
    "    if (err) throw err;\n",
    "    var dbo = db.db(\"test\");\n",
    "    var query = { item: /^m/,\n",
    "                 qty: {$gte: 85}};\n",
    "    var newValue = {$set: {qty: 75}}\n",
    "    dbo.collection('inventory').updateOne(query, newValue, function (err, res) {\n",
    "        if (err) throw err;\n",
    "        console.log(`${res.result.nModified} document updated!`);\n",
    "    });\n",
    "    db.close();\n",
    "});"
   ]
  },
  {
   "cell_type": "markdown",
   "metadata": {},
   "source": [
    "## updateMany(query, newValue, function) \n",
    "- update all documents that meet the criteria of the query\n",
    "- use $set operator to set the { key : newvalue}\n",
    "\n",
    "```javascript\n",
    "db.updateMany({query}, {$set: {key: newValue})\n",
    "```"
   ]
  },
  {
   "cell_type": "code",
   "execution_count": 9,
   "metadata": {},
   "outputs": [
    {
     "name": "stdout",
     "output_type": "stream",
     "text": [
      "0 document(s) updated!\n"
     ]
    }
   ],
   "source": [
    "var MongoClient = require('mongodb').MongoClient;\n",
    "var url = \"mongodb://localhost:27017/\";\n",
    "\n",
    "MongoClient.connect(url, function(err, db) {\n",
    "    if (err) throw err;\n",
    "    var dbo = db.db(\"test\");\n",
    "    var query = { item: /^m/,\n",
    "                 qty: {$gte: 85}};\n",
    "    var newValue = {$set: {qty: 70}}\n",
    "    dbo.collection('inventory').updateMany(query, newValue, function (err, res) {\n",
    "        if (err) throw err;\n",
    "        console.log(`${res.result.nModified} document(s) updated!`);\n",
    "    });\n",
    "    db.close();\n",
    "});"
   ]
  },
  {
   "cell_type": "markdown",
   "metadata": {},
   "source": [
    "## delete document\n",
    "### deleteOne(query, function)\n",
    "- delete a record/document (if query matches multiple documents, first occurance is deleted)\n",
    "```javascript\n",
    "db.deleteOne({query}, ( )={})\n",
    "```"
   ]
  },
  {
   "cell_type": "code",
   "execution_count": 10,
   "metadata": {},
   "outputs": [
    {
     "name": "stdout",
     "output_type": "stream",
     "text": [
      "1 document deleted!\n"
     ]
    }
   ],
   "source": [
    "var MongoClient = require('mongodb').MongoClient;\n",
    "var url = \"mongodb://localhost:27017/\";\n",
    "\n",
    "MongoClient.connect(url, function(err, db) {\n",
    "    if (err) throw err;\n",
    "    var dbo = db.db(\"test\");\n",
    "    var query = { item: /^m/,\n",
    "                 qty: {$gte: 70}};\n",
    "    dbo.collection('inventory').deleteOne(query, function (err, res) {\n",
    "        if (err) throw err;\n",
    "        console.log(`${res.result.n} document deleted!`);\n",
    "    });\n",
    "    db.close();\n",
    "});"
   ]
  },
  {
   "cell_type": "markdown",
   "metadata": {},
   "source": [
    "### deleteMany(query, function)\n",
    "- delete all records/documents matching query\n",
    "- must be careful with this; there's no undo!\n",
    "\n",
    "```javascript\n",
    "db.deleteMany({query}, ()=>{})\n",
    "```"
   ]
  },
  {
   "cell_type": "code",
   "execution_count": 11,
   "metadata": {},
   "outputs": [
    {
     "name": "stdout",
     "output_type": "stream",
     "text": [
      "1 document(s) deleted!\n"
     ]
    }
   ],
   "source": [
    "var MongoClient = require('mongodb').MongoClient;\n",
    "var url = \"mongodb://localhost:27017/\";\n",
    "\n",
    "MongoClient.connect(url, function(err, db) {\n",
    "    if (err) throw err;\n",
    "    var dbo = db.db(\"test\");\n",
    "    var query = { item: /^m/,\n",
    "                 qty: 25};\n",
    "    dbo.collection('inventory').deleteMany(query, function (err, res) {\n",
    "        if (err) throw err;\n",
    "        console.log(`${res.result.n} document(s) deleted!`);\n",
    "    });\n",
    "    db.close();\n",
    "});"
   ]
  },
  {
   "cell_type": "markdown",
   "metadata": {},
   "source": [
    "## drop collection\n",
    "- drop table/collection\n",
    "```javascript\n",
    "db.dropCollection(collectionName, ()=>{})\n",
    "```"
   ]
  },
  {
   "cell_type": "code",
   "execution_count": 12,
   "metadata": {},
   "outputs": [
    {
     "name": "stdout",
     "output_type": "stream",
     "text": [
      "true Collection dropped!\n"
     ]
    }
   ],
   "source": [
    "var MongoClient = require('mongodb').MongoClient;\n",
    "var url = \"mongodb://localhost:27017/\";\n",
    "\n",
    "MongoClient.connect(url, function(err, db) {\n",
    "    if (err) throw err;\n",
    "    var dbo = db.db(\"test\");\n",
    "    dbo.dropCollection('inventory', function (err, res) {\n",
    "        if (err) throw err;\n",
    "        console.log(`${res} Collection dropped!`);\n",
    "    });\n",
    "    db.close();\n",
    "});"
   ]
  },
  {
   "cell_type": "code",
   "execution_count": null,
   "metadata": {},
   "outputs": [],
   "source": []
  }
 ],
 "metadata": {
  "kernelspec": {
   "display_name": "Javascript (Node.js)",
   "language": "javascript",
   "name": "javascript"
  },
  "language_info": {
   "file_extension": ".js",
   "mimetype": "application/javascript",
   "name": "javascript",
   "version": "11.14.0"
  }
 },
 "nbformat": 4,
 "nbformat_minor": 2
}
