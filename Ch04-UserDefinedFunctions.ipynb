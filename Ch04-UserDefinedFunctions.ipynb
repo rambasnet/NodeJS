{
 "cells": [
  {
   "cell_type": "markdown",
   "metadata": {},
   "source": [
    "# User defined functions & arrow functions\n",
    "- block of code designed to perform a particular task\n",
    "- function needs to be first defined and then be invoked/called to execute it\n",
    "- used to break large program/problem into smaller sub-programs that can be written, updated and tested independently\n",
    "- aids in code reuse\n",
    "\n",
    "- syntax:\n",
    "```javascript\n",
    "    function name(parameter1, para2, ...) {\n",
    "        // function body\n",
    "    }\n",
    "```\n",
    "- parameters are optional\n",
    "- function name follows the same rules as naming variable names\n",
    "- idea of function is burrowed from algebra, e.g., <br />\n",
    "\n",
    "    $y = f(x) = 2x+3$ where $x$ is unknown; given $x$ find $y$ <br />\n",
    "    $y = f(3) = 2*3+3 = 9$ <br />\n",
    "    $y = f(10) = 2*10+3 = 23$ <br />\n",
    "\n",
    "- two step process:\n",
    "    1. define function\n",
    "    2. call function"
   ]
  },
  {
   "cell_type": "code",
   "execution_count": 3,
   "metadata": {},
   "outputs": [],
   "source": [
    "// define a hello world function\n",
    "function sayHello() {\n",
    "    console.log('Hello World');\n",
    "}"
   ]
  },
  {
   "cell_type": "code",
   "execution_count": 4,
   "metadata": {},
   "outputs": [
    {
     "name": "stdout",
     "output_type": "stream",
     "text": [
      "Hello World\n"
     ]
    }
   ],
   "source": [
    "// call sayHello function\n",
    "sayHello();"
   ]
  },
  {
   "cell_type": "code",
   "execution_count": 5,
   "metadata": {},
   "outputs": [],
   "source": [
    "// define a function that returns product of two numbers\n",
    "function product(arg1, arg2) {\n",
    "    return arg1 * arg2;\n",
    "}"
   ]
  },
  {
   "cell_type": "code",
   "execution_count": 6,
   "metadata": {},
   "outputs": [
    {
     "name": "stdout",
     "output_type": "stream",
     "text": [
      "200\n"
     ]
    }
   ],
   "source": [
    "// invoke or call the function by its name\n",
    "var ans = product(10, 20);\n",
    "console.log(ans);"
   ]
  },
  {
   "cell_type": "code",
   "execution_count": 2,
   "metadata": {},
   "outputs": [],
   "source": [
    "// define a function that converts fahrenheit degree into celcius\n",
    "function toCelsius(fahrenheit) {\n",
    "    var celsius = (5/9) * (fahrenheit-32); // celsius is local variable\n",
    "    return celsius;\n",
    "}"
   ]
  },
  {
   "cell_type": "code",
   "execution_count": 3,
   "metadata": {},
   "outputs": [
    {
     "name": "stdout",
     "output_type": "stream",
     "text": [
      "212 deg. fah = 100 deg. c\n"
     ]
    }
   ],
   "source": [
    "var fah = 212;\n",
    "var celsius = toCelsius(fah)\n",
    "console.log(`${fah} deg. fah = ${celsius} deg. c`);"
   ]
  },
  {
   "cell_type": "markdown",
   "metadata": {},
   "source": [
    "### visualize pass-by-value on pythontutor.com\n",
    "- https://goo.gl/b3jdES\n",
    "- primitive types such as Number and String are passed-by-value"
   ]
  },
  {
   "cell_type": "markdown",
   "metadata": {},
   "source": [
    "## Variable scopes; var and let keywords\n",
    "- variables defined with var keyword have Global and Function/Local Scope base on where they're declared\n",
    "\n",
    " - variables declared Globally (outside any function) have Global Scope\n",
    " - variables declared inside functions with var keyword have local scope\n",
    "- variables declared inside functions with OUT var keyword have global scope\n",
    "- redclaring a let variable, in the same scope, or in the same block, is not allowed"
   ]
  },
  {
   "cell_type": "code",
   "execution_count": 7,
   "metadata": {},
   "outputs": [
    {
     "name": "stdout",
     "output_type": "stream",
     "text": [
      "Before function body, name= John Doe\n",
      "inside someFunction name= John Doe\n",
      "inside someFunction age= 21\n",
      "local scope x =  100\n",
      "name1 =  Michael Jordan\n",
      "Bye John Doe\n"
     ]
    }
   ],
   "source": [
    "var name = \"John Doe\"; // global variable\n",
    "// some code here \n",
    "// code here can use name\n",
    "console.log('Before function body, name=', name);\n",
    "function someFunction() {\n",
    "    // code here can use name\n",
    "    // var name = 'Jake Smith'; // local variable name\n",
    "    name1 = 'Michael Jordan';\n",
    "    var age = 21; // local variable\n",
    "    console.log('inside someFunction name=', name);\n",
    "    console.log('inside someFunction age=', age);\n",
    "    if (age >= 21) { // block\n",
    "        var x = 10; // local variable\n",
    "        var x = 100; // alowed\n",
    "        let y = 20; // block level scope\n",
    "        //let y = 30; // not allowed\n",
    "    }\n",
    "    console.log('local scope x = ', x);\n",
    "    //console.log('y= ', y); // not allwed y has block scope like in C++\n",
    "}\n",
    "someFunction();\n",
    "console.log('name1 = ', name1);\n",
    "//console.log('age outside: ', age);\n",
    "console.log('Bye', name);"
   ]
  },
  {
   "cell_type": "markdown",
   "metadata": {},
   "source": [
    "## Visualize scopes in [pythontutor.com](http://pythontutor.com/javascript.html#code=var%20name%20%3D%20%22John%20Doe%22%3B%0Afunction%20someFunction%28%29%20%7B%0A%20%20%20%20var%20name%20%3D%20'Jake%20Smith'%3B%0A%20%20%20%20var%20name1%20%3D%20'Michael%20Jordan'%3B%0A%20%20%20%20var%20age%20%3D%2021%3B%0A%20%20%20%20console.log%28'inside%20someFunction%20name%3D',%20name%29%3B%0A%20%20%20%20console.log%28'inside%20someFunction%20age%3D',%20age%29%3B%0A%20%20%20%20if%20%28age%20%3E%3D%2021%29%20%7B%20//%20block%0A%20%20%20%20%20%20%20%20var%20x%20%3D%2010%3B%0A%20%20%20%20%20%20%20%20var%20x%20%3D%20100%3B%0A%20%20%20%20%20%20%20%20let%20y%20%3D%2020%3B%20//%20block%20level%20scope%0A%20%20%20%20%20%20%20%20//let%20y%20%3D%2030%3B%20//%20not%20allowed%0A%20%20%20%20%20%20%20%20console.log%28x*y%29%3B%0A%20%20%20%20%7D%0A%20%20%20%20console.log%28'local%20scope%20x%20%3D%20',%20x%29%3B%0A%20%20%20%20//console.log%28'y%3D%20',%20y%29%3B%20//%20not%20allwed%20y%20has%20block%20scope%20like%20in%20C%2B%2B%0A%7D%0AsomeFunction%28%29%3B%0A//console.log%28'name1%20%3D%20',%20name1%29%3B%20not%20allowed%0Aconsole.log%28'Bye',%20name%29%3B&curInstr=0&mode=display&origin=opt-frontend.js&py=js&rawInputLstJSON=%5B%5D)"
   ]
  },
  {
   "cell_type": "markdown",
   "metadata": {},
   "source": [
    "## Hoisting\n",
    "- variables declared with var are hoisted to the top\n",
    "- initialized variables are not hoisted\n",
    "- variables declared with let are not hoisted"
   ]
  },
  {
   "cell_type": "code",
   "execution_count": 1,
   "metadata": {},
   "outputs": [
    {
     "name": "stdout",
     "output_type": "stream",
     "text": [
      "Hello, C Ronaldo\n",
      "Hello again C Ronaldo\n"
     ]
    }
   ],
   "source": [
    "player = 'C Ronaldo';\n",
    "console.log(`Hello, ${player}`);\n",
    "var player;\n",
    "console.log(`Hello again ${player}`);"
   ]
  },
  {
   "cell_type": "code",
   "execution_count": 2,
   "metadata": {},
   "outputs": [
    {
     "name": "stdout",
     "output_type": "stream",
     "text": [
      "Hello, undefined\n"
     ]
    }
   ],
   "source": [
    "console.log('Hello,', player1);\n",
    "var player1 = 'Lionel Messi'; // initialized variables are not hoisted"
   ]
  },
  {
   "cell_type": "code",
   "execution_count": 13,
   "metadata": {},
   "outputs": [
    {
     "ename": "ReferenceError",
     "evalue": "car is not defined",
     "output_type": "error",
     "traceback": [
      "evalmachine.<anonymous>:1",
      "car = 'Tesla';",
      "    ^",
      "",
      "ReferenceError: car is not defined",
      "    at evalmachine.<anonymous>:1:5",
      "    at Script.runInThisContext (vm.js:124:20)",
      "    at Object.runInThisContext (vm.js:314:38)",
      "    at run ([eval]:1054:15)",
      "    at onRunRequest ([eval]:888:18)",
      "    at onMessage ([eval]:848:13)",
      "    at process.emit (events.js:193:13)",
      "    at emit (internal/child_process.js:848:12)",
      "    at processTicksAndRejections (internal/process/task_queues.js:81:17)"
     ]
    }
   ],
   "source": [
    "// throws ReferenceError\n",
    "car = 'Tesla';\n",
    "console.log('Beautiful,', car);\n",
    "let car;"
   ]
  },
  {
   "cell_type": "markdown",
   "metadata": {},
   "source": [
    "## Arrow Functions\n",
    "- also called fat arrow functions; burrowed from CoffeScript\n",
    "- concise syntax for writing function expressions\n",
    "- utilize new token => that looks like fat arrow\n",
    "- also called anonymous functions or lambda functions that are found in other languages such as C++, Python, etc.\n",
    "- no function keyword is required and no return and curley braces, etc.\n",
    "- function can be assigned to variable\n",
    "- syntax:\n",
    "```javascript  \n",
    "    (arg1, arg2, argN) => expression;\n",
    "```"
   ]
  },
  {
   "cell_type": "code",
   "execution_count": 14,
   "metadata": {},
   "outputs": [
    {
     "name": "stdout",
     "output_type": "stream",
     "text": [
      "200\n"
     ]
    }
   ],
   "source": [
    "// ES5 notation; explicitly use function keyword\n",
    "var product1 = function(x, y) {\n",
    "    return x*y;\n",
    "}\n",
    "console.log(product1(10, 20));"
   ]
  },
  {
   "cell_type": "code",
   "execution_count": 15,
   "metadata": {},
   "outputs": [
    {
     "data": {
      "text/plain": [
       "'function'"
      ]
     },
     "execution_count": 15,
     "metadata": {},
     "output_type": "execute_result"
    }
   ],
   "source": [
    "typeof(product1);"
   ]
  },
  {
   "cell_type": "code",
   "execution_count": 13,
   "metadata": {},
   "outputs": [],
   "source": [
    "// ES6 notation\n",
    "var product2 = (x, y) => x * y; // returns product of x and y"
   ]
  },
  {
   "cell_type": "code",
   "execution_count": 14,
   "metadata": {},
   "outputs": [
    {
     "name": "stdout",
     "output_type": "stream",
     "text": [
      "200\n"
     ]
    }
   ],
   "source": [
    "console.log(product2(10, 20));"
   ]
  },
  {
   "cell_type": "code",
   "execution_count": 15,
   "metadata": {},
   "outputs": [
    {
     "data": {
      "text/plain": [
       "'function'"
      ]
     },
     "execution_count": 15,
     "metadata": {},
     "output_type": "execute_result"
    }
   ],
   "source": [
    "typeof(product2);"
   ]
  },
  {
   "cell_type": "markdown",
   "metadata": {},
   "source": [
    "### no parameter syntax"
   ]
  },
  {
   "cell_type": "code",
   "execution_count": 18,
   "metadata": {},
   "outputs": [],
   "source": [
    "// no parameters ES5 syntax\n",
    "var sayHello = function() {\n",
    "    console.log('Hello World');\n",
    "}"
   ]
  },
  {
   "cell_type": "code",
   "execution_count": 19,
   "metadata": {},
   "outputs": [
    {
     "name": "stdout",
     "output_type": "stream",
     "text": [
      "Hello World\n"
     ]
    }
   ],
   "source": [
    "sayHello();"
   ]
  },
  {
   "cell_type": "code",
   "execution_count": 20,
   "metadata": {},
   "outputs": [
    {
     "data": {
      "text/plain": [
       "'function'"
      ]
     },
     "execution_count": 20,
     "metadata": {},
     "output_type": "execute_result"
    }
   ],
   "source": [
    "typeof(sayHello);"
   ]
  },
  {
   "cell_type": "code",
   "execution_count": 21,
   "metadata": {},
   "outputs": [],
   "source": [
    "// ES6 syntax\n",
    "var sayHello1 = () => console.log('Hello World');"
   ]
  },
  {
   "cell_type": "code",
   "execution_count": 22,
   "metadata": {},
   "outputs": [
    {
     "name": "stdout",
     "output_type": "stream",
     "text": [
      "Hello World\n"
     ]
    }
   ],
   "source": [
    "sayHello1();"
   ]
  },
  {
   "cell_type": "markdown",
   "metadata": {},
   "source": [
    "### one parameter syntax"
   ]
  },
  {
   "cell_type": "code",
   "execution_count": 23,
   "metadata": {},
   "outputs": [],
   "source": [
    "// ES6\n",
    "var val = 'hello world';\n",
    "const upper = strArg => strArg.toUpperCase();"
   ]
  },
  {
   "cell_type": "code",
   "execution_count": 24,
   "metadata": {},
   "outputs": [
    {
     "data": {
      "text/plain": [
       "'HELLO WORLD'"
      ]
     },
     "execution_count": 24,
     "metadata": {},
     "output_type": "execute_result"
    }
   ],
   "source": [
    "valUpper = upper(val);"
   ]
  },
  {
   "cell_type": "code",
   "execution_count": 25,
   "metadata": {},
   "outputs": [
    {
     "name": "stdout",
     "output_type": "stream",
     "text": [
      "HELLO WORLD\n"
     ]
    }
   ],
   "source": [
    "console.log(valUpper);"
   ]
  },
  {
   "cell_type": "markdown",
   "metadata": {},
   "source": [
    "## creating higher order functions\n",
    "- function that takes function as a parameter\n",
    "- most async functions rquire callback function as a argument"
   ]
  },
  {
   "cell_type": "code",
   "execution_count": 1,
   "metadata": {},
   "outputs": [],
   "source": [
    "function add(arg1, callback) {\n",
    "    console.log(`arg1 = ${arg1}`);\n",
    "    if (typeof callback == \"function\") {\n",
    "        callback(10, 20);\n",
    "    }\n",
    "}"
   ]
  },
  {
   "cell_type": "code",
   "execution_count": 9,
   "metadata": {},
   "outputs": [
    {
     "name": "stdout",
     "output_type": "stream",
     "text": [
      "arg1 = some value for arg1\n",
      "10+20 = 30\n"
     ]
    }
   ],
   "source": [
    "add('some value for arg1', (a, b) => {\n",
    "    console.log(`${a}+${b} = ${a+b}`);\n",
    "});"
   ]
  }
 ],
 "metadata": {
  "kernelspec": {
   "display_name": "Javascript (Node.js)",
   "language": "javascript",
   "name": "javascript"
  },
  "language_info": {
   "file_extension": ".js",
   "mimetype": "application/javascript",
   "name": "javascript",
   "version": "10.13.0"
  }
 },
 "nbformat": 4,
 "nbformat_minor": 2
}
