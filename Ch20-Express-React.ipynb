{
 "cells": [
  {
   "cell_type": "markdown",
   "metadata": {},
   "source": [
    "# Express Framework\n",
    "- https://expressjs.com/\n",
    "- Express is a minimal and flexible Node.js web application framework that provides a robust set of features for web and mobile applications\n",
    "- popular MEAN full-stack (Mongo, Express, Angular, Node) uses Express as the Web (HTTP) server\n",
    "- facilitates rapid development of Node.js web applications\n",
    "\n",
    "## Overview of HTTP\n",
    "https://developer.mozilla.org/en-US/docs/Web/HTTP/Overview"
   ]
  },
  {
   "cell_type": "markdown",
   "metadata": {},
   "source": [
    "## Installing Express\n",
    "https://expressjs.com/en/starter/installing.html\n",
    "\n",
    "`$ mkdir ExpressDemo` <br />\n",
    "`$ cd ExpressDemo` <br />\n",
    "- Use npm init command to create a package.json file for your app with default values <br>\n",
    "\n",
    "`$ npm init` - go through default by hitting enter all the way <br />\n",
    "- now install express in the expressdemo directory and save it in the dependencies list <br />\n",
    "\n",
    "`$ npm install express --save`"
   ]
  },
  {
   "cell_type": "markdown",
   "metadata": {},
   "source": [
    "## Installing third-party middle layers\n",
    "\n",
    "### body-parser \n",
    "- node.js middleware for handling JSON, Raw Text and URL encoded form data\n",
    "\n",
    "`$ npm install body-parser --save`\n",
    "\n",
    "### cookie-parser \n",
    "- middleware for handling cookies\n",
    "\n",
    "`$ npm install cookie-parser --save`\n",
    "\n",
    "### multer\n",
    "- middleware for handling multipart/form data such as file uploads.\n",
    "\n",
    "`$ npm install multer --save`"
   ]
  },
  {
   "cell_type": "markdown",
   "metadata": {},
   "source": [
    "## Request & Response\n",
    "- request and reponse are the heart of web applicaitons\n",
    "- web app uses client-server architecture where client (browser) sends request and the server (Node.js) accepts requests and sends response back\n",
    "- express app uses callback function whose parameters are <strong>request</strong> and <strong>response</strong> objects\n",
    "```javascript\n",
    "app.get('/', function (req, res) {\n",
    "   // --\n",
    "});\n",
    "```\n",
    "\n",
    "    - <a href =\"https://nodejs.org/api/http.html#http_class_http_clientrequest\">Request Object</a> - The request object represents the HTTP request  and has properties for the request query string, parameters, body, HTTP headers, and others.\n",
    "    - <a href=\"https://nodejs.org/api/http.html#http_class_http_serverresponse\">Response Object </a>- represents HTTP Response that express uses to send data back to client when it gets HTTP request \n",
    "    - print req and res objects to see all the informations contained in those objects"
   ]
  },
  {
   "cell_type": "markdown",
   "metadata": {},
   "source": [
    "## MVC framework\n",
    "- model, view, controller based application architecture\n",
    "https://developer.chrome.com/apps/app_frameworks\n"
   ]
  },
  {
   "cell_type": "markdown",
   "metadata": {},
   "source": [
    "## Basic routing\n",
    "- https://expressjs.com/en/guide/routing.html\n",
    "- Routing refers to determining how an application responds to a client request to a particular endpoint, which is a URI (or path) and a specific HTTP request method (GET, POST, and so on).\n",
    "- Each route can have one or more handler functions, which are executed when the route is matched.\n",
    "- Route definition takes the following structure:\n",
    "\n",
    "```javascript\n",
    "app.METHOD(PATH, HANDLER);\n",
    "```\n",
    "\n",
    "Where:\n",
    "- app is an instance of express\n",
    "- METHOD is an HTTP request method, in lowercase\n",
    "- PATH is a path on the server\n",
    "- HANDLER is the function executed when the route is matched"
   ]
  },
  {
   "cell_type": "markdown",
   "metadata": {},
   "source": [
    "### Respond with Hello World! on the homepage:"
   ]
  },
  {
   "cell_type": "markdown",
   "metadata": {},
   "source": [
    "```javascript\n",
    "app.get('/', function (req, res) {\n",
    "  res.send('Hello World!')\n",
    "});\n",
    "```"
   ]
  },
  {
   "cell_type": "markdown",
   "metadata": {},
   "source": [
    "### Respond to POST request on the root route (/), the application’s home page:"
   ]
  },
  {
   "cell_type": "markdown",
   "metadata": {},
   "source": [
    "```javascript\n",
    "app.post('/', function (req, res) {\n",
    "  res.send('Got a POST request')\n",
    "});\n",
    "```"
   ]
  },
  {
   "cell_type": "markdown",
   "metadata": {},
   "source": [
    "### Respond to a PUT request to the /user route:"
   ]
  },
  {
   "cell_type": "markdown",
   "metadata": {},
   "source": [
    "```javascript\n",
    "app.put('/user', function (req, res) {\n",
    "  res.send('Got a PUT request at /user')\n",
    "});\n",
    "```"
   ]
  },
  {
   "cell_type": "markdown",
   "metadata": {},
   "source": [
    "### Respond to a DELETE request to the /user route:"
   ]
  },
  {
   "cell_type": "markdown",
   "metadata": {},
   "source": [
    "```javascript\n",
    "app.delete('/user', function (req, res) {\n",
    "  res.send('Got a DELETE request at /user')\n",
    "});\n",
    "```"
   ]
  },
  {
   "cell_type": "markdown",
   "metadata": {},
   "source": [
    "## See ExpressDemos folder for various examples\n",
    "- app.js, router.js\n",
    "- node app.js\n",
    "- node router.js"
   ]
  },
  {
   "cell_type": "markdown",
   "metadata": {},
   "source": [
    "## Nodemon\n",
    "- https://nodemon.io/\n",
    "- use nodemon instead of node to automatically restart the server after every change so you don't have to stop and start the server manually for testing your app\n",
    "\n",
    "```bash\n",
    "npm install nodemon --save\n",
    "```\n",
    "- replace `node` with `nodemon` on `package.json` start script\n",
    "\n",
    "## Node.js with Babel\n",
    "- Babel compiler supports ECMAScript 6 features that Node.js doesn't support yet\n",
    "    - e.g. import keyword to load module\n",
    "- install Babel core and Babel-preset to activate different upcoming features\n",
    "```bash\n",
    "npm install @babel/core @babel/node --save-dev\n",
    "npm install @babel/preset-env --save-dev\n",
    "```\n",
    "- create `.babelrc` configuration file and add the following\n",
    "```javascript\n",
    "{\n",
    "  \"presets\": [\n",
    "    \"@babel/preset-env\"\n",
    "    ]\n",
    "}\n",
    "```"
   ]
  },
  {
   "cell_type": "markdown",
   "metadata": {},
   "source": [
    "## Express app generator\n",
    "- use express app generator tool to quickly create an applicaiton\n",
    "- follow instructions from: https://expressjs.com/en/starter/generator.html"
   ]
  },
  {
   "cell_type": "markdown",
   "metadata": {},
   "source": [
    "## Demo Apps using Express\n",
    "- static sites and dynamic apps\n",
    "- see `ExpressDemos` folder\n",
    "\n",
    "### Hello Express\n",
    "```bash\n",
    "cd ExpressDemos/hello-world\n",
    "npm install\n",
    "npm audit fix\n",
    "nodemon --exec babel-node hello-express.js\n",
    "```\n",
    "\n",
    "### Hello Router\n",
    "```bash\n",
    "cd ExpressDemos/hello-world\n",
    "npm install\n",
    "npm audit fix\n",
    "nodemon --exec babel-node hello-router.js\n",
    "```\n",
    "\n",
    "### Homepage V1\n",
    "\n",
    "- convert a static site into Express app\n",
    "- doesn't use any template framework\n",
    "- demonstrates how a static website can be served as Express app\n",
    "- instruction to run Homepage V1\n",
    "\n",
    "```bash\n",
    "cd ExpressDemos/homepage-v1\n",
    "npm install\n",
    "npm audit fix\n",
    "npm start\n",
    "```\n",
    "- point browser to localhost:3000\n",
    "- ctrl+c - to kill the node server\n",
    "\n",
    "### Homepage V2\n",
    "- uses pug as the the view engine\n",
    "- instruction to run Homepage V2\n",
    "\n",
    "```bash\n",
    "cd ExpressDemos/homepage-v2\n",
    "npm install\n",
    "npm audit fix\n",
    "npm start\n",
    "```\n",
    "\n",
    "\n",
    "## React View as an UI\n",
    "- `express-react-views` view engine renders React components on server - https://github.com/reactjs/express-react-views\n",
    "- intended to be used as a replacement for existing server-side view engines such as, like **jade**, **pug**, **ejs**, **handlebars**, etc.\n",
    "- must intstall `express-react-views` to project to use with express server\n",
    "```bash\n",
    "npm install express-react-views --save\n",
    "```\n",
    "\n",
    "### simple static app\n",
    "- example adapted from: https://github.com/reactjs/express-react-views\n",
    "- `ExpressReactDemos/simple` is a simple static UI demo that uses React/JSX as view engine\n",
    "- see `app.js` file to see how the JSX view engine is used\n",
    "- run it:\n",
    "```bash\n",
    "cd ExpressReactDemos/simple\n",
    "npm install\n",
    "npm start\n",
    "```\n",
    "\n",
    "### Homepage V2\n",
    "\n",
    "- convert a static site into Express app\n",
    "- uses `express-react-views` view engine\n",
    "    - it renders static markup and *does not* support mounting components on the client side\n",
    "- instructions to run Homepage V2\n",
    "- on a terminal type the following commands\n",
    "\n",
    "```bash\n",
    "cd ExpressReactDemos/homepage-v2\n",
    "npm install\n",
    "npm audit fix -force\n",
    "npm start\n",
    "```\n",
    "\n",
    "- point browser to localhost:3000\n",
    "- ctrl+c to kill the express server\n",
    "\n",
    "### dynamic react app\n",
    "- example adapted from: https://github.com/reactjs/express-react-views\n",
    "- `ExpressReactDemos/dynamic` is a dynamic React-based app\n",
    "\n",
    "\n",
    "- a simple to-do-list app as demonstrated during React standalone demos\n",
    "- renders the application server-side using express-react-views\n",
    "- an initial set of items has been added to illustrate populating data from the server\n",
    "- run it:\n",
    "```bash\n",
    "cd ExpressReactDemos/dynamic\n",
    "npm install\n",
    "npm start\n",
    "```\n",
    "\n",
    "#### How it works...\n",
    "\n",
    "1. Separate the page into two components,\n",
    "   a [static container component](views/Html.js)\n",
    "   and a [dynamic inner component](views/Content.js).\n",
    "\n",
    "2. Use express-react-views to render and serve the container.\n",
    "   Server-side data is sent via view options.\n",
    "\n",
    "3. Make your views available on client-side as javascript.\n",
    "   - [views/main.js](views/main.js) function is used for bootstrapping\n",
    "   and packaged up using [browserify](http://browserify.org/).\n",
    "\n",
    "4. Initializes the client-side app into the dynamic component\n",
    "   using the same data from the server-side.\n",
    "   Be mindful of potential XSS vulnerabilities.\n",
    "\n",
    "### Express API - React client\n",
    "- consuming API created with Express App with React Client App\n",
    "- see `ExpressReactDemos/express-API-react-client` demo\n",
    "- two separte apps\n",
    "- `api` Express app is created with `express-generator`\n",
    "- `client` React app is generated with `create-react-app`\n",
    "- need two terminals to run the apps simultaneously\n",
    "- from one terminal run the server API:\n",
    "- server runs on port 9000\n",
    "```bash\n",
    "cd ExpressReactDemos/express-API-react-client/api\n",
    "npm install\n",
    "npm start\n",
    "```\n",
    "- from another terminal run:\n",
    "\n",
    "```bash\n",
    "cd ExpressReactDemos/express-API-react-client/client\n",
    "npm install\n",
    "npm start\n",
    "```\n",
    "\n",
    "- React client uses Fetch API to fetch the data from the server: https://developer.mozilla.org/en-US/docs/Web/API/Fetch_API/Using_Fetch\n",
    "- Fetch API can downloand and upload data in various format such as text, json, etc."
   ]
  },
  {
   "cell_type": "code",
   "execution_count": null,
   "metadata": {},
   "outputs": [],
   "source": []
  }
 ],
 "metadata": {
  "kernelspec": {
   "display_name": "Python 3",
   "language": "python",
   "name": "python3"
  },
  "language_info": {
   "codemirror_mode": {
    "name": "ipython",
    "version": 3
   },
   "file_extension": ".py",
   "mimetype": "text/x-python",
   "name": "python",
   "nbconvert_exporter": "python",
   "pygments_lexer": "ipython3",
   "version": "3.9.2"
  }
 },
 "nbformat": 4,
 "nbformat_minor": 2
}
