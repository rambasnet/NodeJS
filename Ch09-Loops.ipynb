{
 "cells": [
  {
   "cell_type": "markdown",
   "metadata": {},
   "source": [
    "# Loops / Iterations\n",
    "- loops make computer execute a block of code a number of times\n",
    "- loops allow us to run the same code over and again, each time with a different value\n",
    "- loops are often used to access/update elements of arrays or containers\n",
    "- types of loops:\n",
    "    - for\n",
    "    - for/in\n",
    "    - for/of\n",
    "    - while\n",
    "    - do/while\n",
    "- for, while and do/while can be used interchangebly"
   ]
  },
  {
   "cell_type": "markdown",
   "metadata": {},
   "source": [
    "## for loop\n",
    "- syntax:\n",
    "```javascript\n",
    "    for([init]; [condition]; [update]) {\n",
    "        // body\n",
    "    }\n",
    "```\n",
    "- init is executed once before the execution of the code block\n",
    "- condition is executed next; if it's ture then enter the loop body and execute it\n",
    "- update is executed (every time) after the code block has been executed\n",
    "- init, condition and update statements are all optional"
   ]
  },
  {
   "cell_type": "code",
   "execution_count": 2,
   "metadata": {},
   "outputs": [
    {
     "name": "stdout",
     "output_type": "stream",
     "text": [
      "1\n",
      "2\n",
      "3\n",
      "4\n",
      "5\n",
      "6\n",
      "7\n",
      "8\n",
      "9\n",
      "10\n"
     ]
    }
   ],
   "source": [
    "// print numbers from 1 to 10\n",
    "for(var i=1; i<=10; i++) {\n",
    "    console.log(i);\n",
    "}\n",
    "// try unravelling the loop"
   ]
  },
  {
   "cell_type": "code",
   "execution_count": 1,
   "metadata": {},
   "outputs": [
    {
     "name": "stdout",
     "output_type": "stream",
     "text": [
      "1\n",
      "2\n",
      "3\n",
      "4\n",
      "5\n",
      "6\n",
      "7\n",
      "8\n",
      "9\n",
      "10\n"
     ]
    }
   ],
   "source": [
    "// above for loop and this one are conceptually the same...\n",
    "var i = 1;\n",
    "for(;;) {\n",
    "    console.log(i);\n",
    "    i++;\n",
    "    if (i > 10)\n",
    "        break;\n",
    "}"
   ]
  },
  {
   "cell_type": "markdown",
   "metadata": {},
   "source": [
    "## for/in loop\n",
    "- syntax:\n",
    "```javascript\n",
    "for (property/index in iterable) {\n",
    "    // do something with the index/property and/or value associated with it\n",
    "}\n",
    "```\n",
    "- iterable are JS objects and arrays"
   ]
  },
  {
   "cell_type": "code",
   "execution_count": 4,
   "metadata": {},
   "outputs": [
    {
     "name": "stdout",
     "output_type": "stream",
     "text": [
      "0 => BMW\n",
      "1 => Toyota\n",
      "2 => Lexus\n",
      "3 => Honda\n",
      "4 => Mercedez\n",
      "5 => Ford\n"
     ]
    }
   ],
   "source": [
    "var cars = ['BMW', 'Toyota', 'Lexus', 'Honda', 'Mercedez', 'Ford']\n",
    "for (i in cars) {\n",
    "    console.log(i, '=>', cars[i]);\n",
    "}"
   ]
  },
  {
   "cell_type": "markdown",
   "metadata": {},
   "source": [
    "## for/of loop\n",
    "- syntax:\n",
    "```javascript\n",
    "    for (value of iterable) {\n",
    "        // do soething with the value\n",
    "    }\n",
    "```\n",
    "- iterable are JS objects and arrays"
   ]
  },
  {
   "cell_type": "code",
   "execution_count": 5,
   "metadata": {},
   "outputs": [
    {
     "name": "stdout",
     "output_type": "stream",
     "text": [
      "BMW\n",
      "Toyota\n",
      "Lexus\n",
      "Honda\n",
      "Mercedez\n",
      "Ford\n"
     ]
    }
   ],
   "source": [
    "var cars = ['BMW', 'Toyota', 'Lexus', 'Honda', 'Mercedez', 'Ford']\n",
    "for (car of cars) {\n",
    "    console.log(car);\n",
    "}"
   ]
  },
  {
   "cell_type": "markdown",
   "metadata": {},
   "source": [
    "## while loop\n",
    "- execute a block of code as long as a specified condition is true\n",
    "- code block may execute 0 or more time\n",
    "- syntax:\n",
    "```javascript\n",
    "    while (condition ) {\n",
    "        // code block to be executed\n",
    "    }\n",
    "```"
   ]
  },
  {
   "cell_type": "code",
   "execution_count": 6,
   "metadata": {},
   "outputs": [
    {
     "name": "stdout",
     "output_type": "stream",
     "text": [
      "1\n",
      "2\n",
      "3\n",
      "4\n",
      "5\n",
      "6\n",
      "7\n",
      "8\n",
      "9\n",
      "10\n"
     ]
    },
    {
     "data": {
      "text/plain": [
       "11"
      ]
     },
     "execution_count": 6,
     "metadata": {},
     "output_type": "execute_result"
    }
   ],
   "source": [
    "// print number from 1 to 10\n",
    "var i = 1;\n",
    "while (i <= 10) {\n",
    "    console.log(i);\n",
    "    i += 1; // what happens if this line is commented out?\n",
    "}"
   ]
  },
  {
   "cell_type": "markdown",
   "metadata": {},
   "source": [
    "## do/while loop\n",
    "- code block will always be exectued at least once, because code block is executed before checking condition\n",
    "\n",
    "- syntax:\n",
    "```javascript\n",
    "    do {\n",
    "       // code block \n",
    "    }\n",
    "    while(condition);\n",
    "```"
   ]
  },
  {
   "cell_type": "code",
   "execution_count": 7,
   "metadata": {},
   "outputs": [
    {
     "name": "stdout",
     "output_type": "stream",
     "text": [
      "1\n",
      "2\n",
      "3\n",
      "4\n",
      "5\n",
      "6\n",
      "7\n",
      "8\n",
      "9\n",
      "10\n"
     ]
    },
    {
     "data": {
      "text/plain": [
       "11"
      ]
     },
     "execution_count": 7,
     "metadata": {},
     "output_type": "execute_result"
    }
   ],
   "source": [
    "// print number from 1 to 10\n",
    "var i = 1;\n",
    "do {\n",
    "    console.log(i);\n",
    "    i += 1; // what happens if you forget to increment i?\n",
    "} while (i <= 10);"
   ]
  },
  {
   "cell_type": "markdown",
   "metadata": {},
   "source": [
    "## break and continue\n",
    "- break jumps out of loop\n",
    "- continue statement jumps over one iteration in the loop"
   ]
  },
  {
   "cell_type": "code",
   "execution_count": 8,
   "metadata": {},
   "outputs": [
    {
     "name": "stdout",
     "output_type": "stream",
     "text": [
      "1\n",
      "2\n",
      "3\n",
      "4\n"
     ]
    }
   ],
   "source": [
    "for(var i=1; i<=20; i++) {\n",
    "    if (i%5 == 0)\n",
    "        break;\n",
    "    \n",
    "    console.log(i);\n",
    "}"
   ]
  },
  {
   "cell_type": "code",
   "execution_count": 9,
   "metadata": {},
   "outputs": [
    {
     "name": "stdout",
     "output_type": "stream",
     "text": [
      "1\n",
      "3\n",
      "5\n",
      "7\n",
      "9\n",
      "11\n",
      "13\n",
      "15\n",
      "17\n",
      "19\n"
     ]
    }
   ],
   "source": [
    "for(var i=1; i<=20; i++) {\n",
    "    if (i%2 == 0)\n",
    "        continue;\n",
    "    \n",
    "    console.log(i); // this is skipped everytime continue is executed\n",
    "}"
   ]
  },
  {
   "cell_type": "code",
   "execution_count": null,
   "metadata": {},
   "outputs": [],
   "source": []
  }
 ],
 "metadata": {
  "kernelspec": {
   "display_name": "Javascript (Node.js)",
   "language": "javascript",
   "name": "javascript"
  },
  "language_info": {
   "file_extension": ".js",
   "mimetype": "application/javascript",
   "name": "javascript",
   "version": "10.13.0"
  }
 },
 "nbformat": 4,
 "nbformat_minor": 2
}
