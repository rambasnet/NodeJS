{
 "cells": [
  {
   "cell_type": "markdown",
   "metadata": {},
   "source": [
    "# Higher-Order Functions and Functional Programming"
   ]
  },
  {
   "cell_type": "markdown",
   "metadata": {},
   "source": [
    "## Anonymous Functions\n",
    "\n",
    "Also known as Lamda functions, these are functions that can be placed inline instead of being declared at a previous position"
   ]
  },
  {
   "cell_type": "code",
   "execution_count": 53,
   "metadata": {},
   "outputs": [],
   "source": [
    "var helloWorld = ()=>console.log(\"hello world!\")"
   ]
  },
  {
   "cell_type": "code",
   "execution_count": 54,
   "metadata": {},
   "outputs": [
    {
     "data": {
      "text/plain": [
       "[Function: helloWorld]"
      ]
     },
     "execution_count": 54,
     "metadata": {},
     "output_type": "execute_result"
    }
   ],
   "source": [
    "helloWorld"
   ]
  },
  {
   "cell_type": "code",
   "execution_count": 55,
   "metadata": {},
   "outputs": [
    {
     "name": "stdout",
     "output_type": "stream",
     "text": [
      "hello world!\n"
     ]
    }
   ],
   "source": [
    "helloWorld()"
   ]
  },
  {
   "cell_type": "markdown",
   "metadata": {},
   "source": [
    "## A higher order function is a function that takes a function as one of its parameters\n",
    "\n",
    "Examples of this include the map, filter, and reduce funtions we are already familiar with"
   ]
  },
  {
   "cell_type": "code",
   "execution_count": 57,
   "metadata": {},
   "outputs": [],
   "source": [
    "var square = function (x) {\n",
    "    return x*x\n",
    "}"
   ]
  },
  {
   "cell_type": "code",
   "execution_count": 61,
   "metadata": {},
   "outputs": [
    {
     "name": "stdout",
     "output_type": "stream",
     "text": [
      "[ 1, 4, 9, 16, 25 ]\n"
     ]
    }
   ],
   "source": [
    "var arr = [1, 2, 3, 4, 5]\n",
    "\n",
    "var arr2 = arr.map(square)\n",
    "\n",
    "console.log(arr2)"
   ]
  },
  {
   "cell_type": "markdown",
   "metadata": {},
   "source": [
    "Anonymous functions can be used to provide the argument without explicitly declaring the function or attaching it to a variable. \n",
    "\n",
    "The Advantage of such a style is it allows code to read more consicely and you do not have to go to a previous function call to find out what the map function is doing to the data."
   ]
  },
  {
   "cell_type": "code",
   "execution_count": 87,
   "metadata": {},
   "outputs": [
    {
     "name": "stdout",
     "output_type": "stream",
     "text": [
      "[ 1, 4, 9, 16, 25 ]\n"
     ]
    }
   ],
   "source": [
    "var arr3 = arr.map((x)=>x*x)\n",
    "\n",
    "console.log(arr3)"
   ]
  },
  {
   "cell_type": "markdown",
   "metadata": {},
   "source": [
    "## Hoisting\n",
    "\n",
    "Javascript hoists declared variables to the top of whatever scope they are declared in. This seems un-important but has ramifications when functions are hoisted"
   ]
  },
  {
   "cell_type": "code",
   "execution_count": 80,
   "metadata": {},
   "outputs": [
    {
     "name": "stdout",
     "output_type": "stream",
     "text": [
      "Hoisted!\n",
      "10 != 100\n",
      "Hoisted!\n",
      "10 != 100\n"
     ]
    }
   ],
   "source": [
    "function demo(x) {\n",
    "    console.log(\"10 =\",x)\n",
    "}\n",
    "\n",
    "demo(10)\n",
    "\n",
    "function demo(x) {\n",
    "    console.log(\"Hoisted!\")\n",
    "    console.log(\"10 !=\",x*x)\n",
    "}\n",
    "\n",
    "demo(10)"
   ]
  },
  {
   "cell_type": "markdown",
   "metadata": {},
   "source": [
    "The function written below the call is ultimately called because before demo(10) was executed the second demo function was hoisted to the top of the current scope. This can be circumvented by creating a function expression"
   ]
  },
  {
   "cell_type": "code",
   "execution_count": 77,
   "metadata": {},
   "outputs": [
    {
     "name": "stdout",
     "output_type": "stream",
     "text": [
      "hello world 10\n"
     ]
    }
   ],
   "source": [
    "var func = (x)=>{console.log(\"hello world\", x)}\n",
    "\n",
    "func(10)"
   ]
  },
  {
   "cell_type": "code",
   "execution_count": 1,
   "metadata": {},
   "outputs": [
    {
     "name": "stdout",
     "output_type": "stream",
     "text": [
      "10 = 10\n",
      "\n",
      "Not Hoisted\n",
      "10 != 10\n"
     ]
    }
   ],
   "source": [
    "function demo2(x) {\n",
    "    console.log(\"10 =\", x)\n",
    "    console.log()\n",
    "}\n",
    "\n",
    "demo2(10)\n",
    "\n",
    "var demo2 = (x)=>{\n",
    "    console.log(\"Not Hoisted\")\n",
    "    console.log(\"10 !=\", x)\n",
    "}\n",
    "\n",
    "demo2(10)"
   ]
  },
  {
   "cell_type": "code",
   "execution_count": 117,
   "metadata": {},
   "outputs": [
    {
     "name": "stdout",
     "output_type": "stream",
     "text": [
      "15\n"
     ]
    }
   ],
   "source": [
    "var y = 10;\n",
    "\n",
    "var demo4 = function demo3(x) {console.log(x+y)}\n",
    "\n",
    "demo4(5)"
   ]
  },
  {
   "cell_type": "markdown",
   "metadata": {},
   "source": [
    "## Functions are objects and Higher-Order functions applied to them require the this Keyword\n",
    "\n",
    "Functions are objects in Javascript, and many higher order functions require programmers to use the this keyword to find the object the function is being applied to "
   ]
  },
  {
   "cell_type": "code",
   "execution_count": 2,
   "metadata": {},
   "outputs": [
    {
     "name": "stdout",
     "output_type": "stream",
     "text": [
      "hello world\n",
      "\n",
      "Hi Hello How are you\n",
      "\n",
      "add One plus Two: 3\n",
      "\n",
      "add Three plus Two: 5\n"
     ]
    }
   ],
   "source": [
    "var array = [\"Hi\", \"Hello\", \"How are you\"]\n",
    "\n",
    "console.log.call(this, \"hello world\")\n",
    "console.log()\n",
    "console.log.apply(this, array)\n",
    "console.log()\n",
    "\n",
    "function adder(a, b) {\n",
    "    return a+b\n",
    "}\n",
    "\n",
    "console.log(\"add One plus Two:\", adder(1,2))\n",
    "console.log()\n",
    "\n",
    "var addThree = adder.bind(this, 3)\n",
    "\n",
    "console.log(\"add Three plus Two:\", addThree(2))"
   ]
  },
  {
   "cell_type": "markdown",
   "metadata": {},
   "source": [
    "The this keyword isnt required, but these functions require a reference to the object they are acting upon to work.\n",
    "\n",
    "If you do not want to use this, you can just use the name of the function/object the higher-order function is being applied to"
   ]
  },
  {
   "cell_type": "code",
   "execution_count": 3,
   "metadata": {},
   "outputs": [
    {
     "name": "stdout",
     "output_type": "stream",
     "text": [
      "hello world\n",
      "\n",
      "Hi Hello How are you\n",
      "\n",
      "add Two plus Four: 6\n"
     ]
    }
   ],
   "source": [
    "console.log.call(console.log, \"hello world\")\n",
    "console.log()\n",
    "console.log.apply(console.log, array)\n",
    "console.log()\n",
    "\n",
    "var addTwo = adder.bind(adder, 2)\n",
    "\n",
    "console.log(\"add Two plus Four:\", addTwo(4))"
   ]
  },
  {
   "cell_type": "markdown",
   "metadata": {},
   "source": [
    "Since functions are objects we can do some cool things with them such as assigning long function names to smaller function objects. This enables us much more freedom to manipulate functions"
   ]
  },
  {
   "cell_type": "code",
   "execution_count": 6,
   "metadata": {},
   "outputs": [
    {
     "name": "stdout",
     "output_type": "stream",
     "text": [
      "Hello world\n",
      "\n",
      "Hello again world\n"
     ]
    }
   ],
   "source": [
    "var print = console.log\n",
    "\n",
    "print(\"Hello world\")\n",
    "\n",
    "var terminal = console\n",
    "\n",
    "terminal.log(\"\\nHello again world\")"
   ]
  },
  {
   "cell_type": "markdown",
   "metadata": {},
   "source": [
    "## Closures\n",
    "\n",
    "Written in this way the functional expression becomes a form of closure.\n",
    "\n",
    "Closures are nested functions that have access to the scope of the parent function\n"
   ]
  },
  {
   "cell_type": "code",
   "execution_count": 120,
   "metadata": {},
   "outputs": [],
   "source": [
    "var Incrementer = function() {\n",
    "    var inc = 0\n",
    "    var collect = function(x) {\n",
    "        inc += x;\n",
    "        return inc;\n",
    "    }\n",
    "    return collect;\n",
    "}"
   ]
  },
  {
   "cell_type": "code",
   "execution_count": 129,
   "metadata": {},
   "outputs": [
    {
     "data": {
      "text/plain": [
       "[Function: Incrementer]"
      ]
     },
     "execution_count": 129,
     "metadata": {},
     "output_type": "execute_result"
    }
   ],
   "source": [
    "Incrementer"
   ]
  },
  {
   "cell_type": "code",
   "execution_count": 130,
   "metadata": {},
   "outputs": [
    {
     "data": {
      "text/plain": [
       "[Function: collect]"
      ]
     },
     "execution_count": 130,
     "metadata": {},
     "output_type": "execute_result"
    }
   ],
   "source": [
    "var keepCount = Incrementer()\n",
    "keepCount"
   ]
  },
  {
   "cell_type": "code",
   "execution_count": 126,
   "metadata": {},
   "outputs": [
    {
     "data": {
      "text/plain": [
       "1"
      ]
     },
     "execution_count": 126,
     "metadata": {},
     "output_type": "execute_result"
    }
   ],
   "source": [
    "keepCount(1)"
   ]
  },
  {
   "cell_type": "code",
   "execution_count": 127,
   "metadata": {},
   "outputs": [
    {
     "data": {
      "text/plain": [
       "0"
      ]
     },
     "execution_count": 127,
     "metadata": {},
     "output_type": "execute_result"
    }
   ],
   "source": [
    "keepCount(-1)"
   ]
  },
  {
   "cell_type": "code",
   "execution_count": 133,
   "metadata": {},
   "outputs": [
    {
     "name": "stdout",
     "output_type": "stream",
     "text": [
      "5\n",
      "10\n",
      "15\n"
     ]
    }
   ],
   "source": [
    "console.log(keepCount(5))\n",
    "console.log(keepCount(5))\n",
    "console.log(keepCount(5))"
   ]
  },
  {
   "cell_type": "code",
   "execution_count": 134,
   "metadata": {},
   "outputs": [
    {
     "data": {
      "text/plain": [
       "-10"
      ]
     },
     "execution_count": 134,
     "metadata": {},
     "output_type": "execute_result"
    }
   ],
   "source": [
    "keepCount(-25)"
   ]
  },
  {
   "cell_type": "markdown",
   "metadata": {},
   "source": [
    "## Factory Functions\n",
    "\n",
    "Factory Functions are functions that return a function"
   ]
  },
  {
   "cell_type": "code",
   "execution_count": 94,
   "metadata": {},
   "outputs": [],
   "source": [
    "var factory = function (x){\n",
    "    var x;\n",
    "    return()=>{console.log(\"hello world: \\t\", x)}\n",
    "}"
   ]
  },
  {
   "cell_type": "code",
   "execution_count": 95,
   "metadata": {},
   "outputs": [],
   "source": [
    "var hello5 = factory(5)"
   ]
  },
  {
   "cell_type": "code",
   "execution_count": 96,
   "metadata": {},
   "outputs": [
    {
     "data": {
      "text/plain": [
       "[Function]"
      ]
     },
     "execution_count": 96,
     "metadata": {},
     "output_type": "execute_result"
    }
   ],
   "source": [
    "hello5"
   ]
  },
  {
   "cell_type": "code",
   "execution_count": 97,
   "metadata": {},
   "outputs": [
    {
     "name": "stdout",
     "output_type": "stream",
     "text": [
      "hello world: \t 5\n"
     ]
    }
   ],
   "source": [
    "hello5()"
   ]
  },
  {
   "cell_type": "markdown",
   "metadata": {},
   "source": [
    "## Currying"
   ]
  },
  {
   "cell_type": "code",
   "execution_count": 22,
   "metadata": {},
   "outputs": [],
   "source": [
    "var foo = function(x) {\n",
    "    var x;\n",
    "    return function(y){\n",
    "        return x+y;\n",
    "    }\n",
    "}"
   ]
  },
  {
   "cell_type": "code",
   "execution_count": 23,
   "metadata": {},
   "outputs": [
    {
     "name": "stdout",
     "output_type": "stream",
     "text": [
      "11\n"
     ]
    }
   ],
   "source": [
    "console.log(foo(5)(6))"
   ]
  },
  {
   "cell_type": "code",
   "execution_count": 24,
   "metadata": {},
   "outputs": [
    {
     "data": {
      "text/plain": [
       "[Function]"
      ]
     },
     "execution_count": 24,
     "metadata": {},
     "output_type": "execute_result"
    }
   ],
   "source": [
    "bar = foo(5)\n",
    "big = foo(105)"
   ]
  },
  {
   "cell_type": "code",
   "execution_count": 135,
   "metadata": {},
   "outputs": [
    {
     "name": "stdout",
     "output_type": "stream",
     "text": [
      "Function bar:\n",
      "15\n",
      "5\n",
      "105\n",
      "25\n",
      "\n",
      "Function big:\n",
      "106\n",
      "130\n",
      "116\n",
      "117\n"
     ]
    }
   ],
   "source": [
    "console.log(\"Function bar:\")\n",
    "\n",
    "console.log(bar(10))\n",
    "console.log(bar(0))\n",
    "console.log(bar(100))\n",
    "console.log(bar(20))\n",
    "\n",
    "console.log()\n",
    "console.log(\"Function big:\")\n",
    "\n",
    "console.log(big(1))\n",
    "console.log(big(25))\n",
    "console.log(big(11))\n",
    "console.log(big(12))"
   ]
  },
  {
   "cell_type": "markdown",
   "metadata": {},
   "source": [
    "Currying can be done in numerous ways including multiple curries side by side or nested inside one another"
   ]
  },
  {
   "cell_type": "code",
   "execution_count": 75,
   "metadata": {},
   "outputs": [],
   "source": [
    "var powerSum = (x)=>{\n",
    "    var x;\n",
    "    return (n)=>{\n",
    "        return (m)=>{\n",
    "            return n**x + m**x\n",
    "        }\n",
    "    }\n",
    "}"
   ]
  },
  {
   "cell_type": "code",
   "execution_count": 76,
   "metadata": {},
   "outputs": [],
   "source": [
    "var SumSquares = powerSum(2) "
   ]
  },
  {
   "cell_type": "code",
   "execution_count": 79,
   "metadata": {},
   "outputs": [
    {
     "name": "stdout",
     "output_type": "stream",
     "text": [
      "13\n",
      "13\n"
     ]
    }
   ],
   "source": [
    "console.log(powerSum(2)(2)(3))\n",
    "\n",
    "console.log(SumSquares(2)(3))"
   ]
  },
  {
   "cell_type": "markdown",
   "metadata": {},
   "source": [
    "## The bind Function\n",
    "\n",
    "The bind function can be used to create a new function from an existing one by reducing and predefining its parameters.\n",
    "\n",
    "The first parameter is usually the keyword this or the name of the object/function bind is being applied to"
   ]
  },
  {
   "cell_type": "code",
   "execution_count": 13,
   "metadata": {},
   "outputs": [],
   "source": [
    "var power = function(a) {\n",
    "    var a;\n",
    "    return (b)=>b**a\n",
    "}"
   ]
  },
  {
   "cell_type": "code",
   "execution_count": 14,
   "metadata": {},
   "outputs": [],
   "source": [
    "var square = power(2)"
   ]
  },
  {
   "cell_type": "code",
   "execution_count": 15,
   "metadata": {},
   "outputs": [],
   "source": [
    "\n",
    "var sumOfSquares = (n, m)=>{\n",
    "    var n;\n",
    "    return square(n)+square(m)\n",
    "}"
   ]
  },
  {
   "cell_type": "code",
   "execution_count": 97,
   "metadata": {},
   "outputs": [
    {
     "name": "stdout",
     "output_type": "stream",
     "text": [
      "8\n",
      "13\n",
      "13\n",
      "13\n"
     ]
    }
   ],
   "source": [
    "var squarePlusFour = sumOfSquares.bind(sumOfSquares, 2)\n",
    "\n",
    "console.log(squarePlusFour(2))\n",
    "console.log(squarePlusFour(3))\n",
    "console.log(squarePlusFour.call(this, 3))\n",
    "console.log(squarePlusFour.apply(this, [3]))"
   ]
  },
  {
   "cell_type": "code",
   "execution_count": 28,
   "metadata": {},
   "outputs": [],
   "source": [
    "function powerSum2(a, b, c) {\n",
    "    return b**a + c**a\n",
    "}"
   ]
  },
  {
   "cell_type": "code",
   "execution_count": 31,
   "metadata": {},
   "outputs": [
    {
     "name": "stdout",
     "output_type": "stream",
     "text": [
      "16\n",
      "35\n",
      "54\n",
      "189\n"
     ]
    }
   ],
   "source": [
    "var sumOfCubes = powerSum2.bind(this, 3)\n",
    "\n",
    "console.log(sumOfCubes(2,2))\n",
    "console.log(sumOfCubes(2,3))\n",
    "console.log(sumOfCubes(3,3))\n",
    "console.log(sumOfCubes(4,5))"
   ]
  },
  {
   "cell_type": "markdown",
   "metadata": {},
   "source": [
    "The bind function can be used in combination with curries"
   ]
  },
  {
   "cell_type": "code",
   "execution_count": 35,
   "metadata": {},
   "outputs": [
    {
     "name": "stdout",
     "output_type": "stream",
     "text": [
      "18\n"
     ]
    }
   ],
   "source": [
    "function powerSum3(a, b) {\n",
    "    var a;\n",
    "    return (c)=>{\n",
    "        return b**a + c**a\n",
    "    }\n",
    "}\n",
    "\n",
    "console.log(powerSum3(2,3)(3))"
   ]
  },
  {
   "cell_type": "code",
   "execution_count": 38,
   "metadata": {},
   "outputs": [],
   "source": [
    "var squareSum2 = powerSum3.bind(this, 2)"
   ]
  },
  {
   "cell_type": "code",
   "execution_count": 90,
   "metadata": {},
   "outputs": [
    {
     "name": "stdout",
     "output_type": "stream",
     "text": [
      "8\n",
      "13\n",
      "20\n",
      "29\n"
     ]
    }
   ],
   "source": [
    "console.log(squareSum2(2)(2))\n",
    "console.log(squareSum2(2)(3))\n",
    "console.log(squareSum2(2)(4))\n",
    "console.log(squareSum2(2)(5))"
   ]
  },
  {
   "cell_type": "code",
   "execution_count": 92,
   "metadata": {},
   "outputs": [],
   "source": [
    "var squareSum3 = powerSum3.bind(this, 3)"
   ]
  },
  {
   "cell_type": "code",
   "execution_count": 94,
   "metadata": {},
   "outputs": [
    {
     "name": "stdout",
     "output_type": "stream",
     "text": [
      "16\n",
      "35\n",
      "72\n",
      "133\n"
     ]
    }
   ],
   "source": [
    "console.log(squareSum3(2)(2))\n",
    "console.log(squareSum3(2)(3))\n",
    "console.log(squareSum3(2)(4))\n",
    "console.log(squareSum3(2)(5))"
   ]
  },
  {
   "cell_type": "markdown",
   "metadata": {},
   "source": [
    "## The call Function\n",
    "\n",
    "The call function runs the function it is being applied to with the arguments provided as the functions input parameters. \n",
    "\n",
    "The first parameter must always be the object/function being called or the this Keyword"
   ]
  },
  {
   "cell_type": "code",
   "execution_count": 91,
   "metadata": {},
   "outputs": [],
   "source": [
    "function addThreeNums(a, b, c) {\n",
    "    return a + b + c\n",
    "}"
   ]
  },
  {
   "cell_type": "code",
   "execution_count": 98,
   "metadata": {},
   "outputs": [
    {
     "name": "stdout",
     "output_type": "stream",
     "text": [
      "addThreeNums ran normally:\t\t\t\t\t 18\n",
      "addThreeNums ran through the call function:\t\t\t 18\n",
      "addThreeNums ran through the call function without this:\t 18\n"
     ]
    }
   ],
   "source": [
    "x = addThreeNums(5, 6, 7)\n",
    "y = addThreeNums.call(this, 5, 6 , 7)\n",
    "z = addThreeNums.call(addThreeNums, 5, 6 , 7)\n",
    "\n",
    "console.log(\"addThreeNums ran normally:\\t\\t\\t\\t\\t\", x)\n",
    "console.log(\"addThreeNums ran through the call function:\\t\\t\\t\", y)\n",
    "console.log(\"addThreeNums ran through the call function without this:\\t\", z)"
   ]
  },
  {
   "cell_type": "code",
   "execution_count": 99,
   "metadata": {},
   "outputs": [
    {
     "name": "stdout",
     "output_type": "stream",
     "text": [
      "hello from the call function\n"
     ]
    }
   ],
   "source": [
    "console.log.call(this, \"hello from the call function\")"
   ]
  },
  {
   "cell_type": "markdown",
   "metadata": {},
   "source": [
    "## The apply Function\n",
    "\n",
    "The apply function works in the same way the call function does, it just applies all of the elements of a supplied array as the functions input parameters"
   ]
  },
  {
   "cell_type": "code",
   "execution_count": 100,
   "metadata": {},
   "outputs": [],
   "source": [
    "function addFourNums(a, b, c, d) {\n",
    "    return a + b + c + d\n",
    "}"
   ]
  },
  {
   "cell_type": "code",
   "execution_count": 101,
   "metadata": {},
   "outputs": [
    {
     "name": "stdout",
     "output_type": "stream",
     "text": [
      "addThreeNums ran normally:\t\t\t\t\t 34\n",
      "addThreeNums ran through the apply function:\t\t\t 34\n",
      "addThreeNums ran through the apply function without this:\t 34\n"
     ]
    }
   ],
   "source": [
    "var ar = [7, 8, 9, 10]\n",
    "\n",
    "var i = addFourNums(7, 8, 9, 10)\n",
    "var j = addFourNums.apply(this, ar)\n",
    "var k = addFourNums.apply(addFourNums, [7, 8, 9, 10])\n",
    "\n",
    "console.log(\"addThreeNums ran normally:\\t\\t\\t\\t\\t\", i)\n",
    "console.log(\"addThreeNums ran through the apply function:\\t\\t\\t\", j)\n",
    "console.log(\"addThreeNums ran through the apply function without this:\\t\", k)"
   ]
  },
  {
   "cell_type": "code",
   "execution_count": 106,
   "metadata": {},
   "outputs": [
    {
     "name": "stdout",
     "output_type": "stream",
     "text": [
      "Hello world! This is an array that is printed directly using the apply function\n"
     ]
    }
   ],
   "source": [
    "var greeting = [\"Hello world!\", \"This is an array\", \"that is printed directly using the apply function\"]\n",
    "\n",
    "console.log.apply(this, greeting)"
   ]
  },
  {
   "cell_type": "markdown",
   "metadata": {},
   "source": [
    "## The forEach Function\n",
    "\n",
    "This function creates the functional equivalent of a for-loop that can take up to 3 parameters "
   ]
  },
  {
   "cell_type": "code",
   "execution_count": 29,
   "metadata": {},
   "outputs": [
    {
     "name": "stdout",
     "output_type": "stream",
     "text": [
      "1\n",
      "2\n",
      "3\n",
      "4\n",
      "5\n"
     ]
    }
   ],
   "source": [
    "var y = [1,2,3,4,5]\n",
    "for (x of y) {\n",
    "    console.log(x)\n",
    "}"
   ]
  },
  {
   "cell_type": "code",
   "execution_count": 30,
   "metadata": {},
   "outputs": [
    {
     "name": "stdout",
     "output_type": "stream",
     "text": [
      "1\n",
      "2\n",
      "3\n",
      "4\n",
      "5\n"
     ]
    }
   ],
   "source": [
    "y.forEach((x)=>console.log(x))"
   ]
  },
  {
   "cell_type": "code",
   "execution_count": 78,
   "metadata": {},
   "outputs": [
    {
     "name": "stdout",
     "output_type": "stream",
     "text": [
      "[ [ 0, 1 ], [ 1, 2 ], [ 2, 3 ], [ 3, 4 ], [ 4, 5 ] ]\n"
     ]
    }
   ],
   "source": [
    "var z = []\n",
    "y.forEach((x, i)=>{z.push([i,x])})\n",
    "console.log(z)"
   ]
  },
  {
   "cell_type": "code",
   "execution_count": 85,
   "metadata": {},
   "outputs": [
    {
     "name": "stdout",
     "output_type": "stream",
     "text": [
      "index:  0\n",
      "element:  1\n",
      "array:  [ 1, 2, 3, 4, 5 ]\n",
      "index:  1\n",
      "element:  2\n",
      "array:  [ 1, 2, 3, 4, 5 ]\n",
      "index:  2\n",
      "element:  3\n",
      "array:  [ 1, 2, 3, 4, 5 ]\n",
      "index:  3\n",
      "element:  4\n",
      "array:  [ 1, 2, 3, 4, 5 ]\n",
      "index:  4\n",
      "element:  5\n",
      "array:  [ 1, 2, 3, 4, 5 ]\n"
     ]
    }
   ],
   "source": [
    "var ran = y.forEach((x, i, k)=>{\n",
    "    console.log(\"index: \", i)\n",
    "    console.log(\"element: \", x)\n",
    "    console.log(\"array: \", k)\n",
    "},true)"
   ]
  },
  {
   "cell_type": "code",
   "execution_count": 86,
   "metadata": {},
   "outputs": [
    {
     "name": "stdout",
     "output_type": "stream",
     "text": [
      "[ 2, 4, 6, 8, 10 ]\n"
     ]
    }
   ],
   "source": [
    "y.forEach((n, i, j)=>{\n",
    "    j[i] = 2*n\n",
    "})\n",
    "\n",
    "console.log(y)"
   ]
  },
  {
   "cell_type": "markdown",
   "metadata": {},
   "source": [
    "## The compose Function\n",
    "\n",
    "Function composition in programming is conceptually the same as function composition in mathematics\n",
    "\n",
    "When given 2 functions, F and G, the function G can be evaluated to the input value of x forming G(x)\n",
    "\n",
    "The output of G can then stand as the input of F forming F(G(x))\n",
    "\n",
    "This is not a built-in function but can be created fairly easily"
   ]
  },
  {
   "cell_type": "code",
   "execution_count": 8,
   "metadata": {},
   "outputs": [],
   "source": [
    "\n",
    "function compose(func1, func2) {\n",
    "    return (x)=>{\n",
    "        return func1(func2(x))\n",
    "    }\n",
    "}\n",
    "\n",
    "function f(x) {\n",
    "    return x+5\n",
    "}\n",
    "\n",
    "function g(x) {\n",
    "    return x*2\n",
    "}"
   ]
  },
  {
   "cell_type": "code",
   "execution_count": 9,
   "metadata": {},
   "outputs": [],
   "source": [
    "var comp = compose(f, g)"
   ]
  },
  {
   "cell_type": "code",
   "execution_count": 12,
   "metadata": {},
   "outputs": [
    {
     "name": "stdout",
     "output_type": "stream",
     "text": [
      "7\n",
      "9\n",
      "29\n",
      "55\n"
     ]
    }
   ],
   "source": [
    "console.log(comp(1))\n",
    "console.log(comp(2))\n",
    "console.log(comp(12))\n",
    "console.log(comp(25))"
   ]
  },
  {
   "cell_type": "code",
   "execution_count": 14,
   "metadata": {},
   "outputs": [],
   "source": [
    "var comp2 = compose(g, f)"
   ]
  },
  {
   "cell_type": "code",
   "execution_count": 15,
   "metadata": {
    "scrolled": true
   },
   "outputs": [
    {
     "name": "stdout",
     "output_type": "stream",
     "text": [
      "12\n",
      "14\n",
      "34\n",
      "60\n"
     ]
    }
   ],
   "source": [
    "console.log(comp2(1))\n",
    "console.log(comp2(2))\n",
    "console.log(comp2(12))\n",
    "console.log(comp2(25))"
   ]
  },
  {
   "cell_type": "markdown",
   "metadata": {},
   "source": [
    "## Deep Copy using the map Function"
   ]
  },
  {
   "cell_type": "code",
   "execution_count": 17,
   "metadata": {},
   "outputs": [
    {
     "name": "stdout",
     "output_type": "stream",
     "text": [
      "[ 'hello', 'Hola', 'Nichi' ]\n",
      "[ 'hello', 'Hola', 'Nichi' ]\n"
     ]
    }
   ],
   "source": [
    "var hi = [\"hello\", \"Hola\", \"Banwa\"]\n",
    "\n",
    "var hello = hi\n",
    "\n",
    "hello[2] = \"Nichi\"\n",
    "\n",
    "console.log(hi)\n",
    "console.log(hello)"
   ]
  },
  {
   "cell_type": "code",
   "execution_count": 18,
   "metadata": {},
   "outputs": [
    {
     "name": "stdout",
     "output_type": "stream",
     "text": [
      "[ 'hello', 'Hola', 'Nichi' ]\n",
      "[ 'hello', 'hello guy', 'Nichi' ]\n"
     ]
    }
   ],
   "source": [
    "var hello2 = hi.map((a)=>a)\n",
    "\n",
    "hello2[1] = \"hello guy\"\n",
    "\n",
    "console.log(hi)\n",
    "console.log(hello2)"
   ]
  },
  {
   "cell_type": "markdown",
   "metadata": {},
   "source": [
    "Sometimes a map copy will still handle individual elements by reference to the parent array. An easy way around this is to slice elements after they have been mapped"
   ]
  },
  {
   "cell_type": "code",
   "execution_count": 107,
   "metadata": {},
   "outputs": [
    {
     "name": "stdout",
     "output_type": "stream",
     "text": [
      "[ 'hello', 'Hola', 'Nichi' ]\n",
      "[ 'hello', 'Hola', 'Moshi' ]\n"
     ]
    }
   ],
   "source": [
    "var hello3 = hi.map((x)=>x.slice())\n",
    "\n",
    "hello3[2] = \"Moshi\"\n",
    "\n",
    "console.log(hi)\n",
    "console.log(hello3)"
   ]
  },
  {
   "cell_type": "markdown",
   "metadata": {},
   "source": [
    "## Method Chaining\n",
    "\n",
    "Chaining methods is a very common technique used in numerous libraries and frameworks and in conventional javascript code.\n",
    "\n",
    "The first time you see one of these they are hard to understand but once you become more familiar with javascript it greatly clarifies how a program works"
   ]
  },
  {
   "cell_type": "code",
   "execution_count": 65,
   "metadata": {},
   "outputs": [],
   "source": [
    "var j = [1,2,3,4,5,6,7,8,9,10]"
   ]
  },
  {
   "cell_type": "code",
   "execution_count": 55,
   "metadata": {},
   "outputs": [
    {
     "name": "stdout",
     "output_type": "stream",
     "text": [
      "The new value at index 0 :\t 4\n",
      "The new value at index 1 :\t 16\n",
      "The new value at index 2 :\t 36\n",
      "The new value at index 3 :\t 64\n",
      "The new value at index 4 :\t 100\n"
     ]
    }
   ],
   "source": [
    "j.map((a)=>a**2)\n",
    "    .filter((a)=>a%2==0)\n",
    "    .forEach((c, i)=>{console.log(\"The new value at index\", i, \":\\t\", c)})"
   ]
  },
  {
   "cell_type": "code",
   "execution_count": 88,
   "metadata": {},
   "outputs": [],
   "source": [
    "var j = [1,2,3,4,5,6,7,8,9,10]\n",
    "\n",
    "var z = j.map((a)=>a+1)\n",
    "            .filter((b)=>{return b-2 < 5})\n",
    "            .map((c)=>c**2)\n",
    "            .toString()\n",
    "\n",
    "\n",
    "var z = [z].map((a)=>\"And here is the result: \" + a)"
   ]
  },
  {
   "cell_type": "code",
   "execution_count": 90,
   "metadata": {},
   "outputs": [
    {
     "name": "stdout",
     "output_type": "stream",
     "text": [
      "And here is the result: 4,9,16,25,36\n"
     ]
    }
   ],
   "source": [
    "console.log.apply(this, z)"
   ]
  },
  {
   "cell_type": "code",
   "execution_count": null,
   "metadata": {},
   "outputs": [],
   "source": []
  }
 ],
 "metadata": {
  "kernelspec": {
   "display_name": "Javascript (Node.js)",
   "language": "javascript",
   "name": "javascript"
  },
  "language_info": {
   "file_extension": ".js",
   "mimetype": "application/javascript",
   "name": "javascript",
   "version": "12.13.0"
  }
 },
 "nbformat": 4,
 "nbformat_minor": 2
}
