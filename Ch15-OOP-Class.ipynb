{
 "cells": [
  {
   "cell_type": "markdown",
   "metadata": {},
   "source": [
    "# Object Oriented Programming (OOP)\n",
    "\n",
    "https://developer.mozilla.org/en-US/docs/Web/JavaScript/Reference/Classes\n",
    "- we've been using procedural programming paradigm; focus on functions/procedures\n",
    "- OOP paradigm is best used in large and complex modern software systems which make it easy to maintain and improve over time\n",
    "- focus is on creation of objects which contain both data and functionality together under one name\n",
    "- typically, each class definition corresponds to some object or concept in the real world with some attributes/properties that maintain its state; and the functions/methods correspond to the ways real-world objects interact\n",
    "- Object or dictionary data structure {} allowed us to create Objects\n",
    "- ES6 allows us to create objects using class similar to other programming languages such as C++, Java, and Python"
   ]
  },
  {
   "cell_type": "markdown",
   "metadata": {},
   "source": [
    "## class\n",
    "- class keyword lets programmers define their own compound data types\n",
    "- class is like blueprint or template that lets us generate many instances/objects of that class\n",
    "- each instance of the that class is called object\n",
    "\n",
    "```javascript\n",
    "class className {\n",
    "    /*\n",
    "        properties and actions or methods\n",
    "    */\n",
    "}\n",
    "```"
   ]
  },
  {
   "cell_type": "markdown",
   "metadata": {},
   "source": [
    "### example: car class \n",
    "- that'll help us represent many instances of car objects"
   ]
  },
  {
   "cell_type": "code",
   "execution_count": 1,
   "metadata": {},
   "outputs": [],
   "source": [
    "class Car {\n",
    "}"
   ]
  },
  {
   "cell_type": "code",
   "execution_count": 3,
   "metadata": {},
   "outputs": [
    {
     "name": "stdout",
     "output_type": "stream",
     "text": [
      "object\n"
     ]
    }
   ],
   "source": [
    "// use new operator to create a new instance of a class\n",
    "var myTesla = new Car();\n",
    "console.log(typeof myTesla);"
   ]
  },
  {
   "cell_type": "code",
   "execution_count": 4,
   "metadata": {},
   "outputs": [
    {
     "name": "stdout",
     "output_type": "stream",
     "text": [
      "function\n"
     ]
    }
   ],
   "source": [
    "// what is the type of Car\n",
    "console.log(typeof Car);"
   ]
  },
  {
   "cell_type": "code",
   "execution_count": 5,
   "metadata": {},
   "outputs": [
    {
     "name": "stdout",
     "output_type": "stream",
     "text": [
      "true\n"
     ]
    }
   ],
   "source": [
    "// is myTesla instanceof Car?\n",
    "console.log(myTesla instanceof Car)"
   ]
  },
  {
   "cell_type": "markdown",
   "metadata": {},
   "source": [
    "## properties and methods\n",
    "- data or values that represent a class are called properties\n",
    "- operations or functions that manipulate properties are called methods\n",
    "- use this keyword to access properties and methods inside class\n",
    "- constructor is a special method/function that gets called automatically when we create an instance from the class\n",
    "- getter methods are used to get properties\n",
    "- setter methods are used to set properties\n",
    "- after initilization in constructor, getter and setter help us do do data validation\n",
    "\n",
    "### public and private access specifiers\n",
    "- experimental as of version ES6\n",
    "- https://developer.mozilla.org/en-US/docs/Web/JavaScript/Reference/Classes"
   ]
  },
  {
   "cell_type": "code",
   "execution_count": 6,
   "metadata": {},
   "outputs": [],
   "source": [
    "// definition of Person class\n",
    "class Person {\n",
    "    constructor(id, fName, lName) {\n",
    "        this._id = id;\n",
    "        this._fName = fName;\n",
    "        this._lName = lName;\n",
    "        this._DOB = \"\";\n",
    "        this._address = \"\";\n",
    "    }\n",
    "    get name() {\n",
    "        return this._fName + \" \" + this._lName;\n",
    "    }\n",
    "    get id() {\n",
    "        return this._id;\n",
    "    }\n",
    "    set DOB(dob) {\n",
    "        this._DOB = dob;\n",
    "    }\n",
    "    get DOB() {\n",
    "        return this._DOB;\n",
    "    }\n",
    "}"
   ]
  },
  {
   "cell_type": "code",
   "execution_count": 7,
   "metadata": {},
   "outputs": [
    {
     "name": "stdout",
     "output_type": "stream",
     "text": [
      "John Doe\n"
     ]
    }
   ],
   "source": [
    "// when creating a new object, use constructor function's prototype\n",
    "var player = new Person(1, \"John\", \"Doe\"); // intiantiate a player object \n",
    "console.log(player.name)"
   ]
  },
  {
   "cell_type": "code",
   "execution_count": 8,
   "metadata": {},
   "outputs": [
    {
     "name": "stdout",
     "output_type": "stream",
     "text": [
      "Person {\n",
      "  _id: 1,\n",
      "  _fName: 'John',\n",
      "  _lName: 'Doe',\n",
      "  _DOB: '1/1/1990',\n",
      "  _address: '' }\n"
     ]
    }
   ],
   "source": [
    "// use setter DOB; value on the right is used as argument to setter method\n",
    "player.DOB = \"1/1/1990\"\n",
    "console.log(player)"
   ]
  },
  {
   "cell_type": "code",
   "execution_count": 9,
   "metadata": {},
   "outputs": [
    {
     "data": {
      "text/plain": [
       "'1/1/1990'"
      ]
     },
     "execution_count": 9,
     "metadata": {},
     "output_type": "execute_result"
    }
   ],
   "source": [
    "// use getter DOB\n",
    "player.DOB;"
   ]
  },
  {
   "cell_type": "markdown",
   "metadata": {},
   "source": [
    "### exercise: define a class to represent rectangle, implement area and perimeter method"
   ]
  },
  {
   "cell_type": "code",
   "execution_count": null,
   "metadata": {},
   "outputs": [],
   "source": [
    "// Practice it!"
   ]
  },
  {
   "cell_type": "markdown",
   "metadata": {},
   "source": [
    "## inheritance - sub classing\n",
    "- use extends keyword in class declarations to create a class as a child of another class"
   ]
  },
  {
   "cell_type": "code",
   "execution_count": 10,
   "metadata": {},
   "outputs": [],
   "source": [
    "class Animal {\n",
    "    constructor(name) {\n",
    "        this._name = name;\n",
    "    }\n",
    "    speak() {\n",
    "        console.log(this._name + ' makes a noise.');\n",
    "    }\n",
    "}"
   ]
  },
  {
   "cell_type": "code",
   "execution_count": 11,
   "metadata": {},
   "outputs": [],
   "source": [
    "class Cat extends Animal {\n",
    "    constructor(name) {\n",
    "        // must invoke/call parent's constructor\n",
    "        super(name);\n",
    "    }\n",
    "}"
   ]
  },
  {
   "cell_type": "code",
   "execution_count": 12,
   "metadata": {},
   "outputs": [
    {
     "name": "stdout",
     "output_type": "stream",
     "text": [
      "garfield makes a noise.\n"
     ]
    }
   ],
   "source": [
    "var myCat = new Cat('garfield');\n",
    "myCat.speak();"
   ]
  },
  {
   "cell_type": "code",
   "execution_count": 13,
   "metadata": {},
   "outputs": [],
   "source": [
    "class Dog extends Animal {\n",
    "    constructor(name) {\n",
    "        super(name); // call the super class constructor and pass in the name parameter\n",
    "    }\n",
    "    // override inherited speak method\n",
    "    speak() {\n",
    "        console.log(this._name + ' barks.');\n",
    "    }\n",
    "}"
   ]
  },
  {
   "cell_type": "code",
   "execution_count": 14,
   "metadata": {},
   "outputs": [
    {
     "name": "stdout",
     "output_type": "stream",
     "text": [
      "Tintin barks.\n"
     ]
    }
   ],
   "source": [
    "var d = new Dog('Tintin');\n",
    "d.speak();"
   ]
  }
 ],
 "metadata": {
  "kernelspec": {
   "display_name": "Javascript (Node.js)",
   "language": "javascript",
   "name": "javascript"
  },
  "language_info": {
   "file_extension": ".js",
   "mimetype": "application/javascript",
   "name": "javascript",
   "version": "11.14.0"
  }
 },
 "nbformat": 4,
 "nbformat_minor": 2
}
