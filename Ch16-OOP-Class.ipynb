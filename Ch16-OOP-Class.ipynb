{
 "cells": [
  {
   "cell_type": "markdown",
   "metadata": {},
   "source": [
    "# Object Oriented Programming (OOP)\n",
    "\n",
    "https://developer.mozilla.org/en-US/docs/Web/JavaScript/Reference/Classes\n",
    "- we've been using procedural programming paradigm; focus on functions/procedures\n",
    "- OOP paradigm is best used in large and complex modern software systems\n",
    "    - OOD (Object Oriented Design) makes it easy to maintain and improve software over time\n",
    "- focus is on creation of objects which contain both data and functionality together under one name\n",
    "- typically, each class definition corresponds to some object or concept in the real world with some attributes/properties that maintain its state; and the functions/methods correspond to the ways real-world objects interact\n",
    "- Object or dictionary data structure `{ }` allowed us to create Objects\n",
    "- ES6 allows us to create objects using `class` keyword similar to other programming languages such as C++, Java, and Python"
   ]
  },
  {
   "cell_type": "markdown",
   "metadata": {},
   "source": [
    "## class\n",
    "- class keyword lets programmers define their own compound data types\n",
    "    - collection of fundamental and user-defined data types and relevant methods to work with the data\n",
    "- class is like blueprint or template that lets us generate many instances/objects of that class\n",
    "- each instance of the that class is called object\n",
    "\n",
    "```javascript\n",
    "class className {\n",
    "    /*\n",
    "        properties and actions or methods\n",
    "    */\n",
    "}\n",
    "```"
   ]
  },
  {
   "cell_type": "markdown",
   "metadata": {},
   "source": [
    "### a simple Car class \n",
    "- Car class helps us represent many instances of car objects\n",
    "- not very useful as it's lacking any data/attributes or methods"
   ]
  },
  {
   "cell_type": "code",
   "execution_count": 1,
   "metadata": {},
   "outputs": [],
   "source": [
    "class Car {}"
   ]
  },
  {
   "cell_type": "code",
   "execution_count": 2,
   "metadata": {},
   "outputs": [],
   "source": [
    "// use new operator to create a new instance of a class\n",
    "var myTesla = new Car();"
   ]
  },
  {
   "cell_type": "code",
   "execution_count": 3,
   "metadata": {},
   "outputs": [
    {
     "data": {
      "text/plain": [
       "'object'"
      ]
     },
     "execution_count": 3,
     "metadata": {},
     "output_type": "execute_result"
    }
   ],
   "source": [
    "typeof myTesla;"
   ]
  },
  {
   "cell_type": "code",
   "execution_count": 4,
   "metadata": {},
   "outputs": [
    {
     "data": {
      "text/plain": [
       "'function'"
      ]
     },
     "execution_count": 4,
     "metadata": {},
     "output_type": "execute_result"
    }
   ],
   "source": [
    "// what is the type of Car\n",
    "typeof Car;"
   ]
  },
  {
   "cell_type": "code",
   "execution_count": 5,
   "metadata": {},
   "outputs": [
    {
     "data": {
      "text/plain": [
       "true"
      ]
     },
     "execution_count": 5,
     "metadata": {},
     "output_type": "execute_result"
    }
   ],
   "source": [
    "// is myTesla instanceof Car?\n",
    "myTesla instanceof Car"
   ]
  },
  {
   "cell_type": "markdown",
   "metadata": {},
   "source": [
    "## properties and methods\n",
    "- data or values that represent a class are called properties\n",
    "- operations or functions that manipulate properties are called methods\n",
    "- use this keyword to access properties and methods inside class\n",
    "- constructor is a special method/function that gets called automatically when we create an instance from the class\n",
    "- getter methods are used to get properties\n",
    "    - getter methods must be used as properties but not as functions\n",
    "- setter methods are used to set properties\n",
    "- after initilization in constructor, getter and setter help us do data validation\n",
    "- NOTE: must define methods without `function` keyword\n",
    "\n",
    "### public and private access specifiers\n",
    "- experimental as of version ES6\n",
    "- https://developer.mozilla.org/en-US/docs/Web/JavaScript/Reference/Classes"
   ]
  },
  {
   "cell_type": "code",
   "execution_count": 1,
   "metadata": {},
   "outputs": [],
   "source": [
    "// definition of Person class\n",
    "class Person {\n",
    "    constructor(id, fName, lName) {\n",
    "        this._id = id;\n",
    "        this._fName = fName;\n",
    "        this._lName = lName;\n",
    "        this._DOB = \"\";\n",
    "        this._address = \"\";\n",
    "    }\n",
    "    \n",
    "    get name() {\n",
    "        return this._fName + \" \" + this._lName;\n",
    "    }\n",
    "    \n",
    "    get id() {\n",
    "        return this._id;\n",
    "    }\n",
    "    \n",
    "    set DOB(dob) {\n",
    "        this._DOB = dob;\n",
    "    }\n",
    "    \n",
    "    get DOB() {\n",
    "        return this._DOB;\n",
    "    }\n",
    "    \n",
    "    introduce() {\n",
    "        console.log(`Hello! my name is ${this.name}.`)\n",
    "    }\n",
    "}"
   ]
  },
  {
   "cell_type": "code",
   "execution_count": 2,
   "metadata": {},
   "outputs": [],
   "source": [
    "// when creating a new object, use constructor's prototype\n",
    "var player = new Person(1, \"John\", \"Doe\"); // intiantiate a player object "
   ]
  },
  {
   "cell_type": "code",
   "execution_count": 3,
   "metadata": {},
   "outputs": [
    {
     "name": "stdout",
     "output_type": "stream",
     "text": [
      "John Doe\n"
     ]
    }
   ],
   "source": [
    "// invoke getter\n",
    "console.log(player.name);"
   ]
  },
  {
   "cell_type": "code",
   "execution_count": 4,
   "metadata": {},
   "outputs": [
    {
     "name": "stdout",
     "output_type": "stream",
     "text": [
      "Hello! my name is John Doe.\n"
     ]
    }
   ],
   "source": [
    "// invoke method\n",
    "player.introduce();"
   ]
  },
  {
   "cell_type": "code",
   "execution_count": 5,
   "metadata": {},
   "outputs": [
    {
     "data": {
      "text/plain": [
       "'1/1/1990'"
      ]
     },
     "execution_count": 5,
     "metadata": {},
     "output_type": "execute_result"
    }
   ],
   "source": [
    "// use setter DOB; value on the right is used as argument to setter method\n",
    "player.DOB = \"1/1/1990\";"
   ]
  },
  {
   "cell_type": "code",
   "execution_count": 6,
   "metadata": {},
   "outputs": [
    {
     "data": {
      "text/plain": [
       "Person {\n",
       "  _id: 1,\n",
       "  _fName: 'John',\n",
       "  _lName: 'Doe',\n",
       "  _DOB: '1/1/1990',\n",
       "  _address: '' }"
      ]
     },
     "execution_count": 6,
     "metadata": {},
     "output_type": "execute_result"
    }
   ],
   "source": [
    "player"
   ]
  },
  {
   "cell_type": "code",
   "execution_count": 7,
   "metadata": {},
   "outputs": [
    {
     "data": {
      "text/plain": [
       "'1/1/1990'"
      ]
     },
     "execution_count": 7,
     "metadata": {},
     "output_type": "execute_result"
    }
   ],
   "source": [
    "// use getter DOB\n",
    "player.DOB;"
   ]
  },
  {
   "cell_type": "code",
   "execution_count": 8,
   "metadata": {},
   "outputs": [],
   "source": [
    "var richestMan = new Person(2, \"Elon\", \"Musk\");"
   ]
  },
  {
   "cell_type": "code",
   "execution_count": 9,
   "metadata": {},
   "outputs": [
    {
     "data": {
      "text/plain": [
       "Person { _id: 2, _fName: 'Elon', _lName: 'Musk', _DOB: '', _address: '' }"
      ]
     },
     "execution_count": 9,
     "metadata": {},
     "output_type": "execute_result"
    }
   ],
   "source": [
    "richestMan"
   ]
  },
  {
   "cell_type": "markdown",
   "metadata": {},
   "source": [
    "### exercise: define a class to represent rectangle, implement area and perimeter method"
   ]
  },
  {
   "cell_type": "code",
   "execution_count": null,
   "metadata": {},
   "outputs": [],
   "source": [
    "// Practice it!"
   ]
  },
  {
   "cell_type": "markdown",
   "metadata": {},
   "source": [
    "## inheritance - sub classing\n",
    "![](./resources/inheritance.png)\n",
    "- use `extends` keyword in class declaration to create a class as a child of another class\n",
    "- use `super()` in child's constructor to call parent's constructor and inherit the parent's properties"
   ]
  },
  {
   "cell_type": "code",
   "execution_count": 10,
   "metadata": {},
   "outputs": [],
   "source": [
    "class Animal {\n",
    "    constructor(name) {\n",
    "        this._name = name;\n",
    "    }\n",
    "    \n",
    "    speak() {\n",
    "        console.log(this._name + ' makes a noise.');\n",
    "    }\n",
    "}"
   ]
  },
  {
   "cell_type": "code",
   "execution_count": 11,
   "metadata": {},
   "outputs": [],
   "source": [
    "class Cat extends Animal {\n",
    "    constructor(name) {\n",
    "        // must invoke/call parent's constructor\n",
    "        super(name);\n",
    "        // _name and speak() are inherited\n",
    "    }\n",
    "}"
   ]
  },
  {
   "cell_type": "code",
   "execution_count": 12,
   "metadata": {},
   "outputs": [],
   "source": [
    "var myCat = new Cat('garfield');"
   ]
  },
  {
   "cell_type": "code",
   "execution_count": 13,
   "metadata": {},
   "outputs": [
    {
     "name": "stdout",
     "output_type": "stream",
     "text": [
      "garfield makes a noise.\n"
     ]
    }
   ],
   "source": [
    "// invoke parent's inherited speak method\n",
    "myCat.speak();"
   ]
  },
  {
   "cell_type": "code",
   "execution_count": 14,
   "metadata": {},
   "outputs": [],
   "source": [
    "class Dog extends Animal {\n",
    "    constructor(name) {\n",
    "        super(name); // call the super class constructor and pass in the name parameter\n",
    "    }\n",
    "    // override inherited speak method\n",
    "    speak() {\n",
    "        console.log(`${this._name} barks.`);\n",
    "    }\n",
    "}"
   ]
  },
  {
   "cell_type": "code",
   "execution_count": 15,
   "metadata": {},
   "outputs": [],
   "source": [
    "var d = new Dog('Tintin');"
   ]
  },
  {
   "cell_type": "code",
   "execution_count": 16,
   "metadata": {},
   "outputs": [
    {
     "name": "stdout",
     "output_type": "stream",
     "text": [
      "Tintin barks.\n"
     ]
    }
   ],
   "source": [
    "// invoke overriden speak method\n",
    "d.speak();"
   ]
  },
  {
   "cell_type": "markdown",
   "metadata": {},
   "source": [
    "## Static methods and properties\n",
    "- `static` keyword defines static methor or property for a class\n",
    "- static members are called class members that are called without instantiating their class and **cannot** be called through a class instance\n",
    "- static methods are ofent used to create utility functions\n",
    "- static properties are useful for caches, fixed-configuration, or any other data you don't need to be replicated across instances\n",
    "- https://developer.mozilla.org/en-US/docs/Web/JavaScript/Reference/Classes#static_methods_and_properties"
   ]
  },
  {
   "cell_type": "code",
   "execution_count": 1,
   "metadata": {},
   "outputs": [],
   "source": [
    "class Point {\n",
    "\n",
    "  constructor(x, y) {\n",
    "    this.x = x;\n",
    "    this.y = y;\n",
    "  }\n",
    "\n",
    "  // displayName = \"Point\"; // static variable is not working!\n",
    "  static distance(a, b) {\n",
    "    const dx = a.x - b.x;\n",
    "    const dy = a.y - b.y;\n",
    "\n",
    "    return Math.hypot(dx, dy);\n",
    "  }\n",
    "}"
   ]
  },
  {
   "cell_type": "code",
   "execution_count": 2,
   "metadata": {},
   "outputs": [],
   "source": [
    "const p1 = new Point(5, 5);\n",
    "const p2 = new Point(10, 10);"
   ]
  },
  {
   "cell_type": "code",
   "execution_count": 3,
   "metadata": {},
   "outputs": [
    {
     "name": "stdout",
     "output_type": "stream",
     "text": [
      "undefined\n"
     ]
    }
   ],
   "source": [
    "console.log(p1.distance); // undefined"
   ]
  },
  {
   "cell_type": "code",
   "execution_count": 4,
   "metadata": {},
   "outputs": [
    {
     "data": {
      "text/plain": [
       "[Function: distance]"
      ]
     },
     "execution_count": 4,
     "metadata": {},
     "output_type": "execute_result"
    }
   ],
   "source": [
    "Point.distance"
   ]
  },
  {
   "cell_type": "code",
   "execution_count": 5,
   "metadata": {},
   "outputs": [
    {
     "data": {
      "text/plain": [
       "'function'"
      ]
     },
     "execution_count": 5,
     "metadata": {},
     "output_type": "execute_result"
    }
   ],
   "source": [
    "typeof Point.distance"
   ]
  },
  {
   "cell_type": "code",
   "execution_count": 6,
   "metadata": {},
   "outputs": [
    {
     "name": "stdout",
     "output_type": "stream",
     "text": [
      "7.0710678118654755\n"
     ]
    }
   ],
   "source": [
    "console.log(Point.distance(p1, p2)); // 7.0710678118654755"
   ]
  },
  {
   "cell_type": "code",
   "execution_count": null,
   "metadata": {},
   "outputs": [],
   "source": []
  }
 ],
 "metadata": {
  "kernelspec": {
   "display_name": "Javascript (Node.js)",
   "language": "javascript",
   "name": "javascript"
  },
  "language_info": {
   "file_extension": ".js",
   "mimetype": "application/javascript",
   "name": "javascript",
   "version": "10.13.0"
  }
 },
 "nbformat": 4,
 "nbformat_minor": 2
}
