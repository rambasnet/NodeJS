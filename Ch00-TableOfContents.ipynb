{
 "cells": [
  {
   "cell_type": "markdown",
   "metadata": {},
   "source": [
    "# JavaScript and NodeJS\n",
    "\n",
    "## Table of Contents\n",
    "\n",
    "**[01- Introduction](Ch01-JavaScriptIntro.ipynb)**<br>\n",
    "**[02- Data Types and Std Input/Output](Ch02-Output-DataTypes-Variables.ipynb)**<br>\n",
    "**[03- Built-in Functions & NPM](Ch03-Built-inFunctions-NPM.ipynb)**<br>\n",
    "**[04-1 User-defined Functions](Ch04-1-UserDefinedFunctions.ipynb)**<br>\n",
    "**[04-2 Asynchronous Programming](Ch04-2-AsynchronousProgramming.ipynb)**<br>\n",
    "**[05- Numbers & Math Library](Ch05-Numbers-And-Math.ipynb)**<br>\n",
    "**[06- Conditionals](Ch06-Conditionals.ipynb)**<br>\n",
    "**[07- User-defined Modules](Ch07-Modules.ipynb)**<br>\n",
    "**[08- Unit Testing](Ch08-UnitTesting.ipynb)**<br>\n",
    "**[09- Loops](Ch09-Loops.ipynb)**<br>\n",
    "**[11- Strings](Ch10-Strings.ipynb)**<br>\n",
    "**[11- Arrays](Ch11-Arrays.ipynb)**<br>\n",
    "**[12- Object-Dict](Ch12-Object-Dict.ipynb)**<br>\n",
    "**[13- Files](Ch13-Files.ipynb)**<br>\n",
    "**[14- Errors & Exceptions](Ch14-Errors-And-Exceptions.ipynb)**<br>\n",
    "**[15- JSON](Ch15-JSON.ipynb)**<br>\n",
    "**[16- Object Oriented Programming (OOP)](Ch16-OOP-Class.ipynb)**<br>\n",
    "**[17- Regular Expression](Ch17-RegularExpression.ipynb)**<br>\n",
    "**[18- React Intro](Ch18-React.ipynb)**<br>\n",
    "**[19- NodeJS Web Server](Ch19-Node.js-Server.ipynb)**<br>\n",
    "**[20- Express Web Framework & React](Ch20-Express-React.ipynb)**<br>\n",
    "**[21- MongoDB Intro](Ch21-MongoDB.ipynb)**<br>\n",
    "**[22- MERN Stack](Ch22-Mongo-Express-React-Node.ipynb)**<br>\n",
    "**[23- Next.js-React-Fullstack](Ch23-Next-React-Fullstack.ipynb)**<br>\n",
    "\n",
    "## Demo Programs & Scripts\n",
    "\n",
    "### JSDemo\n",
    "- JSDemo folder has JavaScript and NodeJS scripts\n",
    "\n",
    "### ExpressDemo\n",
    "- ExpressDemo folder has a simple express demo app\n",
    "\n",
    "### NodeDemo\n",
    "- NodeDmeo folder has a simple NodeJS server demo app\n",
    "\n",
    "### MongoDemo\n",
    "- MongoDemo folder has example scripts to use MongoDB using NodeJS"
   ]
  },
  {
   "cell_type": "code",
   "execution_count": null,
   "metadata": {},
   "outputs": [],
   "source": []
  }
 ],
 "metadata": {
  "kernelspec": {
   "display_name": "Javascript (Node.js)",
   "language": "javascript",
   "name": "javascript"
  },
  "language_info": {
   "file_extension": ".js",
   "mimetype": "application/javascript",
   "name": "javascript",
   "version": "15.12.0"
  }
 },
 "nbformat": 4,
 "nbformat_minor": 4
}
