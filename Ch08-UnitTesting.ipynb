{
 "cells": [
  {
   "cell_type": "markdown",
   "metadata": {},
   "source": [
    "# Unit Testing\n",
    "- testing is one of the most important jobs of programmers and quality assurance engineers\n",
    "- unit testing is a type of software white-box testing where individual units or components of a software are tested\n",
    "- unit testing is done during the development/coding phase\n",
    "- unit tests isolate a section of code and verify its correctness\n",
    "- a unit typically is an individual function, method, procedure, module, or object\n",
    "- when testing functions, functions must return value or answer to test\n",
    "- two types:\n",
    "    1. Manual\n",
    "    2. Automated\n",
    "    \n",
    "## Manual Unit Testing\n",
    "- call and manually check the answers for correctness\n",
    "- common method for beginners"
   ]
  },
  {
   "cell_type": "code",
   "execution_count": 1,
   "metadata": {},
   "outputs": [],
   "source": [
    "function sum(a, b) {\n",
    "    return a + b;\n",
    "}"
   ]
  },
  {
   "cell_type": "code",
   "execution_count": 2,
   "metadata": {},
   "outputs": [
    {
     "data": {
      "text/plain": [
       "5"
      ]
     },
     "execution_count": 2,
     "metadata": {},
     "output_type": "execute_result"
    }
   ],
   "source": [
    "sum(2, 3);"
   ]
  },
  {
   "cell_type": "code",
   "execution_count": 3,
   "metadata": {},
   "outputs": [
    {
     "data": {
      "text/plain": [
       "-15"
      ]
     },
     "execution_count": 3,
     "metadata": {},
     "output_type": "execute_result"
    }
   ],
   "source": [
    "sum(-10, -5)"
   ]
  },
  {
   "cell_type": "code",
   "execution_count": 4,
   "metadata": {},
   "outputs": [
    {
     "data": {
      "text/plain": [
       "-95"
      ]
     },
     "execution_count": 4,
     "metadata": {},
     "output_type": "execute_result"
    }
   ],
   "source": [
    "sum(5, -100)"
   ]
  },
  {
   "cell_type": "code",
   "execution_count": 5,
   "metadata": {},
   "outputs": [
    {
     "data": {
      "text/plain": [
       "100"
      ]
     },
     "execution_count": 5,
     "metadata": {},
     "output_type": "execute_result"
    }
   ],
   "source": [
    "sum(100, 0)"
   ]
  },
  {
   "cell_type": "markdown",
   "metadata": {},
   "source": [
    "## Automated Unit Testing\n",
    "- write code to test the unit of code blocks for its correctness\n",
    "- automatically asserting truthiness of values being compared\n",
    "- standard assert module provided by nodejs can be used to do basic automated testing\n",
    "    - however, very basic and doesn't provide any reporting; not used in real-world\n",
    "- Unit Testing frameworks are used that provide lots of features out of the box \n",
    "    - e.g. report all failed and passed test cases\n",
    "    - write test cases for various data type comparisons (float rounding, boolean, etc.)\n",
    "\n",
    "## basic unit testing - assert\n",
    "- https://nodejs.org/api/assert.html\n",
    "- when assert is true, it doesn't display any output (assert pass!)\n",
    "- when assert is false, it throws an exception (assert fail!)\n",
    "- see `JSDemo/unittest/functions.js` for more example\n"
   ]
  },
  {
   "cell_type": "code",
   "execution_count": 6,
   "metadata": {},
   "outputs": [],
   "source": [
    "const assert = require('assert').strict;"
   ]
  },
  {
   "cell_type": "code",
   "execution_count": 8,
   "metadata": {},
   "outputs": [
    {
     "ename": "AssertionError [ERR_ASSERTION]",
     "evalue": "2+3 NOT equal to 5!",
     "output_type": "error",
     "traceback": [
      "assert.js:85",
      "  throw new AssertionError(obj);",
      "  ^",
      "",
      "AssertionError [ERR_ASSERTION]: 2+3 NOT equal to 5!",
      "    at evalmachine.<anonymous>:1:8",
      "    at Script.runInThisContext (vm.js:96:20)",
      "    at Object.runInThisContext (vm.js:303:38)",
      "    at run ([eval]:1054:15)",
      "    at onRunRequest ([eval]:888:18)",
      "    at onMessage ([eval]:848:13)",
      "    at process.emit (events.js:182:13)",
      "    at emit (internal/child_process.js:812:12)",
      "    at process._tickCallback (internal/process/next_tick.js:63:19)"
     ]
    }
   ],
   "source": [
    "assert.strictEqual(sum(2, 3), 6, '2+3 NOT equal to 5!')"
   ]
  },
  {
   "cell_type": "code",
   "execution_count": 10,
   "metadata": {},
   "outputs": [
    {
     "name": "stdout",
     "output_type": "stream",
     "text": [
      "All test cases passed!\n"
     ]
    }
   ],
   "source": [
    "assert.strictEqual(sum(2, 3), 5, '2+3 NOT equal to 5!')\n",
    "console.log('All test cases passed!')"
   ]
  },
  {
   "cell_type": "code",
   "execution_count": 11,
   "metadata": {},
   "outputs": [],
   "source": [
    "assert.strictEqual(sum(-10, -5), -15, '-5 + -10 != -15')"
   ]
  },
  {
   "cell_type": "code",
   "execution_count": 12,
   "metadata": {},
   "outputs": [],
   "source": [
    "assert.strictEqual(sum(5, -100), -95, '5 + -100 != -95')"
   ]
  },
  {
   "cell_type": "code",
   "execution_count": 13,
   "metadata": {},
   "outputs": [],
   "source": [
    "assert.strictEqual(sum(100, 0), 100, '100 + 0 != 100')"
   ]
  },
  {
   "cell_type": "markdown",
   "metadata": {},
   "source": [
    "# Unit Testing with Frameworks\n",
    "- NodeJS doesn't provide standard library framework\n",
    "- Use `Jest` - popular 3rd-party open-source framework developed by Facebook - https://jestjs.io/en/\n",
    "- install jest library globally\n",
    "\n",
    "```bash\n",
    "cd projectFolder\n",
    "npm init -y # initialize the npm project folder with package.json\n",
    "npm install --save-dev jest\n",
    "```\n",
    "\n",
    "- Add the following section to your package.json:\n",
    "\n",
    "```json\n",
    "{\n",
    "  \"scripts\": {\n",
    "    \"test\": \"jest\"\n",
    "  }\n",
    "}\n",
    "```\n",
    "\n",
    "- create test modules with `*.test.js` extension\n",
    "- import module/function to be tested\n",
    "- write test functions using provided matchers - https://jestjs.io/docs/en/using-matchers\n",
    "\n",
    "```javascript\n",
    "const sum = require('./sum')\n",
    "test('adds 1+2 to equal 3', () => {\n",
    "    expect(sum(1, 2)).toBe(3);\n",
    "});\n",
    "```\n",
    "- run test\n",
    "- see JSDemo/unittest/functions.test.js for demo\n",
    "\n",
    "```bash\n",
    "cd projectFolder\n",
    "npm run test\n",
    "```\n",
    "- you'll see test results as shown below:\n",
    "\n",
    "```bash\n",
    "(nodejs) rbasnet:unittest/ (master✗) $ npm run test                                                                                              [16:25:37]\n",
    "\n",
    "> unittest@1.0.0 test /Users/rbasnet/CMU/projects/NodeJS/JSDemo/unittest\n",
    "> jest\n",
    "\n",
    "(node:87005) ExperimentalWarning: The fs.promises API is experimental\n",
    " FAIL  ./functions_add.test.js\n",
    "  ● two plus three is six\n",
    "\n",
    "    expect(received).toBe(expected) // Object.is equality\n",
    "\n",
    "    Expected: 6\n",
    "    Received: 5\n",
    "\n",
    "      4 | \n",
    "      5 | test('two plus three is six', () => {\n",
    "    > 6 |     expect(functions.add(2, 3)).toBe(6);\n",
    "        |                                 ^\n",
    "      7 | });\n",
    "      8 | \n",
    "      9 | test('two plus three is five', () => {\n",
    "\n",
    "      at Object.<anonymous>.test (functions_add.test.js:6:33)\n",
    "\n",
    " FAIL  ./func_sub.test.js\n",
    "  ● two minus three is five\n",
    "\n",
    "    expect(received).toBe(expected) // Object.is equality\n",
    "\n",
    "    Expected: 1\n",
    "    Received: -1\n",
    "\n",
    "       8 | \n",
    "       9 | test('two minus three is five', () => {\n",
    "    > 10 |     expect(functions.sub(2, 3)).toBe(1);\n",
    "         |                                 ^\n",
    "      11 | });\n",
    "      12 | \n",
    "      13 | test('-5 minus -15 equals -20', () => {\n",
    "\n",
    "      at Object.<anonymous>.test (func_sub.test.js:10:33)\n",
    "\n",
    "  ● -5 minus -15 equals -20\n",
    "\n",
    "    expect(received).toBe(expected) // Object.is equality\n",
    "\n",
    "    Expected: -20\n",
    "    Received: 10\n",
    "\n",
    "      12 | \n",
    "      13 | test('-5 minus -15 equals -20', () => {\n",
    "    > 14 |     expect(functions.sub(-5, -15)).toBe(-20);\n",
    "         |                                    ^\n",
    "      15 | });\n",
    "      16 | \n",
    "      17 | \n",
    "\n",
    "      at Object.<anonymous>.test (func_sub.test.js:14:36)\n",
    "\n",
    "Test Suites: 2 failed, 2 total\n",
    "Tests:       3 failed, 3 passed, 6 total\n",
    "Snapshots:   0 total\n",
    "Time:        1.241 s\n",
    "Ran all test suites.\n",
    "npm ERR! code ELIFECYCLE\n",
    "npm ERR! errno 1\n",
    "npm ERR! unittest@1.0.0 test: `jest`\n",
    "npm ERR! Exit status 1\n",
    "npm ERR! \n",
    "npm ERR! Failed at the unittest@1.0.0 test script.\n",
    "npm ERR! This is probably not a problem with npm. There is likely additional logging output above.\n",
    "\n",
    "npm ERR! A complete log of this run can be found in:\n",
    "npm ERR!     /Users/rbasnet/.npm/_logs/2021-01-22T23_26_38_626Z-debug.log\n",
    "(nodejs) rbasnet:unittest/ (master✗) $                                                                                                           [16:27:36]\n",
    "```\n"
   ]
  },
  {
   "cell_type": "code",
   "execution_count": null,
   "metadata": {},
   "outputs": [],
   "source": []
  }
 ],
 "metadata": {
  "kernelspec": {
   "display_name": "Javascript (Node.js)",
   "language": "javascript",
   "name": "javascript"
  },
  "language_info": {
   "file_extension": ".js",
   "mimetype": "application/javascript",
   "name": "javascript",
   "version": "10.13.0"
  }
 },
 "nbformat": 4,
 "nbformat_minor": 4
}
