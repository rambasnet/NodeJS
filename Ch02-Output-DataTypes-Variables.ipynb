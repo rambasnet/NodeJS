{
 "cells": [
  {
   "cell_type": "markdown",
   "metadata": {},
   "source": [
    "# Fundamentals, Output, Data types, Variables, Operators"
   ]
  },
  {
   "cell_type": "markdown",
   "metadata": {},
   "source": [
    "## Syntax & Statements\n",
    "- JS program/script is a sequence of statements that usually solves some problem\n",
    "- statements are typically written one line at a time\n",
    "- semicolon ends a statement though it is optional\n",
    "- semicolon required to write multiple statements in one line\n",
    "- syntax somewhat similar to Python and C++/Java"
   ]
  },
  {
   "cell_type": "markdown",
   "metadata": {},
   "source": [
    "## Basic building blocks of programming\n",
    "1. Output\n",
    "2. Input\n",
    "3. Math operations\n",
    "4. Conditionals/Logics\n",
    "5. Loops/Iterations"
   ]
  },
  {
   "cell_type": "markdown",
   "metadata": {},
   "source": [
    "## Output\n",
    "- JS can display data in various ways\n"
   ]
  },
  {
   "cell_type": "markdown",
   "metadata": {},
   "source": [
    "1. Write output into the HTML document using document.write()\n",
    "```html\n",
    "    <script>\n",
    "        // note: document.write() will delete all existing HTML\n",
    "        // and used only for testing\n",
    "        /* Multiline \n",
    "           comments \n",
    "           Author name:\n",
    "           Program description: \n",
    "           Date:\n",
    "           Copyright info etc.\n",
    "        */\n",
    "        document.write(10 + 23);\n",
    "    </script>\n",
    "```\n",
    "#### Demo 1: Open HTML File in Browser: [JSDemos/output1.html/](JSDemos/output1.html/)"
   ]
  },
  {
   "cell_type": "markdown",
   "metadata": {},
   "source": [
    "2. write into an HTML element using innerHTML\n",
    "```html\n",
    "    <p id=”demo”></p>\n",
    "    <script>\n",
    "        document.getElementById(“demo”).innerHTML = 10 + 23;\n",
    "    </script>\n",
    "```\n",
    "\n",
    "#### Demo 2: Open HTML File in Browser: [JSDemos/output2.html](JSDemos/output2.html)\n",
    "\n",
    "3. Use alert box to display data\n",
    "```html\n",
    "    <script>\n",
    "        window.alert(\"10 + 23 = \" + (10+23));\n",
    "    </script>\n",
    "```\n",
    "\n",
    "#### Demo 3: Open HTML File in Browser: [JSDemos/output3.html](JSDemos/output3.html)\n",
    "\n",
    "4. Using console.log()\n",
    "- console.log writes to console/terminal while running NodeJS\n",
    "- while running on on HTML file in browser, writes to Console tab (Inspect Element)\n",
    "```html\n",
    "    <script>\n",
    "        console.log(5+6);\n",
    "        // used for debugging purpose;\n",
    "        // see the output on Google Chrome: Inspect Element -> Console tab\n",
    "    </script>\n",
    "```\n",
    "#### Demo 4: Open HTML File in Browser: [JSDemos/output4.html](JSDemos/output4.html)"
   ]
  },
  {
   "cell_type": "markdown",
   "metadata": {},
   "source": [
    "#### // - single line comment\n",
    "#### /* */ - multiline comments"
   ]
  },
  {
   "cell_type": "markdown",
   "metadata": {},
   "source": [
    "## Data types\n",
    "- numbers (both integers and floats are numbers and stored as 8 bytes floating point number)\n",
    "- text - string represrented using single or double quotes\n",
    "- boolean - true or false\n",
    "- undefined (type and value both unknown)"
   ]
  },
  {
   "cell_type": "markdown",
   "metadata": {},
   "source": [
    "# Variables\n",
    "- named memory location/containers for storing data values \n",
    "- data type of variable depends on the type of data stored (dynamically typed language)\n",
    "- variables are case sensitive\n",
    "- syntax: \n",
    "    var name = value;\n",
    "- = assignment operator that lets store value into a variable\n",
    "- value stored in variables can change\n",
    "- general rules for variables names:\n",
    "    - can contain letters, digits, underscores, and dollar signs\n",
    "    - can begin with $, _ or letter but not a digit\n",
    "    - reserved keywords cannot be used as names such as if, break, continue, else, while, etc.\n",
    "    - use concise self describing names\n",
    "    - use _ or camelCase to declare multiple_word_variableNames"
   ]
  },
  {
   "cell_type": "code",
   "execution_count": 1,
   "metadata": {},
   "outputs": [],
   "source": [
    "// declare a variable without initialization\n",
    "var full_name;"
   ]
  },
  {
   "cell_type": "code",
   "execution_count": 2,
   "metadata": {},
   "outputs": [],
   "source": [
    "// declare and initialize\n",
    "var name = \"John\";"
   ]
  },
  {
   "cell_type": "code",
   "execution_count": 2,
   "metadata": {},
   "outputs": [],
   "source": [
    "var lastName = 'Smith';"
   ]
  },
  {
   "cell_type": "code",
   "execution_count": 3,
   "metadata": {},
   "outputs": [
    {
     "name": "stdout",
     "output_type": "stream",
     "text": [
      "John\n"
     ]
    }
   ],
   "source": [
    "console.log(name);"
   ]
  },
  {
   "cell_type": "code",
   "execution_count": 4,
   "metadata": {},
   "outputs": [
    {
     "data": {
      "text/plain": [
       "3.9"
      ]
     },
     "execution_count": 4,
     "metadata": {},
     "output_type": "execute_result"
    }
   ],
   "source": [
    "// no var infront of variable creates \n",
    "// global variable even if they're declared inside function\n",
    "// so using var or let is the best practice\n",
    "age = 21;\n",
    "gpa = 3.9;"
   ]
  },
  {
   "cell_type": "code",
   "execution_count": 6,
   "metadata": {},
   "outputs": [
    {
     "ename": "ReferenceError",
     "evalue": "gpaasf is not defined",
     "output_type": "error",
     "traceback": [
      "evalmachine.<anonymous>:1",
      "console.log(age+gpaasf)",
      "                ^",
      "",
      "ReferenceError: gpaasf is not defined",
      "    at evalmachine.<anonymous>:1:17",
      "    at Script.runInThisContext (vm.js:96:20)",
      "    at Object.runInThisContext (vm.js:303:38)",
      "    at run ([eval]:1054:15)",
      "    at onRunRequest ([eval]:888:18)",
      "    at onMessage ([eval]:848:13)",
      "    at process.emit (events.js:182:13)",
      "    at emit (internal/child_process.js:812:12)",
      "    at process._tickCallback (internal/process/next_tick.js:63:19)"
     ]
    }
   ],
   "source": [
    "console.log(age+gpaasf)"
   ]
  },
  {
   "cell_type": "code",
   "execution_count": 7,
   "metadata": {},
   "outputs": [
    {
     "name": "stdout",
     "output_type": "stream",
     "text": [
      "age = 21 gpa = 3.9\n"
     ]
    }
   ],
   "source": [
    "console.log(\"age =\", age, \"gpa =\", gpa);"
   ]
  },
  {
   "cell_type": "code",
   "execution_count": 8,
   "metadata": {},
   "outputs": [
    {
     "name": "stdout",
     "output_type": "stream",
     "text": [
      "31\n"
     ]
    }
   ],
   "source": [
    "var age = 31;\n",
    "console.log(age);"
   ]
  },
  {
   "cell_type": "code",
   "execution_count": 9,
   "metadata": {},
   "outputs": [],
   "source": [
    "// type of data stored in variables can change dynamically as the value changes\n",
    "var value = 1; // integer number"
   ]
  },
  {
   "cell_type": "code",
   "execution_count": 10,
   "metadata": {},
   "outputs": [],
   "source": [
    "var value = 2.3; // float number"
   ]
  },
  {
   "cell_type": "code",
   "execution_count": 11,
   "metadata": {},
   "outputs": [],
   "source": [
    "var value = \"hi\"; // string"
   ]
  },
  {
   "cell_type": "code",
   "execution_count": 12,
   "metadata": {},
   "outputs": [],
   "source": [
    "var value = false; // boolean"
   ]
  },
  {
   "cell_type": "code",
   "execution_count": 13,
   "metadata": {},
   "outputs": [],
   "source": [
    "var value = undefined;"
   ]
  },
  {
   "cell_type": "code",
   "execution_count": 3,
   "metadata": {},
   "outputs": [],
   "source": [
    "var a = 'apple';"
   ]
  },
  {
   "cell_type": "code",
   "execution_count": 4,
   "metadata": {},
   "outputs": [
    {
     "ename": "SyntaxError",
     "evalue": "Identifier 'a' has already been declared",
     "output_type": "error",
     "traceback": [
      "evalmachine.<anonymous>:1",
      "let a = 10;",
      "^",
      "",
      "SyntaxError: Identifier 'a' has already been declared",
      "    at evalmachine.<anonymous>:1:1",
      "    at Script.runInThisContext (vm.js:96:20)",
      "    at Object.runInThisContext (vm.js:303:38)",
      "    at run ([eval]:1054:15)",
      "    at onRunRequest ([eval]:888:18)",
      "    at onMessage ([eval]:848:13)",
      "    at process.emit (events.js:182:13)",
      "    at emit (internal/child_process.js:812:12)",
      "    at process._tickCallback (internal/process/next_tick.js:63:19)"
     ]
    }
   ],
   "source": [
    "let a = 10;"
   ]
  },
  {
   "cell_type": "code",
   "execution_count": 16,
   "metadata": {},
   "outputs": [
    {
     "data": {
      "text/plain": [
       "100"
      ]
     },
     "execution_count": 16,
     "metadata": {},
     "output_type": "execute_result"
    }
   ],
   "source": [
    "// OK\n",
    "a = 100;"
   ]
  },
  {
   "cell_type": "code",
   "execution_count": 18,
   "metadata": {},
   "outputs": [
    {
     "ename": "SyntaxError",
     "evalue": "Identifier 'a' has already been declared",
     "output_type": "error",
     "traceback": [
      "evalmachine.<anonymous>:1",
      "// not okay!",
      "^",
      "",
      "SyntaxError: Identifier 'a' has already been declared",
      "    at evalmachine.<anonymous>:1:1",
      "    at Script.runInThisContext (vm.js:96:20)",
      "    at Object.runInThisContext (vm.js:303:38)",
      "    at run ([eval]:1054:15)",
      "    at onRunRequest ([eval]:888:18)",
      "    at onMessage ([eval]:848:13)",
      "    at process.emit (events.js:182:13)",
      "    at emit (internal/child_process.js:812:12)",
      "    at process._tickCallback (internal/process/next_tick.js:63:19)"
     ]
    }
   ],
   "source": [
    "// not okay!\n",
    "var a = 300.45;"
   ]
  },
  {
   "cell_type": "markdown",
   "metadata": {},
   "source": [
    "## Escape Character & Sequence\n",
    "- `\\` - escape character\n",
    "- `\\n` - newline\n",
    "- `\\t` - tab\n",
    "- `\\'` - single quote\n",
    "- `\\\"` - double quote"
   ]
  },
  {
   "cell_type": "code",
   "execution_count": 19,
   "metadata": {},
   "outputs": [
    {
     "ename": "SyntaxError",
     "evalue": "Invalid or unexpected token",
     "output_type": "error",
     "traceback": [
      "evalmachine.<anonymous>:1",
      "console.log('\\');",
      "            ^^^^^",
      "",
      "SyntaxError: Invalid or unexpected token",
      "    at new Script (vm.js:79:7)",
      "    at createScript (vm.js:251:10)",
      "    at Object.runInThisContext (vm.js:303:10)",
      "    at run ([eval]:1054:15)",
      "    at onRunRequest ([eval]:888:18)",
      "    at onMessage ([eval]:848:13)",
      "    at process.emit (events.js:182:13)",
      "    at emit (internal/child_process.js:812:12)",
      "    at process._tickCallback (internal/process/next_tick.js:63:19)"
     ]
    }
   ],
   "source": [
    "console.log('\\');"
   ]
  },
  {
   "cell_type": "code",
   "execution_count": 20,
   "metadata": {},
   "outputs": [
    {
     "name": "stdout",
     "output_type": "stream",
     "text": [
      "\\\n"
     ]
    }
   ],
   "source": [
    "console.log('\\\\');"
   ]
  },
  {
   "cell_type": "code",
   "execution_count": 21,
   "metadata": {},
   "outputs": [
    {
     "name": "stdout",
     "output_type": "stream",
     "text": [
      "hello\n",
      "world\n"
     ]
    }
   ],
   "source": [
    "console.log('hello\\nworld');"
   ]
  },
  {
   "cell_type": "code",
   "execution_count": 22,
   "metadata": {},
   "outputs": [
    {
     "name": "stdout",
     "output_type": "stream",
     "text": [
      "hello\tworld\n"
     ]
    }
   ],
   "source": [
    "console.log('hello\\tworld');"
   ]
  },
  {
   "cell_type": "code",
   "execution_count": 23,
   "metadata": {},
   "outputs": [
    {
     "name": "stdout",
     "output_type": "stream",
     "text": [
      "Shaq 0'neal\n"
     ]
    }
   ],
   "source": [
    "console.log('Shaq 0\\'neal');"
   ]
  },
  {
   "cell_type": "code",
   "execution_count": 24,
   "metadata": {},
   "outputs": [
    {
     "name": "stdout",
     "output_type": "stream",
     "text": [
      "Jack said, \"Oh no! Joe's bike's borken.\"\n"
     ]
    }
   ],
   "source": [
    "console.log('Jack said, \\\"Oh no! Joe\\'s bike\\'s borken.\\\"');"
   ]
  },
  {
   "cell_type": "markdown",
   "metadata": {},
   "source": [
    "## Constants"
   ]
  },
  {
   "cell_type": "code",
   "execution_count": 25,
   "metadata": {},
   "outputs": [],
   "source": [
    "const pi = 3.14567;\n",
    "const newline = '\\n';"
   ]
  },
  {
   "cell_type": "code",
   "execution_count": 27,
   "metadata": {},
   "outputs": [
    {
     "name": "stdout",
     "output_type": "stream",
     "text": [
      "62.913399999999996\n"
     ]
    }
   ],
   "source": [
    "console.log(2*pi*10)"
   ]
  },
  {
   "cell_type": "code",
   "execution_count": 26,
   "metadata": {},
   "outputs": [
    {
     "ename": "TypeError",
     "evalue": "Assignment to constant variable.",
     "output_type": "error",
     "traceback": [
      "evalmachine.<anonymous>:1",
      "pi = 100;",
      "   ^",
      "",
      "TypeError: Assignment to constant variable.",
      "    at evalmachine.<anonymous>:1:4",
      "    at Script.runInThisContext (vm.js:96:20)",
      "    at Object.runInThisContext (vm.js:303:38)",
      "    at run ([eval]:1054:15)",
      "    at onRunRequest ([eval]:888:18)",
      "    at onMessage ([eval]:848:13)",
      "    at process.emit (events.js:182:13)",
      "    at emit (internal/child_process.js:812:12)",
      "    at process._tickCallback (internal/process/next_tick.js:63:19)"
     ]
    }
   ],
   "source": [
    "pi = 100;"
   ]
  },
  {
   "cell_type": "code",
   "execution_count": 28,
   "metadata": {},
   "outputs": [
    {
     "name": "stdout",
     "output_type": "stream",
     "text": [
      "hello \n",
      " world\n"
     ]
    }
   ],
   "source": [
    "// accessing constant is similar to accessing variables\n",
    "console.log('hello', newline, 'world');"
   ]
  },
  {
   "cell_type": "markdown",
   "metadata": {},
   "source": [
    "## Standard Input\n",
    "- use `console.log()` function\n",
    "- use `process.stdout.write()` function"
   ]
  },
  {
   "cell_type": "code",
   "execution_count": 2,
   "metadata": {},
   "outputs": [
    {
     "name": "stdout",
     "output_type": "stream",
     "text": [
      "2\n"
     ]
    }
   ],
   "source": [
    "console.log(1+1);"
   ]
  },
  {
   "cell_type": "code",
   "execution_count": 5,
   "metadata": {},
   "outputs": [
    {
     "name": "stdout",
     "output_type": "stream",
     "text": [
      "Hello World!"
     ]
    },
    {
     "data": {
      "text/plain": [
       "true"
      ]
     },
     "execution_count": 5,
     "metadata": {},
     "output_type": "execute_result"
    }
   ],
   "source": [
    "process.stdout.write(\"Hello World!\");"
   ]
  },
  {
   "cell_type": "code",
   "execution_count": 6,
   "metadata": {},
   "outputs": [
    {
     "ename": "TypeError",
     "evalue": "The \"chunk\" argument must be of type string or an instance of Buffer or Uint8Array. Received type number (8)",
     "execution_count": 6,
     "output_type": "error",
     "traceback": [
      "node:internal/streams/writable:312",
      "      throw new ERR_INVALID_ARG_TYPE(",
      "      ^",
      "",
      "TypeError [ERR_INVALID_ARG_TYPE]: The \"chunk\" argument must be of type string or an instance of Buffer or Uint8Array. Received type number (8)",
      "    at new NodeError (node:internal/errors:371:5)",
      "    at _write (node:internal/streams/writable:312:13)",
      "    at Stdout.Writable.write (node:internal/streams/writable:334:10)",
      "    at evalmachine.<anonymous>:1:16",
      "    at Script.runInThisContext (node:vm:129:12)",
      "    at Object.runInThisContext (node:vm:305:38)",
      "    at run ([eval]:1054:15)",
      "    at onRunRequest ([eval]:888:18)",
      "    at onMessage ([eval]:848:13)",
      "    at process.emit (node:events:390:28)"
     ]
    }
   ],
   "source": [
    "// write arugment must of type string or Buffer - throws Exception otherwise\n",
    "process.stdout.write(2**3);"
   ]
  },
  {
   "cell_type": "markdown",
   "metadata": {},
   "source": [
    "## Standard Output\n",
    "- Standard input is a bit ticky!\n",
    "    - Use `process.stdin.on()` event handler\n",
    "    - or create an interface using `readline` library module\n",
    "    - standard input is not supported by ijavascript\n",
    "    - must use it with a script\n",
    "    - see `JSDemos/async-input.js` and `JSDemos/async-input1.js`"
   ]
  },
  {
   "cell_type": "code",
   "execution_count": 1,
   "metadata": {},
   "outputs": [
    {
     "data": {
      "text/plain": [
       "ReadStream {\n",
       "  fd: 0,\n",
       "  start: undefined,\n",
       "  end: Infinity,\n",
       "  pos: undefined,\n",
       "  bytesRead: 0,\n",
       "  closed: false,\n",
       "  _readableState: ReadableState {\n",
       "    objectMode: false,\n",
       "    highWaterMark: 65536,\n",
       "    buffer: BufferList { head: null, tail: null, length: 0 },\n",
       "    length: 0,\n",
       "    pipes: [],\n",
       "    flowing: true,\n",
       "    ended: false,\n",
       "    endEmitted: false,\n",
       "    reading: false,\n",
       "    constructed: false,\n",
       "    sync: true,\n",
       "    needReadable: false,\n",
       "    emittedReadable: false,\n",
       "    readableListening: false,\n",
       "    resumeScheduled: true,\n",
       "    errorEmitted: false,\n",
       "    emitClose: true,\n",
       "    autoDestroy: false,\n",
       "    destroyed: false,\n",
       "    errored: null,\n",
       "    closed: false,\n",
       "    closeEmitted: false,\n",
       "    defaultEncoding: 'utf8',\n",
       "    awaitDrainWriters: null,\n",
       "    multiAwaitDrain: false,\n",
       "    readingMore: false,\n",
       "    dataEmitted: false,\n",
       "    decoder: null,\n",
       "    encoding: null,\n",
       "    [Symbol(kPaused)]: false\n",
       "  },\n",
       "  _events: [Object: null prototype] {\n",
       "    pause: [Function (anonymous)],\n",
       "    data: [Function (anonymous)],\n",
       "    [Symbol(kConstruct)]: [Function: bound onceWrapper] { listener: [Function (anonymous)] }\n",
       "  },\n",
       "  _eventsCount: 3,\n",
       "  _maxListeners: undefined,\n",
       "  [Symbol(kFs)]: {\n",
       "    appendFile: [Function: appendFile],\n",
       "    appendFileSync: [Function: appendFileSync],\n",
       "    access: [Function: access],\n",
       "    accessSync: [Function: accessSync],\n",
       "    chown: [Function: chown],\n",
       "    chownSync: [Function: chownSync],\n",
       "    chmod: [Function: chmod],\n",
       "    chmodSync: [Function: chmodSync],\n",
       "    close: [Function: close],\n",
       "    closeSync: [Function: closeSync],\n",
       "    copyFile: [Function: copyFile],\n",
       "    copyFileSync: [Function: copyFileSync],\n",
       "    cp: [Function: cp],\n",
       "    cpSync: [Function: cpSync],\n",
       "    createReadStream: [Function: createReadStream],\n",
       "    createWriteStream: [Function: createWriteStream],\n",
       "    exists: [Function: exists],\n",
       "    existsSync: [Function: existsSync],\n",
       "    fchown: [Function: fchown],\n",
       "    fchownSync: [Function: fchownSync],\n",
       "    fchmod: [Function: fchmod],\n",
       "    fchmodSync: [Function: fchmodSync],\n",
       "    fdatasync: [Function: fdatasync],\n",
       "    fdatasyncSync: [Function: fdatasyncSync],\n",
       "    fstat: [Function: fstat],\n",
       "    fstatSync: [Function: fstatSync],\n",
       "    fsync: [Function: fsync],\n",
       "    fsyncSync: [Function: fsyncSync],\n",
       "    ftruncate: [Function: ftruncate],\n",
       "    ftruncateSync: [Function: ftruncateSync],\n",
       "    futimes: [Function: futimes],\n",
       "    futimesSync: [Function: futimesSync],\n",
       "    lchown: [Function: lchown],\n",
       "    lchownSync: [Function: lchownSync],\n",
       "    lchmod: [Function: lchmod],\n",
       "    lchmodSync: [Function: lchmodSync],\n",
       "    link: [Function: link],\n",
       "    linkSync: [Function: linkSync],\n",
       "    lstat: [Function: lstat],\n",
       "    lstatSync: [Function: lstatSync],\n",
       "    lutimes: [Function: lutimes],\n",
       "    lutimesSync: [Function: lutimesSync],\n",
       "    mkdir: [Function: mkdir],\n",
       "    mkdirSync: [Function: mkdirSync],\n",
       "    mkdtemp: [Function: mkdtemp],\n",
       "    mkdtempSync: [Function: mkdtempSync],\n",
       "    open: [Function: open],\n",
       "    openSync: [Function: openSync],\n",
       "    opendir: [Function: opendir],\n",
       "    opendirSync: [Function: opendirSync],\n",
       "    readdir: [Function: readdir],\n",
       "    readdirSync: [Function: readdirSync],\n",
       "    read: [Function: read],\n",
       "    readSync: [Function: readSync],\n",
       "    readv: [Function: readv],\n",
       "    readvSync: [Function: readvSync],\n",
       "    readFile: [Function: readFile],\n",
       "    readFileSync: [Function: readFileSync],\n",
       "    readlink: [Function: readlink],\n",
       "    readlinkSync: [Function: readlinkSync],\n",
       "    realpath: [Function: realpath] { native: [Function (anonymous)] },\n",
       "    realpathSync: [Function: realpathSync] { native: [Function (anonymous)] },\n",
       "    rename: [Function: rename],\n",
       "    renameSync: [Function: renameSync],\n",
       "    rm: [Function: rm],\n",
       "    rmSync: [Function: rmSync],\n",
       "    rmdir: [Function: rmdir],\n",
       "    rmdirSync: [Function: rmdirSync],\n",
       "    stat: [Function: stat],\n",
       "    statSync: [Function: statSync],\n",
       "    symlink: [Function: symlink],\n",
       "    symlinkSync: [Function: symlinkSync],\n",
       "    truncate: [Function: truncate],\n",
       "    truncateSync: [Function: truncateSync],\n",
       "    unwatchFile: [Function: unwatchFile],\n",
       "    unlink: [Function: unlink],\n",
       "    unlinkSync: [Function: unlinkSync],\n",
       "    utimes: [Function: utimes],\n",
       "    utimesSync: [Function: utimesSync],\n",
       "    watch: [Function: watch],\n",
       "    watchFile: [Function: watchFile],\n",
       "    writeFile: [Function: writeFile],\n",
       "    writeFileSync: [Function: writeFileSync],\n",
       "    write: [Function: write],\n",
       "    writeSync: [Function: writeSync],\n",
       "    writev: [Function: writev],\n",
       "    writevSync: [Function: writevSync],\n",
       "    Dir: [class Dir],\n",
       "    Dirent: [class Dirent],\n",
       "    Stats: [Function: Stats],\n",
       "    ReadStream: [Getter/Setter],\n",
       "    WriteStream: [Getter/Setter],\n",
       "    FileReadStream: [Getter/Setter],\n",
       "    FileWriteStream: [Getter/Setter],\n",
       "    _toUnixTimestamp: [Function: toUnixTimestamp],\n",
       "    F_OK: 0,\n",
       "    R_OK: 4,\n",
       "    W_OK: 2,\n",
       "    X_OK: 1,\n",
       "    constants: [Object: null prototype] {\n",
       "      UV_FS_SYMLINK_DIR: 1,\n",
       "      UV_FS_SYMLINK_JUNCTION: 2,\n",
       "      O_RDONLY: 0,\n",
       "      O_WRONLY: 1,\n",
       "      O_RDWR: 2,\n",
       "      UV_DIRENT_UNKNOWN: 0,\n",
       "      UV_DIRENT_FILE: 1,\n",
       "      UV_DIRENT_DIR: 2,\n",
       "      UV_DIRENT_LINK: 3,\n",
       "      UV_DIRENT_FIFO: 4,\n",
       "      UV_DIRENT_SOCKET: 5,\n",
       "      UV_DIRENT_CHAR: 6,\n",
       "      UV_DIRENT_BLOCK: 7,\n",
       "      S_IFMT: 61440,\n",
       "      S_IFREG: 32768,\n",
       "      S_IFDIR: 16384,\n",
       "      S_IFCHR: 8192,\n",
       "      S_IFBLK: 24576,\n",
       "      S_IFIFO: 4096,\n",
       "      S_IFLNK: 40960,\n",
       "      S_IFSOCK: 49152,\n",
       "      O_CREAT: 512,\n",
       "      O_EXCL: 2048,\n",
       "      UV_FS_O_FILEMAP: 0,\n",
       "      O_NOCTTY: 131072,\n",
       "      O_TRUNC: 1024,\n",
       "      O_APPEND: 8,\n",
       "      O_DIRECTORY: 1048576,\n",
       "      O_NOFOLLOW: 256,\n",
       "      O_SYNC: 128,\n",
       "      O_DSYNC: 4194304,\n",
       "      O_SYMLINK: 2097152,\n",
       "      O_NONBLOCK: 4,\n",
       "      S_IRWXU: 448,\n",
       "      S_IRUSR: 256,\n",
       "      S_IWUSR: 128,\n",
       "      S_IXUSR: 64,\n",
       "      S_IRWXG: 56,\n",
       "      S_IRGRP: 32,\n",
       "      S_IWGRP: 16,\n",
       "      S_IXGRP: 8,\n",
       "      S_IRWXO: 7,\n",
       "      S_IROTH: 4,\n",
       "      S_IWOTH: 2,\n",
       "      S_IXOTH: 1,\n",
       "      F_OK: 0,\n",
       "      R_OK: 4,\n",
       "      W_OK: 2,\n",
       "      X_OK: 1,\n",
       "      UV_FS_COPYFILE_EXCL: 1,\n",
       "      COPYFILE_EXCL: 1,\n",
       "      UV_FS_COPYFILE_FICLONE: 2,\n",
       "      COPYFILE_FICLONE: 2,\n",
       "      UV_FS_COPYFILE_FICLONE_FORCE: 4,\n",
       "      COPYFILE_FICLONE_FORCE: 4\n",
       "    },\n",
       "    promises: [Getter]\n",
       "  },\n",
       "  [Symbol(kIsPerformingIO)]: false,\n",
       "  [Symbol(kCapture)]: false\n",
       "}"
      ]
     },
     "execution_count": 1,
     "metadata": {},
     "output_type": "execute_result"
    }
   ],
   "source": [
    "// Enter some data\n",
    "process.stdin.on('data', data => {\n",
    "  console.log(`You typed ${data.toString()}`);\n",
    "  process.exit();\n",
    "});"
   ]
  },
  {
   "cell_type": "code",
   "execution_count": null,
   "metadata": {},
   "outputs": [],
   "source": []
  }
 ],
 "metadata": {
  "kernelspec": {
   "display_name": "JavaScript (Node.js)",
   "language": "javascript",
   "name": "javascript"
  },
  "language_info": {
   "file_extension": ".js",
   "mimetype": "application/javascript",
   "name": "javascript",
   "version": "16.13.1"
  }
 },
 "nbformat": 4,
 "nbformat_minor": 4
}
