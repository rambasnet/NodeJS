{
 "cells": [
  {
   "cell_type": "markdown",
   "metadata": {},
   "source": [
    "# Fundamentals, Output, Data types, Variables, Operators"
   ]
  },
  {
   "cell_type": "markdown",
   "metadata": {},
   "source": [
    "## Syntax & Statements\n",
    "- JS program/script is a sequence of statements that usually solves some problem\n",
    "- statements are typically written one line at a time\n",
    "- semicolon ends a statement though it is optional\n",
    "- semicolon required to write multiple statements in one line\n",
    "- syntax somewhat similar to Python and C++/Java"
   ]
  },
  {
   "cell_type": "markdown",
   "metadata": {},
   "source": [
    "## Basic building blocks of programming\n",
    "1. Output\n",
    "2. Input\n",
    "3. Math operations\n",
    "4. Conditionals/Logics\n",
    "5. Loops/Iterations"
   ]
  },
  {
   "cell_type": "markdown",
   "metadata": {},
   "source": [
    "## Output\n",
    "- JS can display data in various ways\n"
   ]
  },
  {
   "cell_type": "markdown",
   "metadata": {},
   "source": [
    "1. Write output into the HTML document using document.write()\n",
    "```html\n",
    "    <script>\n",
    "        // note: document.write() will delete all existing HTML\n",
    "        // and used only for testing\n",
    "        /* Multiline \n",
    "           comments \n",
    "           Author name:\n",
    "           Program description: \n",
    "           Date:\n",
    "           Copyright info etc.\n",
    "        */\n",
    "        document.write(10 + 23);\n",
    "    </script>\n",
    "```\n",
    "#### Demo 1: Open HTML File in Browser: [JSDemos/output1.html/](JSDemos/output1.html/)"
   ]
  },
  {
   "cell_type": "markdown",
   "metadata": {},
   "source": [
    "2. write into an HTML element using innerHTML\n",
    "```html\n",
    "    <p id=”demo”></p>\n",
    "    <script>\n",
    "        document.getElementById(“demo”).innerHTML = 10 + 23;\n",
    "    </script>\n",
    "```\n",
    "\n",
    "#### Demo 2: Open HTML File in Browser: [JSDemos/output2.html](JSDemos/output2.html)\n",
    "\n",
    "3. Use alert box to display data\n",
    "```html\n",
    "    <script>\n",
    "        window.alert(\"10 + 23 = \" + (10+23));\n",
    "    </script>\n",
    "```\n",
    "\n",
    "#### Demo 3: Open HTML File in Browser: [JSDemos/output3.html](JSDemos/output3.html)\n",
    "\n",
    "4. Using console.log()\n",
    "- console.log writes to console/terminal while running NodeJS\n",
    "- while running on on HTML file in browser, writes to Console tab (Inspect Element)\n",
    "```html\n",
    "    <script>\n",
    "        console.log(5+6);\n",
    "        // used for debugging purpose;\n",
    "        // see the output on Google Chrome: Inspect Element -> Console tab\n",
    "    </script>\n",
    "```\n",
    "#### Demo 4: Open HTML File in Browser: [JSDemos/output4.html](JSDemos/output4.html)"
   ]
  },
  {
   "cell_type": "markdown",
   "metadata": {},
   "source": [
    "#### // - single line comment\n",
    "#### /* */ - multiline comments"
   ]
  },
  {
   "cell_type": "markdown",
   "metadata": {},
   "source": [
    "## Data types\n",
    "- numbers (both integers and floats are numbers and stored as 8 bytes floating point number)\n",
    "- text - string represrented using single or double quotes\n",
    "- boolean - true or false\n",
    "- undefined (type and value both unknown)"
   ]
  },
  {
   "cell_type": "markdown",
   "metadata": {},
   "source": [
    "# Variables\n",
    "- named memory location/containers for storing data values \n",
    "- data type of variable depends on the type of data stored (dynamically typed language)\n",
    "- variables are case sensitive\n",
    "- syntax: \n",
    "    var name = value;\n",
    "- = assignment operator that lets store value into a variable\n",
    "- value stored in variables can change\n",
    "- general rules for variables names:\n",
    "    - can contain letters, digits, underscores, and dollar signs\n",
    "    - can begin with $, _ or letter but not a digit\n",
    "    - reserved keywords cannot be used as names such as if, break, continue, else, while, etc.\n",
    "    - use concise self describing names\n",
    "    - use _ or camelCase to declare multiple_word_variableNames"
   ]
  },
  {
   "cell_type": "code",
   "execution_count": 1,
   "metadata": {},
   "outputs": [],
   "source": [
    "// declare a variable without initialization\n",
    "var full_name;"
   ]
  },
  {
   "cell_type": "code",
   "execution_count": 2,
   "metadata": {},
   "outputs": [],
   "source": [
    "// declare and initialize\n",
    "var name = \"John\";"
   ]
  },
  {
   "cell_type": "code",
   "execution_count": 2,
   "metadata": {},
   "outputs": [],
   "source": [
    "var lastName = 'Smith';"
   ]
  },
  {
   "cell_type": "code",
   "execution_count": 3,
   "metadata": {},
   "outputs": [
    {
     "name": "stdout",
     "output_type": "stream",
     "text": [
      "John\n"
     ]
    }
   ],
   "source": [
    "console.log(name);"
   ]
  },
  {
   "cell_type": "code",
   "execution_count": 4,
   "metadata": {},
   "outputs": [
    {
     "data": {
      "text/plain": [
       "3.9"
      ]
     },
     "execution_count": 4,
     "metadata": {},
     "output_type": "execute_result"
    }
   ],
   "source": [
    "// no var infront of variable creates \n",
    "// global variable even if they're declared inside function\n",
    "// so using var or let is the best practice\n",
    "age = 21;\n",
    "gpa = 3.9;"
   ]
  },
  {
   "cell_type": "code",
   "execution_count": 6,
   "metadata": {},
   "outputs": [
    {
     "ename": "ReferenceError",
     "evalue": "gpaasf is not defined",
     "output_type": "error",
     "traceback": [
      "evalmachine.<anonymous>:1",
      "console.log(age+gpaasf)",
      "                ^",
      "",
      "ReferenceError: gpaasf is not defined",
      "    at evalmachine.<anonymous>:1:17",
      "    at Script.runInThisContext (vm.js:96:20)",
      "    at Object.runInThisContext (vm.js:303:38)",
      "    at run ([eval]:1054:15)",
      "    at onRunRequest ([eval]:888:18)",
      "    at onMessage ([eval]:848:13)",
      "    at process.emit (events.js:182:13)",
      "    at emit (internal/child_process.js:812:12)",
      "    at process._tickCallback (internal/process/next_tick.js:63:19)"
     ]
    }
   ],
   "source": [
    "console.log(age+gpaasf)"
   ]
  },
  {
   "cell_type": "code",
   "execution_count": 7,
   "metadata": {},
   "outputs": [
    {
     "name": "stdout",
     "output_type": "stream",
     "text": [
      "age = 21 gpa = 3.9\n"
     ]
    }
   ],
   "source": [
    "console.log(\"age =\", age, \"gpa =\", gpa);"
   ]
  },
  {
   "cell_type": "code",
   "execution_count": 8,
   "metadata": {},
   "outputs": [
    {
     "name": "stdout",
     "output_type": "stream",
     "text": [
      "31\n"
     ]
    }
   ],
   "source": [
    "var age = 31;\n",
    "console.log(age);"
   ]
  },
  {
   "cell_type": "code",
   "execution_count": 9,
   "metadata": {},
   "outputs": [],
   "source": [
    "// type of data stored in variables can change dynamically as the value changes\n",
    "var value = 1; // integer number"
   ]
  },
  {
   "cell_type": "code",
   "execution_count": 10,
   "metadata": {},
   "outputs": [],
   "source": [
    "var value = 2.3; // float number"
   ]
  },
  {
   "cell_type": "code",
   "execution_count": 11,
   "metadata": {},
   "outputs": [],
   "source": [
    "var value = \"hi\"; // string"
   ]
  },
  {
   "cell_type": "code",
   "execution_count": 12,
   "metadata": {},
   "outputs": [],
   "source": [
    "var value = false; // boolean"
   ]
  },
  {
   "cell_type": "code",
   "execution_count": 13,
   "metadata": {},
   "outputs": [],
   "source": [
    "var value = undefined;"
   ]
  },
  {
   "cell_type": "code",
   "execution_count": 3,
   "metadata": {},
   "outputs": [],
   "source": [
    "var a = 'apple';"
   ]
  },
  {
   "cell_type": "code",
   "execution_count": 4,
   "metadata": {},
   "outputs": [
    {
     "ename": "SyntaxError",
     "evalue": "Identifier 'a' has already been declared",
     "output_type": "error",
     "traceback": [
      "evalmachine.<anonymous>:1",
      "let a = 10;",
      "^",
      "",
      "SyntaxError: Identifier 'a' has already been declared",
      "    at evalmachine.<anonymous>:1:1",
      "    at Script.runInThisContext (vm.js:96:20)",
      "    at Object.runInThisContext (vm.js:303:38)",
      "    at run ([eval]:1054:15)",
      "    at onRunRequest ([eval]:888:18)",
      "    at onMessage ([eval]:848:13)",
      "    at process.emit (events.js:182:13)",
      "    at emit (internal/child_process.js:812:12)",
      "    at process._tickCallback (internal/process/next_tick.js:63:19)"
     ]
    }
   ],
   "source": [
    "let a = 10;"
   ]
  },
  {
   "cell_type": "code",
   "execution_count": 16,
   "metadata": {},
   "outputs": [
    {
     "data": {
      "text/plain": [
       "100"
      ]
     },
     "execution_count": 16,
     "metadata": {},
     "output_type": "execute_result"
    }
   ],
   "source": [
    "// OK\n",
    "a = 100;"
   ]
  },
  {
   "cell_type": "code",
   "execution_count": 18,
   "metadata": {},
   "outputs": [
    {
     "ename": "SyntaxError",
     "evalue": "Identifier 'a' has already been declared",
     "output_type": "error",
     "traceback": [
      "evalmachine.<anonymous>:1",
      "// not okay!",
      "^",
      "",
      "SyntaxError: Identifier 'a' has already been declared",
      "    at evalmachine.<anonymous>:1:1",
      "    at Script.runInThisContext (vm.js:96:20)",
      "    at Object.runInThisContext (vm.js:303:38)",
      "    at run ([eval]:1054:15)",
      "    at onRunRequest ([eval]:888:18)",
      "    at onMessage ([eval]:848:13)",
      "    at process.emit (events.js:182:13)",
      "    at emit (internal/child_process.js:812:12)",
      "    at process._tickCallback (internal/process/next_tick.js:63:19)"
     ]
    }
   ],
   "source": [
    "// not okay!\n",
    "var a = 300.45;"
   ]
  },
  {
   "cell_type": "markdown",
   "metadata": {},
   "source": [
    "## Escape Character & Sequence\n",
    "- `\\` - escape character\n",
    "- `\\n` - newline\n",
    "- `\\t` - tab\n",
    "- `\\'` - single quote\n",
    "- `\\\"` - double quote"
   ]
  },
  {
   "cell_type": "code",
   "execution_count": 19,
   "metadata": {},
   "outputs": [
    {
     "ename": "SyntaxError",
     "evalue": "Invalid or unexpected token",
     "output_type": "error",
     "traceback": [
      "evalmachine.<anonymous>:1",
      "console.log('\\');",
      "            ^^^^^",
      "",
      "SyntaxError: Invalid or unexpected token",
      "    at new Script (vm.js:79:7)",
      "    at createScript (vm.js:251:10)",
      "    at Object.runInThisContext (vm.js:303:10)",
      "    at run ([eval]:1054:15)",
      "    at onRunRequest ([eval]:888:18)",
      "    at onMessage ([eval]:848:13)",
      "    at process.emit (events.js:182:13)",
      "    at emit (internal/child_process.js:812:12)",
      "    at process._tickCallback (internal/process/next_tick.js:63:19)"
     ]
    }
   ],
   "source": [
    "console.log('\\');"
   ]
  },
  {
   "cell_type": "code",
   "execution_count": 20,
   "metadata": {},
   "outputs": [
    {
     "name": "stdout",
     "output_type": "stream",
     "text": [
      "\\\n"
     ]
    }
   ],
   "source": [
    "console.log('\\\\');"
   ]
  },
  {
   "cell_type": "code",
   "execution_count": 21,
   "metadata": {},
   "outputs": [
    {
     "name": "stdout",
     "output_type": "stream",
     "text": [
      "hello\n",
      "world\n"
     ]
    }
   ],
   "source": [
    "console.log('hello\\nworld');"
   ]
  },
  {
   "cell_type": "code",
   "execution_count": 22,
   "metadata": {},
   "outputs": [
    {
     "name": "stdout",
     "output_type": "stream",
     "text": [
      "hello\tworld\n"
     ]
    }
   ],
   "source": [
    "console.log('hello\\tworld');"
   ]
  },
  {
   "cell_type": "code",
   "execution_count": 23,
   "metadata": {},
   "outputs": [
    {
     "name": "stdout",
     "output_type": "stream",
     "text": [
      "Shaq 0'neal\n"
     ]
    }
   ],
   "source": [
    "console.log('Shaq 0\\'neal');"
   ]
  },
  {
   "cell_type": "code",
   "execution_count": 24,
   "metadata": {},
   "outputs": [
    {
     "name": "stdout",
     "output_type": "stream",
     "text": [
      "Jack said, \"Oh no! Joe's bike's borken.\"\n"
     ]
    }
   ],
   "source": [
    "console.log('Jack said, \\\"Oh no! Joe\\'s bike\\'s borken.\\\"');"
   ]
  },
  {
   "cell_type": "markdown",
   "metadata": {},
   "source": [
    "## Constants"
   ]
  },
  {
   "cell_type": "code",
   "execution_count": 25,
   "metadata": {},
   "outputs": [],
   "source": [
    "const pi = 3.14567;\n",
    "const newline = '\\n';"
   ]
  },
  {
   "cell_type": "code",
   "execution_count": 27,
   "metadata": {},
   "outputs": [
    {
     "name": "stdout",
     "output_type": "stream",
     "text": [
      "62.913399999999996\n"
     ]
    }
   ],
   "source": [
    "console.log(2*pi*10)"
   ]
  },
  {
   "cell_type": "code",
   "execution_count": 26,
   "metadata": {},
   "outputs": [
    {
     "ename": "TypeError",
     "evalue": "Assignment to constant variable.",
     "output_type": "error",
     "traceback": [
      "evalmachine.<anonymous>:1",
      "pi = 100;",
      "   ^",
      "",
      "TypeError: Assignment to constant variable.",
      "    at evalmachine.<anonymous>:1:4",
      "    at Script.runInThisContext (vm.js:96:20)",
      "    at Object.runInThisContext (vm.js:303:38)",
      "    at run ([eval]:1054:15)",
      "    at onRunRequest ([eval]:888:18)",
      "    at onMessage ([eval]:848:13)",
      "    at process.emit (events.js:182:13)",
      "    at emit (internal/child_process.js:812:12)",
      "    at process._tickCallback (internal/process/next_tick.js:63:19)"
     ]
    }
   ],
   "source": [
    "pi = 100;"
   ]
  },
  {
   "cell_type": "code",
   "execution_count": 28,
   "metadata": {},
   "outputs": [
    {
     "name": "stdout",
     "output_type": "stream",
     "text": [
      "hello \n",
      " world\n"
     ]
    }
   ],
   "source": [
    "// accessing constant is similar to accessing variables\n",
    "console.log('hello', newline, 'world');"
   ]
  },
  {
   "cell_type": "code",
   "execution_count": null,
   "metadata": {},
   "outputs": [],
   "source": []
  }
 ],
 "metadata": {
  "kernelspec": {
   "display_name": "Javascript (Node.js)",
   "language": "javascript",
   "name": "javascript"
  },
  "language_info": {
   "file_extension": ".js",
   "mimetype": "application/javascript",
   "name": "javascript",
   "version": "15.12.0"
  }
 },
 "nbformat": 4,
 "nbformat_minor": 4
}
