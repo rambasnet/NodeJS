{
 "cells": [
  {
   "cell_type": "markdown",
   "metadata": {},
   "source": [
    "# Strings\n",
    "- JS strings are used for storing and manipulating text\n",
    "- string is zero or more characters written inside quotes (single or double)"
   ]
  },
  {
   "cell_type": "code",
   "execution_count": 1,
   "metadata": {},
   "outputs": [],
   "source": [
    "var name = \"John Doe\";\n",
    "var carName = 'Tesla Model X';\n",
    "var answer = \"It's alright\";\n",
    "var answer1 = 'He goes by \"Johnny\"';"
   ]
  },
  {
   "cell_type": "markdown",
   "metadata": {},
   "source": [
    "## Special characters\n",
    "- \\' - single quote\n",
    "- \\\" - double quote\n",
    "- \\\\ - backslash\n",
    "- Other escape sequences are valid in JS\n",
    "        - \\b - backspace\n",
    "        - \\f - form feed\n",
    "        - \\n - new line\n",
    "        - \\r - carriage return\n",
    "        - \\t - horizontal tab\n",
    "        - \\v - vertical tab\n",
    "        "
   ]
  },
  {
   "cell_type": "code",
   "execution_count": 1,
   "metadata": {},
   "outputs": [
    {
     "ename": "SyntaxError",
     "evalue": "Invalid or unexpected token",
     "output_type": "error",
     "traceback": [
      "evalmachine.<anonymous>:2",
      "console.log('\\');",
      "            ^^^^^",
      "",
      "SyntaxError: Invalid or unexpected token",
      "    at new Script (vm.js:85:7)",
      "    at createScript (vm.js:266:10)",
      "    at Object.runInThisContext (vm.js:314:10)",
      "    at run ([eval]:1054:15)",
      "    at onRunRequest ([eval]:888:18)",
      "    at onMessage ([eval]:848:13)",
      "    at process.emit (events.js:193:13)",
      "    at emit (internal/child_process.js:848:12)",
      "    at processTicksAndRejections (internal/process/task_queues.js:81:17)"
     ]
    }
   ],
   "source": [
    "// print \\\n",
    "console.log('\\');"
   ]
  },
  {
   "cell_type": "code",
   "execution_count": 2,
   "metadata": {},
   "outputs": [
    {
     "name": "stdout",
     "output_type": "stream",
     "text": [
      "\\\n"
     ]
    }
   ],
   "source": [
    "console.log('\\\\');"
   ]
  },
  {
   "cell_type": "code",
   "execution_count": 2,
   "metadata": {},
   "outputs": [
    {
     "ename": "SyntaxError",
     "evalue": "Unexpected identifier",
     "output_type": "error",
     "traceback": [
      "evalmachine.<anonymous>:1",
      "var x = \"We are the so-called \"Vikings\" from the north.\";",
      "                               ^^^^^^^",
      "",
      "SyntaxError: Unexpected identifier",
      "    at new Script (vm.js:85:7)",
      "    at createScript (vm.js:266:10)",
      "    at Object.runInThisContext (vm.js:314:10)",
      "    at run ([eval]:1054:15)",
      "    at onRunRequest ([eval]:888:18)",
      "    at onMessage ([eval]:848:13)",
      "    at process.emit (events.js:193:13)",
      "    at emit (internal/child_process.js:848:12)",
      "    at processTicksAndRejections (internal/process/task_queues.js:81:17)"
     ]
    }
   ],
   "source": [
    "var x = \"We are the so-called \"Vikings\" from the north.\";"
   ]
  },
  {
   "cell_type": "code",
   "execution_count": 3,
   "metadata": {},
   "outputs": [],
   "source": [
    "var x = \"We are the so-called \\\"Vikings\\\" from the north.\";"
   ]
  },
  {
   "cell_type": "markdown",
   "metadata": {},
   "source": [
    "## String methods and properties\n",
    "- detail list can be found at: \n",
    "https://developer.mozilla.org/en-US/docs/Web/JavaScript/Reference/Global_Objects/String\n",
    "\n",
    "### length property\n",
    "- obj.length returns length or no. of characters in string object"
   ]
  },
  {
   "cell_type": "code",
   "execution_count": 4,
   "metadata": {},
   "outputs": [
    {
     "name": "stdout",
     "output_type": "stream",
     "text": [
      "46\n"
     ]
    }
   ],
   "source": [
    "console.log(x.length)"
   ]
  },
  {
   "cell_type": "markdown",
   "metadata": {},
   "source": [
    "### Finding substring in a string\n",
    "- indexOf() \n",
    "    - returns the index of (the position of) the first occurance of a specified substring in a string\n",
    "    - returns -1 if the substring is not found\n",
    "- search()\n",
    "    - searches a substring and returns the position of the match\n",
    "    - returns -1 if the substring is not found"
   ]
  },
  {
   "cell_type": "code",
   "execution_count": 5,
   "metadata": {},
   "outputs": [
    {
     "name": "stdout",
     "output_type": "stream",
     "text": [
      "needles found at index:  9\n",
      "68\n"
     ]
    }
   ],
   "source": [
    "var str = \"There're needles in the big pile of haystack. Good luck finding the needles.\";\n",
    "var pos = str.indexOf('needle');\n",
    "console.log('needles found at index: ', pos);\n",
    "console.log(str.lastIndexOf('needle'));"
   ]
  },
  {
   "cell_type": "code",
   "execution_count": 6,
   "metadata": {},
   "outputs": [
    {
     "name": "stdout",
     "output_type": "stream",
     "text": [
      "9\n",
      "-1\n"
     ]
    }
   ],
   "source": [
    "console.log(str.search('needle'));\n",
    "console.log(str.search('Needle'));"
   ]
  },
  {
   "cell_type": "markdown",
   "metadata": {},
   "source": [
    "### Slicing or extracting string parts\n",
    "- slice(start, end) - start index is inclusive and end index is exclusive and optional\n",
    "- substring(start, end)\n",
    "- substr(start, length)"
   ]
  },
  {
   "cell_type": "code",
   "execution_count": 4,
   "metadata": {},
   "outputs": [
    {
     "name": "stdout",
     "output_type": "stream",
     "text": [
      "Banana\n"
     ]
    }
   ],
   "source": [
    "var str = \"Apple, Banana, Kiwi\";\n",
    "var res = str.slice(7, 13);\n",
    "console.log(res)"
   ]
  },
  {
   "cell_type": "code",
   "execution_count": 6,
   "metadata": {},
   "outputs": [
    {
     "name": "stdout",
     "output_type": "stream",
     "text": [
      "19\n",
      "Banana\n"
     ]
    }
   ],
   "source": [
    "console.log(str.length);\n",
    "console.log(str.slice(-12, -6)); //19-12, 19-6"
   ]
  },
  {
   "cell_type": "code",
   "execution_count": 7,
   "metadata": {},
   "outputs": [
    {
     "name": "stdout",
     "output_type": "stream",
     "text": [
      "Banana, Kiwi\n",
      "Banana, Kiwi\n"
     ]
    }
   ],
   "source": [
    "console.log(str.slice(7));\n",
    "console.log(str.slice(-12));"
   ]
  },
  {
   "cell_type": "code",
   "execution_count": 8,
   "metadata": {},
   "outputs": [
    {
     "name": "stdout",
     "output_type": "stream",
     "text": [
      "Banana\n"
     ]
    }
   ],
   "source": [
    "var str = \"Apple, Banana, Kiwi\";\n",
    "var res = str.substring(7, 13);\n",
    "console.log(res);"
   ]
  },
  {
   "cell_type": "code",
   "execution_count": 9,
   "metadata": {},
   "outputs": [
    {
     "name": "stdout",
     "output_type": "stream",
     "text": [
      "Banana\n",
      "Banana, Kiwi\n",
      "Kiwi\n"
     ]
    }
   ],
   "source": [
    "var res1 = str.substr(7, 6);\n",
    "console.log(res1);\n",
    "console.log(str.substr(7));\n",
    "console.log(str.substr(-4));"
   ]
  },
  {
   "cell_type": "markdown",
   "metadata": {},
   "source": [
    "## Replacing string content\n",
    "- replace( ) \n",
    "    - method replaces a specified value with another value in string and returns the new string"
   ]
  },
  {
   "cell_type": "code",
   "execution_count": 11,
   "metadata": {},
   "outputs": [
    {
     "name": "stdout",
     "output_type": "stream",
     "text": [
      "Apple, Banana, Kiwi\n",
      "Mango Banana, Kiwi\n"
     ]
    }
   ],
   "source": [
    "var str = \"Apple, Banana, Kiwi\";\n",
    "var newStr = str.replace('Apple,', 'Mango');\n",
    "console.log(str)\n",
    "console.log(newStr)"
   ]
  },
  {
   "cell_type": "markdown",
   "metadata": {},
   "source": [
    "### Converting to Upper and Lower Case\n",
    "- toUpperCase() - converts and returns uppercase text\n",
    "- toLowerCase() - converts and returns lowercase text"
   ]
  },
  {
   "cell_type": "code",
   "execution_count": 12,
   "metadata": {},
   "outputs": [
    {
     "name": "stdout",
     "output_type": "stream",
     "text": [
      "Hello there Beautiful World!\n",
      "HELLO THERE BEAUTIFUL WORLD!\n"
     ]
    }
   ],
   "source": [
    "var text1 = \"Hello there Beautiful World!\";\n",
    "var text2 = text1.toUpperCase();\n",
    "console.log(text1);\n",
    "console.log(text2);"
   ]
  },
  {
   "cell_type": "code",
   "execution_count": 13,
   "metadata": {},
   "outputs": [
    {
     "name": "stdout",
     "output_type": "stream",
     "text": [
      "hello there beautiful world!\n"
     ]
    }
   ],
   "source": [
    "var text3 = text2.toLowerCase();\n",
    "console.log(text3)"
   ]
  },
  {
   "cell_type": "markdown",
   "metadata": {},
   "source": [
    "### concatenating / joining two or more strings\n",
    "- concat()\n",
    "- \\+ operator"
   ]
  },
  {
   "cell_type": "code",
   "execution_count": 1,
   "metadata": {},
   "outputs": [
    {
     "name": "stdout",
     "output_type": "stream",
     "text": [
      "Hello World\n"
     ]
    }
   ],
   "source": [
    "var str1 = \"Hello\";\n",
    "var str2 = \"World\";\n",
    "var text = str1.concat(\" \", str2);\n",
    "console.log(text)"
   ]
  },
  {
   "cell_type": "code",
   "execution_count": 7,
   "metadata": {},
   "outputs": [
    {
     "name": "stdout",
     "output_type": "stream",
     "text": [
      "Hello World\n"
     ]
    }
   ],
   "source": [
    "var str3 = str1 + ' ' + str2\n",
    "console.log(str3)"
   ]
  },
  {
   "cell_type": "code",
   "execution_count": 5,
   "metadata": {},
   "outputs": [
    {
     "name": "stdout",
     "output_type": "stream",
     "text": [
      "Hello World\n"
     ]
    }
   ],
   "source": [
    "var str4 = `${str1} ${str2}`\n",
    "console.log(str3)"
   ]
  },
  {
   "cell_type": "code",
   "execution_count": 8,
   "metadata": {},
   "outputs": [
    {
     "name": "stdout",
     "output_type": "stream",
     "text": [
      "Hello World\n"
     ]
    }
   ],
   "source": [
    "// format string\n",
    "console.log(\"%s %s\", str1, str2);"
   ]
  },
  {
   "cell_type": "markdown",
   "metadata": {},
   "source": [
    "### trimming / removing white spaces from both ends\n",
    "- trim( ) - returns new string trimming whitespaces on both sides"
   ]
  },
  {
   "cell_type": "code",
   "execution_count": 16,
   "metadata": {},
   "outputs": [
    {
     "name": "stdout",
     "output_type": "stream",
     "text": [
      "Hello World !\n",
      "       Hello World         !\n"
     ]
    }
   ],
   "source": [
    "var str = \"       Hello World        \";\n",
    "var str1 = str.trim();\n",
    "console.log(str1, '!');\n",
    "console.log(str, '!')"
   ]
  },
  {
   "cell_type": "markdown",
   "metadata": {},
   "source": [
    "### extracting string characters\n",
    "- charAt(position)\n",
    "- charCodeAt(position)\n",
    "- [] proerty access\n",
    "    - use index; -ve index not supported"
   ]
  },
  {
   "cell_type": "code",
   "execution_count": 11,
   "metadata": {},
   "outputs": [
    {
     "name": "stdout",
     "output_type": "stream",
     "text": [
      "H\n",
      "72\n",
      "H\n"
     ]
    }
   ],
   "source": [
    "var str = \"HELLO WORLD\";\n",
    "console.log(str.charAt(0));\n",
    "console.log(str.charCodeAt(0));\n",
    "console.log(str[0]);"
   ]
  },
  {
   "cell_type": "code",
   "execution_count": 12,
   "metadata": {},
   "outputs": [
    {
     "name": "stdout",
     "output_type": "stream",
     "text": [
      "H\n"
     ]
    }
   ],
   "source": [
    "// assignment doesn't work; doesn't give error. \n",
    "str[0] = \"h\";\n",
    "// Can't replace character in place because string is immutable\n",
    "console.log(str[0]);"
   ]
  },
  {
   "cell_type": "markdown",
   "metadata": {},
   "source": [
    "### converting strings into arrays\n",
    "- split() method allows us to convert string into array"
   ]
  },
  {
   "cell_type": "code",
   "execution_count": 19,
   "metadata": {},
   "outputs": [
    {
     "name": "stdout",
     "output_type": "stream",
     "text": [
      "[ 'a', ' b', ' c', ' d', ' e' ]\n",
      "[ 'a,', 'b,', 'c,', 'd,', 'e' ]\n",
      "[ 'a, b, c, d, e' ]\n"
     ]
    }
   ],
   "source": [
    "var txt = \"a, b, c, d, e\";            // String\n",
    "console.log(txt.split(\",\"));          // Split on commas\n",
    "console.log(txt.split(\" \"));          // Split on spaces\n",
    "console.log(txt.split(\"|\"));          // Split on pipe"
   ]
  },
  {
   "cell_type": "code",
   "execution_count": 20,
   "metadata": {},
   "outputs": [
    {
     "name": "stdout",
     "output_type": "stream",
     "text": [
      "[ 'H', 'e', 'l', 'l', 'o', ' ', 'W', 'o', 'r', 'l', 'd' ]\n"
     ]
    }
   ],
   "source": [
    "var str = \"Hello World\";\n",
    "var charList = str.split('');\n",
    "console.log(charList)"
   ]
  },
  {
   "cell_type": "markdown",
   "metadata": {},
   "source": [
    "## Join array of string/chars to a single string?\n",
    "- see Array chapter"
   ]
  },
  {
   "cell_type": "code",
   "execution_count": null,
   "metadata": {},
   "outputs": [],
   "source": []
  }
 ],
 "metadata": {
  "kernelspec": {
   "display_name": "Javascript (Node.js)",
   "language": "javascript",
   "name": "javascript"
  },
  "language_info": {
   "file_extension": ".js",
   "mimetype": "application/javascript",
   "name": "javascript",
   "version": "11.14.0"
  }
 },
 "nbformat": 4,
 "nbformat_minor": 2
}
