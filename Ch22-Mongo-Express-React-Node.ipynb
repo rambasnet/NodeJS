{
 "cells": [
  {
   "cell_type": "markdown",
   "metadata": {},
   "source": [
    "# MERN Full Stack Development\n",
    "- Mongo, Express, React and Node (MERN)\n",
    "- What is MERN Stack? https://www.mongodb.com/mern-stack\n",
    "\n",
    "## React authentication demo\n",
    "- `ExpressMongoDemos/react/authenticate_demo` is the main project directory that contains two sub-projects:\n",
    "    1. React client\n",
    "    2. Express API server\n",
    "\n",
    "### React client\n",
    "- uses Fetch API to authenticate with the Express API app that connects with MongoDB"
   ]
  },
  {
   "cell_type": "code",
   "execution_count": null,
   "metadata": {},
   "outputs": [],
   "source": []
  }
 ],
 "metadata": {
  "kernelspec": {
   "display_name": "Python 3",
   "language": "python",
   "name": "python3"
  },
  "language_info": {
   "codemirror_mode": {
    "name": "ipython",
    "version": 3
   },
   "file_extension": ".py",
   "mimetype": "text/x-python",
   "name": "python",
   "nbconvert_exporter": "python",
   "pygments_lexer": "ipython3",
   "version": "3.9.2"
  }
 },
 "nbformat": 4,
 "nbformat_minor": 4
}
