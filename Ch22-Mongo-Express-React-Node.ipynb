{
 "cells": [
  {
   "cell_type": "markdown",
   "metadata": {},
   "source": [
    "# MERN Full Stack Demos\n",
    "- Mongo, Express, React and Node (MERN)\n",
    "- What is MERN Stack? https://www.mongodb.com/mern-stack\n",
    "\n",
    "## `ExpressMongoDemos/react/gradebook-v1`\n",
    "- simple gradebook app using React view, Mongo database and Express/NodeJS web server\n",
    "- uses Mongoose - https://mongoosejs.com/ - to manage Mongo DB\n",
    "- demonstrates authentication and sesssion\n",
    "- doesn't hash passwords; doesn't have server side data validation\n",
    "\n",
    "## `ExpressMongoDemos/react/gradebook-v2`\n",
    "- simple gradebook app using React view, Mongo database and Express/NodeJS web server\n",
    "- uses Mongoose - https://mongoosejs.com/ - to manage Mongo DB\n",
    "- demonstrates authentication and sesssion\n",
    "- stores hashed passwords; demonstrates server side data validation"
   ]
  },
  {
   "cell_type": "code",
   "execution_count": null,
   "metadata": {},
   "outputs": [],
   "source": []
  }
 ],
 "metadata": {
  "kernelspec": {
   "display_name": "Python 3",
   "language": "python",
   "name": "python3"
  },
  "language_info": {
   "codemirror_mode": {
    "name": "ipython",
    "version": 3
   },
   "file_extension": ".py",
   "mimetype": "text/x-python",
   "name": "python",
   "nbconvert_exporter": "python",
   "pygments_lexer": "ipython3",
   "version": "3.9.2"
  }
 },
 "nbformat": 4,
 "nbformat_minor": 4
}
