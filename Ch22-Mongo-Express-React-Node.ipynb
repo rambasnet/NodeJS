{
 "cells": [
  {
   "cell_type": "markdown",
   "metadata": {},
   "source": [
    "# MERN Full Stack Demos\n",
    "- Mongo, Express, React and Node (MERN)\n",
    "- What is MERN Stack? https://www.mongodb.com/mern-stack\n",
    "\n",
    "## `ExpressMongoDemos/react/gradebook-v1`\n",
    "- simple gradebook app using React view, Mongo database and Express/NodeJS web server\n",
    "- uses Mongoose - https://mongoosejs.com/ - to manage Mongo DB\n",
    "- demonstrates authentication and sesssion\n",
    "- doesn't hash passwords; doesn't have server side data validation\n",
    "\n",
    "## `ExpressMongoDemos/react/gradebook-v2`\n",
    "- simple gradebook app using React view, Mongo database and Express/NodeJS web server\n",
    "- uses Mongoose - https://mongoosejs.com/ - to manage Mongo DB\n",
    "- demonstrates authentication and sesssion\n",
    "- stores hashed passwords; demonstrates server side data validation\n",
    "\n",
    "## Deploy Express App on Heroku\n",
    "- https://devcenter.heroku.com/articles/getting-started-with-nodejs\n",
    "- follow the demo to deploy \"Hello World\" App on Heroku\n",
    "\n",
    "### steps\n",
    "\n",
    "1. Create a new Github repository for your app (can be public/private)\n",
    "2. Download and install Heroku CLI\n",
    "3. Create a free account on Heroku\n",
    "4. Create new app on Heroku from dashboard\n",
    "5. Login to Heroku from CLI and remote git \n",
    "    ```\n",
    "    $ heroku login\n",
    "    $ git add <file>\n",
    "    $ git commit -m \"message\"\n",
    "    $ git push # push to GitHub repository\n",
    "    $ heroku git:remote -a <App_Name>\n",
    "    ```\n",
    "6. Create a new text file called `Procfile` and add the following content\n",
    "    ```\n",
    "    web: npm run\n",
    "    ```\n",
    "7. Deploy your app \n",
    "\n",
    "    ```\n",
    "    $ git push heroku main\n",
    "    ```\n",
    "    \n",
    "### Note:\n",
    "- Make sure devDependencies are install as regular dependencies for Heroku to install\n",
    "- install `react` and `react-dom` if using `express-react-views`"
   ]
  },
  {
   "cell_type": "code",
   "execution_count": null,
   "metadata": {},
   "outputs": [],
   "source": []
  }
 ],
 "metadata": {
  "kernelspec": {
   "display_name": "Python 3",
   "language": "python",
   "name": "python3"
  },
  "language_info": {
   "codemirror_mode": {
    "name": "ipython",
    "version": 3
   },
   "file_extension": ".py",
   "mimetype": "text/x-python",
   "name": "python",
   "nbconvert_exporter": "python",
   "pygments_lexer": "ipython3",
   "version": "3.9.2"
  }
 },
 "nbformat": 4,
 "nbformat_minor": 4
}
