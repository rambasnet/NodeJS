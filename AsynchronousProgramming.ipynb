{
 "cells": [
  {
   "cell_type": "markdown",
   "id": "892841d1-64c0-4a44-8818-e43a04ef1c67",
   "metadata": {},
   "source": [
    "# A Synchronous Programming\n",
    "\n",
    "## Synchronous Programming\n",
    "- synchronous execution usually refers to code executing in sequence\n",
    "- program is executed line by line top to bottom one statement at a time\n",
    "- when a function is called, the caller waits until the callee returns and the caller continues to the next line of code\n",
    "- these operations may also be called **blocking** as they preven further execution until that operation is complete\n",
    "- most programming languages by default do synchronous execution\n",
    "- all operations are blocking and execute in sync\n",
    "- may not be greate experience for end users as they wait seeing rainbow-colored cursor (or beachball)\n",
    "- also not effecient utilization of many cores modern computers typically have\n",
    "\n",
    "<img src=\"./resources/beachball.jpg\">\n",
    "\n",
    "\n",
    "## Asynchronous Programming\n",
    "- asynchronous execution refers to execution that doesn't follow the sequence it appears in the code\n",
    "- program doesn't wait for current task to complete and can move on to the next statement\n",
    "- when a async operation/code is executed, execution cotinues without **blocking** the next statement/code that need to be executed\n",
    "- order of the operations can't be predicted before hand as the code execute asynchronously\n",
    "- generally speaking most operations that are usually slow such as **I/O** and **time** related operations are aync or blocking"
   ]
  },
  {
   "cell_type": "code",
   "execution_count": null,
   "id": "ade389ec-54fd-4c53-a4aa-22d3dfedf4d3",
   "metadata": {},
   "outputs": [],
   "source": []
  },
  {
   "cell_type": "markdown",
   "id": "9907bb71-8e2d-4953-82fb-4dad7def31ca",
   "metadata": {},
   "source": [
    "## Callbacks\n",
    "- a **callbac** is a function passed as an argument into another function\n",
    "- when the function is completed, it can call the **callback** function to complete the rest of the task\n",
    "- the **callback** can be invoked immidiately synchronously or it might happen later time asynchronously\n",
    "\n"
   ]
  }
 ],
 "metadata": {
  "kernelspec": {
   "display_name": "Javascript (Node.js)",
   "language": "javascript",
   "name": "javascript"
  },
  "language_info": {
   "file_extension": ".js",
   "mimetype": "application/javascript",
   "name": "javascript",
   "version": "15.12.0"
  }
 },
 "nbformat": 4,
 "nbformat_minor": 5
}
