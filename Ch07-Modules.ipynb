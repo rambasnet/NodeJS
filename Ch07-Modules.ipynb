{
 "cells": [
  {
   "cell_type": "markdown",
   "metadata": {},
   "source": [
    "# User defined modules"
   ]
  },
  {
   "cell_type": "markdown",
   "metadata": {},
   "source": [
    "## modules - require/import\n",
    "- https://nodejs.org/api/modules.html\n",
    "- large projects typically require JS code to be written in multiple files or modules\n",
    "- user defined modules and packages are sometime used as library in other modules\n",
    "- syntax: \n",
    "```javascript\n",
    "const modName = require('./moduleName')\n",
    "```\n",
    "- .js extension of the module is optional\n",
    "- if relative package or module name is used, Node will look for the module relative to the current module where the external module is required\n",
    "- without a leading `/`, `./`, or `../` to indicate a file, the module must either be a core module or is loaded from a node_modules folder.\n",
    "- circular module dependencies need to be avoided or carefully done to work properly\n",
    "- modules are cached after the first time they're loaded\n",
    "- import keyword is not supported by Node as of version 10.12"
   ]
  },
  {
   "cell_type": "markdown",
   "metadata": {},
   "source": [
    "## modules - export\n",
    "- modules must export names: functions, class and primitive values to be able to use by other module using import\n",
    "- In exporting module use:\n",
    "\n",
    "```javascript\n",
    "module.exports = { name1, name2, ... };\n",
    "```\n",
    "- requiring/importing module can use use two ways:\n",
    "- require the whole module and all the exported names\n",
    "\n",
    "```javascript\n",
    "const mod_name = require('path/modulename.js')\n",
    "mode_name.name1...\n",
    "mode_name.name2(...)\n",
    "```\n",
    "- require/import only the specific exported names\n",
    "\n",
    "```javascript\n",
    "const {name1, name2, ...} = require('path/modulename')\n",
    "```"
   ]
  },
  {
   "cell_type": "markdown",
   "metadata": {},
   "source": [
    "## see JSDemo/moduleDemo.js  for a quick demo\n",
    "- module is executed when it is required or loaded into another\n",
    "- use guard to prevent unnecessary codes (such as tests) being executed if the module is expected to be used as library\n",
    "\n",
    "```javascript\n",
    "if (require.main === module) {\n",
    "    // do what the module is supposed to when run as the main module\n",
    "}\n",
    "```\n",
    "\n",
    "## passing command line arguments to main module\n",
    "- the module name run with node interpreter is considered the main module\n",
    "- one can pass arguments to main module similar to passing arguments to main function in C/C++ program\n",
    "\n",
    "```bash\n",
    "node module.js arg1 arg2 ...\n",
    "```\n",
    "- module.js can capture and work with the arguments passed using global process.argv list\n",
    "\n",
    "```nodejs\n",
    "process.argv[index]\n",
    "```\n",
    "\n",
    "- index 0 is node program\n",
    "- index 1 is name of the module\n",
    "- index 2 and above are the indicies of user provided arguments while running the module\n",
    "- see `JSDemo/commandLineArgs.js` for demo "
   ]
  },
  {
   "cell_type": "code",
   "execution_count": null,
   "metadata": {},
   "outputs": [],
   "source": []
  }
 ],
 "metadata": {
  "kernelspec": {
   "display_name": "Javascript (Node.js)",
   "language": "javascript",
   "name": "javascript"
  },
  "language_info": {
   "file_extension": ".js",
   "mimetype": "application/javascript",
   "name": "javascript",
   "version": "10.13.0"
  }
 },
 "nbformat": 4,
 "nbformat_minor": 2
}
