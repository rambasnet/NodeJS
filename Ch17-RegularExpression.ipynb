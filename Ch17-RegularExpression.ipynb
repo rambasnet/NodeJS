{
 "cells": [
  {
   "cell_type": "markdown",
   "metadata": {},
   "source": [
    "# Regular Expression (RE)\n",
    "- https://developer.mozilla.org/en-US/docs/Web/JavaScript/Guide/Regular_Expressions\n",
    "- https://www.regular-expressions.info/quickstart.html\n",
    "- Regular expressions are patterns used to match character combinations in strings\n",
    "- in JS, REs are also objects\n",
    "- patterns once created are used with the **exec** and **test** methods of **RegExp** and with **match, matchAll(), replace, search, and split** methods of **String**\n",
    "    - `regex.exec(str)` - RegExp method - returns an array of matched values or null on a mismatch\n",
    "    - `regex.test(str)` - RegExp method - tests for a match in a string\n",
    "    - `str.match(regex)` - String method - retrieves the result of matching a string against a regular expression regular expression\n",
    "    - `str.search(regex)` - String method - returns the index of the match or -1 if the search fails\n",
    "    - `str.replace(regex, replacement)` - String method - replaces the matched substring with the replacement substring\n",
    "    - `str.split(regex)` - String method - breaks a string into an array of substrings using regular expression as delimeter"
   ]
  },
  {
   "cell_type": "markdown",
   "metadata": {},
   "source": [
    "### creating regular expression objects\n",
    "- one of the two ways: \n",
    "#### reg exp literal\n",
    "```javascript\n",
    "     /regular expression/\n",
    "```\n",
    "#### function/class\n",
    "```javascript\n",
    "   new RegExp('regular expression');\n",
    "```"
   ]
  },
  {
   "cell_type": "code",
   "execution_count": 1,
   "metadata": {},
   "outputs": [],
   "source": [
    "// regular expression literal example\n",
    "var re = /ab+c/;"
   ]
  },
  {
   "cell_type": "code",
   "execution_count": 2,
   "metadata": {},
   "outputs": [],
   "source": [
    "// regular expression function/object\n",
    "var re1 = new RegExp('ab+c');"
   ]
  },
  {
   "cell_type": "code",
   "execution_count": 3,
   "metadata": {},
   "outputs": [],
   "source": [
    "// let's use the following string to search for re and re1\n",
    "var str = \"I know how to read abbcabc...z\";"
   ]
  },
  {
   "cell_type": "code",
   "execution_count": 4,
   "metadata": {},
   "outputs": [
    {
     "name": "stdout",
     "output_type": "stream",
     "text": [
      "19\n"
     ]
    }
   ],
   "source": [
    "// search for matching expression re in str object\n",
    "// search returns the first index if found, -1 otherwise\n",
    "console.log(str.search(re));"
   ]
  },
  {
   "cell_type": "code",
   "execution_count": 5,
   "metadata": {},
   "outputs": [
    {
     "name": "stdout",
     "output_type": "stream",
     "text": [
      "19\n"
     ]
    }
   ],
   "source": [
    "// search for matching expression re1 in str object\n",
    "console.log(str.search(re1));"
   ]
  },
  {
   "cell_type": "code",
   "execution_count": 6,
   "metadata": {},
   "outputs": [
    {
     "data": {
      "text/plain": [
       "19"
      ]
     },
     "execution_count": 6,
     "metadata": {},
     "output_type": "execute_result"
    }
   ],
   "source": [
    "str.indexOf('abbc')"
   ]
  },
  {
   "cell_type": "code",
   "execution_count": 7,
   "metadata": {},
   "outputs": [
    {
     "data": {
      "text/plain": [
       "23"
      ]
     },
     "execution_count": 7,
     "metadata": {},
     "output_type": "execute_result"
    }
   ],
   "source": [
    "str.indexOf('abc')"
   ]
  },
  {
   "cell_type": "markdown",
   "metadata": {},
   "source": [
    "## special characters in RegExp"
   ]
  },
  {
   "cell_type": "code",
   "execution_count": 22,
   "metadata": {},
   "outputs": [
    {
     "data": {
      "text/plain": [
       "3"
      ]
     },
     "execution_count": 22,
     "metadata": {},
     "output_type": "execute_result"
    }
   ],
   "source": [
    "// \\ - escape the special meaning of the next chracter and match it as a literal\n",
    "'abc\\\\de'.search(/\\\\/) // match"
   ]
  },
  {
   "cell_type": "code",
   "execution_count": 16,
   "metadata": {},
   "outputs": [
    {
     "data": {
      "text/plain": [
       "-1"
      ]
     },
     "execution_count": 16,
     "metadata": {},
     "output_type": "execute_result"
    }
   ],
   "source": [
    "// ^ - matches beginning of input; doesn't match A in Apple\n",
    "'an Apple'.search(/^A/) // no match"
   ]
  },
  {
   "cell_type": "code",
   "execution_count": 17,
   "metadata": {},
   "outputs": [
    {
     "data": {
      "text/plain": [
       "0"
      ]
     },
     "execution_count": 17,
     "metadata": {},
     "output_type": "execute_result"
    }
   ],
   "source": [
    "'An Apple'.search(/^A/) // match"
   ]
  },
  {
   "cell_type": "code",
   "execution_count": 20,
   "metadata": {},
   "outputs": [
    {
     "data": {
      "text/plain": [
       "3"
      ]
     },
     "execution_count": 20,
     "metadata": {},
     "output_type": "execute_result"
    }
   ],
   "source": [
    "// $ - matches end of input\n",
    "'an Apple'.search(/Apple$/) // match"
   ]
  },
  {
   "cell_type": "code",
   "execution_count": 21,
   "metadata": {},
   "outputs": [
    {
     "data": {
      "text/plain": [
       "-1"
      ]
     },
     "execution_count": 21,
     "metadata": {},
     "output_type": "execute_result"
    }
   ],
   "source": [
    "'an Apple fell'.search(/Apple$/) // no match"
   ]
  },
  {
   "cell_type": "code",
   "execution_count": 28,
   "metadata": {},
   "outputs": [
    {
     "data": {
      "text/plain": [
       "[ 'boooo',\n",
       "  index: 8,\n",
       "  input: 'A ghost booooed and boed',\n",
       "  groups: undefined ]"
      ]
     },
     "execution_count": 28,
     "metadata": {},
     "output_type": "execute_result"
    }
   ],
   "source": [
    "// * - matches the preceding expression 0 or more times\n",
    "\"A ghost booooed and boed\".match(/bo*/)"
   ]
  },
  {
   "cell_type": "code",
   "execution_count": 33,
   "metadata": {},
   "outputs": [
    {
     "data": {
      "text/plain": [
       "[ 'boooo', 'boo' ]"
      ]
     },
     "execution_count": 33,
     "metadata": {},
     "output_type": "execute_result"
    }
   ],
   "source": [
    "// match all the patterns globally /g\n",
    "\"A ghost booooed and booed\".match(/bo*/g)"
   ]
  },
  {
   "cell_type": "code",
   "execution_count": 34,
   "metadata": {},
   "outputs": [
    {
     "data": {
      "text/plain": [
       "[ 'ca', index: 0, input: 'candy', groups: undefined ]"
      ]
     },
     "execution_count": 34,
     "metadata": {},
     "output_type": "execute_result"
    }
   ],
   "source": [
    "// + - matches the preceding expression 1 or more times\n",
    "\"candy\".match(/ca+/)"
   ]
  },
  {
   "cell_type": "code",
   "execution_count": 35,
   "metadata": {},
   "outputs": [
    {
     "data": {
      "text/plain": [
       "[ 'caaaaa', index: 0, input: 'caaaaandy', groups: undefined ]"
      ]
     },
     "execution_count": 35,
     "metadata": {},
     "output_type": "execute_result"
    }
   ],
   "source": [
    "\"caaaaandy\".match(/ca+/)"
   ]
  },
  {
   "cell_type": "code",
   "execution_count": 36,
   "metadata": {},
   "outputs": [
    {
     "data": {
      "text/plain": [
       "null"
      ]
     },
     "execution_count": 36,
     "metadata": {},
     "output_type": "execute_result"
    }
   ],
   "source": [
    "\"cndy\".match(/ca+/)"
   ]
  },
  {
   "cell_type": "code",
   "execution_count": 54,
   "metadata": {},
   "outputs": [
    {
     "data": {
      "text/plain": [
       "[ 'o #', index: 4, input: 'hello # there', groups: undefined ]"
      ]
     },
     "execution_count": 54,
     "metadata": {},
     "output_type": "execute_result"
    }
   ],
   "source": [
    "// ? - matches the preceding expression 0 or 1 time\n",
    "'hello # there'.match(/o #?/) // match"
   ]
  },
  {
   "cell_type": "code",
   "execution_count": 59,
   "metadata": {},
   "outputs": [
    {
     "data": {
      "text/plain": [
       "[ 'o', index: 4, input: 'hello there', groups: undefined ]"
      ]
     },
     "execution_count": 59,
     "metadata": {},
     "output_type": "execute_result"
    }
   ],
   "source": [
    "'hello there'.match(/o#?/) // no match"
   ]
  },
  {
   "cell_type": "code",
   "execution_count": 63,
   "metadata": {},
   "outputs": [
    {
     "data": {
      "text/plain": [
       "[ 'hello there',\n",
       "  index: 0,\n",
       "  input: 'hello there\\n',\n",
       "  groups: undefined ]"
      ]
     },
     "execution_count": 63,
     "metadata": {},
     "output_type": "execute_result"
    }
   ],
   "source": [
    "// . matches any single character except the newline character\n",
    "'hello there\\n'.match(/.+/)"
   ]
  },
  {
   "cell_type": "code",
   "execution_count": 65,
   "metadata": {},
   "outputs": [
    {
     "data": {
      "text/plain": [
       "[ '911', index: 6, input: ' dial 911', groups: undefined ]"
      ]
     },
     "execution_count": 65,
     "metadata": {},
     "output_type": "execute_result"
    }
   ],
   "source": [
    "// \\d - matches a digit character. Equivalent to [0-9]\n",
    "' dial 911'.match(/\\d+/)"
   ]
  },
  {
   "cell_type": "code",
   "execution_count": 68,
   "metadata": {},
   "outputs": [
    {
     "data": {
      "text/plain": [
       "[ 'abAB1_', index: 0, input: 'abAB1_  234', groups: undefined ]"
      ]
     },
     "execution_count": 68,
     "metadata": {},
     "output_type": "execute_result"
    }
   ],
   "source": [
    "// \\w - matches any alphanumeric character including underscore. Equivalent to [A-Za-z0-9_]\n",
    "'abAB1_  234'.match(/\\w*/)"
   ]
  },
  {
   "cell_type": "code",
   "execution_count": 76,
   "metadata": {},
   "outputs": [
    {
     "data": {
      "text/plain": [
       "[ '%^& $()~!@',\n",
       "  index: 2,\n",
       "  input: 'hi%^& $()~!@there',\n",
       "  groups: undefined ]"
      ]
     },
     "execution_count": 76,
     "metadata": {},
     "output_type": "execute_result"
    }
   ],
   "source": [
    "// \\W - matches any non-word character; oppsite of \\w\n",
    "'hi%^& $()~!@there'.match(/\\W+/)"
   ]
  },
  {
   "cell_type": "code",
   "execution_count": 77,
   "metadata": {},
   "outputs": [
    {
     "data": {
      "text/plain": [
       "[ ' \\t\\r\\n ',\n",
       "  index: 2,\n",
       "  input: 'hi \\t\\r\\n there',\n",
       "  groups: undefined ]"
      ]
     },
     "execution_count": 77,
     "metadata": {},
     "output_type": "execute_result"
    }
   ],
   "source": [
    "// \\s - matches a white space character, including space, tab, form feed, line feed `\\n`, etc.\n",
    "'hi \\t\\r\\n there'.match(/\\s+/)"
   ]
  },
  {
   "cell_type": "code",
   "execution_count": 93,
   "metadata": {},
   "outputs": [
    {
     "data": {
      "text/plain": [
       "[ '12', index: 10, input: 'blah blah 123 45', groups: undefined ]"
      ]
     },
     "execution_count": 93,
     "metadata": {},
     "output_type": "execute_result"
    }
   ],
   "source": [
    "// {n} - matches exactly n occurances of the preceding expression. n must be a positive integer\n",
    "'blah blah 123 45'.match(/\\d{2}/)"
   ]
  },
  {
   "cell_type": "code",
   "execution_count": 91,
   "metadata": {},
   "outputs": [
    {
     "data": {
      "text/plain": [
       "[ '123', index: 10, input: 'blah blah 123 45', groups: undefined ]"
      ]
     },
     "execution_count": 91,
     "metadata": {},
     "output_type": "execute_result"
    }
   ],
   "source": [
    "// {n, } - matches at least n occurances of the preceding expression\n",
    "'blah blah 123 45'.match(/\\d{2,}/)"
   ]
  },
  {
   "cell_type": "code",
   "execution_count": 96,
   "metadata": {},
   "outputs": [
    {
     "data": {
      "text/plain": [
       "[ '1234' ]"
      ]
     },
     "execution_count": 96,
     "metadata": {},
     "output_type": "execute_result"
    }
   ],
   "source": [
    "// {n, m} - matches at least n and at most m occurences of the preceding expression (where n <= m )\n",
    "'blah blah 1234 45'.match(/\\d{3,4}/g)"
   ]
  },
  {
   "cell_type": "code",
   "execution_count": 104,
   "metadata": {},
   "outputs": [
    {
     "data": {
      "text/plain": [
       "[ 'aeiou', 'a', 'e', 'e', 'o', 'e' ]"
      ]
     },
     "execution_count": 104,
     "metadata": {},
     "output_type": "execute_result"
    }
   ],
   "source": [
    "// [abc] - character set - the patter type matches any one of the character in the brackets. \n",
    "// Special characters (escape sequence are not speical inside `[ ]` so they don't need to be escaped\n",
    "// match all the volwels globally\n",
    "'aeiou are the volwes'.match(/[aeiou]+/g)"
   ]
  },
  {
   "cell_type": "code",
   "execution_count": 105,
   "metadata": {},
   "outputs": [
    {
     "data": {
      "text/plain": [
       "[ 'green', index: 0, input: 'green apples', groups: undefined ]"
      ]
     },
     "execution_count": 105,
     "metadata": {},
     "output_type": "execute_result"
    }
   ],
   "source": [
    "// x|y - matches 'x', or 'y' (if there's no match for 'x')\n",
    "\"green apples\".match(/green|red/)"
   ]
  },
  {
   "cell_type": "code",
   "execution_count": 106,
   "metadata": {},
   "outputs": [
    {
     "data": {
      "text/plain": [
       "[ 'red', index: 0, input: 'red apples', groups: undefined ]"
      ]
     },
     "execution_count": 106,
     "metadata": {},
     "output_type": "execute_result"
    }
   ],
   "source": [
    "\"red apples\".match(/green|red/)"
   ]
  },
  {
   "cell_type": "code",
   "execution_count": 38,
   "metadata": {},
   "outputs": [
    {
     "name": "stdout",
     "output_type": "stream",
     "text": [
      "Smith, John\n"
     ]
    }
   ],
   "source": [
    "// search and replace\n",
    "var re = /(\\w+)\\s(\\w+)/;\n",
    "var str = 'John Smith';\n",
    "var newstr = str.replace(re, '$2, $1');\n",
    "console.log(newstr);"
   ]
  },
  {
   "cell_type": "code",
   "execution_count": 113,
   "metadata": {},
   "outputs": [
    {
     "data": {
      "text/plain": [
       "[ 'blah', 'blah', 'yada', 'yada', 'yada' ]"
      ]
     },
     "execution_count": 113,
     "metadata": {},
     "output_type": "execute_result"
    }
   ],
   "source": [
    "// split\n",
    "\"blah%blah%%#yada^$yada^&&yada\".split(/\\W+/)"
   ]
  },
  {
   "cell_type": "markdown",
   "metadata": {},
   "source": [
    "## advanced searching with flags\n",
    "- /pattern/flags;\n",
    "- new RegExp('pattern', 'flags');\n",
    "- Flags:\n",
    "    - `g` - global search (find all matches rather than stopping after the first match)\n",
    "    - `i` - case-insensitive search\n",
    "    - `m` - multi-line search\n",
    "    - `u` - unicode; treat a pattern as a sequence of unicode points\n",
    "    - `y` - perform a \"sticky\" search that matches starting at the current position in the target string"
   ]
  },
  {
   "cell_type": "code",
   "execution_count": 108,
   "metadata": {},
   "outputs": [],
   "source": [
    "var re = /\\w+\\s/g; // match one or more characters followed by a space globally\n",
    "// var re = new RegExp('\\\\w+\\\\s', 'g');\n",
    "var str = 'one two three four';"
   ]
  },
  {
   "cell_type": "code",
   "execution_count": 109,
   "metadata": {},
   "outputs": [
    {
     "name": "stdout",
     "output_type": "stream",
     "text": [
      "[ 'one ', 'two ', 'three ' ]\n"
     ]
    }
   ],
   "source": [
    "var myArray = str.match(re);\n",
    "console.log(myArray);"
   ]
  },
  {
   "cell_type": "markdown",
   "metadata": {},
   "source": [
    "### exercise: write a function that validates a phone number"
   ]
  },
  {
   "cell_type": "code",
   "execution_count": 7,
   "metadata": {},
   "outputs": [],
   "source": [
    "function testPhone(phoneInput) {  \n",
    "    // add ^ and $ to match exactly! otherwise will find phone pattern inside text\n",
    "    var re = /(?:\\d{3}|\\(\\d{3}\\))([-\\/\\.])\\d{3}\\1\\d{4}/;\n",
    "    var OK = re.exec(phoneInput);  \n",
    "    if (!OK)  \n",
    "        console.log(phoneInput + ' isn\\'t a phone number with area code!');  \n",
    "    else\n",
    "        console.log('Thanks, your phone number is ' + OK[0]);  \n",
    "}  "
   ]
  },
  {
   "cell_type": "code",
   "execution_count": 8,
   "metadata": {},
   "outputs": [
    {
     "name": "stdout",
     "output_type": "stream",
     "text": [
      "Thanks, your phone number is 123-456-7890\n"
     ]
    }
   ],
   "source": [
    "testPhone('123-456-7890')"
   ]
  },
  {
   "cell_type": "code",
   "execution_count": 68,
   "metadata": {},
   "outputs": [
    {
     "name": "stdout",
     "output_type": "stream",
     "text": [
      "Thanks, your phone number is (123)-456-7890\n"
     ]
    }
   ],
   "source": [
    "testPhone('(123)-456-7890')"
   ]
  },
  {
   "cell_type": "code",
   "execution_count": 69,
   "metadata": {},
   "outputs": [
    {
     "name": "stdout",
     "output_type": "stream",
     "text": [
      "Thanks, your phone number is 123.456.4567\n"
     ]
    }
   ],
   "source": [
    "testPhone('123.456.4567')"
   ]
  },
  {
   "cell_type": "code",
   "execution_count": 70,
   "metadata": {},
   "outputs": [
    {
     "name": "stdout",
     "output_type": "stream",
     "text": [
      "Thanks, your phone number is 333-444-4443\n"
     ]
    }
   ],
   "source": [
    "testPhone('3333-444-444344')"
   ]
  },
  {
   "cell_type": "code",
   "execution_count": null,
   "metadata": {},
   "outputs": [],
   "source": []
  }
 ],
 "metadata": {
  "kernelspec": {
   "display_name": "Javascript (Node.js)",
   "language": "javascript",
   "name": "javascript"
  },
  "language_info": {
   "file_extension": ".js",
   "mimetype": "application/javascript",
   "name": "javascript",
   "version": "10.13.0"
  }
 },
 "nbformat": 4,
 "nbformat_minor": 2
}
