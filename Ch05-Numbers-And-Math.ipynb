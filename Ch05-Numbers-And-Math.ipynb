{
 "cells": [
  {
   "cell_type": "markdown",
   "metadata": {},
   "source": [
    "# Numbers & Math\n",
    "- JS has only one type of number\n",
    "- Numbers can be written with or without decimals\n",
    "- extra large or extra small numbers can be written using scientific notations\n",
    "- JS numbers are 64-bit (8 byte) floating point or double precision floating point\n",
    "- integers are accurate up to 15 digits\n",
    "- floating point arithmetic is not always 100% accurate"
   ]
  },
  {
   "cell_type": "markdown",
   "metadata": {},
   "source": [
    "## operators and operations\n",
    "- $+, -, *, /, \\%, **, ++, --$ (pre and post increment and decrement)\n",
    "- $+$ when used with strings concatenates them together"
   ]
  },
  {
   "cell_type": "code",
   "execution_count": 1,
   "metadata": {},
   "outputs": [
    {
     "name": "stdout",
     "output_type": "stream",
     "text": [
      "12300000 1.23e-8\n"
     ]
    }
   ],
   "source": [
    "var x = 123e5;\n",
    "var y = 123e-10;\n",
    "console.log(x, y);"
   ]
  },
  {
   "cell_type": "code",
   "execution_count": 2,
   "metadata": {},
   "outputs": [
    {
     "name": "stdout",
     "output_type": "stream",
     "text": [
      "999999999999999 10000000000000000\n"
     ]
    }
   ],
   "source": [
    "var x = 999999999999999;   // x will be 999999999999999  (15 digits)\n",
    "var y = 9999999999999999;  // y will be 10000000000000000 (16 digits)\n",
    "console.log(x, y);"
   ]
  },
  {
   "cell_type": "code",
   "execution_count": 5,
   "metadata": {},
   "outputs": [
    {
     "name": "stdout",
     "output_type": "stream",
     "text": [
      "0.5\n",
      "0.30000000000000004\n"
     ]
    }
   ],
   "source": [
    "console.log(0.1 + 0.4);\n",
    "console.log(0.1 + 0.2); // floating point arithmetic is not always 100% correct "
   ]
  },
  {
   "cell_type": "code",
   "execution_count": 4,
   "metadata": {},
   "outputs": [
    {
     "name": "stdout",
     "output_type": "stream",
     "text": [
      "0.3\n"
     ]
    }
   ],
   "source": [
    "// to solve the above error; it helps to multiply and divide\n",
    "var x = (0.2 * 10 + 0.1 * 10) / 10;\n",
    "console.log(x);"
   ]
  },
  {
   "cell_type": "code",
   "execution_count": 6,
   "metadata": {},
   "outputs": [],
   "source": [
    "var num1 = 10;\n",
    "var num2 = 15;"
   ]
  },
  {
   "cell_type": "code",
   "execution_count": 7,
   "metadata": {},
   "outputs": [
    {
     "name": "stdout",
     "output_type": "stream",
     "text": [
      "10 '+' 15 '=' 25\n",
      "10 '-' 15 '=' -5\n",
      "10 '*' 15 '=' 150\n",
      "10 '/' 15 '=' 0.6666666666666666\n",
      "10 '**' 15 '=' 1000000000000000\n",
      "10 '%' 15 '=' 10\n"
     ]
    }
   ],
   "source": [
    "console.log(num1, \"+\", num2, '=', num1 + num2);\n",
    "console.log(num1, '-', num2, '=', num1 - num2);\n",
    "console.log(num1, '*', num2, '=', num1 * num2);\n",
    "console.log(num1, '/', num2, '=', num1 / num2);\n",
    "console.log(num1, '**', num2, '=', num1 ** num2);\n",
    "console.log(num1, '%', num2, '=', num1 % num2);"
   ]
  },
  {
   "cell_type": "code",
   "execution_count": 8,
   "metadata": {},
   "outputs": [
    {
     "name": "stdout",
     "output_type": "stream",
     "text": [
      "10\n",
      "11\n"
     ]
    }
   ],
   "source": [
    "// postincrement\n",
    "var i = 10;\n",
    "console.log(i++);\n",
    "console.log(i);"
   ]
  },
  {
   "cell_type": "code",
   "execution_count": 9,
   "metadata": {},
   "outputs": [
    {
     "name": "stdout",
     "output_type": "stream",
     "text": [
      "11\n",
      "11\n"
     ]
    }
   ],
   "source": [
    "// preincrement\n",
    "var i = 10;\n",
    "console.log(++i);\n",
    "console.log(i);"
   ]
  },
  {
   "cell_type": "code",
   "execution_count": 10,
   "metadata": {},
   "outputs": [
    {
     "name": "stdout",
     "output_type": "stream",
     "text": [
      "9\n",
      "9\n"
     ]
    }
   ],
   "source": [
    "// predecrement\n",
    "var i = 10;\n",
    "console.log(--i);\n",
    "console.log(i);"
   ]
  },
  {
   "cell_type": "code",
   "execution_count": 11,
   "metadata": {},
   "outputs": [
    {
     "name": "stdout",
     "output_type": "stream",
     "text": [
      "10\n",
      "9\n"
     ]
    }
   ],
   "source": [
    "// postdecrement\n",
    "var i = 10;\n",
    "console.log(i--);\n",
    "console.log(i);"
   ]
  },
  {
   "cell_type": "code",
   "execution_count": 12,
   "metadata": {},
   "outputs": [],
   "source": [
    "var x = 5 + 5;\n",
    "var y = \"5\" + 5;\n",
    "var z = \"Hello\" + 5 + 11;\n",
    "var name = \"John\" + \" \" + \"Smith\";\n",
    "var val = 10 + 20 + \"apple\";"
   ]
  },
  {
   "cell_type": "code",
   "execution_count": 13,
   "metadata": {},
   "outputs": [
    {
     "name": "stdout",
     "output_type": "stream",
     "text": [
      "10 '55' 'Hello511' 'John Smith' '30apple'\n"
     ]
    }
   ],
   "source": [
    "console.log(x, y, z, name, val);"
   ]
  },
  {
   "cell_type": "markdown",
   "metadata": {},
   "source": [
    "### NaN - Not-a-Number"
   ]
  },
  {
   "cell_type": "code",
   "execution_count": 14,
   "metadata": {},
   "outputs": [
    {
     "name": "stdout",
     "output_type": "stream",
     "text": [
      "NaN\n",
      "NaN\n"
     ]
    }
   ],
   "source": [
    "console.log('hi'*3);\n",
    "console.log(2000/'apple');"
   ]
  },
  {
   "cell_type": "markdown",
   "metadata": {},
   "source": [
    "# built-in typeof operator"
   ]
  },
  {
   "cell_type": "code",
   "execution_count": 15,
   "metadata": {},
   "outputs": [
    {
     "name": "stdout",
     "output_type": "stream",
     "text": [
      "number\n",
      "string\n",
      "number\n",
      "number\n",
      "number\n",
      "number\n"
     ]
    }
   ],
   "source": [
    "console.log(typeof(0));\n",
    "console.log(typeof(\"314\"));\n",
    "console.log(typeof(3.14));\n",
    "console.log(typeof(3));\n",
    "console.log(typeof(3+4));\n",
    "console.log(typeof(NaN));"
   ]
  },
  {
   "cell_type": "markdown",
   "metadata": {},
   "source": [
    "### Numeric strings\n",
    "- JS converst strings to numbers in all numeric operations except for '+'"
   ]
  },
  {
   "cell_type": "code",
   "execution_count": 1,
   "metadata": {},
   "outputs": [
    {
     "name": "stdout",
     "output_type": "stream",
     "text": [
      "33.333333333333336\n"
     ]
    }
   ],
   "source": [
    "var x = '100';\n",
    "var y = '3';\n",
    "console.log(x / y);"
   ]
  },
  {
   "cell_type": "code",
   "execution_count": 2,
   "metadata": {},
   "outputs": [
    {
     "name": "stdout",
     "output_type": "stream",
     "text": [
      "300\n"
     ]
    }
   ],
   "source": [
    "console.log(x * y);"
   ]
  },
  {
   "cell_type": "code",
   "execution_count": 3,
   "metadata": {},
   "outputs": [
    {
     "name": "stdout",
     "output_type": "stream",
     "text": [
      "97\n"
     ]
    }
   ],
   "source": [
    "console.log(x - y);"
   ]
  },
  {
   "cell_type": "code",
   "execution_count": 4,
   "metadata": {},
   "outputs": [
    {
     "name": "stdout",
     "output_type": "stream",
     "text": [
      "1003\n"
     ]
    }
   ],
   "source": [
    "console.log(x + y); // concatenates"
   ]
  },
  {
   "cell_type": "markdown",
   "metadata": {},
   "source": [
    "## Infinity and -Infinity\n",
    "- numbers outside the largest or smallest possible numbers respectively"
   ]
  },
  {
   "cell_type": "code",
   "execution_count": 18,
   "metadata": {},
   "outputs": [
    {
     "name": "stdout",
     "output_type": "stream",
     "text": [
      "Infinity\n",
      "-Infinity\n"
     ]
    }
   ],
   "source": [
    "// division by 0\n",
    "console.log(10 / 0);\n",
    "console.log(-2 / 0);"
   ]
  },
  {
   "cell_type": "code",
   "execution_count": 19,
   "metadata": {},
   "outputs": [
    {
     "data": {
      "text/plain": [
       "'number'"
      ]
     },
     "execution_count": 19,
     "metadata": {},
     "output_type": "execute_result"
    }
   ],
   "source": [
    "typeof(Infinity);"
   ]
  },
  {
   "cell_type": "code",
   "execution_count": 20,
   "metadata": {},
   "outputs": [
    {
     "name": "stdout",
     "output_type": "stream",
     "text": [
      "255\n"
     ]
    }
   ],
   "source": [
    "var x = 0xFF // will be converted to decimal by default\n",
    "console.log(x);"
   ]
  },
  {
   "cell_type": "markdown",
   "metadata": {},
   "source": [
    "## Converting variables to numbers\n",
    "- 3 global functions covered in Built-in-Functions notebook\n",
    "- Number(arg) - returns a number converted from its argument\n",
    "- paseInt(arg) - parse and return an integer\n",
    "- parseFloat(arg) - parse and return a floating point number"
   ]
  },
  {
   "cell_type": "markdown",
   "metadata": {},
   "source": [
    "## Number Properties"
   ]
  },
  {
   "cell_type": "code",
   "execution_count": 21,
   "metadata": {},
   "outputs": [
    {
     "name": "stdout",
     "output_type": "stream",
     "text": [
      "1.7976931348623157e+308\n",
      "5e-324\n",
      "Infinity\n",
      "-Infinity\n"
     ]
    }
   ],
   "source": [
    "console.log(Number.MAX_VALUE); // returns the largest number possible in JS\n",
    "console.log(Number.MIN_VALUE); // returns the smallest number possible\n",
    "console.log(Number.POSITIVE_INFINITY);\n",
    "console.log(Number.NEGATIVE_INFINITY);"
   ]
  },
  {
   "cell_type": "markdown",
   "metadata": {},
   "source": [
    "### Numbers have methods"
   ]
  },
  {
   "cell_type": "code",
   "execution_count": 7,
   "metadata": {},
   "outputs": [
    {
     "name": "stdout",
     "output_type": "stream",
     "text": [
      "32\n"
     ]
    }
   ],
   "source": [
    "var myNum = 32;\n",
    "console.log(myNum.toString(10));"
   ]
  },
  {
   "cell_type": "code",
   "execution_count": 8,
   "metadata": {},
   "outputs": [
    {
     "name": "stdout",
     "output_type": "stream",
     "text": [
      "10\n"
     ]
    }
   ],
   "source": [
    "console.log(myNum.toString(32));"
   ]
  },
  {
   "cell_type": "code",
   "execution_count": 9,
   "metadata": {},
   "outputs": [
    {
     "name": "stdout",
     "output_type": "stream",
     "text": [
      "20\n"
     ]
    }
   ],
   "source": [
    "console.log(myNum.toString(16));"
   ]
  },
  {
   "cell_type": "code",
   "execution_count": 10,
   "metadata": {},
   "outputs": [
    {
     "name": "stdout",
     "output_type": "stream",
     "text": [
      "40\n"
     ]
    }
   ],
   "source": [
    "console.log(myNum.toString(8));"
   ]
  },
  {
   "cell_type": "code",
   "execution_count": 11,
   "metadata": {},
   "outputs": [
    {
     "name": "stdout",
     "output_type": "stream",
     "text": [
      "32\n"
     ]
    }
   ],
   "source": [
    "console.log(myNum.toString());"
   ]
  },
  {
   "cell_type": "code",
   "execution_count": 23,
   "metadata": {},
   "outputs": [
    {
     "name": "stdout",
     "output_type": "stream",
     "text": [
      "true\n",
      "false\n",
      "false\n"
     ]
    }
   ],
   "source": [
    "console.log(Number.isInteger(123)); // checks whether a value is an integer\n",
    "console.log(Number.isInteger('123'));\n",
    "console.log(Number.isInteger(0.454));"
   ]
  },
  {
   "cell_type": "code",
   "execution_count": 12,
   "metadata": {},
   "outputs": [],
   "source": [
    "var num = 5.56789;\n",
    "var n = num.toFixed(4); // rounds a number to two decimal points and returns the new value as string"
   ]
  },
  {
   "cell_type": "code",
   "execution_count": 15,
   "metadata": {},
   "outputs": [
    {
     "name": "stdout",
     "output_type": "stream",
     "text": [
      "5.57\n"
     ]
    },
    {
     "data": {
      "text/plain": [
       "'string'"
      ]
     },
     "execution_count": 15,
     "metadata": {},
     "output_type": "execute_result"
    }
   ],
   "source": [
    "console.log(n);\n",
    "typeof n;"
   ]
  },
  {
   "cell_type": "code",
   "execution_count": 16,
   "metadata": {},
   "outputs": [
    {
     "name": "stdout",
     "output_type": "stream",
     "text": [
      "123.23\n"
     ]
    }
   ],
   "source": [
    "console.log(123.23423.toFixed(2));"
   ]
  },
  {
   "cell_type": "code",
   "execution_count": 5,
   "metadata": {},
   "outputs": [
    {
     "name": "stdout",
     "output_type": "stream",
     "text": [
      "13\n"
     ]
    }
   ],
   "source": [
    "var num = 13.3714;\n",
    "var n = num.toPrecision(2); // formats num into a specified length and returns the new value as string\n",
    "console.log(n);"
   ]
  },
  {
   "cell_type": "code",
   "execution_count": 6,
   "metadata": {},
   "outputs": [
    {
     "data": {
      "text/plain": [
       "'string'"
      ]
     },
     "execution_count": 6,
     "metadata": {},
     "output_type": "execute_result"
    }
   ],
   "source": [
    "typeof (n);"
   ]
  },
  {
   "cell_type": "markdown",
   "metadata": {},
   "source": [
    "## Math Object\n",
    "- provides common math operations as methods such abs(x), cos(x), sin(x), tan(x), ceil(x), \n",
    "    random(), round(x), sqrt(x), etc.\n",
    "- Math object is globally available and do not require you to include/import any library\n",
    "- all properties of Math can be found here: https://developer.mozilla.org/en-US/docs/Web/JavaScript/Reference/Global_Objects/Math"
   ]
  },
  {
   "cell_type": "code",
   "execution_count": 26,
   "metadata": {},
   "outputs": [
    {
     "name": "stdout",
     "output_type": "stream",
     "text": [
      "3.141592653589793\n"
     ]
    }
   ],
   "source": [
    "console.log(Math.PI);"
   ]
  },
  {
   "cell_type": "code",
   "execution_count": 27,
   "metadata": {},
   "outputs": [
    {
     "name": "stdout",
     "output_type": "stream",
     "text": [
      "0.4002552139245217\n",
      "5\n"
     ]
    }
   ],
   "source": [
    "var rand = Math.random(); // returns a pseudo-random number between 0 and 1\n",
    "console.log(rand);\n",
    "console.log(Math.floor(rand*10 + 1)); // print a random number between 1 and 10"
   ]
  },
  {
   "cell_type": "code",
   "execution_count": 28,
   "metadata": {},
   "outputs": [],
   "source": [
    "// Return a random number between 1 and 100 ?"
   ]
  },
  {
   "cell_type": "code",
   "execution_count": 29,
   "metadata": {},
   "outputs": [
    {
     "name": "stdout",
     "output_type": "stream",
     "text": [
      "244.24\n"
     ]
    }
   ],
   "source": [
    "console.log(Math.max(10, 24, 244.24));"
   ]
  },
  {
   "cell_type": "code",
   "execution_count": 30,
   "metadata": {},
   "outputs": [
    {
     "name": "stdout",
     "output_type": "stream",
     "text": [
      "-334\n"
     ]
    }
   ],
   "source": [
    "console.log(Math.min(242, 34, -334));"
   ]
  },
  {
   "cell_type": "code",
   "execution_count": 31,
   "metadata": {},
   "outputs": [
    {
     "name": "stdout",
     "output_type": "stream",
     "text": [
      "1\n",
      "1\n",
      "0\n"
     ]
    }
   ],
   "source": [
    "console.log(Math.round(0.6)); // rounds to nearest integer\n",
    "console.log(Math.round(0.5));\n",
    "console.log(Math.round(0.4));"
   ]
  },
  {
   "cell_type": "code",
   "execution_count": 32,
   "metadata": {},
   "outputs": [
    {
     "name": "stdout",
     "output_type": "stream",
     "text": [
      "10\n",
      "11.23\n"
     ]
    }
   ],
   "source": [
    "console.log(Math.abs(-10));\n",
    "console.log(Math.abs(11.23));"
   ]
  },
  {
   "cell_type": "code",
   "execution_count": 33,
   "metadata": {},
   "outputs": [
    {
     "name": "stdout",
     "output_type": "stream",
     "text": [
      "0\n",
      "1\n"
     ]
    }
   ],
   "source": [
    "console.log(Math.sin(0)); //degree in radians\n",
    "console.log(Math.sin(Math.PI/2));"
   ]
  },
  {
   "cell_type": "code",
   "execution_count": 34,
   "metadata": {},
   "outputs": [
    {
     "name": "stdout",
     "output_type": "stream",
     "text": [
      "6.931471805599453\n"
     ]
    }
   ],
   "source": [
    "console.log(Math.log(1024)); // natural logarithm (base E) of a number"
   ]
  },
  {
   "cell_type": "code",
   "execution_count": 40,
   "metadata": {},
   "outputs": [
    {
     "name": "stdout",
     "output_type": "stream",
     "text": [
      "2\n"
     ]
    }
   ],
   "source": [
    "console.log(Math.log10(100));"
   ]
  },
  {
   "cell_type": "code",
   "execution_count": 41,
   "metadata": {},
   "outputs": [
    {
     "name": "stdout",
     "output_type": "stream",
     "text": [
      "10\n"
     ]
    }
   ],
   "source": [
    "console.log(Math.log2(1024));"
   ]
  },
  {
   "cell_type": "code",
   "execution_count": 35,
   "metadata": {},
   "outputs": [
    {
     "name": "stdout",
     "output_type": "stream",
     "text": [
      "81\n",
      "4294967296\n"
     ]
    }
   ],
   "source": [
    "console.log(Math.pow(3, 4));\n",
    "console.log(Math.pow(2, 32));"
   ]
  },
  {
   "cell_type": "code",
   "execution_count": 36,
   "metadata": {},
   "outputs": [
    {
     "name": "stdout",
     "output_type": "stream",
     "text": [
      "10\n",
      "58.60324223112575\n"
     ]
    }
   ],
   "source": [
    "console.log(Math.sqrt(100));\n",
    "console.log(Math.sqrt(3434.34));"
   ]
  },
  {
   "cell_type": "code",
   "execution_count": 37,
   "metadata": {},
   "outputs": [
    {
     "name": "stdout",
     "output_type": "stream",
     "text": [
      "2\n",
      "1\n"
     ]
    }
   ],
   "source": [
    "console.log(Math.round(1.9)); // rounds x to nearest integer\n",
    "console.log(Math.round(1.4));"
   ]
  },
  {
   "cell_type": "code",
   "execution_count": 38,
   "metadata": {},
   "outputs": [
    {
     "name": "stdout",
     "output_type": "stream",
     "text": [
      "121\n",
      "324\n"
     ]
    }
   ],
   "source": [
    "console.log(Math.trunc(121.2323));\n",
    "console.log(Math.trunc(324.990));"
   ]
  }
 ],
 "metadata": {
  "kernelspec": {
   "display_name": "Javascript (Node.js)",
   "language": "javascript",
   "name": "javascript"
  },
  "language_info": {
   "file_extension": ".js",
   "mimetype": "application/javascript",
   "name": "javascript",
   "version": "10.13.0"
  }
 },
 "nbformat": 4,
 "nbformat_minor": 2
}
