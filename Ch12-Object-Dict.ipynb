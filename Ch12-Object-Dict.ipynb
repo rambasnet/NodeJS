{
 "cells": [
  {
   "cell_type": "markdown",
   "metadata": {},
   "source": [
    "# Object/Dictionary\n",
    "\n",
    "- JS object works like dictionary or map data structure \n",
    "    - Python dict on steroid\n",
    "    - associative array or map in C++\n",
    "- collection of `key:value` or `name:value` pairs\n",
    "- reference: https://developer.mozilla.org/en-US/docs/Web/JavaScript/Reference/Global_Objects/Object\n",
    "- in JS, almost \"everything\" is an object\n",
    "    - if defined with new keyword even primitivice types such as Booleans, Numbers and Strings are objects\n",
    "    - Dates, Maths, Regular Expressions, Arrays, Functions and Objects are always objects"
   ]
  },
  {
   "cell_type": "markdown",
   "metadata": {},
   "source": [
    "## Creating JS objects\n",
    "\n",
    "- one of the two ways:\n",
    "    1. with Object Literal - `{ }`\n",
    "    2. with new Object( )\n",
    "\n",
    "\n",
    "#### using object literal -  `{ }`"
   ]
  },
  {
   "cell_type": "code",
   "execution_count": 1,
   "metadata": {},
   "outputs": [],
   "source": [
    "var eng2Span = {};"
   ]
  },
  {
   "cell_type": "code",
   "execution_count": 2,
   "metadata": {},
   "outputs": [
    {
     "name": "stdout",
     "output_type": "stream",
     "text": [
      "object\n"
     ]
    }
   ],
   "source": [
    "typeof eng2Span"
   ]
  },
  {
   "cell_type": "code",
   "execution_count": 3,
   "metadata": {},
   "outputs": [
    {
     "name": "stdout",
     "output_type": "stream",
     "text": [
      "{ \u001b[32m'1'\u001b[39m: \u001b[32m'Uno'\u001b[39m, one: \u001b[32m'uno'\u001b[39m, two: \u001b[32m'dos'\u001b[39m, three: \u001b[32m'tres'\u001b[39m }\n"
     ]
    }
   ],
   "source": [
    "// add key value pairs\n",
    "eng2Span['one'] = 'uno';\n",
    "eng2Span['two'] = 'dos';\n",
    "eng2Span['three'] = 'tres';\n",
    "eng2Span[1] = 'Uno'; // Number key converted into string\n",
    "console.log(eng2Span)"
   ]
  },
  {
   "cell_type": "code",
   "execution_count": 4,
   "metadata": {},
   "outputs": [
    {
     "name": "stdout",
     "output_type": "stream",
     "text": [
      "{ \u001b[32m'1'\u001b[39m: \u001b[32m'Uno'\u001b[39m, one: \u001b[32m'Uno'\u001b[39m, two: \u001b[32m'dos'\u001b[39m, three: \u001b[32m'tres'\u001b[39m }\n"
     ]
    }
   ],
   "source": [
    "// update exsiting value with key\n",
    "eng2Span['one'] = 'Uno'\n",
    "console.log(eng2Span)"
   ]
  },
  {
   "cell_type": "code",
   "execution_count": 5,
   "metadata": {},
   "outputs": [],
   "source": [
    "// if object is initialized withint { }; keys don't have to be within quotes\n",
    "var person = {firstName:\"John\", \n",
    "              lastName:\"Doe\", \n",
    "              age:50, \n",
    "              eyeColor:\"blue\"};"
   ]
  },
  {
   "cell_type": "markdown",
   "metadata": {},
   "source": [
    "#### using keyword new\n",
    "- for simplicity, readability and execution speed, the object literal method is preferred!\n",
    "- but, here's how built-in global `Object( )` function works..."
   ]
  },
  {
   "cell_type": "code",
   "execution_count": 6,
   "metadata": {},
   "outputs": [
    {
     "name": "stdout",
     "output_type": "stream",
     "text": [
      "{}\n"
     ]
    }
   ],
   "source": [
    "var car = new Object();\n",
    "console.log(car)"
   ]
  },
  {
   "cell_type": "code",
   "execution_count": 8,
   "metadata": {},
   "outputs": [
    {
     "name": "stdout",
     "output_type": "stream",
     "text": [
      "VINVALUE24535\n"
     ]
    }
   ],
   "source": [
    "// add attributes on the fly\n",
    "car['make'] = \"Nissan\"\n",
    "car['model'] = \"Xterra\"\n",
    "car['year'] = 2018\n",
    "car['vin'] = \"VINVALUE24535\""
   ]
  },
  {
   "cell_type": "code",
   "execution_count": 9,
   "metadata": {},
   "outputs": [
    {
     "name": "stdout",
     "output_type": "stream",
     "text": [
      "car =  { make: \u001b[32m'Nissan'\u001b[39m, model: \u001b[32m'Xterra'\u001b[39m, year: \u001b[33m2018\u001b[39m, vin: \u001b[32m'VINVALUE24535'\u001b[39m }\n"
     ]
    }
   ],
   "source": [
    "console.log('car = ', car)"
   ]
  },
  {
   "cell_type": "code",
   "execution_count": 10,
   "metadata": {},
   "outputs": [
    {
     "name": "stdout",
     "output_type": "stream",
     "text": [
      "{ make: \u001b[32m'Nissan'\u001b[39m, model: \u001b[32m'Xterra'\u001b[39m, year: \u001b[33m2018\u001b[39m, vin: \u001b[32m'VINVALUE24535'\u001b[39m }\n"
     ]
    }
   ],
   "source": [
    "// copying object\n",
    "var mycar = car // mycar is NOT a copy of car but an alias\n",
    "console.log(mycar)"
   ]
  },
  {
   "cell_type": "code",
   "execution_count": 11,
   "metadata": {},
   "outputs": [
    {
     "name": "stdout",
     "output_type": "stream",
     "text": [
      "\u001b[33mtrue\u001b[39m\n"
     ]
    }
   ],
   "source": [
    "car === mycar"
   ]
  },
  {
   "cell_type": "code",
   "execution_count": 13,
   "metadata": {},
   "outputs": [
    {
     "name": "stdout",
     "output_type": "stream",
     "text": [
      "{ make: \u001b[32m'Honda'\u001b[39m, model: \u001b[32m'Xterra'\u001b[39m, year: \u001b[33m2018\u001b[39m, vin: \u001b[32m'VINVALUE24535'\u001b[39m }\n"
     ]
    }
   ],
   "source": [
    "// change mycar make's to Honda\n",
    "mycar['make'] = 'Honda';\n",
    "console.log(mycar)"
   ]
  },
  {
   "cell_type": "code",
   "execution_count": 14,
   "metadata": {},
   "outputs": [
    {
     "name": "stdout",
     "output_type": "stream",
     "text": [
      "{ make: \u001b[32m'Honda'\u001b[39m, model: \u001b[32m'Xterra'\u001b[39m, year: \u001b[33m2018\u001b[39m, vin: \u001b[32m'VINVALUE24535'\u001b[39m }\n"
     ]
    }
   ],
   "source": [
    "// car object will also be changes\n",
    "console.log(car)"
   ]
  },
  {
   "cell_type": "markdown",
   "metadata": {},
   "source": [
    "## Accessing object properties\n",
    "- two ways:\n",
    "    1. use member access operator `.`\n",
    "\n",
    "    ```javascript\n",
    "    objectName.property\n",
    "    ```\n",
    "\n",
    "    2. use property as key with `[ ]` index operator\n",
    "\n",
    "```javascript\n",
    "    objectName[\"property\"]\n",
    "```"
   ]
  },
  {
   "cell_type": "code",
   "execution_count": 16,
   "metadata": {},
   "outputs": [
    {
     "name": "stdout",
     "output_type": "stream",
     "text": [
      "one = Uno\n",
      "two = dos\n"
     ]
    }
   ],
   "source": [
    "console.log('one =', eng2Span['one'])\n",
    "console.log('two =', eng2Span['two'])"
   ]
  },
  {
   "cell_type": "code",
   "execution_count": 17,
   "metadata": {},
   "outputs": [
    {
     "name": "stdout",
     "output_type": "stream",
     "text": [
      "three= tres\n",
      "1 = Uno\n"
     ]
    }
   ],
   "source": [
    "// can use variable as the key\n",
    "var eng = \"three\"\n",
    "console.log('three=', eng2Span[eng])\n",
    "console.log('1 =', eng2Span[1]) // Numeric keys are converted into string"
   ]
  },
  {
   "cell_type": "markdown",
   "metadata": {},
   "source": [
    "## Adding new properties\n",
    "- can add new properties to an existing object"
   ]
  },
  {
   "cell_type": "code",
   "execution_count": 18,
   "metadata": {},
   "outputs": [
    {
     "name": "stdout",
     "output_type": "stream",
     "text": [
      "quatro\n"
     ]
    }
   ],
   "source": [
    "eng2Span['four'] = 'quatro'"
   ]
  },
  {
   "cell_type": "code",
   "execution_count": 19,
   "metadata": {},
   "outputs": [
    {
     "name": "stdout",
     "output_type": "stream",
     "text": [
      "sinco\n"
     ]
    }
   ],
   "source": [
    "eng2Span[\"five\"] = \"sinco\""
   ]
  },
  {
   "cell_type": "markdown",
   "metadata": {},
   "source": [
    "## Deleting properites\n",
    "- `delete` keyword operator deletes a property from an object"
   ]
  },
  {
   "cell_type": "code",
   "execution_count": 20,
   "metadata": {},
   "outputs": [
    {
     "name": "stdout",
     "output_type": "stream",
     "text": [
      "{\n",
      "  \u001b[32m'1'\u001b[39m: \u001b[32m'Uno'\u001b[39m,\n",
      "  one: \u001b[32m'Uno'\u001b[39m,\n",
      "  two: \u001b[32m'dos'\u001b[39m,\n",
      "  three: \u001b[32m'tres'\u001b[39m,\n",
      "  four: \u001b[32m'quatro'\u001b[39m,\n",
      "  five: \u001b[32m'sinco'\u001b[39m\n",
      "}\n"
     ]
    }
   ],
   "source": [
    "console.log(eng2Span)"
   ]
  },
  {
   "cell_type": "code",
   "execution_count": 22,
   "metadata": {},
   "outputs": [
    {
     "name": "stdout",
     "output_type": "stream",
     "text": [
      "\u001b[33mtrue\u001b[39m\n"
     ]
    }
   ],
   "source": [
    "delete eng2Span[1];\n",
    "delete eng2Span['three']"
   ]
  },
  {
   "cell_type": "code",
   "execution_count": 23,
   "metadata": {},
   "outputs": [
    {
     "name": "stdout",
     "output_type": "stream",
     "text": [
      "{ one: \u001b[32m'Uno'\u001b[39m, two: \u001b[32m'dos'\u001b[39m, four: \u001b[32m'quatro'\u001b[39m, five: \u001b[32m'sinco'\u001b[39m }\n"
     ]
    }
   ],
   "source": [
    "console.log(eng2Span)"
   ]
  },
  {
   "cell_type": "markdown",
   "metadata": {},
   "source": [
    "## Traversing a dictionary\n",
    "- use key/property to traverse through an object/dictionary"
   ]
  },
  {
   "cell_type": "code",
   "execution_count": 31,
   "metadata": {},
   "outputs": [
    {
     "name": "stdout",
     "output_type": "stream",
     "text": [
      "one => Uno\n",
      "two => dos\n",
      "four => quatro\n",
      "five => sinco\n"
     ]
    }
   ],
   "source": [
    "for(var key in eng2Span)\n",
    "    console.log(`${key} => ${eng2Span[key]}`);"
   ]
  },
  {
   "cell_type": "markdown",
   "metadata": {},
   "source": [
    "### key membership test\n",
    "- `in` operator let's you check if the key exists in an object/dictionary"
   ]
  },
  {
   "cell_type": "code",
   "execution_count": 32,
   "metadata": {},
   "outputs": [
    {
     "name": "stdout",
     "output_type": "stream",
     "text": [
      "one in English is Uno in Spanish.\n"
     ]
    }
   ],
   "source": [
    "var eng = 'one';\n",
    "if (eng in eng2Span)\n",
    "    console.log(eng, 'in English is', eng2Span[eng], 'in Spanish.')\n",
    "else\n",
    "    console.log(eng, 'not found in eng2Span dictionary.')"
   ]
  },
  {
   "cell_type": "markdown",
   "metadata": {},
   "source": [
    "## Object methods\n",
    "- Syntax to invoke methods: \n",
    "\n",
    "```javascript\n",
    "Object.method(object)\n",
    "```"
   ]
  },
  {
   "cell_type": "code",
   "execution_count": 33,
   "metadata": {},
   "outputs": [
    {
     "name": "stdout",
     "output_type": "stream",
     "text": [
      "[ \u001b[32m'one'\u001b[39m, \u001b[32m'two'\u001b[39m, \u001b[32m'four'\u001b[39m, \u001b[32m'five'\u001b[39m ]\n"
     ]
    }
   ],
   "source": [
    "// get list of keys\n",
    "Object.keys(eng2Span)"
   ]
  },
  {
   "cell_type": "code",
   "execution_count": 34,
   "metadata": {},
   "outputs": [
    {
     "name": "stdout",
     "output_type": "stream",
     "text": [
      "\u001b[33m4\u001b[39m\n"
     ]
    }
   ],
   "source": [
    "Object.keys(eng2Span).length"
   ]
  },
  {
   "cell_type": "code",
   "execution_count": 35,
   "metadata": {},
   "outputs": [
    {
     "name": "stdout",
     "output_type": "stream",
     "text": [
      "[ \u001b[32m'Uno'\u001b[39m, \u001b[32m'dos'\u001b[39m, \u001b[32m'quatro'\u001b[39m, \u001b[32m'sinco'\u001b[39m ]\n"
     ]
    }
   ],
   "source": [
    "// get list of values\n",
    "Object.values(eng2Span)"
   ]
  },
  {
   "cell_type": "code",
   "execution_count": 36,
   "metadata": {},
   "outputs": [],
   "source": [
    "// values can be array and dictionary objects\n",
    "var dict1 = {'1': 'Uno', \n",
    "             2:['two', 'dos', 'dui'], \n",
    "             3:{'three': ['tres', 'tin', 3]}}"
   ]
  },
  {
   "cell_type": "code",
   "execution_count": 37,
   "metadata": {},
   "outputs": [
    {
     "name": "stdout",
     "output_type": "stream",
     "text": [
      "{\n",
      "  \u001b[32m'1'\u001b[39m: \u001b[32m'Uno'\u001b[39m,\n",
      "  \u001b[32m'2'\u001b[39m: [ \u001b[32m'two'\u001b[39m, \u001b[32m'dos'\u001b[39m, \u001b[32m'dui'\u001b[39m ],\n",
      "  \u001b[32m'3'\u001b[39m: { three: [ \u001b[32m'tres'\u001b[39m, \u001b[32m'tin'\u001b[39m, \u001b[33m3\u001b[39m ] }\n",
      "}\n"
     ]
    }
   ],
   "source": [
    "dict1"
   ]
  },
  {
   "cell_type": "code",
   "execution_count": 38,
   "metadata": {},
   "outputs": [
    {
     "name": "stdout",
     "output_type": "stream",
     "text": [
      "Uno\n"
     ]
    }
   ],
   "source": [
    "dict1['1']"
   ]
  },
  {
   "cell_type": "code",
   "execution_count": 39,
   "metadata": {},
   "outputs": [
    {
     "name": "stdout",
     "output_type": "stream",
     "text": [
      "[ \u001b[32m'two'\u001b[39m, \u001b[32m'dos'\u001b[39m, \u001b[32m'dui'\u001b[39m ]\n"
     ]
    }
   ],
   "source": [
    "dict1[2]"
   ]
  },
  {
   "cell_type": "code",
   "execution_count": 40,
   "metadata": {},
   "outputs": [
    {
     "name": "stdout",
     "output_type": "stream",
     "text": [
      "{ three: [ \u001b[32m'tres'\u001b[39m, \u001b[32m'tin'\u001b[39m, \u001b[33m3\u001b[39m ] }\n"
     ]
    }
   ],
   "source": [
    "dict1[3]"
   ]
  },
  {
   "cell_type": "code",
   "execution_count": 41,
   "metadata": {},
   "outputs": [],
   "source": [
    "// How would you access tin?"
   ]
  },
  {
   "cell_type": "markdown",
   "metadata": {},
   "source": [
    "## adding methods to objects"
   ]
  },
  {
   "cell_type": "code",
   "execution_count": 42,
   "metadata": {},
   "outputs": [],
   "source": [
    "var person = {\n",
    "    firstName: \"John\",\n",
    "    lastName : \"Doe\",\n",
    "    id       : 5566,\n",
    "    fullName : function() {\n",
    "        return this.firstName + \" \" + this.lastName;\n",
    "    }\n",
    "};\n",
    "// this refers to owner of the function which is person object"
   ]
  },
  {
   "cell_type": "markdown",
   "metadata": {},
   "source": [
    "### accessing object methods\n",
    "- `objectName.methodName( )`"
   ]
  },
  {
   "cell_type": "code",
   "execution_count": 43,
   "metadata": {},
   "outputs": [
    {
     "name": "stdout",
     "output_type": "stream",
     "text": [
      "John Doe\n"
     ]
    }
   ],
   "source": [
    "person.fullName()"
   ]
  },
  {
   "cell_type": "markdown",
   "metadata": {},
   "source": [
    "## accessor functions - getters and setters methods\n",
    "- methods for setting and getting property value\n",
    "- Node provides simpler and intuitive syntax\n",
    "- similar to OOP concept in other languages (C++, Java, C#, etc)\n",
    "- allows equal/similar syntax for properties and methods\n",
    "- useful for doing behind the scene operations\n",
    "- get keyword is used to create getter method\n",
    "- set keyword is used to create setter method"
   ]
  },
  {
   "cell_type": "code",
   "execution_count": 44,
   "metadata": {},
   "outputs": [],
   "source": [
    "// Create an object:\n",
    "var person = {\n",
    "    firstName: \"John\",\n",
    "    lastName : \"Doe\",\n",
    "    language : \"en\",\n",
    "    get lang() {\n",
    "        return this.language;\n",
    "    },\n",
    "    get fName() {\n",
    "        return this.firstName;\n",
    "    },\n",
    "    set lang(lang) {\n",
    "        this.language = lang.toUpperCase();\n",
    "    }\n",
    "};"
   ]
  },
  {
   "cell_type": "code",
   "execution_count": 45,
   "metadata": {},
   "outputs": [
    {
     "name": "stdout",
     "output_type": "stream",
     "text": [
      "{\n",
      "  firstName: \u001b[32m'John'\u001b[39m,\n",
      "  lastName: \u001b[32m'Doe'\u001b[39m,\n",
      "  language: \u001b[32m'en'\u001b[39m,\n",
      "  lang: \u001b[36m[Getter/Setter]\u001b[39m,\n",
      "  fName: \u001b[36m[Getter]\u001b[39m\n",
      "}\n"
     ]
    }
   ],
   "source": [
    "person"
   ]
  },
  {
   "cell_type": "code",
   "execution_count": 46,
   "metadata": {},
   "outputs": [
    {
     "name": "stdout",
     "output_type": "stream",
     "text": [
      "en\n",
      "John\n"
     ]
    }
   ],
   "source": [
    "// use getter just like property\n",
    "console.log(person.lang)\n",
    "console.log(person.fName)"
   ]
  },
  {
   "cell_type": "code",
   "execution_count": 47,
   "metadata": {},
   "outputs": [
    {
     "name": "stdout",
     "output_type": "stream",
     "text": [
      "JP\n"
     ]
    }
   ],
   "source": [
    "// Set an object property using a setter just like attribute\n",
    "person.lang = \"JP\";"
   ]
  },
  {
   "cell_type": "code",
   "execution_count": 48,
   "metadata": {},
   "outputs": [
    {
     "name": "stdout",
     "output_type": "stream",
     "text": [
      "{\n",
      "  firstName: \u001b[32m'John'\u001b[39m,\n",
      "  lastName: \u001b[32m'Doe'\u001b[39m,\n",
      "  language: \u001b[32m'JP'\u001b[39m,\n",
      "  lang: \u001b[36m[Getter/Setter]\u001b[39m,\n",
      "  fName: \u001b[36m[Getter]\u001b[39m\n",
      "}\n"
     ]
    }
   ],
   "source": [
    "console.log(person)"
   ]
  },
  {
   "cell_type": "code",
   "execution_count": 54,
   "metadata": {},
   "outputs": [],
   "source": [
    "var obj = {\n",
    "    counter : 0,\n",
    "    get reset() {\n",
    "      return this.counter = 0;\n",
    "    },\n",
    "    get increment() {\n",
    "      return this.counter++;\n",
    "    },\n",
    "    get decrement() {\n",
    "      return this.counter--;\n",
    "    },\n",
    "    set add(value) {\n",
    "      this.counter += value;\n",
    "    },\n",
    "    set subtract(value) {\n",
    "      this.counter -= value;\n",
    "    }\n",
    "};"
   ]
  },
  {
   "cell_type": "code",
   "execution_count": 55,
   "metadata": {},
   "outputs": [
    {
     "name": "stdout",
     "output_type": "stream",
     "text": [
      "{\n",
      "  counter: \u001b[33m0\u001b[39m,\n",
      "  reset: \u001b[36m[Getter]\u001b[39m,\n",
      "  increment: \u001b[36m[Getter]\u001b[39m,\n",
      "  decrement: \u001b[36m[Getter]\u001b[39m,\n",
      "  add: \u001b[36m[Setter]\u001b[39m,\n",
      "  subtract: \u001b[36m[Setter]\u001b[39m\n",
      "}\n"
     ]
    }
   ],
   "source": [
    "obj"
   ]
  },
  {
   "cell_type": "code",
   "execution_count": 56,
   "metadata": {},
   "outputs": [
    {
     "name": "stdout",
     "output_type": "stream",
     "text": [
      "\u001b[33m0\u001b[39m\n"
     ]
    }
   ],
   "source": [
    "// Play with the counter:\n",
    "obj.reset;"
   ]
  },
  {
   "cell_type": "code",
   "execution_count": 57,
   "metadata": {},
   "outputs": [
    {
     "name": "stdout",
     "output_type": "stream",
     "text": [
      "\u001b[33m0\u001b[39m\n"
     ]
    }
   ],
   "source": [
    "obj.counter"
   ]
  },
  {
   "cell_type": "code",
   "execution_count": 58,
   "metadata": {},
   "outputs": [
    {
     "name": "stdout",
     "output_type": "stream",
     "text": [
      "\u001b[33m5\u001b[39m\n"
     ]
    }
   ],
   "source": [
    "obj.add = 5;"
   ]
  },
  {
   "cell_type": "code",
   "execution_count": 59,
   "metadata": {},
   "outputs": [
    {
     "name": "stdout",
     "output_type": "stream",
     "text": [
      "\u001b[33m5\u001b[39m\n"
     ]
    }
   ],
   "source": [
    "obj.counter"
   ]
  },
  {
   "cell_type": "code",
   "execution_count": 60,
   "metadata": {},
   "outputs": [
    {
     "name": "stdout",
     "output_type": "stream",
     "text": [
      "\u001b[33m1\u001b[39m\n"
     ]
    }
   ],
   "source": [
    "obj.subtract = 1;"
   ]
  },
  {
   "cell_type": "code",
   "execution_count": 61,
   "metadata": {},
   "outputs": [
    {
     "name": "stdout",
     "output_type": "stream",
     "text": [
      "\u001b[33m4\u001b[39m\n"
     ]
    }
   ],
   "source": [
    "obj.counter"
   ]
  },
  {
   "cell_type": "code",
   "execution_count": 62,
   "metadata": {},
   "outputs": [
    {
     "name": "stdout",
     "output_type": "stream",
     "text": [
      "\u001b[33m4\u001b[39m\n"
     ]
    }
   ],
   "source": [
    "obj.increment;"
   ]
  },
  {
   "cell_type": "code",
   "execution_count": 63,
   "metadata": {},
   "outputs": [
    {
     "name": "stdout",
     "output_type": "stream",
     "text": [
      "\u001b[33m5\u001b[39m\n"
     ]
    }
   ],
   "source": [
    "obj.counter"
   ]
  },
  {
   "cell_type": "code",
   "execution_count": 64,
   "metadata": {},
   "outputs": [
    {
     "name": "stdout",
     "output_type": "stream",
     "text": [
      "\u001b[33m5\u001b[39m\n"
     ]
    }
   ],
   "source": [
    "obj.decrement;"
   ]
  },
  {
   "cell_type": "code",
   "execution_count": 65,
   "metadata": {},
   "outputs": [
    {
     "name": "stdout",
     "output_type": "stream",
     "text": [
      "\u001b[33m4\u001b[39m\n"
     ]
    }
   ],
   "source": [
    "obj.counter;"
   ]
  },
  {
   "cell_type": "markdown",
   "metadata": {},
   "source": [
    "## Object constructors\n",
    "- functions that help construct objects with provided values\n",
    "- also called \"blueprint\" or factory that helps you create as many objects as you need of the same type of objects"
   ]
  },
  {
   "cell_type": "code",
   "execution_count": 66,
   "metadata": {},
   "outputs": [],
   "source": [
    "// constructor function are typically capitalized\n",
    "// \"this\" is the object that \"owns\" the code\n",
    "function Person(first, last, age, eye) {\n",
    "    this.firstName = first;\n",
    "    this.lastName = last;\n",
    "    this.age = age;\n",
    "    this.eyeColor = eye;\n",
    "}"
   ]
  },
  {
   "cell_type": "code",
   "execution_count": 67,
   "metadata": {},
   "outputs": [
    {
     "name": "stdout",
     "output_type": "stream",
     "text": [
      "object\n"
     ]
    }
   ],
   "source": [
    "var i = new Person(\"Ram\", \"Basnet\", 38, \"brown\");\n",
    "typeof i;"
   ]
  },
  {
   "cell_type": "code",
   "execution_count": 68,
   "metadata": {},
   "outputs": [
    {
     "name": "stdout",
     "output_type": "stream",
     "text": [
      "i= Person {\n",
      "  firstName: \u001b[32m'Ram'\u001b[39m,\n",
      "  lastName: \u001b[32m'Basnet'\u001b[39m,\n",
      "  age: \u001b[33m38\u001b[39m,\n",
      "  eyeColor: \u001b[32m'brown'\u001b[39m\n",
      "}\n"
     ]
    }
   ],
   "source": [
    "console.log('i=',i);"
   ]
  },
  {
   "cell_type": "code",
   "execution_count": 69,
   "metadata": {},
   "outputs": [],
   "source": [
    "var you = new Person(\"John\", \"Doe\", 50, \"blue\");\n",
    "var bplayer = new Person(\"Lebron\", \"James\", 33, \"brown\");\n",
    "var splayer = new Person(\"Lionel\", \"Messi\", 32, \"brown\");"
   ]
  },
  {
   "cell_type": "markdown",
   "metadata": {},
   "source": [
    "### adding property to an object\n",
    "- properties can be added to objects on the fly"
   ]
  },
  {
   "cell_type": "code",
   "execution_count": 70,
   "metadata": {},
   "outputs": [
    {
     "name": "stdout",
     "output_type": "stream",
     "text": [
      "en\n"
     ]
    }
   ],
   "source": [
    "you.language = 'en';"
   ]
  },
  {
   "cell_type": "code",
   "execution_count": 71,
   "metadata": {},
   "outputs": [
    {
     "name": "stdout",
     "output_type": "stream",
     "text": [
      "you =  Person {\n",
      "  firstName: \u001b[32m'John'\u001b[39m,\n",
      "  lastName: \u001b[32m'Doe'\u001b[39m,\n",
      "  age: \u001b[33m50\u001b[39m,\n",
      "  eyeColor: \u001b[32m'blue'\u001b[39m,\n",
      "  language: \u001b[32m'en'\u001b[39m\n",
      "}\n",
      "bplayer = Person {\n",
      "  firstName: \u001b[32m'Lebron'\u001b[39m,\n",
      "  lastName: \u001b[32m'James'\u001b[39m,\n",
      "  age: \u001b[33m33\u001b[39m,\n",
      "  eyeColor: \u001b[32m'brown'\u001b[39m\n",
      "}\n"
     ]
    }
   ],
   "source": [
    "console.log('you = ', you)\n",
    "console.log('bplayer =', bplayer)"
   ]
  },
  {
   "cell_type": "markdown",
   "metadata": {},
   "source": [
    "### adding method to an object\n",
    "- methods can be added to objects on the fly"
   ]
  },
  {
   "cell_type": "code",
   "execution_count": 72,
   "metadata": {},
   "outputs": [
    {
     "name": "stdout",
     "output_type": "stream",
     "text": [
      "\u001b[36m[Function (anonymous)]\u001b[39m\n"
     ]
    }
   ],
   "source": [
    "bplayer.stats = function() {\n",
    "    return this.firstName[0] + \". \" + this.lastName + \": 20, 30.5, 15.9\";\n",
    "}"
   ]
  },
  {
   "cell_type": "code",
   "execution_count": 73,
   "metadata": {},
   "outputs": [
    {
     "name": "stdout",
     "output_type": "stream",
     "text": [
      "L. James: 20, 30.5, 15.9\n"
     ]
    }
   ],
   "source": [
    "console.log(bplayer.stats())"
   ]
  },
  {
   "cell_type": "markdown",
   "metadata": {},
   "source": [
    "### adding property to a constructor\n",
    "- adding property and method to an object constructor is not allowed (no error, but doesn't work as expected)\n",
    "- you must add it in the constructor function itself to actually work"
   ]
  },
  {
   "cell_type": "code",
   "execution_count": 76,
   "metadata": {},
   "outputs": [
    {
     "name": "stdout",
     "output_type": "stream",
     "text": [
      "English\n"
     ]
    }
   ],
   "source": [
    "Person['nationality'] = \"English\""
   ]
  },
  {
   "cell_type": "code",
   "execution_count": 77,
   "metadata": {},
   "outputs": [
    {
     "name": "stdout",
     "output_type": "stream",
     "text": [
      "Person {\n",
      "  firstName: \u001b[32m'Lebron'\u001b[39m,\n",
      "  lastName: \u001b[32m'James'\u001b[39m,\n",
      "  age: \u001b[33m33\u001b[39m,\n",
      "  eyeColor: \u001b[32m'brown'\u001b[39m,\n",
      "  stats: \u001b[36m[Function (anonymous)]\u001b[39m\n",
      "}\n"
     ]
    }
   ],
   "source": [
    "// nationality property is not added\n",
    "console.log(bplayer)"
   ]
  },
  {
   "cell_type": "code",
   "execution_count": 78,
   "metadata": {},
   "outputs": [],
   "source": [
    "var theMan = new Person(\"Bill\", \"Gates\", 50, \"blue\");"
   ]
  },
  {
   "cell_type": "code",
   "execution_count": 79,
   "metadata": {},
   "outputs": [
    {
     "name": "stdout",
     "output_type": "stream",
     "text": [
      "Person {\n",
      "  firstName: \u001b[32m'Bill'\u001b[39m,\n",
      "  lastName: \u001b[32m'Gates'\u001b[39m,\n",
      "  age: \u001b[33m50\u001b[39m,\n",
      "  eyeColor: \u001b[32m'blue'\u001b[39m\n",
      "}\n"
     ]
    }
   ],
   "source": [
    "console.log(theMan)"
   ]
  },
  {
   "cell_type": "code",
   "execution_count": 80,
   "metadata": {},
   "outputs": [],
   "source": [
    "// updating Person constructor doesn't affect the existing objects\n",
    "function Person(firstName, lastName, age, eyeColor) {\n",
    "    this.firstName = firstName;  \n",
    "    this.lastName = lastName;\n",
    "    this.age = age;\n",
    "    this.eyeColor = eyeColor;\n",
    "    this.nationality = \"American\";\n",
    "    this.changeName = function (name) {\n",
    "        this.lastName = name;\n",
    "    };\n",
    "}"
   ]
  },
  {
   "cell_type": "code",
   "execution_count": 81,
   "metadata": {},
   "outputs": [
    {
     "name": "stdout",
     "output_type": "stream",
     "text": [
      "Person {\n",
      "  firstName: \u001b[32m'Bill'\u001b[39m,\n",
      "  lastName: \u001b[32m'Gates'\u001b[39m,\n",
      "  age: \u001b[33m50\u001b[39m,\n",
      "  eyeColor: \u001b[32m'blue'\u001b[39m\n",
      "}\n"
     ]
    }
   ],
   "source": [
    "console.log(theMan)"
   ]
  },
  {
   "cell_type": "code",
   "execution_count": 82,
   "metadata": {},
   "outputs": [
    {
     "name": "stdout",
     "output_type": "stream",
     "text": [
      "Person {\n",
      "  firstName: \u001b[32m'Ram'\u001b[39m,\n",
      "  lastName: \u001b[32m'Basnet'\u001b[39m,\n",
      "  age: \u001b[33m38\u001b[39m,\n",
      "  eyeColor: \u001b[32m'brown'\u001b[39m\n",
      "}\n"
     ]
    }
   ],
   "source": [
    "// recreate i object - rerun the corresponding cell\n",
    "console.log(i)"
   ]
  },
  {
   "cell_type": "markdown",
   "metadata": {},
   "source": [
    "## prototype property\n",
    "- sometimes, you want to add new properties (or methods) to all existing objects of a given type\n",
    "- sometimes, you want to add new properties (or methods) to an object constructor outside the constructor\n",
    "- prototype property allows you to add new properties and methods to object constructors"
   ]
  },
  {
   "cell_type": "code",
   "execution_count": 83,
   "metadata": {},
   "outputs": [],
   "source": [
    "function Person(first, last, age, eyecolor) {\n",
    "    this.firstName = first;\n",
    "    this.lastName = last;\n",
    "    this.age = age;\n",
    "    this.eyeColor = eyecolor;\n",
    "}"
   ]
  },
  {
   "cell_type": "code",
   "execution_count": 84,
   "metadata": {},
   "outputs": [
    {
     "name": "stdout",
     "output_type": "stream",
     "text": [
      "function\n"
     ]
    }
   ],
   "source": [
    "typeof Person"
   ]
  },
  {
   "cell_type": "code",
   "execution_count": 85,
   "metadata": {},
   "outputs": [
    {
     "name": "stdout",
     "output_type": "stream",
     "text": [
      "Person {\n",
      "  firstName: \u001b[32m'John'\u001b[39m,\n",
      "  lastName: \u001b[32m'Doe'\u001b[39m,\n",
      "  age: \u001b[33m50\u001b[39m,\n",
      "  eyeColor: \u001b[32m'orange'\u001b[39m\n",
      "}\n",
      "Person {\n",
      "  firstName: \u001b[32m'Sally'\u001b[39m,\n",
      "  lastName: \u001b[32m'Smith'\u001b[39m,\n",
      "  age: \u001b[33m45\u001b[39m,\n",
      "  eyeColor: \u001b[32m'blue'\u001b[39m\n",
      "}\n"
     ]
    }
   ],
   "source": [
    "// instantiate 2 objects of type Person\n",
    "var person1 = new Person(\"John\", \"Doe\", 50, \"orange\");\n",
    "var person2 = new Person(\"Sally\", \"Smith\", 45, \"blue\");\n",
    "console.log(person1)\n",
    "console.log(person2)"
   ]
  },
  {
   "cell_type": "code",
   "execution_count": 86,
   "metadata": {},
   "outputs": [
    {
     "name": "stdout",
     "output_type": "stream",
     "text": [
      "English\n"
     ]
    }
   ],
   "source": [
    "// add nationality prototype prototype\n",
    "Person.prototype.nationality = \"English\";"
   ]
  },
  {
   "cell_type": "code",
   "execution_count": 87,
   "metadata": {},
   "outputs": [
    {
     "name": "stdout",
     "output_type": "stream",
     "text": [
      "Person {\n",
      "  firstName: \u001b[32m'John'\u001b[39m,\n",
      "  lastName: \u001b[32m'Doe'\u001b[39m,\n",
      "  age: \u001b[33m50\u001b[39m,\n",
      "  eyeColor: \u001b[32m'orange'\u001b[39m\n",
      "}\n",
      "Person {\n",
      "  firstName: \u001b[32m'Sally'\u001b[39m,\n",
      "  lastName: \u001b[32m'Smith'\u001b[39m,\n",
      "  age: \u001b[33m45\u001b[39m,\n",
      "  eyeColor: \u001b[32m'blue'\u001b[39m\n",
      "}\n"
     ]
    }
   ],
   "source": [
    "// printing objects will not display the prototypes\n",
    "console.log(person1)\n",
    "console.log(person2)"
   ]
  },
  {
   "cell_type": "code",
   "execution_count": 88,
   "metadata": {},
   "outputs": [
    {
     "name": "stdout",
     "output_type": "stream",
     "text": [
      "English\n",
      "English\n"
     ]
    }
   ],
   "source": [
    "// however, you can access the nationality prototype for each object created from Person\n",
    "console.log(person1.nationality)\n",
    "console.log(person2.nationality)"
   ]
  },
  {
   "cell_type": "markdown",
   "metadata": {},
   "source": [
    "## Spread in object literals (since ES2018)\n",
    "- `...` spread operator can be used to object literals"
   ]
  },
  {
   "cell_type": "code",
   "execution_count": 89,
   "metadata": {},
   "outputs": [],
   "source": [
    "let obj1 = { foo: 'bar', x: 42 };\n",
    "let obj2 = { foo: 'baz', y: 13 };\n",
    "\n",
    "let clonedObj = { ...obj1 };\n",
    "// Object { foo: \"bar\", x: 42 }\n",
    "\n",
    "let mergedObj = { ...obj1, ...obj2 };"
   ]
  },
  {
   "cell_type": "code",
   "execution_count": 90,
   "metadata": {},
   "outputs": [
    {
     "name": "stdout",
     "output_type": "stream",
     "text": [
      "{ foo: \u001b[32m'baz'\u001b[39m, x: \u001b[33m42\u001b[39m, y: \u001b[33m13\u001b[39m }\n"
     ]
    }
   ],
   "source": [
    "mergedObj"
   ]
  },
  {
   "cell_type": "markdown",
   "metadata": {},
   "source": [
    "## Exercises\n",
    "\n",
    "### Kattis problems that can be solved using dict/lookup table or JS objects\n",
    "1. I've Been Everywhere, Man - https://open.kattis.com/problems/everywhere\n",
    "2. Seven Wonders - https://open.kattis.com/problems/sevenwonders\n",
    "3. ACM Contest Scoring - https://open.kattis.com/problems/acm\n",
    "4. Stacking Cups - https://open.kattis.com/problems/cups\n",
    "5. A New Alphabet - https://open.kattis.com/problems/anewalphabet\n",
    "6. Words for Numbers - https://open.kattis.com/problems/wordsfornumbers\n",
    "7. Babelfish - https://open.kattis.com/problems/babelfish\n",
    "8. Popular Vote - https://open.kattis.com/problems/vote\n",
    "9. Adding Words - https://open.kattis.com/problems/addingwords\n",
    "10. Grandpa Bernie - https://open.kattis.com/problems/grandpabernie\n",
    "11. Judging Troubles - https://open.kattis.com/problems/judging\n",
    "12. Not Amused - https://open.kattis.com/problems/notamused\n",
    "13. Engineering English - https://open.kattis.com/problems/engineeringenglish\n",
    "14. Hardwood Species - https://open.kattis.com/problems/hardwoodspecies\n",
    "15. Conformity - https://open.kattis.com/problems/conformity\n",
    "16. Galactic Collegiate Programming Contest - https://open.kattis.com/problems/gcpc\n",
    "17. Simplicity - https://open.kattis.com/problems/simplicity"
   ]
  },
  {
   "cell_type": "code",
   "execution_count": null,
   "metadata": {},
   "outputs": [],
   "source": []
  }
 ],
 "metadata": {
  "kernelspec": {
   "display_name": "TypeScript",
   "language": "typescript",
   "name": "tslab"
  },
  "language_info": {
   "codemirror_mode": {
    "mode": "typescript",
    "name": "javascript",
    "typescript": true
   },
   "file_extension": ".ts",
   "mimetype": "text/typescript",
   "name": "typescript",
   "version": "3.7.2"
  }
 },
 "nbformat": 4,
 "nbformat_minor": 2
}
