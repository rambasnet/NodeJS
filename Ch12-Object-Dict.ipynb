{
 "cells": [
  {
   "cell_type": "markdown",
   "metadata": {},
   "source": [
    "# Object\n",
    "- works like dictionary in Python to some extent (Python dict on steroid)\n",
    "- associative array in C++\n",
    "- collection of key:value or name:value pairs\n",
    "- Reference: https://developer.mozilla.org/en-US/docs/Web/JavaScript/Reference/Global_Objects/Object\n",
    "- in JS, almost \"everything\" is an object\n",
    "    - if defined with new keyword even primitivice types such as Booleans, Numbers and Strings are objects\n",
    "    - Dates, Maths, Regular Expressions, Arrays, Functions and Objects are always objects"
   ]
  },
  {
   "cell_type": "markdown",
   "metadata": {},
   "source": [
    "### creating JavaScript Objects\n",
    "- using an Object Literal {}"
   ]
  },
  {
   "cell_type": "code",
   "execution_count": 3,
   "metadata": {},
   "outputs": [],
   "source": [
    "var eng2Span = {};"
   ]
  },
  {
   "cell_type": "code",
   "execution_count": 4,
   "metadata": {},
   "outputs": [
    {
     "data": {
      "text/plain": [
       "'object'"
      ]
     },
     "execution_count": 4,
     "metadata": {},
     "output_type": "execute_result"
    }
   ],
   "source": [
    "typeof eng2Span"
   ]
  },
  {
   "cell_type": "code",
   "execution_count": 5,
   "metadata": {},
   "outputs": [
    {
     "name": "stdout",
     "output_type": "stream",
     "text": [
      "{ '1': 'Uno', one: 'uno', two: 'dos', three: 'tres' }\n"
     ]
    }
   ],
   "source": [
    "// add key value pairs\n",
    "eng2Span['one'] = 'uno';\n",
    "eng2Span['two'] = 'dos';\n",
    "eng2Span['three'] = 'tres';\n",
    "eng2Span[1] = 'Uno'; // Number key converted into string\n",
    "console.log(eng2Span)"
   ]
  },
  {
   "cell_type": "code",
   "execution_count": 6,
   "metadata": {},
   "outputs": [
    {
     "name": "stdout",
     "output_type": "stream",
     "text": [
      "{ '1': 'Uno', one: 'Uno', two: 'dos', three: 'tres' }\n"
     ]
    }
   ],
   "source": [
    "eng2Span['one'] = 'Uno'\n",
    "console.log(eng2Span)"
   ]
  },
  {
   "cell_type": "code",
   "execution_count": 7,
   "metadata": {},
   "outputs": [],
   "source": [
    "var person = {firstName:\"John\", \n",
    "              lastName:\"Doe\", \n",
    "              age:50, \n",
    "              eyeColor:\"blue\"};\n"
   ]
  },
  {
   "cell_type": "markdown",
   "metadata": {},
   "source": [
    "### using JavaScript Keyword new\n",
    "- for simplicity, readability and execution speed, the object literal method is preferred!\n",
    "- but, here's how Object() function works!"
   ]
  },
  {
   "cell_type": "code",
   "execution_count": 8,
   "metadata": {},
   "outputs": [
    {
     "name": "stdout",
     "output_type": "stream",
     "text": [
      "car =  { make: 'Nissan',\n",
      "  model: 'Xterra',\n",
      "  year: 2018,\n",
      "  vin: 'VINVALUE24535' }\n"
     ]
    }
   ],
   "source": [
    "var car = new Object();\n",
    "car.make = \"Nissan\"\n",
    "car.model = \"Xterra\"\n",
    "car.year = 2018\n",
    "car.vin = \"VINVALUE24535\"\n",
    "console.log('car = ', car)"
   ]
  },
  {
   "cell_type": "code",
   "execution_count": 9,
   "metadata": {},
   "outputs": [
    {
     "name": "stdout",
     "output_type": "stream",
     "text": [
      "{ make: 'Nissan',\n",
      "  model: 'Xterra',\n",
      "  year: 2018,\n",
      "  vin: 'VINVALUE24535' }\n"
     ]
    }
   ],
   "source": [
    "var mycar = car //mycar is NOT a copy of car but an alias\n",
    "console.log(mycar)"
   ]
  },
  {
   "cell_type": "code",
   "execution_count": 10,
   "metadata": {},
   "outputs": [
    {
     "name": "stdout",
     "output_type": "stream",
     "text": [
      "{ make: 'Honda',\n",
      "  model: 'Xterra',\n",
      "  year: 2018,\n",
      "  vin: 'VINVALUE24535' }\n"
     ]
    }
   ],
   "source": [
    "mycar.make = 'Honda';\n",
    "console.log(mycar)"
   ]
  },
  {
   "cell_type": "code",
   "execution_count": 11,
   "metadata": {},
   "outputs": [
    {
     "name": "stdout",
     "output_type": "stream",
     "text": [
      "{ make: 'Honda',\n",
      "  model: 'Xterra',\n",
      "  year: 2018,\n",
      "  vin: 'VINVALUE24535' }\n"
     ]
    }
   ],
   "source": [
    "console.log(car)"
   ]
  },
  {
   "cell_type": "markdown",
   "metadata": {},
   "source": [
    "### Accessing JavaScript Properties\n",
    "- objectName.property\n",
    "- objectName[\"property\"]"
   ]
  },
  {
   "cell_type": "code",
   "execution_count": 12,
   "metadata": {},
   "outputs": [
    {
     "name": "stdout",
     "output_type": "stream",
     "text": [
      "one = Uno\n",
      "two = dos\n",
      "three= tres\n",
      "1 = Uno\n"
     ]
    }
   ],
   "source": [
    "console.log('one =', eng2Span.one)\n",
    "console.log('two =', eng2Span['two'])\n",
    "var eng = \"three\"\n",
    "console.log('three=', eng2Span[eng])\n",
    "console.log('1 =', eng2Span[1])"
   ]
  },
  {
   "cell_type": "markdown",
   "metadata": {},
   "source": [
    "### Adding New Properties\n",
    "- can add new properties to an existing object"
   ]
  },
  {
   "cell_type": "code",
   "execution_count": 13,
   "metadata": {},
   "outputs": [
    {
     "data": {
      "text/plain": [
       "'quatro'"
      ]
     },
     "execution_count": 13,
     "metadata": {},
     "output_type": "execute_result"
    }
   ],
   "source": [
    "eng2Span.four = 'quatro'"
   ]
  },
  {
   "cell_type": "markdown",
   "metadata": {},
   "source": [
    "### deleting properites\n",
    "- delete keyword deletes a property from an object"
   ]
  },
  {
   "cell_type": "code",
   "execution_count": 14,
   "metadata": {},
   "outputs": [
    {
     "name": "stdout",
     "output_type": "stream",
     "text": [
      "{ '1': 'Uno',\n",
      "  one: 'Uno',\n",
      "  two: 'dos',\n",
      "  three: 'tres',\n",
      "  four: 'quatro' }\n"
     ]
    }
   ],
   "source": [
    "console.log(eng2Span)"
   ]
  },
  {
   "cell_type": "code",
   "execution_count": 15,
   "metadata": {},
   "outputs": [
    {
     "data": {
      "text/plain": [
       "true"
      ]
     },
     "execution_count": 15,
     "metadata": {},
     "output_type": "execute_result"
    }
   ],
   "source": [
    "delete eng2Span[1];\n",
    "delete eng2Span.three"
   ]
  },
  {
   "cell_type": "code",
   "execution_count": 16,
   "metadata": {},
   "outputs": [
    {
     "name": "stdout",
     "output_type": "stream",
     "text": [
      "{ one: 'Uno', two: 'dos', four: 'quatro' }\n"
     ]
    }
   ],
   "source": [
    "console.log(eng2Span)"
   ]
  },
  {
   "cell_type": "markdown",
   "metadata": {},
   "source": [
    "### traversing through dictionary"
   ]
  },
  {
   "cell_type": "code",
   "execution_count": 17,
   "metadata": {},
   "outputs": [
    {
     "name": "stdout",
     "output_type": "stream",
     "text": [
      "one => Uno\n",
      "two => dos\n",
      "four => quatro\n"
     ]
    }
   ],
   "source": [
    "for(key in eng2Span)\n",
    "    console.log(key, '=>', eng2Span[key]);"
   ]
  },
  {
   "cell_type": "markdown",
   "metadata": {},
   "source": [
    "### key membership test\n",
    "- in operator"
   ]
  },
  {
   "cell_type": "code",
   "execution_count": 18,
   "metadata": {},
   "outputs": [
    {
     "name": "stdout",
     "output_type": "stream",
     "text": [
      "one in English is Uno in Spanish.\n"
     ]
    }
   ],
   "source": [
    "var eng = 'one';\n",
    "if (eng in eng2Span)\n",
    "    console.log(eng, 'in English is', eng2Span['one'], 'in Spanish.')\n",
    "else\n",
    "    console.log(eng, 'not found in eng2Span dictionary.')"
   ]
  },
  {
   "cell_type": "markdown",
   "metadata": {},
   "source": [
    "## Object builtin methods\n",
    "- Syntax to invoke methods: Object.method(object)"
   ]
  },
  {
   "cell_type": "code",
   "execution_count": 19,
   "metadata": {},
   "outputs": [
    {
     "data": {
      "text/plain": [
       "[ 'one', 'two', 'four' ]"
      ]
     },
     "execution_count": 19,
     "metadata": {},
     "output_type": "execute_result"
    }
   ],
   "source": [
    "// get list of keys\n",
    "Object.keys(eng2Span)"
   ]
  },
  {
   "cell_type": "code",
   "execution_count": 20,
   "metadata": {},
   "outputs": [
    {
     "data": {
      "text/plain": [
       "3"
      ]
     },
     "execution_count": 20,
     "metadata": {},
     "output_type": "execute_result"
    }
   ],
   "source": [
    "Object.keys(eng2Span).length"
   ]
  },
  {
   "cell_type": "code",
   "execution_count": 21,
   "metadata": {},
   "outputs": [
    {
     "data": {
      "text/plain": [
       "[ 'Uno', 'dos', 'quatro' ]"
      ]
     },
     "execution_count": 21,
     "metadata": {},
     "output_type": "execute_result"
    }
   ],
   "source": [
    "// get list of values\n",
    "Object.values(eng2Span)"
   ]
  },
  {
   "cell_type": "code",
   "execution_count": 25,
   "metadata": {},
   "outputs": [],
   "source": [
    "var dict1 = {'1': 'Uno', \n",
    "             2:['two', 'dos', 'dui'], \n",
    "             3:{'three': ['tres', 'tin', 3]}}"
   ]
  },
  {
   "cell_type": "code",
   "execution_count": 26,
   "metadata": {},
   "outputs": [
    {
     "data": {
      "text/plain": [
       "{ '1': 'Uno',\n",
       "  '2': [ 'two', 'dos', 'dui' ],\n",
       "  '3': { three: [ 'tres', 'tin', 3 ] } }"
      ]
     },
     "execution_count": 26,
     "metadata": {},
     "output_type": "execute_result"
    }
   ],
   "source": [
    "dict1"
   ]
  },
  {
   "cell_type": "code",
   "execution_count": 27,
   "metadata": {},
   "outputs": [
    {
     "data": {
      "text/plain": [
       "'Uno'"
      ]
     },
     "execution_count": 27,
     "metadata": {},
     "output_type": "execute_result"
    }
   ],
   "source": [
    "dict1['1']"
   ]
  },
  {
   "cell_type": "code",
   "execution_count": 28,
   "metadata": {},
   "outputs": [
    {
     "data": {
      "text/plain": [
       "[ 'two', 'dos', 'dui' ]"
      ]
     },
     "execution_count": 28,
     "metadata": {},
     "output_type": "execute_result"
    }
   ],
   "source": [
    "dict1[2]"
   ]
  },
  {
   "cell_type": "code",
   "execution_count": 29,
   "metadata": {},
   "outputs": [
    {
     "data": {
      "text/plain": [
       "{ three: [ 'tres', 'tin', 3 ] }"
      ]
     },
     "execution_count": 29,
     "metadata": {},
     "output_type": "execute_result"
    }
   ],
   "source": [
    "dict1[3]"
   ]
  },
  {
   "cell_type": "code",
   "execution_count": 30,
   "metadata": {},
   "outputs": [],
   "source": [
    "// How would you access tin?"
   ]
  },
  {
   "cell_type": "markdown",
   "metadata": {},
   "source": [
    "### adding user-defined methods to objects"
   ]
  },
  {
   "cell_type": "code",
   "execution_count": 29,
   "metadata": {},
   "outputs": [],
   "source": [
    "var person = {\n",
    "    firstName: \"John\",\n",
    "    lastName : \"Doe\",\n",
    "    id       : 5566,\n",
    "    fullName : function() {\n",
    "        return this.firstName + \" \" + this.lastName;\n",
    "    }\n",
    "};\n",
    "// this refers to owner of the function which is person object"
   ]
  },
  {
   "cell_type": "markdown",
   "metadata": {},
   "source": [
    "### accessing object methods\n",
    "- objectName.methodName( )"
   ]
  },
  {
   "cell_type": "code",
   "execution_count": 30,
   "metadata": {},
   "outputs": [
    {
     "data": {
      "text/plain": [
       "'John Doe'"
      ]
     },
     "execution_count": 30,
     "metadata": {},
     "output_type": "execute_result"
    }
   ],
   "source": [
    "person.fullName()"
   ]
  },
  {
   "cell_type": "markdown",
   "metadata": {},
   "source": [
    "### accessors - getters and setters methods\n",
    "- methods for setting and getting property value\n",
    "- gives simpler syntax\n",
    "- similar to OOP concept in other languages (C++, Java, C#, etc)\n",
    "- allows equal/similar syntax for properties and methods\n",
    "- useful for doing behind the scene operations"
   ]
  },
  {
   "cell_type": "code",
   "execution_count": 31,
   "metadata": {},
   "outputs": [],
   "source": [
    "// Create an object:\n",
    "var person = {\n",
    "    firstName: \"John\",\n",
    "    lastName : \"Doe\",\n",
    "    language : \"en\",\n",
    "    get lang() {\n",
    "        return this.language;\n",
    "    },\n",
    "    get fName() {\n",
    "        return this.firstName;\n",
    "    }\n",
    "};"
   ]
  },
  {
   "cell_type": "code",
   "execution_count": 32,
   "metadata": {},
   "outputs": [
    {
     "name": "stdout",
     "output_type": "stream",
     "text": [
      "en\n",
      "John\n"
     ]
    }
   ],
   "source": [
    "// use getter just like property\n",
    "console.log(person.lang)\n",
    "console.log(person.fName)"
   ]
  },
  {
   "cell_type": "code",
   "execution_count": 41,
   "metadata": {},
   "outputs": [],
   "source": [
    "var person = {\n",
    "    firstName: \"John\",\n",
    "    lastName : \"Doe\",\n",
    "    language : \"\",\n",
    "    set lang(lang) {\n",
    "        this.language = lang.toUpperCase();\n",
    "    }\n",
    "};"
   ]
  },
  {
   "cell_type": "code",
   "execution_count": 42,
   "metadata": {},
   "outputs": [
    {
     "data": {
      "text/plain": [
       "'en'"
      ]
     },
     "execution_count": 42,
     "metadata": {},
     "output_type": "execute_result"
    }
   ],
   "source": [
    "// Set an object property using a setter just like attribute\n",
    "person.lang = \"en\";"
   ]
  },
  {
   "cell_type": "code",
   "execution_count": 43,
   "metadata": {},
   "outputs": [
    {
     "name": "stdout",
     "output_type": "stream",
     "text": [
      "{ firstName: 'John',\n",
      "  lastName: 'Doe',\n",
      "  language: 'EN',\n",
      "  lang: [Setter] }\n"
     ]
    }
   ],
   "source": [
    "console.log(person)"
   ]
  },
  {
   "cell_type": "code",
   "execution_count": 37,
   "metadata": {},
   "outputs": [],
   "source": [
    "var obj = {\n",
    "    counter : 0,\n",
    "    get reset() {\n",
    "      this.counter = 0;\n",
    "    },\n",
    "    get increment() {\n",
    "      this.counter++;\n",
    "    },\n",
    "    get decrement() {\n",
    "      this.counter--;\n",
    "    },\n",
    "    set add(value) {\n",
    "      this.counter += value;\n",
    "    },\n",
    "    set subtract(value) {\n",
    "      this.counter -= value;\n",
    "    }\n",
    "};"
   ]
  },
  {
   "cell_type": "code",
   "execution_count": 38,
   "metadata": {},
   "outputs": [],
   "source": [
    "// Play with the counter:\n",
    "obj.reset;\n",
    "obj.add = 5;\n",
    "obj.subtract = 1;\n",
    "obj.increment;\n",
    "obj.decrement;"
   ]
  },
  {
   "cell_type": "code",
   "execution_count": 36,
   "metadata": {},
   "outputs": [
    {
     "name": "stdout",
     "output_type": "stream",
     "text": [
      "{ counter: 4,\n",
      "  reset: [Getter],\n",
      "  increment: [Getter],\n",
      "  decrement: [Getter],\n",
      "  add: [Setter],\n",
      "  subtract: [Setter] }\n"
     ]
    }
   ],
   "source": [
    "console.log(obj);"
   ]
  },
  {
   "cell_type": "markdown",
   "metadata": {},
   "source": [
    "## Object Constructors\n",
    "- functions that help construct objects with provided values\n",
    "- also called \"blueprint\" or factory that helps you create as many objects as you need of the same type of objects"
   ]
  },
  {
   "cell_type": "code",
   "execution_count": 37,
   "metadata": {},
   "outputs": [],
   "source": [
    "// constructor function are typically capitalized\n",
    "// \"this\" is the object that \"owns\" the code\n",
    "function Person(first, last, age, eye) {\n",
    "    this.firstName = first;\n",
    "    this.lastName = last;\n",
    "    this.age = age;\n",
    "    this.eyeColor = eye;\n",
    "}"
   ]
  },
  {
   "cell_type": "code",
   "execution_count": 38,
   "metadata": {},
   "outputs": [
    {
     "name": "stdout",
     "output_type": "stream",
     "text": [
      "i= Person {\n",
      "  firstName: 'Ram',\n",
      "  lastName: 'Basnet',\n",
      "  age: 38,\n",
      "  eyeColor: 'brown' }\n"
     ]
    }
   ],
   "source": [
    "var i = new Person(\"Ram\", \"Basnet\", 38, \"brown\");\n",
    "typeof i;\n",
    "console.log('i=',i);"
   ]
  },
  {
   "cell_type": "code",
   "execution_count": 39,
   "metadata": {},
   "outputs": [],
   "source": [
    "var you = new Person(\"John\", \"Doe\", 50, \"blue\");\n",
    "var bplayer = new Person(\"Lebron\", \"James\", 33, \"brown\");\n",
    "var splayer = new Person(\"Lionel\", \"Messi\", 32, \"brown\");"
   ]
  },
  {
   "cell_type": "markdown",
   "metadata": {},
   "source": [
    "### adding property to an object"
   ]
  },
  {
   "cell_type": "code",
   "execution_count": 40,
   "metadata": {},
   "outputs": [
    {
     "data": {
      "text/plain": [
       "'en'"
      ]
     },
     "execution_count": 40,
     "metadata": {},
     "output_type": "execute_result"
    }
   ],
   "source": [
    "you.language = 'en';"
   ]
  },
  {
   "cell_type": "code",
   "execution_count": 41,
   "metadata": {},
   "outputs": [
    {
     "name": "stdout",
     "output_type": "stream",
     "text": [
      "you =  Person {\n",
      "  firstName: 'John',\n",
      "  lastName: 'Doe',\n",
      "  age: 50,\n",
      "  eyeColor: 'blue',\n",
      "  language: 'en' }\n",
      "bplayer = Person {\n",
      "  firstName: 'Lebron',\n",
      "  lastName: 'James',\n",
      "  age: 33,\n",
      "  eyeColor: 'brown' }\n"
     ]
    }
   ],
   "source": [
    "console.log('you = ', you)\n",
    "console.log('bplayer =', bplayer)"
   ]
  },
  {
   "cell_type": "markdown",
   "metadata": {},
   "source": [
    "### adding method to an object"
   ]
  },
  {
   "cell_type": "code",
   "execution_count": 42,
   "metadata": {},
   "outputs": [
    {
     "data": {
      "text/plain": [
       "[Function]"
      ]
     },
     "execution_count": 42,
     "metadata": {},
     "output_type": "execute_result"
    }
   ],
   "source": [
    "bplayer.stats = function() {\n",
    "    return this.firstName[0] + \". \" + this.lastName + \": 20, 30.5, 15.9\";\n",
    "}"
   ]
  },
  {
   "cell_type": "code",
   "execution_count": 43,
   "metadata": {},
   "outputs": [
    {
     "name": "stdout",
     "output_type": "stream",
     "text": [
      "L. James: 20, 30.5, 15.9\n"
     ]
    }
   ],
   "source": [
    "console.log(bplayer.stats())"
   ]
  },
  {
   "cell_type": "markdown",
   "metadata": {},
   "source": [
    "### adding property to a constructor\n",
    "- adding property and method to an object constructor is not allowed (no error, but doesn't work as expected)\n",
    "- you must add it in the constructor function itself to actually work"
   ]
  },
  {
   "cell_type": "code",
   "execution_count": 44,
   "metadata": {},
   "outputs": [
    {
     "data": {
      "text/plain": [
       "'English'"
      ]
     },
     "execution_count": 44,
     "metadata": {},
     "output_type": "execute_result"
    }
   ],
   "source": [
    "Person.nationality = \"English\""
   ]
  },
  {
   "cell_type": "code",
   "execution_count": 45,
   "metadata": {},
   "outputs": [
    {
     "name": "stdout",
     "output_type": "stream",
     "text": [
      "Person {\n",
      "  firstName: 'Lebron',\n",
      "  lastName: 'James',\n",
      "  age: 33,\n",
      "  eyeColor: 'brown',\n",
      "  stats: [Function] }\n"
     ]
    }
   ],
   "source": [
    "// nationality property is not added\n",
    "console.log(bplayer)"
   ]
  },
  {
   "cell_type": "code",
   "execution_count": 46,
   "metadata": {},
   "outputs": [],
   "source": [
    "var theMan = new Person(\"Bill\", \"Gates\", 50, \"blue\");"
   ]
  },
  {
   "cell_type": "code",
   "execution_count": 47,
   "metadata": {},
   "outputs": [
    {
     "name": "stdout",
     "output_type": "stream",
     "text": [
      "Person {\n",
      "  firstName: 'Bill',\n",
      "  lastName: 'Gates',\n",
      "  age: 50,\n",
      "  eyeColor: 'blue' }\n"
     ]
    }
   ],
   "source": [
    "console.log(theMan)"
   ]
  },
  {
   "cell_type": "code",
   "execution_count": 48,
   "metadata": {},
   "outputs": [],
   "source": [
    "// updating Person constructor doesn't affect the existing objects\n",
    "function Person(firstName, lastName, age, eyeColor) {\n",
    "    this.firstName = firstName;  \n",
    "    this.lastName = lastName;\n",
    "    this.age = age;\n",
    "    this.eyeColor = eyeColor;\n",
    "    this.nationality = \"American\";\n",
    "    this.changeName = function (name) {\n",
    "        this.lastName = name;\n",
    "    };\n",
    "}"
   ]
  },
  {
   "cell_type": "code",
   "execution_count": 49,
   "metadata": {},
   "outputs": [
    {
     "name": "stdout",
     "output_type": "stream",
     "text": [
      "Person {\n",
      "  firstName: 'Bill',\n",
      "  lastName: 'Gates',\n",
      "  age: 50,\n",
      "  eyeColor: 'blue' }\n"
     ]
    }
   ],
   "source": [
    "console.log(theMan)"
   ]
  },
  {
   "cell_type": "code",
   "execution_count": 50,
   "metadata": {},
   "outputs": [
    {
     "name": "stdout",
     "output_type": "stream",
     "text": [
      "Person {\n",
      "  firstName: 'Ram',\n",
      "  lastName: 'Basnet',\n",
      "  age: 38,\n",
      "  eyeColor: 'brown' }\n"
     ]
    }
   ],
   "source": [
    "// recreate i object - rerun the corresponding cell\n",
    "console.log(i)"
   ]
  },
  {
   "cell_type": "markdown",
   "metadata": {},
   "source": [
    "## prototype property - adding properties and methods\n",
    "- sometimes, you want to add new properties (or methods) to all existing objects of a given type\n",
    "- sometimes you want to add new properties (or methods) to an object constructor outside the constructor\n",
    "- prototype property allows you to add new properties to object constructors"
   ]
  },
  {
   "cell_type": "code",
   "execution_count": 51,
   "metadata": {},
   "outputs": [],
   "source": [
    "function Person(first, last, age, eyecolor) {\n",
    "    this.firstName = first;\n",
    "    this.lastName = last;\n",
    "    this.age = age;\n",
    "    this.eyeColor = eyecolor;\n",
    "}"
   ]
  },
  {
   "cell_type": "code",
   "execution_count": 52,
   "metadata": {},
   "outputs": [
    {
     "name": "stdout",
     "output_type": "stream",
     "text": [
      "Person {\n",
      "  firstName: 'John',\n",
      "  lastName: 'Doe',\n",
      "  age: 50,\n",
      "  eyeColor: 'orange' }\n",
      "Person {\n",
      "  firstName: 'Sally',\n",
      "  lastName: 'Smith',\n",
      "  age: 45,\n",
      "  eyeColor: 'blue' }\n"
     ]
    }
   ],
   "source": [
    "var person1 = new Person(\"John\", \"Doe\", 50, \"orange\");\n",
    "var person2 = new Person(\"Sally\", \"Smith\", 45, \"blue\");\n",
    "console.log(person1)\n",
    "console.log(person2)"
   ]
  },
  {
   "cell_type": "code",
   "execution_count": 53,
   "metadata": {},
   "outputs": [
    {
     "data": {
      "text/plain": [
       "'English'"
      ]
     },
     "execution_count": 53,
     "metadata": {},
     "output_type": "execute_result"
    }
   ],
   "source": [
    "Person.prototype.nationality = \"English\";"
   ]
  },
  {
   "cell_type": "code",
   "execution_count": 54,
   "metadata": {},
   "outputs": [
    {
     "name": "stdout",
     "output_type": "stream",
     "text": [
      "Person {\n",
      "  firstName: 'John',\n",
      "  lastName: 'Doe',\n",
      "  age: 50,\n",
      "  eyeColor: 'orange' }\n",
      "Person {\n",
      "  firstName: 'Sally',\n",
      "  lastName: 'Smith',\n",
      "  age: 45,\n",
      "  eyeColor: 'blue' }\n"
     ]
    }
   ],
   "source": [
    "console.log(person1)\n",
    "console.log(person2)"
   ]
  },
  {
   "cell_type": "code",
   "execution_count": 55,
   "metadata": {},
   "outputs": [
    {
     "name": "stdout",
     "output_type": "stream",
     "text": [
      "English\n",
      "English\n"
     ]
    }
   ],
   "source": [
    "console.log(person1.nationality)\n",
    "console.log(person2.nationality)"
   ]
  },
  {
   "cell_type": "markdown",
   "metadata": {},
   "source": [
    "## Exercises\n",
    "\n",
    "### Kattis problems that can be solved using dict/lookup table\n",
    "1. I've Been Everywhere, Man - https://open.kattis.com/problems/everywhere\n",
    "- Seven Wonders - https://open.kattis.com/problems/sevenwonders\n",
    "- ACM Contest Scoring - https://open.kattis.com/problems/acm\n",
    "- Stacking Cups - https://open.kattis.com/problems/cups\n",
    "- A New Alphabet - https://open.kattis.com/problems/anewalphabet\n",
    "- Words for Numbers - https://open.kattis.com/problems/wordsfornumbers\n",
    "- Babelfish - https://open.kattis.com/problems/babelfish\n",
    "- Popular Vote - https://open.kattis.com/problems/vote\n",
    "- Adding Words - https://open.kattis.com/problems/addingwords\n",
    "- Grandpa Bernie - https://open.kattis.com/problems/grandpabernie\n",
    "- Judging Troubles - https://open.kattis.com/problems/judging\n",
    "- Not Amused - https://open.kattis.com/problems/notamused\n",
    "- Engineering English - https://open.kattis.com/problems/engineeringenglish\n",
    "- Hardwood Species - https://open.kattis.com/problems/hardwoodspecies\n",
    "- Conformity - https://open.kattis.com/problems/conformity\n",
    "- Galactic Collegiate Programming Contest - https://open.kattis.com/problems/gcpc\n",
    "- Simplicity - https://open.kattis.com/problems/simplicity"
   ]
  },
  {
   "cell_type": "code",
   "execution_count": null,
   "metadata": {},
   "outputs": [],
   "source": []
  }
 ],
 "metadata": {
  "kernelspec": {
   "display_name": "Javascript (Node.js)",
   "language": "javascript",
   "name": "javascript"
  },
  "language_info": {
   "file_extension": ".js",
   "mimetype": "application/javascript",
   "name": "javascript",
   "version": "11.14.0"
  }
 },
 "nbformat": 4,
 "nbformat_minor": 2
}
