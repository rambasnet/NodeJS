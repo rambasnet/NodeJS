{
 "cells": [
  {
   "cell_type": "markdown",
   "id": "892841d1-64c0-4a44-8818-e43a04ef1c67",
   "metadata": {},
   "source": [
    "# A Synchronous Programming\n",
    "- https://developer.mozilla.org/en-US/docs/Learn/JavaScript/Asynchronous/Async_await\n",
    "\n",
    "## Synchronous Programming\n",
    "- synchronous execution usually refers to code executing in sequence\n",
    "- program is executed line by line top to bottom one statement at a time\n",
    "- when a function is called, the caller waits until the callee returns and the caller continues to the next line of code\n",
    "- these operations may also be called **blocking** as they preven further execution until that operation is complete\n",
    "- most programming languages by default do synchronous execution\n",
    "- all operations are blocking and execute in sync\n",
    "- may not be greate experience for end users as they wait seeing rainbow-colored cursor (or beachball)\n",
    "- also not effecient utilization of many cores modern computers typically have\n",
    "\n",
    "![beachball](./resources/beachball.jpg)\n",
    "\n",
    "\n",
    "## Asynchronous Programming\n",
    "- asynchronous execution refers to execution that doesn't follow the sequence it appears in the code\n",
    "- program doesn't wait for current task to complete and can move on to the next statement\n",
    "- when a async operation/code is executed, execution cotinues without **blocking** the next statement/code that need to be executed\n",
    "- order of the operations can't be predicted before hand as the code execute asynchronously\n",
    "- generally speaking most operations that are usually slow such as **I/O** and **time** related operations are aync or blocking"
   ]
  },
  {
   "cell_type": "code",
   "execution_count": 4,
   "id": "ade389ec-54fd-4c53-a4aa-22d3dfedf4d3",
   "metadata": {},
   "outputs": [
    {
     "name": "stdout",
     "output_type": "stream",
     "text": [
      "1\n",
      "2\n",
      "3\n"
     ]
    }
   ],
   "source": [
    "// Synchronous Execution\n",
    "console.log(1);\n",
    "console.log(2);\n",
    "console.log(3);"
   ]
  },
  {
   "cell_type": "code",
   "execution_count": 5,
   "id": "3203d99c-5938-44b4-8566-3a24719ad53e",
   "metadata": {},
   "outputs": [
    {
     "name": "stdout",
     "output_type": "stream",
     "text": [
      "1\n",
      "3\n",
      "2\n"
     ]
    }
   ],
   "source": [
    "// Aynchronous Execution\n",
    "console.log(1);\n",
    "setTimeout(() => console.log(2), 0); //delay execution for 0 millisecond\n",
    "console.log(3)"
   ]
  },
  {
   "cell_type": "code",
   "execution_count": 6,
   "id": "f0026467-fcd1-4138-87b3-2797dd54b4e2",
   "metadata": {},
   "outputs": [],
   "source": [
    "const fs = require('fs')"
   ]
  },
  {
   "cell_type": "code",
   "execution_count": 7,
   "id": "a7c4e8d2-9da3-41b1-bb8c-5fa4a07c5176",
   "metadata": {},
   "outputs": [
    {
     "name": "stdout",
     "output_type": "stream",
     "text": [
      "MIT License\n",
      "\n",
      "Copyright (c) 2018 Ram Basnet\n",
      "\n",
      "Permission is hereby granted, free of charge, to any person obtaining a copy\n",
      "of this software and associated documentation files (the \"Software\"), to deal\n",
      "in the Software without restriction, including without limitation the rights\n",
      "to use, copy, modify, merge, publish, distribute, sublicense, and/or sell\n",
      "copies of the Software, and to permit persons to whom the Software is\n",
      "furnished to do so, subject to the following conditions:\n",
      "\n",
      "The above copyright notice and this permission notice shall be included in all\n",
      "copies or substantial portions of the Software.\n",
      "\n",
      "THE SOFTWARE IS PROVIDED \"AS IS\", WITHOUT WARRANTY OF ANY KIND, EXPRESS OR\n",
      "IMPLIED, INCLUDING BUT NOT LIMITED TO THE WARRANTIES OF MERCHANTABILITY,\n",
      "FITNESS FOR A PARTICULAR PURPOSE AND NONINFRINGEMENT. IN NO EVENT SHALL THE\n",
      "AUTHORS OR COPYRIGHT HOLDERS BE LIABLE FOR ANY CLAIM, DAMAGES OR OTHER\n",
      "LIABILITY, WHETHER IN AN ACTION OF CONTRACT, TORT OR OTHERWISE, ARISING FROM,\n",
      "OUT OF OR IN CONNECTION WITH THE SOFTWARE OR THE USE OR OTHER DEALINGS IN THE\n",
      "SOFTWARE.\n",
      "\n",
      "8\n",
      "0\n"
     ]
    }
   ],
   "source": [
    "// Synchronous or Blocking\n",
    "const data = fs.readFileSync('./LICENSE'); // block until the file is read\n",
    "console.log(data.toString());\n",
    "console.log(2**3);\n",
    "console.log(10%2);"
   ]
  },
  {
   "cell_type": "code",
   "execution_count": 1,
   "id": "b652c52f-adae-4ae4-9171-898f35ca23ec",
   "metadata": {},
   "outputs": [
    {
     "name": "stdout",
     "output_type": "stream",
     "text": [
      "1024\n",
      "1\n",
      "all done!\n",
      "MIT License\n",
      "\n",
      "Copyright (c) 2018 Ram Basnet\n",
      "\n",
      "Permission is hereby granted, free of charge, to any person obtaining a copy\n",
      "of this software and associated documentation files (the \"Software\"), to deal\n",
      "in the Software without restriction, including without limitation the rights\n",
      "to use, copy, modify, merge, publish, distribute, sublicense, and/or sell\n",
      "copies of the Software, and to permit persons to whom the Software is\n",
      "furnished to do so, subject to the following conditions:\n",
      "\n",
      "The above copyright notice and this permission notice shall be included in all\n",
      "copies or substantial portions of the Software.\n",
      "\n",
      "THE SOFTWARE IS PROVIDED \"AS IS\", WITHOUT WARRANTY OF ANY KIND, EXPRESS OR\n",
      "IMPLIED, INCLUDING BUT NOT LIMITED TO THE WARRANTIES OF MERCHANTABILITY,\n",
      "FITNESS FOR A PARTICULAR PURPOSE AND NONINFRINGEMENT. IN NO EVENT SHALL THE\n",
      "AUTHORS OR COPYRIGHT HOLDERS BE LIABLE FOR ANY CLAIM, DAMAGES OR OTHER\n",
      "LIABILITY, WHETHER IN AN ACTION OF CONTRACT, TORT OR OTHERWISE, ARISING FROM,\n",
      "OUT OF OR IN CONNECTION WITH THE SOFTWARE OR THE USE OR OTHER DEALINGS IN THE\n",
      "SOFTWARE.\n",
      "\n",
      "done reading and writing file...\n"
     ]
    }
   ],
   "source": [
    "// Asynchronous or Non-blocking\n",
    "fs.readFile('./LICENSE', (err, data) => {\n",
    "        if (err) throw err;\n",
    "        console.log(data.toString());\n",
    "        console.log('done reading and writing file...');\n",
    "    }\n",
    ");\n",
    "console.log(2**10);\n",
    "console.log(101%2);\n",
    "console.log('all done!');"
   ]
  },
  {
   "cell_type": "markdown",
   "id": "9907bb71-8e2d-4953-82fb-4dad7def31ca",
   "metadata": {},
   "source": [
    "## Callbacks\n",
    "- a **callback** is a function passed as an argument into another async higher order function\n",
    "- when the function is completed, it can call the **callback** function to complete the rest of the task\n",
    "- the **callback** can be invoked immidiately synchronously or it might happen later time asynchronously\n",
    "- async methods (as shown in fs.readFile) requires callback function to continue after the async function is completed\n",
    "- this could result into something called **callback hell**\n",
    "    - a situation where callbacks are nested wihtin other callbacks several levels deep\n",
    "    - makes code difficult to read, understand, maintain and debug\n",
    "    \n",
    "## Making asynchronous programming easier with async and await keywords\n",
    "- ECMAScript 2017 standard added **async** and **await** keywords to avoid callback hell\n",
    "- **async** keyword lets you create an async function\n",
    "- **async** function returns **promise**\n",
    "- **async** functions can use **await** keyword when calling any function that returns a promise"
   ]
  },
  {
   "cell_type": "code",
   "execution_count": 2,
   "id": "05177c13-5bcf-401b-87b9-6385784f51ef",
   "metadata": {},
   "outputs": [],
   "source": [
    "// sync function\n",
    "function hello() {\n",
    "    return \"Hello World!\";\n",
    "}"
   ]
  },
  {
   "cell_type": "code",
   "execution_count": 5,
   "id": "d6b2d067-6493-403d-bfb7-968c093315ae",
   "metadata": {},
   "outputs": [
    {
     "name": "stdout",
     "output_type": "stream",
     "text": [
      "Hello World!\n",
      "6\n"
     ]
    }
   ],
   "source": [
    "// call sync function\n",
    "console.log(hello());\n",
    "console.log(2*3);"
   ]
  },
  {
   "cell_type": "code",
   "execution_count": 6,
   "id": "19be705e-48f8-4bd7-adca-b30a6d4f4aed",
   "metadata": {},
   "outputs": [],
   "source": [
    "// async hello function\n",
    "async function async_hello() {\n",
    "    return 'Hello World!';\n",
    "}"
   ]
  },
  {
   "cell_type": "code",
   "execution_count": 9,
   "id": "f9c85ada-3800-45fd-b293-015eb5523f6a",
   "metadata": {},
   "outputs": [
    {
     "name": "stdout",
     "output_type": "stream",
     "text": [
      "Promise { 'Hello World!' }\n",
      "6\n"
     ]
    }
   ],
   "source": [
    "console.log(async_hello()); // returns promise\n",
    "console.log(2*3);"
   ]
  },
  {
   "cell_type": "code",
   "execution_count": 10,
   "id": "0228fc26-91bb-48fd-9add-c59660b944c7",
   "metadata": {},
   "outputs": [
    {
     "name": "stdout",
     "output_type": "stream",
     "text": [
      "6\n",
      "Hello World!\n"
     ]
    }
   ],
   "source": [
    "// we use .then() block to consume the value returned when the promise fulfills\n",
    "async_hello().then( (value) => console.log(value));\n",
    "console.log(2*3);"
   ]
  },
  {
   "cell_type": "code",
   "execution_count": 19,
   "id": "440664f7-3398-45ba-9ba4-fca53046d02a",
   "metadata": {},
   "outputs": [],
   "source": [
    "// can use arrow functions\n",
    "let hello1 = async () => \"Hello World!\";"
   ]
  },
  {
   "cell_type": "code",
   "execution_count": 20,
   "id": "5809f06a-97d1-40c5-941c-9aa384bc2d7c",
   "metadata": {},
   "outputs": [
    {
     "name": "stdout",
     "output_type": "stream",
     "text": [
      "Promise { 'Hello World!' }\n"
     ]
    }
   ],
   "source": [
    "console.log(hello1());"
   ]
  },
  {
   "cell_type": "code",
   "execution_count": 21,
   "id": "675ca6ea-e782-4af9-af8e-e63cdde059b4",
   "metadata": {},
   "outputs": [
    {
     "name": "stdout",
     "output_type": "stream",
     "text": [
      "Hello World!\n"
     ]
    }
   ],
   "source": [
    "// use then and shortcut to print the return value\n",
    "hello1().then(console.log);"
   ]
  },
  {
   "cell_type": "markdown",
   "id": "e7ea26d8-aa38-4e9c-a366-8b9f19a4e620",
   "metadata": {},
   "source": [
    "## Promise\n",
    "- https://developer.mozilla.org/en-US/docs/Web/JavaScript/Reference/Global_Objects/Promise\n",
    "- A Promise object represents the eventual successful completion (or failure) of an asynchronous operation and its resulting value\n",
    "- it's a proxy for a value not necessarily known when the promise is created\n",
    "- this lets async function return values like sync functions\n",
    "    - instead of immidiately returning the final value, the async function returns a *promise* to supply the value at some time in the future\n",
    "- A promise is one of these states:\n",
    "    - *pending* - initial state; neither fulfilled or rejected\n",
    "    - *fulfilled* - operation was completed successfully\n",
    "    - *rejected* - operation failed\n",
    "    \n",
    "\n",
    "![Promises](./resources/promises.png)"
   ]
  },
  {
   "cell_type": "code",
   "execution_count": 13,
   "id": "7b42b70f-51ce-4d14-894b-7801313a1da7",
   "metadata": {},
   "outputs": [],
   "source": [
    "// hi function using Promise explictly\n",
    "async function hi() {\n",
    "    return await Promise.resolve('Hello World!');\n",
    "}"
   ]
  },
  {
   "cell_type": "code",
   "execution_count": 15,
   "id": "41c0061f-9833-4f43-9f29-b8c8eef87338",
   "metadata": {},
   "outputs": [
    {
     "name": "stdout",
     "output_type": "stream",
     "text": [
      "Promise { <pending> }\n"
     ]
    }
   ],
   "source": [
    "console.log(hi())"
   ]
  },
  {
   "cell_type": "code",
   "execution_count": 17,
   "id": "fdcd2999-74ef-4d4d-9722-bdab07a7dde1",
   "metadata": {},
   "outputs": [
    {
     "name": "stdout",
     "output_type": "stream",
     "text": [
      "Hello World!\n"
     ]
    }
   ],
   "source": [
    "hi().then( (ret) => console.log(ret));"
   ]
  },
  {
   "cell_type": "code",
   "execution_count": 24,
   "id": "67d334cb-085b-4835-a36b-7ca334de8267",
   "metadata": {},
   "outputs": [
    {
     "name": "stdout",
     "output_type": "stream",
     "text": [
      "Hello World! Good bye!!\n"
     ]
    }
   ],
   "source": [
    "// can chain promises\n",
    "hi().then( res => {\n",
    "    return res + \" Good bye!!\";\n",
    "}).then ( res => {\n",
    "    console.log(res);\n",
    "})"
   ]
  },
  {
   "cell_type": "markdown",
   "id": "256c84eb-d673-43ea-a16a-8f3aefadf4d6",
   "metadata": {},
   "source": [
    "## Using async/await intuitively\n",
    "- async function can be wrapped inside another async function\n",
    "    - this is necessary; you have to create an async function to define a block of code in which you'll run your async code\n",
    "    - await only works inside async function\n",
    "- use await to call the async function and block only that function\n",
    "    - use await to wait for the result if the next code needs the result of the async function"
   ]
  },
  {
   "cell_type": "code",
   "execution_count": 25,
   "id": "8aea7439-df8a-436e-ac4e-98b9cbb1dbee",
   "metadata": {},
   "outputs": [],
   "source": [
    "// let's say you've an async function or API\n",
    "async function add(num1, num2) {\n",
    "    return num1+num2;\n",
    "}"
   ]
  },
  {
   "cell_type": "code",
   "execution_count": 26,
   "id": "c8440257-9b54-49d7-9ba3-fe3192e51606",
   "metadata": {},
   "outputs": [],
   "source": [
    "// wrapper async function to use add async function\n",
    "async function average(num1, num2) {\n",
    "    let s = await add(num1, num2); //this will block until add is completed\n",
    "    return s/2.0;\n",
    "}"
   ]
  },
  {
   "cell_type": "code",
   "execution_count": 28,
   "id": "2dca7c96-c8c5-4634-860b-702baf7e5ecb",
   "metadata": {},
   "outputs": [
    {
     "name": "stdout",
     "output_type": "stream",
     "text": [
      "15\n"
     ]
    }
   ],
   "source": [
    "average(10, 20).then( ans => console.log(ans));"
   ]
  },
  {
   "cell_type": "code",
   "execution_count": null,
   "id": "9d9e9383-0ea8-4349-a7fd-4c0569f5960f",
   "metadata": {},
   "outputs": [],
   "source": []
  }
 ],
 "metadata": {
  "kernelspec": {
   "display_name": "Javascript (Node.js)",
   "language": "javascript",
   "name": "javascript"
  },
  "language_info": {
   "file_extension": ".js",
   "mimetype": "application/javascript",
   "name": "javascript",
   "version": "15.12.0"
  }
 },
 "nbformat": 4,
 "nbformat_minor": 5
}
