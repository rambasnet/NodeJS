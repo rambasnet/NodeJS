{
 "cells": [
  {
   "cell_type": "markdown",
   "metadata": {},
   "source": [
    "# Errors\n",
    "- dealing with bugs is normal part of programming\n",
    "- debugging is a very handy programming skill\n",
    "\n",
    "## category of errors/bugs\n",
    "- syntax errors\n",
    "- logical/semantic errros\n",
    "- runtime errors/exceptions"
   ]
  },
  {
   "cell_type": "markdown",
   "metadata": {},
   "source": [
    "## syntax errors\n",
    "- grammatical errors"
   ]
  },
  {
   "cell_type": "markdown",
   "metadata": {},
   "source": [
    "## execeptions\n",
    "- https://developer.mozilla.org/en-US/docs/Web/JavaScript/Reference/Global_Objects/Error\n",
    "- applications running in Node.js will generally experience four categories of runtime-errors or exceptions\n",
    "    1. System errors triggered by underlying operating system constraints such as attempting to open a file that does not exist or attempting to send data over a closed socket.\n",
    "    - User-specified errors triggered by application code.\n",
    "    - AssertionErrors are a special class of error that can be triggered when Node.js detects an exceptional logic violation that should never occur. These are raised typically by the assert module.\n",
    "    - All JavaScript and System errors raised by Node.js inherit from, or are instances of, the standard JavaScript **Error** class and are guaranteed to provide at least the properties available on that class.\n",
    "- standard JavaScript exceptions are EvalError, SyntaxError, RangeError, ReferenceError, TypeError, and URIError"
   ]
  },
  {
   "cell_type": "markdown",
   "metadata": {},
   "source": [
    "## Some examples of errors and exceptions"
   ]
  },
  {
   "cell_type": "code",
   "execution_count": 1,
   "metadata": {},
   "outputs": [
    {
     "ename": "ReferenceError",
     "evalue": "x is not defined",
     "output_type": "error",
     "traceback": [
      "evalmachine.<anonymous>:1",
      "console.log(x);",
      "            ^",
      "",
      "ReferenceError: x is not defined",
      "    at evalmachine.<anonymous>:1:13",
      "    at Script.runInThisContext (vm.js:124:20)",
      "    at Object.runInThisContext (vm.js:314:38)",
      "    at run ([eval]:1054:15)",
      "    at onRunRequest ([eval]:888:18)",
      "    at onMessage ([eval]:848:13)",
      "    at process.emit (events.js:193:13)",
      "    at emit (internal/child_process.js:848:12)",
      "    at processTicksAndRejections (internal/process/task_queues.js:81:17)"
     ]
    }
   ],
   "source": [
    "console.log(x);"
   ]
  },
  {
   "cell_type": "code",
   "execution_count": 2,
   "metadata": {},
   "outputs": [
    {
     "ename": "SyntaxError",
     "evalue": "Unexpected token {",
     "output_type": "error",
     "traceback": [
      "evalmachine.<anonymous>:1",
      "console.log{}",
      "           ^",
      "",
      "SyntaxError: Unexpected token {",
      "    at new Script (vm.js:85:7)",
      "    at createScript (vm.js:266:10)",
      "    at Object.runInThisContext (vm.js:314:10)",
      "    at run ([eval]:1054:15)",
      "    at onRunRequest ([eval]:888:18)",
      "    at onMessage ([eval]:848:13)",
      "    at process.emit (events.js:193:13)",
      "    at emit (internal/child_process.js:848:12)",
      "    at processTicksAndRejections (internal/process/task_queues.js:81:17)"
     ]
    }
   ],
   "source": [
    "console.log{}"
   ]
  },
  {
   "cell_type": "code",
   "execution_count": 3,
   "metadata": {},
   "outputs": [
    {
     "ename": "Error",
     "evalue": "Cannot find module 'some-module'",
     "output_type": "error",
     "traceback": [
      "internal/modules/cjs/loader.js:670",
      "    throw err;",
      "    ^",
      "",
      "Error: Cannot find module 'some-module'",
      "    at Function.Module._resolveFilename (internal/modules/cjs/loader.js:668:15)",
      "    at Function.Module._load (internal/modules/cjs/loader.js:591:27)",
      "    at Module.require (internal/modules/cjs/loader.js:723:19)",
      "    at require (internal/modules/cjs/helpers.js:14:16)",
      "    at evalmachine.<anonymous>:1:16",
      "    at Script.runInThisContext (vm.js:124:20)",
      "    at Object.runInThisContext (vm.js:314:38)",
      "    at run ([eval]:1054:15)",
      "    at onRunRequest ([eval]:888:18)",
      "    at onMessage ([eval]:848:13)"
     ]
    }
   ],
   "source": [
    "const module = require('some-module');"
   ]
  },
  {
   "cell_type": "code",
   "execution_count": 4,
   "metadata": {},
   "outputs": [
    {
     "ename": "TypeError",
     "evalue": "Cannot read property 'property' of null",
     "output_type": "error",
     "traceback": [
      "evalmachine.<anonymous>:1",
      "null.property()",
      "     ^",
      "",
      "TypeError: Cannot read property 'property' of null",
      "    at evalmachine.<anonymous>:1:6",
      "    at Script.runInThisContext (vm.js:124:20)",
      "    at Object.runInThisContext (vm.js:314:38)",
      "    at run ([eval]:1054:15)",
      "    at onRunRequest ([eval]:888:18)",
      "    at onMessage ([eval]:848:13)",
      "    at process.emit (events.js:193:13)",
      "    at emit (internal/child_process.js:848:12)",
      "    at processTicksAndRejections (internal/process/task_queues.js:81:17)"
     ]
    }
   ],
   "source": [
    "null.property();"
   ]
  },
  {
   "cell_type": "code",
   "execution_count": 5,
   "metadata": {},
   "outputs": [
    {
     "name": "stdout",
     "output_type": "stream",
     "text": [
      "Infinity\n"
     ]
    }
   ],
   "source": [
    "console.log(1/0);"
   ]
  },
  {
   "cell_type": "markdown",
   "metadata": {},
   "source": [
    "## handling/catching exceptions\n",
    "- Syntax\n",
    "```javascript\n",
    "try {\n",
    "    // code that may potentially throw some exception\n",
    "}\n",
    "catch (exception) {\n",
    "    // handle specific error\n",
    "    if (exception instanceof EvalError) {\n",
    "        // handle it here\n",
    "    }\n",
    "    else if (exception instanceof RangeError) {\n",
    "        // handle it here\n",
    "    }\n",
    "    // etc...\n",
    "    else\n",
    "    {\n",
    "        // handle it here\n",
    "        console.log(exception.name + ' ' + exception.message);\n",
    "    }\n",
    "}\n",
    "```"
   ]
  },
  {
   "cell_type": "code",
   "execution_count": 8,
   "metadata": {},
   "outputs": [
    {
     "name": "stdout",
     "output_type": "stream",
     "text": [
      "name: TypeError\n",
      "messae: Cannot read property 'method' of null\n",
      "stack: TypeError: Cannot read property 'method' of null\n",
      "    at evalmachine.<anonymous>:3:10\n",
      "    at Script.runInThisContext (vm.js:124:20)\n",
      "    at Object.runInThisContext (vm.js:314:38)\n",
      "    at run ([eval]:1054:15)\n",
      "    at onRunRequest ([eval]:888:18)\n",
      "    at onMessage ([eval]:848:13)\n",
      "    at process.emit (events.js:193:13)\n",
      "    at emit (internal/child_process.js:848:12)\n",
      "    at processTicksAndRejections (internal/process/task_queues.js:81:17)\n"
     ]
    }
   ],
   "source": [
    "// catching a TypeError\n",
    "try {\n",
    "    null.method();\n",
    "} catch (e) {\n",
    "    if (e instanceof TypeError) {\n",
    "        console.log(`name: ${e.name}` );\n",
    "        console.log('messae:', e.message);\n",
    "        console.log('stack:', e.stack);\n",
    "    }\n",
    "}"
   ]
  },
  {
   "cell_type": "code",
   "execution_count": 9,
   "metadata": {},
   "outputs": [
    {
     "ename": "Error",
     "evalue": "ENOENT: no such file or directory, open 'somefile.txt'",
     "output_type": "error",
     "traceback": [
      "fs.js:119",
      "    throw err;",
      "    ^",
      "",
      "Error: ENOENT: no such file or directory, open 'somefile.txt'",
      "    at Object.openSync (fs.js:448:3)",
      "    at Object.readFileSync (fs.js:348:35)",
      "    at evalmachine.<anonymous>:2:15",
      "    at Script.runInThisContext (vm.js:124:20)",
      "    at Object.runInThisContext (vm.js:314:38)",
      "    at run ([eval]:1054:15)",
      "    at onRunRequest ([eval]:888:18)",
      "    at onMessage ([eval]:848:13)",
      "    at process.emit (events.js:193:13)",
      "    at emit (internal/child_process.js:848:12)"
     ]
    }
   ],
   "source": [
    "var fs = require('fs');\n",
    "var data = fs.readFileSync('somefile.txt');"
   ]
  },
  {
   "cell_type": "code",
   "execution_count": 10,
   "metadata": {},
   "outputs": [
    {
     "name": "stdout",
     "output_type": "stream",
     "text": [
      "Error\n",
      "ENOENT: no such file or directory, open 'somefile.txt'\n"
     ]
    }
   ],
   "source": [
    "try {\n",
    "    var fs = require('fs');\n",
    "    var data = fs.readFileSync('somefile.txt');\n",
    "} catch (e) {\n",
    "    console.log(e.name);\n",
    "    console.log(e.message);\n",
    "}"
   ]
  },
  {
   "cell_type": "markdown",
   "metadata": {},
   "source": [
    "## creating and throwing error"
   ]
  },
  {
   "cell_type": "code",
   "execution_count": 12,
   "metadata": {},
   "outputs": [],
   "source": [
    "var DivByZeroError = new Error('Divisor can not be zero!');"
   ]
  },
  {
   "cell_type": "code",
   "execution_count": 13,
   "metadata": {},
   "outputs": [
    {
     "name": "stdout",
     "output_type": "stream",
     "text": [
      "Error:Divisor can not be zero!\n"
     ]
    }
   ],
   "source": [
    "var dividend = 100;\n",
    "var divisor = 0;\n",
    "try {\n",
    "    if (divisor == 0)\n",
    "        throw DivByZeroError;\n",
    "    console.log(`qoutient = ${dividend/divisor}`);\n",
    "} catch (e) {\n",
    "    console.log(e.name + \":\" + e.message);\n",
    "}"
   ]
  },
  {
   "cell_type": "code",
   "execution_count": null,
   "metadata": {},
   "outputs": [],
   "source": []
  }
 ],
 "metadata": {
  "kernelspec": {
   "display_name": "Javascript (Node.js)",
   "language": "javascript",
   "name": "javascript"
  },
  "language_info": {
   "file_extension": ".js",
   "mimetype": "application/javascript",
   "name": "javascript",
   "version": "11.14.0"
  }
 },
 "nbformat": 4,
 "nbformat_minor": 2
}
