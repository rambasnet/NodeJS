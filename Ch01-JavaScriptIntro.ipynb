{
 "cells": [
  {
   "cell_type": "markdown",
   "metadata": {},
   "source": [
    "# JavaScript (JS) Introduction\n",
    "- Intrepreted programming language of HTML and Web\n",
    "- JS is one of the thee tools/languages all web developers must learn\n",
    "    - HTML - helps define the content of the web pages\n",
    "    - CSS - specifies the layout and look and feel of the web pages\n",
    "    - JavaScript - helps program the behavior of web pages dynamically\n",
    "- Use in Desktop and Server programs, e.g., Node.js server side JS engine\n",
    "- JavaScript is not the same as Java even though the name is burrowed\n",
    "- Started in 1995 and ECMAScript 2018 is the latest standard - See https://www.w3schools.com/js/js_versions.asp for different versions and history"
   ]
  },
  {
   "cell_type": "markdown",
   "metadata": {},
   "source": [
    "## Purpose of client-side JS in browser in general\n",
    "- change the html content\n",
    "- change html attribute values\n",
    "- change html styles\n",
    "- Hide/show html elements\n",
    "- add new or delete html elements\n",
    "\n",
    "## Advantages of JS on client side/browser\n",
    "- less server interaction / avoid round trip traffic for user input validation\n",
    "- immediate feedback to users\n",
    "- increased interactivity - users users can interact with your webpage using mouse and keyboard\n",
    "- provide richer and intuitive interfaces such as drag-and-drop components, sliders, etc.\n",
    "\n",
    "\n",
    "## Limitations of JS\n",
    "- not a general purpose programming language (though getting there...)\n",
    "- client-side JS doesn't allow reading and writing of files (security reasons)\n",
    "- client JS doesn't have networking capabilities\n",
    "- client JS doesn't provide multithreading or multi-processor capabilities\n"
   ]
  },
  {
   "cell_type": "markdown",
   "metadata": {},
   "source": [
    "## Where to execute JS?\n",
    "### Server Side\n",
    "- Console/Terminal (execute script file with NodeJS - server side)\n",
    "```bash\n",
    "$ node script.js\n",
    "```\n",
    "\n",
    "## Resources to Learn NodeJS\n",
    "- https://nodeschool.io/#workshoppers\n",
    "- demonstrate javascripting workshop\n",
    "\n",
    "### Client Side\n",
    "- Browser (execute script file or embed script in HTML document/file - client side)\n",
    "\n",
    "#### HTML document\n",
    "- embed withing HTML document inside\n",
    "```html\n",
    "<script> \n",
    "    var num = 10; \n",
    "</script>\n",
    "```\n",
    "- can place any number of script tags in HTML document\n",
    "- script tags can be placed in head or in the body of HTML page\n",
    "- Typically placed in head tag; library such as jQuery and others are typically placed just before the closing body tab\n",
    "\n",
    "#### External file\n",
    "- can be in an external file and imported using script tag\n",
    "- Multiple JS files can be imported\n",
    "```html\n",
    "<script src=\"./someJSScript.js\"></script>\n",
    "```\n",
    "\n",
    "#### Demo: \n",
    "- see JSDemo/index.html file in repository"
   ]
  },
  {
   "cell_type": "markdown",
   "metadata": {},
   "source": [
    "```html\n",
    "<!DOCTYPE html>\n",
    "<html>\n",
    "  <head>\n",
    "     <script>\n",
    "           document.write(\"Hello there World!\");\n",
    "     </script>      \n",
    "  </head>\n",
    "  <body>\n",
    "     <script>      \n",
    "     </script>\n",
    "     <script src=\"demo.js\"></script>\n",
    "     <noscript>\n",
    "           Sorry...JavaScript is needed to go ahead.\n",
    "      </noscript>\n",
    "  </body>\n",
    "</html>\n",
    "```"
   ]
  },
  {
   "cell_type": "code",
   "execution_count": null,
   "metadata": {},
   "outputs": [],
   "source": []
  }
 ],
 "metadata": {
  "kernelspec": {
   "display_name": "Javascript (Node.js)",
   "language": "javascript",
   "name": "javascript"
  },
  "language_info": {
   "file_extension": ".js",
   "mimetype": "application/javascript",
   "name": "javascript",
   "version": "15.12.0"
  }
 },
 "nbformat": 4,
 "nbformat_minor": 4
}
