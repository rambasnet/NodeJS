{
 "cells": [
  {
   "cell_type": "markdown",
   "metadata": {},
   "source": [
    "# Express Framework\n",
    "- https://expressjs.com/\n",
    "- Express is a minimal and flexible Node.js web application framework that provides a robust set of features for web and mobile applications\n",
    "- MEAN stack (Mongo, Express, Angular, Node)\n",
    "- facilitates rapid development of Node.js web applications"
   ]
  },
  {
   "cell_type": "markdown",
   "metadata": {},
   "source": [
    "## Installing Express\n",
    "https://expressjs.com/en/starter/installing.html\n",
    "\n",
    "`$ mkdir ExpressDemo` <br />\n",
    "`$ cd ExpressDemo` <br />\n",
    "- Use npm init command to create a package.json file for your app with default values <br>\n",
    "\n",
    "`$ npm init` - go through default by hitting enter all the way <br />\n",
    "- now install express in the expressdemo directory and save it in the dependencies list <br />\n",
    "\n",
    "`$ npm install express --save`"
   ]
  },
  {
   "cell_type": "markdown",
   "metadata": {},
   "source": [
    "## Installing third-party middle layers\n",
    "\n",
    "### body-parser \n",
    "- node.js middleware for handling JSON, Raw Text and URL encoded form data\n",
    "\n",
    "`$ npm install body-parser --save`\n",
    "\n",
    "### cookie-parser \n",
    "- middleware for handling cookies\n",
    "\n",
    "`$ npm install cookie-parser --save`\n",
    "\n",
    "### multer\n",
    "- middleware for handling multipart/form data such as file uploads.\n",
    "\n",
    "`$ npm install multer --save`"
   ]
  },
  {
   "cell_type": "markdown",
   "metadata": {},
   "source": [
    "## Request & Response\n",
    "- request and reponse are the heart of web applicaitons\n",
    "- web app uses client-server architecture where client (browser) sends request and the server (Node.js) accepts requests and sends response back\n",
    "- express app uses callback function whose parameters are <strong>request</strong> and <strong>response</strong> objects\n",
    "```javascript\n",
    "app.get('/', function (req, res) {\n",
    "   // --\n",
    "});\n",
    "```\n",
    "\n",
    "    - <a href =\"https://nodejs.org/api/http.html#http_class_http_clientrequest\">Request Object</a> - The request object represents the HTTP request  and has properties for the request query string, parameters, body, HTTP headers, and others.\n",
    "    - <a href=\"https://nodejs.org/api/http.html#http_class_http_serverresponse\">Response Object </a>- represents HTTP Response that express uses to send data back to client when it gets HTTP request \n",
    "    - print req and res objects to see all the informations contained in those objects"
   ]
  },
  {
   "cell_type": "markdown",
   "metadata": {},
   "source": [
    "## MVC framework\n",
    "- model, view, controller based application architecture\n",
    "https://developer.chrome.com/apps/app_frameworks\n"
   ]
  },
  {
   "cell_type": "markdown",
   "metadata": {},
   "source": [
    "## Basic routing\n",
    "- https://expressjs.com/en/guide/routing.html\n",
    "- Routing refers to determining how an application responds to a client request to a particular endpoint, which is a URI (or path) and a specific HTTP request method (GET, POST, and so on).\n",
    "- Each route can have one or more handler functions, which are executed when the route is matched.\n",
    "- Route definition takes the following structure:\n",
    "\n",
    "```javascript\n",
    "app.METHOD(PATH, HANDLER);\n",
    "```\n",
    "\n",
    "Where:\n",
    "- app is an instance of express\n",
    "- METHOD is an HTTP request method, in lowercase\n",
    "- PATH is a path on the server\n",
    "- HANDLER is the function executed when the route is matched"
   ]
  },
  {
   "cell_type": "markdown",
   "metadata": {},
   "source": [
    "### Respond with Hello World! on the homepage:"
   ]
  },
  {
   "cell_type": "markdown",
   "metadata": {},
   "source": [
    "```javascript\n",
    "app.get('/', function (req, res) {\n",
    "  res.send('Hello World!')\n",
    "});\n",
    "```"
   ]
  },
  {
   "cell_type": "markdown",
   "metadata": {},
   "source": [
    "### Respond to POST request on the root route (/), the application’s home page:"
   ]
  },
  {
   "cell_type": "markdown",
   "metadata": {},
   "source": [
    "```javascript\n",
    "app.post('/', function (req, res) {\n",
    "  res.send('Got a POST request')\n",
    "});\n",
    "```"
   ]
  },
  {
   "cell_type": "markdown",
   "metadata": {},
   "source": [
    "### Respond to a PUT request to the /user route:"
   ]
  },
  {
   "cell_type": "markdown",
   "metadata": {},
   "source": [
    "```javascript\n",
    "app.put('/user', function (req, res) {\n",
    "  res.send('Got a PUT request at /user')\n",
    "});\n",
    "```"
   ]
  },
  {
   "cell_type": "markdown",
   "metadata": {},
   "source": [
    "### Respond to a DELETE request to the /user route:"
   ]
  },
  {
   "cell_type": "markdown",
   "metadata": {},
   "source": [
    "```javascript\n",
    "app.delete('/user', function (req, res) {\n",
    "  res.send('Got a DELETE request at /user')\n",
    "});\n",
    "```"
   ]
  },
  {
   "cell_type": "markdown",
   "metadata": {},
   "source": [
    "## See ExpressDemos folder for various examples\n",
    "- app.js, router.js\n",
    "- node app.js\n",
    "- node router.js"
   ]
  },
  {
   "cell_type": "markdown",
   "metadata": {},
   "source": [
    "## Nodemon\n",
    "- https://nodemon.io/\n",
    "- use nodemon instead of node to automatically restart the server after every change so you don't have to stop and start the server manually for testing your app\n",
    "\n",
    "```bash\n",
    "npm install nodemon --save\n",
    "```\n",
    "- replace `node` with `nodemon` on `package.json` start script"
   ]
  },
  {
   "cell_type": "markdown",
   "metadata": {},
   "source": [
    "## Express app generator\n",
    "- use express app generator tool to quickly create an applicaiton\n",
    "- follow instructions from: https://expressjs.com/en/starter/generator.html"
   ]
  },
  {
   "cell_type": "markdown",
   "metadata": {},
   "source": [
    "## Demo Apps using Express\n",
    "- static sites and dynamic apps\n",
    "- see `ExpressDemos` folder\n",
    "\n",
    "### Hello Express\n",
    "```bash\n",
    "cd ExpressDemos/hello-world\n",
    "npm install\n",
    "npm audit fix\n",
    "nodemon hello-express.js\n",
    "```\n",
    "\n",
    "### router demo\n",
    "```bash\n",
    "cd ExpressDemos/hello-world\n",
    "npm install\n",
    "npm audit fix\n",
    "nodemon router.js\n",
    "```\n",
    "\n",
    "### Homepage V1\n",
    "\n",
    "- convert a static site into Express app\n",
    "- doesn't use any template framework\n",
    "- demonstrates how a static website can be served as Express app\n",
    "- instruction to run Homepage V1\n",
    "\n",
    "```bash\n",
    "cd ExpressDemos/homepage-v1\n",
    "npm install\n",
    "npm audit fix\n",
    "npm start\n",
    "```\n",
    "\n",
    "- point browser to localhost:3000\n",
    "- ctrl+c - to kill the node server\n",
    "\n",
    "### Homepage V2\n",
    "\n",
    "- convert a static site into Express app\n",
    "- uses `express-react-views` view engine which renders React components on server - https://github.com/reactjs/express-react-views\n",
    "    - it renders static markup and *doesn not* support mounting those views on the client\n",
    "- intented to be used as a replacement for existing server-side solution, like **jade**, **ejs**, or **handlebars**.\n",
    "- instructions to run Homepage V2\n",
    "- on a terminal type the following commands\n",
    "\n",
    "```bash\n",
    "cd ExpressDemos/homepage-v2\n",
    "npm install\n",
    "npm audit fix -force\n",
    "npm start\n",
    "```\n",
    "\n",
    "- point browser to localhost:3000\n",
    "- ctrl+c to kill the node server\n",
    "\n",
    "## Gradebook V1\n",
    "\n",
    "- a simple gradebook application\n",
    "- keeps track of students grades using MongoDB\n",
    "- needs MongoDB community server: [https://www.mongodb.com/download-center/community](https://www.mongodb.com/download-center/community)\n",
    "- demonstrates html forms and data validations\n",
    "- uses mongoose - [https://mongoosejs.com/](https://mongoosejs.com/) to create Model and query MongoDB\n",
    "- demonstrates server sessions and authentications\n",
    "- demonstrate a simple AJAX call using jQuery (see profile page)\n",
    "- automatically creates gradebook database name in the path provided while running mongod\n",
    "- register for an account before you can login\n",
    "- use GUI client such as Robo 3T [https://robomongo.org/](https://robomongo.org/) or MongoDB Compass to mange MongoDB\n",
    "\n",
    "### Instructions to run Gradebook V1\n",
    "\n",
    "- first run mongodb local server from a terminal using default port 27017\n",
    "\n",
    "```bash\n",
    "mkdir data\n",
    "mongod --dbpath=data\n",
    "```\n",
    "\n",
    "- then run the gradebook v1 app from another terminal\n",
    "\n",
    "```bash\n",
    "cd gradebook-v1\n",
    "npm install\n",
    "npm audit fix\n",
    "npm start\n",
    "```\n",
    "\n",
    "- point browser to localhost:3000\n",
    "- `ctrl+c` to kill the node server\n",
    "\n",
    "## Gradebook V2\n",
    "\n",
    "- everything V1 has plus more\n",
    "- password is hashed\n",
    "- UI is revamped with bootstrap and theme\n",
    "- uses express-validator [https://express-validator.github.io/](https://express-validator.github.io/) to validate form data\n",
    "- automatically creates gradebook database name in the path provided while running mongod sever\n",
    "- register for an account before you can login\n",
    "- site has public contents and private/authenticated pages with dashboard\n",
    "\n",
    "### Instructions to run Gradebook V2\n",
    "\n",
    "- first run mongodb local server from a terminal using default port 27017\n",
    "\n",
    "```bash\n",
    "mkdir data\n",
    "mongod --dbpath=data\n",
    "```\n",
    "\n",
    "- then run the gradebook v2 app from another terminal\n",
    "\n",
    "```bash\n",
    "cd gradebook-v2\n",
    "npm install\n",
    "npm audit fix\n",
    "npm start\n",
    "```\n",
    "\n",
    "- point browser to localhost:3000\n",
    "- `ctrl+c` to kill the node server\n"
   ]
  },
  {
   "cell_type": "code",
   "execution_count": null,
   "metadata": {},
   "outputs": [],
   "source": []
  }
 ],
 "metadata": {
  "kernelspec": {
   "display_name": "Python 3",
   "language": "python",
   "name": "python3"
  },
  "language_info": {
   "codemirror_mode": {
    "name": "ipython",
    "version": 3
   },
   "file_extension": ".py",
   "mimetype": "text/x-python",
   "name": "python",
   "nbconvert_exporter": "python",
   "pygments_lexer": "ipython3",
   "version": "3.9.2"
  }
 },
 "nbformat": 4,
 "nbformat_minor": 2
}
