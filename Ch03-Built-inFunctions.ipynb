{
 "cells": [
  {
   "cell_type": "markdown",
   "metadata": {},
   "source": [
    "# Built-in or global functions & modules"
   ]
  },
  {
   "cell_type": "markdown",
   "metadata": {},
   "source": [
    "## Global properties\n",
    "- Infinity - a numeric value that represents positive/negative infinity\n",
    "- NaN - \"Not-a-Number\" value\n",
    "- undefined - indicates a variable that has not been assigned a value"
   ]
  },
  {
   "cell_type": "markdown",
   "metadata": {},
   "source": [
    "## Global functions"
   ]
  },
  {
   "cell_type": "markdown",
   "metadata": {},
   "source": [
    "### decodeURI(uri)\n",
    "    - used to decode URI/URL\n",
    " \n",
    "### encodeURI(uri)\n",
    "    - used to encode URI/URL"
   ]
  },
  {
   "cell_type": "code",
   "execution_count": 1,
   "metadata": {},
   "outputs": [
    {
     "name": "stdout",
     "output_type": "stream",
     "text": [
      "my%20test.asp?name=st%C3%A5le&car=saab\n"
     ]
    }
   ],
   "source": [
    "var uri = \"my test.asp?name=ståle&car=saab\";\n",
    "var enc = encodeURI(uri);\n",
    "console.log(enc);"
   ]
  },
  {
   "cell_type": "code",
   "execution_count": 2,
   "metadata": {},
   "outputs": [
    {
     "name": "stdout",
     "output_type": "stream",
     "text": [
      "my test.asp?name=ståle&car=saab\n"
     ]
    }
   ],
   "source": [
    "var dec = decodeURI(enc);\n",
    "console.log(dec);"
   ]
  },
  {
   "cell_type": "markdown",
   "metadata": {},
   "source": [
    "### eval('javascript')\n",
    "- evaluates or executes an argument string as script\n",
    "- can be dangerouns if the script being evaluated can not be trusted"
   ]
  },
  {
   "cell_type": "code",
   "execution_count": 2,
   "metadata": {},
   "outputs": [
    {
     "name": "stdout",
     "output_type": "stream",
     "text": [
      "a = 200\n",
      "b = 210\n"
     ]
    }
   ],
   "source": [
    "var x = 10;\n",
    "var y = 20;\n",
    "var a = eval('x * y');\n",
    "var b = eval('200 + x ');\n",
    "console.log('a =', a);\n",
    "console.log('b =', b);"
   ]
  },
  {
   "cell_type": "code",
   "execution_count": 3,
   "metadata": {},
   "outputs": [
    {
     "name": "stdout",
     "output_type": "stream",
     "text": [
      "true\n"
     ]
    }
   ],
   "source": [
    "// isFinite() - determines if a value is finite legal number\n",
    "console.log(isFinite(1999999999999));"
   ]
  },
  {
   "cell_type": "code",
   "execution_count": 4,
   "metadata": {},
   "outputs": [
    {
     "name": "stdout",
     "output_type": "stream",
     "text": [
      "false\n",
      "false\n",
      "true\n"
     ]
    }
   ],
   "source": [
    "// isNaN() - determines whether a value is an illegal number\n",
    "console.log(isNaN(100));\n",
    "console.log(isNaN('123'));\n",
    "console.log(isNaN('12y'));"
   ]
  },
  {
   "cell_type": "code",
   "execution_count": 5,
   "metadata": {},
   "outputs": [
    {
     "name": "stdout",
     "output_type": "stream",
     "text": [
      "199\n"
     ]
    }
   ],
   "source": [
    "// Number() - converts the object argument to a number\n",
    "console.log(Number('199'));"
   ]
  },
  {
   "cell_type": "code",
   "execution_count": 6,
   "metadata": {},
   "outputs": [
    {
     "name": "stdout",
     "output_type": "stream",
     "text": [
      "2020-01-18T03:26:35.844Z\n",
      "1579317995844\n"
     ]
    }
   ],
   "source": [
    "var date = new Date();\n",
    "console.log(date);\n",
    "console.log(Number(date));"
   ]
  },
  {
   "cell_type": "code",
   "execution_count": 7,
   "metadata": {},
   "outputs": [
    {
     "name": "stdout",
     "output_type": "stream",
     "text": [
      "NaN\n"
     ]
    }
   ],
   "source": [
    "// if the value can't be converted into a legal number, NaN is returned\n",
    "console.log(Number('abcd'));"
   ]
  },
  {
   "cell_type": "code",
   "execution_count": 8,
   "metadata": {},
   "outputs": [
    {
     "name": "stdout",
     "output_type": "stream",
     "text": [
      "0\n"
     ]
    }
   ],
   "source": [
    "// if no object argument is provided, it will return 0\n",
    "console.log(Number());"
   ]
  },
  {
   "cell_type": "code",
   "execution_count": 9,
   "metadata": {},
   "outputs": [
    {
     "name": "stdout",
     "output_type": "stream",
     "text": [
      "10\n",
      "323.224\n",
      "34.34\n",
      "34\n",
      "35\n",
      "NaN\n"
     ]
    }
   ],
   "source": [
    "// parseFloat() - parses a string and returns a floating point number\n",
    "console.log(parseFloat('10'));\n",
    "console.log(parseFloat('323.224'));\n",
    "console.log(parseFloat('34.34 34 345'));\n",
    "console.log(parseFloat('    34.   '));\n",
    "console.log(parseFloat('35 years or 45 years'));\n",
    "console.log(parseFloat('definitely 45 years'));"
   ]
  },
  {
   "cell_type": "code",
   "execution_count": 10,
   "metadata": {},
   "outputs": [
    {
     "name": "stdout",
     "output_type": "stream",
     "text": [
      "10\n",
      "23\n",
      "34\n",
      "38\n",
      "NaN\n",
      "-----\n",
      "10\n",
      "8\n",
      "16\n",
      "16\n"
     ]
    }
   ],
   "source": [
    "// parseInt() - parses a string and returns an integer\n",
    "console.log(parseInt('10'));\n",
    "console.log(parseInt('23.23'));\n",
    "console.log(parseInt('34 3535 535'));\n",
    "console.log(parseInt('38 years'));\n",
    "console.log(parseInt('year 1990'));\n",
    "console.log('-----');\n",
    "console.log(parseInt('010'));\n",
    "console.log(parseInt('10', 8)); // 2nd argument is base\n",
    "console.log(parseInt('0x10'));\n",
    "console.log(parseInt('10', 16));"
   ]
  },
  {
   "cell_type": "code",
   "execution_count": 11,
   "metadata": {},
   "outputs": [
    {
     "name": "stdout",
     "output_type": "stream",
     "text": [
      "1232.23\n",
      "123200\n",
      "false\n",
      "true\n",
      "2020-01-18T03:26:38.492Z\n"
     ]
    }
   ],
   "source": [
    "// String() - converts an object's value to a string\n",
    "console.log(String(1232.23));\n",
    "console.log(String(123) + String(200));\n",
    "console.log(String(Boolean(0)));\n",
    "console.log(String(Boolean(1)));\n",
    "console.log(new Date());"
   ]
  },
  {
   "cell_type": "markdown",
   "metadata": {},
   "source": [
    "## Console\n",
    "- the console module provides simple debugging console that is similar to the console mechanism provided by web browsers.\n",
    "- the global console object can be used without calling require('console')\n",
    "- has many methods - https://nodejs.org/api/console.html"
   ]
  },
  {
   "cell_type": "markdown",
   "metadata": {},
   "source": [
    "## Assert\n",
    "- The assert module provides a simple set of assertion tests that can be used to test invariants - functions/values\n",
    "- has many methods for testing values\n",
    "- https://nodejs.org/api/assert.html#assert_strict_mode"
   ]
  },
  {
   "cell_type": "code",
   "execution_count": 12,
   "metadata": {},
   "outputs": [],
   "source": [
    "const assert = require('assert').strict; // strict and legacy mode availbe; but use strict"
   ]
  },
  {
   "cell_type": "code",
   "execution_count": 13,
   "metadata": {},
   "outputs": [
    {
     "ename": "AssertionError [ERR_ASSERTION]",
     "evalue": "Expected values to be strictly equal:\n\n1 !== 2\n",
     "output_type": "error",
     "traceback": [
      "assert.js:86",
      "  throw new AssertionError(obj);",
      "  ^",
      "",
      "AssertionError [ERR_ASSERTION]: Expected values to be strictly equal:",
      "",
      "1 !== 2",
      "",
      "    at evalmachine.<anonymous>:2:8",
      "    at Script.runInThisContext (vm.js:124:20)",
      "    at Object.runInThisContext (vm.js:314:38)",
      "    at run ([eval]:1054:15)",
      "    at onRunRequest ([eval]:888:18)",
      "    at onMessage ([eval]:848:13)",
      "    at process.emit (events.js:193:13)",
      "    at emit (internal/child_process.js:848:12)",
      "    at processTicksAndRejections (internal/process/task_queues.js:81:17)"
     ]
    }
   ],
   "source": [
    "// assert.strictEqual(actual, expected[, message])\n",
    "assert.strictEqual(1, 2)"
   ]
  },
  {
   "cell_type": "code",
   "execution_count": 14,
   "metadata": {},
   "outputs": [],
   "source": [
    "assert.strictEqual(1, 1, '1 and 1 not equal');"
   ]
  },
  {
   "cell_type": "code",
   "execution_count": 16,
   "metadata": {},
   "outputs": [
    {
     "ename": "AssertionError [ERR_ASSERTION]",
     "evalue": "1 and 2 not strictly equal",
     "output_type": "error",
     "traceback": [
      "assert.js:86",
      "  throw new AssertionError(obj);",
      "  ^",
      "",
      "AssertionError [ERR_ASSERTION]: 1 and 2 not strictly equal",
      "    at evalmachine.<anonymous>:2:8",
      "    at Script.runInThisContext (vm.js:124:20)",
      "    at Object.runInThisContext (vm.js:314:38)",
      "    at run ([eval]:1054:15)",
      "    at onRunRequest ([eval]:888:18)",
      "    at onMessage ([eval]:848:13)",
      "    at process.emit (events.js:193:13)",
      "    at emit (internal/child_process.js:848:12)",
      "    at processTicksAndRejections (internal/process/task_queues.js:81:17)"
     ]
    }
   ],
   "source": [
    "// assert.strictEqual(actual, expected[, message])\n",
    "assert.strictEqual(1, 2, '1 and 2 not strictly equal');"
   ]
  },
  {
   "cell_type": "code",
   "execution_count": 17,
   "metadata": {},
   "outputs": [
    {
     "ename": "AssertionError [ERR_ASSERTION]",
     "evalue": "int 1 and string 1 not equal",
     "output_type": "error",
     "traceback": [
      "assert.js:86",
      "  throw new AssertionError(obj);",
      "  ^",
      "",
      "AssertionError [ERR_ASSERTION]: int 1 and string 1 not equal",
      "    at evalmachine.<anonymous>:1:8",
      "    at Script.runInThisContext (vm.js:124:20)",
      "    at Object.runInThisContext (vm.js:314:38)",
      "    at run ([eval]:1054:15)",
      "    at onRunRequest ([eval]:888:18)",
      "    at onMessage ([eval]:848:13)",
      "    at process.emit (events.js:193:13)",
      "    at emit (internal/child_process.js:848:12)",
      "    at processTicksAndRejections (internal/process/task_queues.js:81:17)"
     ]
    }
   ],
   "source": [
    "assert.strictEqual(1, '1', 'int 1 and string 1 not equal');"
   ]
  },
  {
   "cell_type": "code",
   "execution_count": 18,
   "metadata": {},
   "outputs": [],
   "source": [
    "// assert.ok(value[, message])\n",
    "// tests if the value is truthy. Throws an AssertionError, otherwise.\n",
    "assert.ok(true);\n",
    "// ok"
   ]
  },
  {
   "cell_type": "code",
   "execution_count": 19,
   "metadata": {},
   "outputs": [],
   "source": [
    "assert.ok(1);\n",
    "// ok"
   ]
  },
  {
   "cell_type": "code",
   "execution_count": 20,
   "metadata": {},
   "outputs": [
    {
     "ename": "AssertionError [ERR_ASSERTION]",
     "evalue": "false == true",
     "output_type": "error",
     "traceback": [
      "assert.js:341",
      "    throw err;",
      "    ^",
      "",
      "AssertionError [ERR_ASSERTION]: false == true",
      "    at evalmachine.<anonymous>:1:8",
      "    at Script.runInThisContext (vm.js:124:20)",
      "    at Object.runInThisContext (vm.js:314:38)",
      "    at run ([eval]:1054:15)",
      "    at onRunRequest ([eval]:888:18)",
      "    at onMessage ([eval]:848:13)",
      "    at process.emit (events.js:193:13)",
      "    at emit (internal/child_process.js:848:12)",
      "    at processTicksAndRejections (internal/process/task_queues.js:81:17)"
     ]
    }
   ],
   "source": [
    "assert.ok(false);"
   ]
  },
  {
   "cell_type": "code",
   "execution_count": 21,
   "metadata": {},
   "outputs": [],
   "source": [
    "assert.ok('123' == 123); \n",
    "// ok two values are equal in JS"
   ]
  },
  {
   "cell_type": "code",
   "execution_count": 22,
   "metadata": {},
   "outputs": [
    {
     "ename": "AssertionError [ERR_ASSERTION]",
     "evalue": "false == true",
     "output_type": "error",
     "traceback": [
      "assert.js:341",
      "    throw err;",
      "    ^",
      "",
      "AssertionError [ERR_ASSERTION]: false == true",
      "    at evalmachine.<anonymous>:1:8",
      "    at Script.runInThisContext (vm.js:124:20)",
      "    at Object.runInThisContext (vm.js:314:38)",
      "    at run ([eval]:1054:15)",
      "    at onRunRequest ([eval]:888:18)",
      "    at onMessage ([eval]:848:13)",
      "    at process.emit (events.js:193:13)",
      "    at emit (internal/child_process.js:848:12)",
      "    at processTicksAndRejections (internal/process/task_queues.js:81:17)"
     ]
    }
   ],
   "source": [
    "assert.ok(typeof(123) === 'string');\n",
    "// values and types are not equal"
   ]
  },
  {
   "cell_type": "code",
   "execution_count": 24,
   "metadata": {},
   "outputs": [],
   "source": [
    "// using assert() works the same as assert.ok()\n",
    "assert(1 == 1);"
   ]
  },
  {
   "cell_type": "code",
   "execution_count": 25,
   "metadata": {},
   "outputs": [
    {
     "ename": "AssertionError [ERR_ASSERTION]",
     "evalue": "0 == true",
     "output_type": "error",
     "traceback": [
      "assert.js:341",
      "    throw err;",
      "    ^",
      "",
      "AssertionError [ERR_ASSERTION]: 0 == true",
      "    at evalmachine.<anonymous>:1:1",
      "    at Script.runInThisContext (vm.js:124:20)",
      "    at Object.runInThisContext (vm.js:314:38)",
      "    at run ([eval]:1054:15)",
      "    at onRunRequest ([eval]:888:18)",
      "    at onMessage ([eval]:848:13)",
      "    at process.emit (events.js:193:13)",
      "    at emit (internal/child_process.js:848:12)",
      "    at processTicksAndRejections (internal/process/task_queues.js:81:17)"
     ]
    }
   ],
   "source": [
    "assert(0); // 0 is false"
   ]
  },
  {
   "cell_type": "markdown",
   "metadata": {},
   "source": [
    "## Crypto\n",
    "- The crypto module provides cryptographic functionality that includes a set of wrappers for OpenSSL's has, HMAC, cipher, decipher, sign, and verify functions\n",
    "- SHA1 is broken - https://petertodd.org/2017/sha1-and-opentimestamps-proofs\n",
    "    - when two different data are forced to produce the same fingerprint hash, the hash is considered broken! "
   ]
  },
  {
   "cell_type": "code",
   "execution_count": 26,
   "metadata": {},
   "outputs": [],
   "source": [
    "const crypto = require('crypto');"
   ]
  },
  {
   "cell_type": "code",
   "execution_count": 27,
   "metadata": {},
   "outputs": [
    {
     "name": "stdout",
     "output_type": "stream",
     "text": [
      "ef92b778bafe771e89245b89ecbc08a44a4e166c06659911881f383d4473e94f\n"
     ]
    }
   ],
   "source": [
    "const secret = 'password123';\n",
    "const hash = crypto.createHash('sha256');\n",
    "hash.update(secret);\n",
    "console.log(hash.digest('hex'));"
   ]
  },
  {
   "cell_type": "markdown",
   "metadata": {},
   "source": [
    "## Standard Input\n",
    "- JS doesn't provide simple (synchronous) way to read data from common input\n",
    "- provides asynchronous (non-blocking) but efficient way to read from common input\n",
    "- see JSDemo/async-input.js"
   ]
  },
  {
   "cell_type": "markdown",
   "metadata": {},
   "source": [
    "## Third-party modules and packages using npm\n",
    "- https://www.npmjs.com/\n",
    "- more on packages and NPM covered in Chapter 11"
   ]
  },
  {
   "cell_type": "markdown",
   "metadata": {},
   "source": [
    "## readline-sync\n",
    "- install readline-sync package to do synchronous standard input\n",
    "- using npm package manage install readline-sync\n",
    "\n",
    "```bash\n",
    "$ npm i readline-sync\n",
    "```\n",
    "- run JSDemo/input.js file using NodeJS\n",
    "\n",
    "```bash\n",
    "$ node JSDemo/sync-input.js\n",
    "```"
   ]
  },
  {
   "cell_type": "code",
   "execution_count": null,
   "metadata": {},
   "outputs": [],
   "source": []
  }
 ],
 "metadata": {
  "kernelspec": {
   "display_name": "Javascript (Node.js)",
   "language": "javascript",
   "name": "javascript"
  },
  "language_info": {
   "file_extension": ".js",
   "mimetype": "application/javascript",
   "name": "javascript",
   "version": "12.13.0"
  }
 },
 "nbformat": 4,
 "nbformat_minor": 2
}
