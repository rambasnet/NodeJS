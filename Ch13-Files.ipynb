{
 "cells": [
  {
   "cell_type": "markdown",
   "metadata": {},
   "source": [
    "# Files\n",
    "- data is usually stored in secondary storage medium such as hard drive, flash drive, cd-rw, etc. using named locations called files\n",
    "- files can be organized into folders\n",
    "- Node.js file system allows you to work with the file system (files and folders) on your computer; while JS code on browser can't access files\n",
    "- to include the File System module, use the `require('fs')` \n",
    "- complete documentation on File System: https://nodejs.org/api/fs.html"
   ]
  },
  {
   "cell_type": "code",
   "execution_count": 1,
   "metadata": {},
   "outputs": [],
   "source": [
    "var fs = require('fs');"
   ]
  },
  {
   "cell_type": "markdown",
   "metadata": {},
   "source": [
    "## Common use for the File System module\n",
    "- Read existing files\n",
    "- Create files\n",
    "- Update files\n",
    "- Delete files\n",
    "- Rename files"
   ]
  },
  {
   "cell_type": "markdown",
   "metadata": {},
   "source": [
    "## Synchronous vs Asynchronous\n",
    "- every method in the fs module has asynchronous as well as synchronous ways of working with files\n",
    "- it's recommended to use an asynchronous method instead of synchronous, as the former never blocks a program during its execution, while the latter does"
   ]
  },
  {
   "cell_type": "markdown",
   "metadata": {},
   "source": [
    "## Read data\n",
    "```javascript\n",
    "fs.readFile(path, callback);\n",
    "fs.readFileSync(path) => data\n",
    "```"
   ]
  },
  {
   "cell_type": "code",
   "execution_count": 7,
   "metadata": {},
   "outputs": [],
   "source": [
    "var fileName = './JSDemos/input.txt';\n",
    "// change JSDemo to JSDemo to see execption"
   ]
  },
  {
   "cell_type": "code",
   "execution_count": 8,
   "metadata": {},
   "outputs": [
    {
     "name": "stdout",
     "output_type": "stream",
     "text": [
      "<Buffer 66 69 72 73 74 20 6c 69 6e 65 0a 68 65 6c 6c 6f 20 74 68 65 72 65 21 20 54 68 69 73 20 69 73 20 73 65 63 6f 6e 64 20 6c 69 6e 65 2e 0a 54 68 69 72 64 ... 49 more bytes>\n",
      "first line\n",
      "hello there! This is second line.\n",
      "Third line is as plain as This.\n",
      "Apple\n",
      "How about ball?\n",
      "\n"
     ]
    }
   ],
   "source": [
    "// asynchronous method\n",
    "var data;\n",
    "fs.readFile(fileName, (err, data) => {\n",
    "    if (err) {\n",
    "        throw err;\n",
    "    }   \n",
    "    console.log(data);\n",
    "    console.log(data.toString());\n",
    "});"
   ]
  },
  {
   "cell_type": "code",
   "execution_count": 9,
   "metadata": {},
   "outputs": [],
   "source": [
    "// Synchronous read\n",
    "var data = fs.readFileSync(fileName);"
   ]
  },
  {
   "cell_type": "code",
   "execution_count": 10,
   "metadata": {},
   "outputs": [
    {
     "name": "stdout",
     "output_type": "stream",
     "text": [
      "first line\n",
      "hello there! This is second line.\n",
      "Third line is as plain as This.\n",
      "Apple\n",
      "How about ball?\n",
      "\n"
     ]
    }
   ],
   "source": [
    "console.log(data.toString());"
   ]
  },
  {
   "cell_type": "markdown",
   "metadata": {},
   "source": [
    "## readline - read line by line"
   ]
  },
  {
   "cell_type": "code",
   "execution_count": 11,
   "metadata": {},
   "outputs": [
    {
     "name": "stdout",
     "output_type": "stream",
     "text": [
      "Interface {\n",
      "  _sawReturnAt: \u001b[33m0\u001b[39m,\n",
      "  isCompletionEnabled: \u001b[33mtrue\u001b[39m,\n",
      "  _sawKeyPress: \u001b[33mfalse\u001b[39m,\n",
      "  _previousKey: \u001b[1mnull\u001b[22m,\n",
      "  escapeCodeTimeout: \u001b[33m500\u001b[39m,\n",
      "  tabSize: \u001b[33m8\u001b[39m,\n",
      "  _events: [Object: null prototype] {\n",
      "    close: [Function: bound onceWrapper] {\n",
      "      listener: \u001b[36m[Function: onSelfCloseWithTerminal]\u001b[39m\n",
      "    },\n",
      "    line: \u001b[36m[Function (anonymous)]\u001b[39m\n",
      "  },\n",
      "  _eventsCount: \u001b[33m2\u001b[39m,\n",
      "  _maxListeners: \u001b[90mundefined\u001b[39m,\n",
      "  line: \u001b[32m''\u001b[39m,\n",
      "  output: \u001b[36m<ref *1>\u001b[39m WriteStream {\n",
      "    connecting: \u001b[33mfalse\u001b[39m,\n",
      "    _hadError: \u001b[33mfalse\u001b[39m,\n",
      "    _parent: \u001b[1mnull\u001b[22m,\n",
      "    _host: \u001b[1mnull\u001b[22m,\n",
      "    _readableState: ReadableState {\n",
      "      objectMode: \u001b[33mfalse\u001b[39m,\n",
      "      highWaterMark: \u001b[33m16384\u001b[39m,\n",
      "      buffer: BufferList { head: \u001b[1mnull\u001b[22m, tail: \u001b[1mnull\u001b[22m, length: \u001b[33m0\u001b[39m },\n",
      "      length: \u001b[33m0\u001b[39m,\n",
      "      pipes: [],\n",
      "      flowing: \u001b[1mnull\u001b[22m,\n",
      "      ended: \u001b[33mfalse\u001b[39m,\n",
      "      endEmitted: \u001b[33mfalse\u001b[39m,\n",
      "      reading: \u001b[33mfalse\u001b[39m,\n",
      "      constructed: \u001b[33mtrue\u001b[39m,\n",
      "      sync: \u001b[33mtrue\u001b[39m,\n",
      "      needReadable: \u001b[33mfalse\u001b[39m,\n",
      "      emittedReadable: \u001b[33mfalse\u001b[39m,\n",
      "      readableListening: \u001b[33mfalse\u001b[39m,\n",
      "      resumeScheduled: \u001b[33mfalse\u001b[39m,\n",
      "      errorEmitted: \u001b[33mfalse\u001b[39m,\n",
      "      emitClose: \u001b[33mfalse\u001b[39m,\n",
      "      autoDestroy: \u001b[33mtrue\u001b[39m,\n",
      "      destroyed: \u001b[33mfalse\u001b[39m,\n",
      "      errored: \u001b[1mnull\u001b[22m,\n",
      "      closed: \u001b[33mfalse\u001b[39m,\n",
      "      closeEmitted: \u001b[33mfalse\u001b[39m,\n",
      "      defaultEncoding: \u001b[32m'utf8'\u001b[39m,\n",
      "      awaitDrainWriters: \u001b[1mnull\u001b[22m,\n",
      "      multiAwaitDrain: \u001b[33mfalse\u001b[39m,\n",
      "      readingMore: \u001b[33mfalse\u001b[39m,\n",
      "      dataEmitted: \u001b[33mfalse\u001b[39m,\n",
      "      decoder: \u001b[1mnull\u001b[22m,\n",
      "      encoding: \u001b[1mnull\u001b[22m,\n",
      "      readable: \u001b[33mfalse\u001b[39m,\n",
      "      [\u001b[32mSymbol(kPaused)\u001b[39m]: \u001b[1mnull\u001b[22m\n",
      "    },\n",
      "    _events: [Object: null prototype] {\n",
      "      end: \u001b[36m[Function: onReadableStreamEnd]\u001b[39m,\n",
      "      resize: \u001b[36m[Function: onresize]\u001b[39m\n",
      "    },\n",
      "    _eventsCount: \u001b[33m2\u001b[39m,\n",
      "    _maxListeners: \u001b[90mundefined\u001b[39m,\n",
      "    _writableState: WritableState {\n",
      "      objectMode: \u001b[33mfalse\u001b[39m,\n",
      "      highWaterMark: \u001b[33m16384\u001b[39m,\n",
      "      finalCalled: \u001b[33mfalse\u001b[39m,\n",
      "      needDrain: \u001b[33mfalse\u001b[39m,\n",
      "      ending: \u001b[33mfalse\u001b[39m,\n",
      "      ended: \u001b[33mfalse\u001b[39m,\n",
      "      finished: \u001b[33mfalse\u001b[39m,\n",
      "      destroyed: \u001b[33mfalse\u001b[39m,\n",
      "      decodeStrings: \u001b[33mfalse\u001b[39m,\n",
      "      defaultEncoding: \u001b[32m'utf8'\u001b[39m,\n",
      "      length: \u001b[33m0\u001b[39m,\n",
      "      writing: \u001b[33mfalse\u001b[39m,\n",
      "      corked: \u001b[33m0\u001b[39m,\n",
      "      sync: \u001b[33mtrue\u001b[39m,\n",
      "      bufferProcessing: \u001b[33mfalse\u001b[39m,\n",
      "      onwrite: \u001b[36m[Function: bound onwrite]\u001b[39m,\n",
      "      writecb: \u001b[1mnull\u001b[22m,\n",
      "      writelen: \u001b[33m0\u001b[39m,\n",
      "      afterWriteTickInfo: \u001b[1mnull\u001b[22m,\n",
      "      buffered: [],\n",
      "      bufferedIndex: \u001b[33m0\u001b[39m,\n",
      "      allBuffers: \u001b[33mtrue\u001b[39m,\n",
      "      allNoop: \u001b[33mtrue\u001b[39m,\n",
      "      pendingcb: \u001b[33m0\u001b[39m,\n",
      "      constructed: \u001b[33mtrue\u001b[39m,\n",
      "      prefinished: \u001b[33mfalse\u001b[39m,\n",
      "      errorEmitted: \u001b[33mfalse\u001b[39m,\n",
      "      emitClose: \u001b[33mfalse\u001b[39m,\n",
      "      autoDestroy: \u001b[33mtrue\u001b[39m,\n",
      "      errored: \u001b[1mnull\u001b[22m,\n",
      "      closed: \u001b[33mfalse\u001b[39m,\n",
      "      closeEmitted: \u001b[33mfalse\u001b[39m,\n",
      "      [\u001b[32mSymbol(kOnFinished)\u001b[39m]: []\n",
      "    },\n",
      "    allowHalfOpen: \u001b[33mfalse\u001b[39m,\n",
      "    _sockname: \u001b[1mnull\u001b[22m,\n",
      "    _pendingData: \u001b[1mnull\u001b[22m,\n",
      "    _pendingEncoding: \u001b[32m''\u001b[39m,\n",
      "    server: \u001b[1mnull\u001b[22m,\n",
      "    _server: \u001b[1mnull\u001b[22m,\n",
      "    columns: \u001b[33m129\u001b[39m,\n",
      "    rows: \u001b[33m32\u001b[39m,\n",
      "    _type: \u001b[32m'tty'\u001b[39m,\n",
      "    fd: \u001b[33m1\u001b[39m,\n",
      "    _isStdio: \u001b[33mtrue\u001b[39m,\n",
      "    destroySoon: \u001b[36m[Function: destroy]\u001b[39m,\n",
      "    _destroy: \u001b[36m[Function: dummyDestroy]\u001b[39m,\n",
      "    write: \u001b[36m[Function (anonymous)]\u001b[39m,\n",
      "    [\u001b[32mSymbol(async_id_symbol)\u001b[39m]: \u001b[33m98\u001b[39m,\n",
      "    [\u001b[32mSymbol(kHandle)\u001b[39m]: TTY { [\u001b[32mSymbol(owner_symbol)\u001b[39m]: \u001b[36m[Circular *1]\u001b[39m },\n",
      "    [\u001b[32mSymbol(kSetNoDelay)\u001b[39m]: \u001b[33mfalse\u001b[39m,\n",
      "    [\u001b[32mSymbol(lastWriteQueueSize)\u001b[39m]: \u001b[33m0\u001b[39m,\n",
      "    [\u001b[32mSymbol(timeout)\u001b[39m]: \u001b[1mnull\u001b[22m,\n",
      "    [\u001b[32mSymbol(kBuffer)\u001b[39m]: \u001b[1mnull\u001b[22m,\n",
      "    [\u001b[32mSymbol(kBufferCb)\u001b[39m]: \u001b[1mnull\u001b[22m,\n",
      "    [\u001b[32mSymbol(kBufferGen)\u001b[39m]: \u001b[1mnull\u001b[22m,\n",
      "    [\u001b[32mSymbol(kCapture)\u001b[39m]: \u001b[33mfalse\u001b[39m,\n",
      "    [\u001b[32mSymbol(kBytesRead)\u001b[39m]: \u001b[33m0\u001b[39m,\n",
      "    [\u001b[32mSymbol(kBytesWritten)\u001b[39m]: \u001b[33m0\u001b[39m\n",
      "  },\n",
      "  input: ReadStream {\n",
      "    fd: \u001b[1mnull\u001b[22m,\n",
      "    path: \u001b[32m'./JSDemos/input.txt'\u001b[39m,\n",
      "    flags: \u001b[32m'r'\u001b[39m,\n",
      "    mode: \u001b[33m438\u001b[39m,\n",
      "    start: \u001b[90mundefined\u001b[39m,\n",
      "    end: \u001b[33mInfinity\u001b[39m,\n",
      "    pos: \u001b[90mundefined\u001b[39m,\n",
      "    bytesRead: \u001b[33m0\u001b[39m,\n",
      "    closed: \u001b[33mfalse\u001b[39m,\n",
      "    _readableState: ReadableState {\n",
      "      objectMode: \u001b[33mfalse\u001b[39m,\n",
      "      highWaterMark: \u001b[33m65536\u001b[39m,\n",
      "      buffer: BufferList { head: \u001b[1mnull\u001b[22m, tail: \u001b[1mnull\u001b[22m, length: \u001b[33m0\u001b[39m },\n",
      "      length: \u001b[33m0\u001b[39m,\n",
      "      pipes: [],\n",
      "      flowing: \u001b[33mtrue\u001b[39m,\n",
      "      ended: \u001b[33mfalse\u001b[39m,\n",
      "      endEmitted: \u001b[33mfalse\u001b[39m,\n",
      "      reading: \u001b[33mfalse\u001b[39m,\n",
      "      constructed: \u001b[33mfalse\u001b[39m,\n",
      "      sync: \u001b[33mtrue\u001b[39m,\n",
      "      needReadable: \u001b[33mfalse\u001b[39m,\n",
      "      emittedReadable: \u001b[33mfalse\u001b[39m,\n",
      "      readableListening: \u001b[33mfalse\u001b[39m,\n",
      "      resumeScheduled: \u001b[33mtrue\u001b[39m,\n",
      "      errorEmitted: \u001b[33mfalse\u001b[39m,\n",
      "      emitClose: \u001b[33mtrue\u001b[39m,\n",
      "      autoDestroy: \u001b[33mtrue\u001b[39m,\n",
      "      destroyed: \u001b[33mfalse\u001b[39m,\n",
      "      errored: \u001b[1mnull\u001b[22m,\n",
      "      closed: \u001b[33mfalse\u001b[39m,\n",
      "      closeEmitted: \u001b[33mfalse\u001b[39m,\n",
      "      defaultEncoding: \u001b[32m'utf8'\u001b[39m,\n",
      "      awaitDrainWriters: \u001b[1mnull\u001b[22m,\n",
      "      multiAwaitDrain: \u001b[33mfalse\u001b[39m,\n",
      "      readingMore: \u001b[33mfalse\u001b[39m,\n",
      "      dataEmitted: \u001b[33mfalse\u001b[39m,\n",
      "      decoder: \u001b[1mnull\u001b[22m,\n",
      "      encoding: \u001b[1mnull\u001b[22m,\n",
      "      [\u001b[32mSymbol(kPaused)\u001b[39m]: \u001b[33mfalse\u001b[39m\n",
      "    },\n",
      "    _events: [Object: null prototype] {\n",
      "      error: \u001b[36m[Function: onerror]\u001b[39m,\n",
      "      data: \u001b[36m[Function: onData]\u001b[39m,\n",
      "      keypress: \u001b[36m[Function: onkeypress]\u001b[39m,\n",
      "      end: \u001b[36m[Function: ontermend]\u001b[39m,\n",
      "      [\u001b[32mSymbol(kConstruct)\u001b[39m]: \u001b[36m[Function]\u001b[39m\n",
      "    },\n",
      "    _eventsCount: \u001b[33m5\u001b[39m,\n",
      "    _maxListeners: \u001b[90mundefined\u001b[39m,\n",
      "    [\u001b[32mSymbol(kFs)\u001b[39m]: {\n",
      "      appendFile: \u001b[36m[Function: appendFile]\u001b[39m,\n",
      "      appendFileSync: \u001b[36m[Function: appendFileSync]\u001b[39m,\n",
      "      access: \u001b[36m[Function: access]\u001b[39m,\n",
      "      accessSync: \u001b[36m[Function: accessSync]\u001b[39m,\n",
      "      chown: \u001b[36m[Function: chown]\u001b[39m,\n",
      "      chownSync: \u001b[36m[Function: chownSync]\u001b[39m,\n",
      "      chmod: \u001b[36m[Function: chmod]\u001b[39m,\n",
      "      chmodSync: \u001b[36m[Function: chmodSync]\u001b[39m,\n",
      "      close: \u001b[36m[Function: close]\u001b[39m,\n",
      "      closeSync: \u001b[36m[Function: closeSync]\u001b[39m,\n",
      "      copyFile: \u001b[36m[Function: copyFile]\u001b[39m,\n",
      "      copyFileSync: \u001b[36m[Function: copyFileSync]\u001b[39m,\n",
      "      cp: \u001b[36m[Function: cp]\u001b[39m,\n",
      "      cpSync: \u001b[36m[Function: cpSync]\u001b[39m,\n",
      "      createReadStream: \u001b[36m[Function: createReadStream]\u001b[39m,\n",
      "      createWriteStream: \u001b[36m[Function: createWriteStream]\u001b[39m,\n",
      "      exists: \u001b[36m[Function: exists]\u001b[39m,\n",
      "      existsSync: \u001b[36m[Function: existsSync]\u001b[39m,\n",
      "      fchown: \u001b[36m[Function: fchown]\u001b[39m,\n",
      "      fchownSync: \u001b[36m[Function: fchownSync]\u001b[39m,\n",
      "      fchmod: \u001b[36m[Function: fchmod]\u001b[39m,\n",
      "      fchmodSync: \u001b[36m[Function: fchmodSync]\u001b[39m,\n",
      "      fdatasync: \u001b[36m[Function: fdatasync]\u001b[39m,\n",
      "      fdatasyncSync: \u001b[36m[Function: fdatasyncSync]\u001b[39m,\n",
      "      fstat: \u001b[36m[Function: fstat]\u001b[39m,\n",
      "      fstatSync: \u001b[36m[Function: fstatSync]\u001b[39m,\n",
      "      fsync: \u001b[36m[Function: fsync]\u001b[39m,\n",
      "      fsyncSync: \u001b[36m[Function: fsyncSync]\u001b[39m,\n",
      "      ftruncate: \u001b[36m[Function: ftruncate]\u001b[39m,\n",
      "      ftruncateSync: \u001b[36m[Function: ftruncateSync]\u001b[39m,\n",
      "      futimes: \u001b[36m[Function: futimes]\u001b[39m,\n",
      "      futimesSync: \u001b[36m[Function: futimesSync]\u001b[39m,\n",
      "      lchown: \u001b[36m[Function: lchown]\u001b[39m,\n",
      "      lchownSync: \u001b[36m[Function: lchownSync]\u001b[39m,\n",
      "      lchmod: \u001b[36m[Function: lchmod]\u001b[39m,\n",
      "      lchmodSync: \u001b[36m[Function: lchmodSync]\u001b[39m,\n",
      "      link: \u001b[36m[Function: link]\u001b[39m,\n",
      "      linkSync: \u001b[36m[Function: linkSync]\u001b[39m,\n",
      "      lstat: \u001b[36m[Function: lstat]\u001b[39m,\n",
      "      lstatSync: \u001b[36m[Function: lstatSync]\u001b[39m,\n",
      "      lutimes: \u001b[36m[Function: lutimes]\u001b[39m,\n",
      "      lutimesSync: \u001b[36m[Function: lutimesSync]\u001b[39m,\n",
      "      mkdir: \u001b[36m[Function: mkdir]\u001b[39m,\n",
      "      mkdirSync: \u001b[36m[Function: mkdirSync]\u001b[39m,\n",
      "      mkdtemp: \u001b[36m[Function: mkdtemp]\u001b[39m,\n",
      "      mkdtempSync: \u001b[36m[Function: mkdtempSync]\u001b[39m,\n",
      "      open: \u001b[36m[Function: open]\u001b[39m,\n",
      "      openSync: \u001b[36m[Function: openSync]\u001b[39m,\n",
      "      opendir: \u001b[36m[Function: opendir]\u001b[39m,\n",
      "      opendirSync: \u001b[36m[Function: opendirSync]\u001b[39m,\n",
      "      readdir: \u001b[36m[Function: readdir]\u001b[39m,\n",
      "      readdirSync: \u001b[36m[Function: readdirSync]\u001b[39m,\n",
      "      read: \u001b[36m[Function: read]\u001b[39m,\n",
      "      readSync: \u001b[36m[Function: readSync]\u001b[39m,\n",
      "      readv: \u001b[36m[Function: readv]\u001b[39m,\n",
      "      readvSync: \u001b[36m[Function: readvSync]\u001b[39m,\n",
      "      readFile: \u001b[36m[Function: readFile]\u001b[39m,\n",
      "      readFileSync: \u001b[36m[Function: readFileSync]\u001b[39m,\n",
      "      readlink: \u001b[36m[Function: readlink]\u001b[39m,\n",
      "      readlinkSync: \u001b[36m[Function: readlinkSync]\u001b[39m,\n",
      "      realpath: \u001b[36m[Function]\u001b[39m,\n",
      "      realpathSync: \u001b[36m[Function]\u001b[39m,\n",
      "      rename: \u001b[36m[Function: rename]\u001b[39m,\n",
      "      renameSync: \u001b[36m[Function: renameSync]\u001b[39m,\n",
      "      rm: \u001b[36m[Function: rm]\u001b[39m,\n",
      "      rmSync: \u001b[36m[Function: rmSync]\u001b[39m,\n",
      "      rmdir: \u001b[36m[Function: rmdir]\u001b[39m,\n",
      "      rmdirSync: \u001b[36m[Function: rmdirSync]\u001b[39m,\n",
      "      stat: \u001b[36m[Function: stat]\u001b[39m,\n",
      "      statSync: \u001b[36m[Function: statSync]\u001b[39m,\n",
      "      symlink: \u001b[36m[Function: symlink]\u001b[39m,\n",
      "      symlinkSync: \u001b[36m[Function: symlinkSync]\u001b[39m,\n",
      "      truncate: \u001b[36m[Function: truncate]\u001b[39m,\n",
      "      truncateSync: \u001b[36m[Function: truncateSync]\u001b[39m,\n",
      "      unwatchFile: \u001b[36m[Function: unwatchFile]\u001b[39m,\n",
      "      unlink: \u001b[36m[Function: unlink]\u001b[39m,\n",
      "      unlinkSync: \u001b[36m[Function: unlinkSync]\u001b[39m,\n",
      "      utimes: \u001b[36m[Function: utimes]\u001b[39m,\n",
      "      utimesSync: \u001b[36m[Function: utimesSync]\u001b[39m,\n",
      "      watch: \u001b[36m[Function: watch]\u001b[39m,\n",
      "      watchFile: \u001b[36m[Function: watchFile]\u001b[39m,\n",
      "      writeFile: \u001b[36m[Function: writeFile]\u001b[39m,\n",
      "      writeFileSync: \u001b[36m[Function: writeFileSync]\u001b[39m,\n",
      "      write: \u001b[36m[Function: write]\u001b[39m,\n",
      "      writeSync: \u001b[36m[Function: writeSync]\u001b[39m,\n",
      "      writev: \u001b[36m[Function: writev]\u001b[39m,\n",
      "      writevSync: \u001b[36m[Function: writevSync]\u001b[39m,\n",
      "      Dir: \u001b[36m[class Dir]\u001b[39m,\n",
      "      Dirent: \u001b[36m[class Dirent]\u001b[39m,\n",
      "      Stats: \u001b[36m[Function: Stats]\u001b[39m,\n",
      "      ReadStream: \u001b[36m[Getter/Setter]\u001b[39m,\n",
      "      WriteStream: \u001b[36m[Getter/Setter]\u001b[39m,\n",
      "      FileReadStream: \u001b[36m[Getter/Setter]\u001b[39m,\n",
      "      FileWriteStream: \u001b[36m[Getter/Setter]\u001b[39m,\n",
      "      _toUnixTimestamp: \u001b[36m[Function: toUnixTimestamp]\u001b[39m,\n",
      "      F_OK: \u001b[33m0\u001b[39m,\n",
      "      R_OK: \u001b[33m4\u001b[39m,\n",
      "      W_OK: \u001b[33m2\u001b[39m,\n",
      "      X_OK: \u001b[33m1\u001b[39m,\n",
      "      constants: \u001b[36m[Object: null prototype]\u001b[39m,\n",
      "      promises: \u001b[36m[Getter]\u001b[39m\n",
      "    },\n",
      "    [\u001b[32mSymbol(kIsPerformingIO)\u001b[39m]: \u001b[33mfalse\u001b[39m,\n",
      "    [\u001b[32mSymbol(kCapture)\u001b[39m]: \u001b[33mfalse\u001b[39m,\n",
      "    [\u001b[32mSymbol(keypress-decoder)\u001b[39m]: StringDecoder {\n",
      "      encoding: \u001b[32m'utf8'\u001b[39m,\n",
      "      [\u001b[32mSymbol(kNativeDecoder)\u001b[39m]: <Buffer 00 00 00 00 00 00 01>\n",
      "    },\n",
      "    [\u001b[32mSymbol(escape-decoder)\u001b[39m]: Object [Generator] {}\n",
      "  },\n",
      "  history: [],\n",
      "  historySize: \u001b[33m30\u001b[39m,\n",
      "  removeHistoryDuplicates: \u001b[33mfalse\u001b[39m,\n",
      "  crlfDelay: \u001b[33m100\u001b[39m,\n",
      "  _prompt: \u001b[32m'> '\u001b[39m,\n",
      "  terminal: \u001b[33mtrue\u001b[39m,\n",
      "  cursor: \u001b[33m0\u001b[39m,\n",
      "  historyIndex: \u001b[33m-1\u001b[39m,\n",
      "  [\u001b[32mSymbol(kCapture)\u001b[39m]: \u001b[33mfalse\u001b[39m,\n",
      "  [\u001b[32mSymbol(kSubstringSearch)\u001b[39m]: \u001b[1mnull\u001b[22m,\n",
      "  [\u001b[32mSymbol(kQuestionCancel)\u001b[39m]: \u001b[36m[Function: bound _questionCancel]\u001b[39m,\n",
      "  [\u001b[32mSymbol(line object stream)\u001b[39m]: \u001b[90mundefined\u001b[39m\n",
      "}\n"
     ]
    },
    {
     "name": "stdout",
     "output_type": "stream",
     "text": [
      "first line\n",
      "Line 1: first line\n",
      "hello there! This is second line.\n",
      "Line 2: hello there! This is second line.\n",
      "Third line is as plain as This.\n",
      "Line 3: Third line is as plain as This.\n",
      "Apple\n",
      "Line 4: Apple\n",
      "How about ball?\n",
      "Line 5: How about ball?\n"
     ]
    }
   ],
   "source": [
    "var readline = require('readline');\n",
    "var rl = readline.createInterface({\n",
    "    input: fs.createReadStream(fileName),\n",
    "    output: process.stdout,\n",
    "});\n",
    "\n",
    "var lineNum = 1;\n",
    "rl.on('line', (line)=> {\n",
    "    console.log(`Line ${lineNum}: ${line}`);\n",
    "    lineNum ++;\n",
    "});"
   ]
  },
  {
   "cell_type": "markdown",
   "metadata": {},
   "source": [
    "## write to file\n",
    "\n",
    "```javascript\n",
    "const fs = require('fs');\n",
    "fs.writeFile(path, data, callback);\n",
    "```\n",
    "\n",
    "- replaces the specified file and content if it exists\n",
    "- if the file doesn't exist, a new file is created with the given content"
   ]
  },
  {
   "cell_type": "code",
   "execution_count": 12,
   "metadata": {},
   "outputs": [],
   "source": [
    "const fs = require('fs');"
   ]
  },
  {
   "cell_type": "code",
   "execution_count": 13,
   "metadata": {},
   "outputs": [
    {
     "name": "stdout",
     "output_type": "stream",
     "text": [
      "File created!\n"
     ]
    }
   ],
   "source": [
    "fs.writeFile('output.txt', 'Some content added to the file...', (err) => {\n",
    "   if (err) {\n",
    "       throw err;\n",
    "   } \n",
    "    console.log('File created!');\n",
    "});"
   ]
  },
  {
   "cell_type": "code",
   "execution_count": 14,
   "metadata": {},
   "outputs": [],
   "source": [
    "var data = fs.readFileSync('output.txt');"
   ]
  },
  {
   "cell_type": "code",
   "execution_count": 15,
   "metadata": {},
   "outputs": [
    {
     "name": "stdout",
     "output_type": "stream",
     "text": [
      "Some content added to the file...\n"
     ]
    }
   ],
   "source": [
    "console.log(data.toString());"
   ]
  },
  {
   "cell_type": "markdown",
   "metadata": {},
   "source": [
    "## append or update files\n",
    "\n",
    "```javascript\n",
    "const fs = require('fs');\n",
    "fs.appendFile(path, data, callback)\n",
    "```\n",
    "\n",
    "- appends the specified content at the end of the specified file"
   ]
  },
  {
   "cell_type": "code",
   "execution_count": 16,
   "metadata": {},
   "outputs": [
    {
     "name": "stdout",
     "output_type": "stream",
     "text": [
      "Updated!\n"
     ]
    }
   ],
   "source": [
    "fs.appendFile('output.txt', '\\nNext line appended at the end!', (err) => {\n",
    "    if (err) throw err;\n",
    "    console.log('Updated!');\n",
    "});"
   ]
  },
  {
   "cell_type": "code",
   "execution_count": 17,
   "metadata": {},
   "outputs": [],
   "source": [
    "var data = fs.readFileSync('output.txt');"
   ]
  },
  {
   "cell_type": "code",
   "execution_count": 18,
   "metadata": {},
   "outputs": [
    {
     "name": "stdout",
     "output_type": "stream",
     "text": [
      "Some content added to the file...\n",
      "Next line appended at the end!\n"
     ]
    }
   ],
   "source": [
    "console.log(data.toString());"
   ]
  },
  {
   "cell_type": "markdown",
   "metadata": {},
   "source": [
    "## exercise: write a program to copy the content of a file to another file"
   ]
  },
  {
   "cell_type": "markdown",
   "metadata": {},
   "source": [
    "## rename a file\n",
    "\n",
    "```javascript\n",
    "const fs = require('fs');\n",
    "fs.rename(existingFile, newFile, callback);\n",
    "```\n",
    "\n",
    "- rename existingFile with newFile\n",
    "- if the file doesn't exist, throws error: no such file or directory"
   ]
  },
  {
   "cell_type": "code",
   "execution_count": 19,
   "metadata": {},
   "outputs": [
    {
     "name": "stdout",
     "output_type": "stream",
     "text": [
      "File renamed!\n"
     ]
    }
   ],
   "source": [
    "//var fs = require('fs');\n",
    "fs.rename('output.txt', 'output1.txt', (err) => {\n",
    "    if (err) throw err;\n",
    "    console.log('File renamed!');\n",
    "});"
   ]
  },
  {
   "cell_type": "markdown",
   "metadata": {},
   "source": [
    "# delete a file\n",
    "\n",
    "```javascript\n",
    "const fs = require('fs');\n",
    "fs.unlink(path, callback)\n",
    "```\n",
    "\n",
    "- deletes the specified file\n",
    "- if file doesn't exist, error is thrown"
   ]
  },
  {
   "cell_type": "code",
   "execution_count": 20,
   "metadata": {},
   "outputs": [
    {
     "name": "stdout",
     "output_type": "stream",
     "text": [
      "output1.txt file deleted!\n"
     ]
    }
   ],
   "source": [
    "// var fs = require('fs');\n",
    "var fileName = 'output1.txt'\n",
    "fs.unlink(fileName, (err) => {\n",
    "    if (err) throw err;\n",
    "    console.log(`${fileName} file deleted!`)\n",
    "});"
   ]
  },
  {
   "cell_type": "markdown",
   "metadata": {},
   "source": [
    "## exercises\n",
    "1. Write a program that reads a file and writes out a new file with the lines in reversed order (i.e. the first line in the old file becomes the last one in the new file.)\n",
    "2. Write a program that reads a file and prints only those lines that contain the substring snake.\n",
    "3. Write a program that reads a text file and produces an output file which is a copy of the file, except the first five columns of each line contain a four digit line number, followed by a space. Start numbering the first line in the output file at 1. Ensure that every line number is formatted to the same width in the output file. Use one of your Node.js programs as test data for this exercise: your output should be a printed and numbered listing of the Node.js program.\n",
    "4. Write a program that undoes the numbering of the previous exercise: it should read a file with numbered lines and produce another file without line numbers."
   ]
  },
  {
   "cell_type": "code",
   "execution_count": null,
   "metadata": {},
   "outputs": [],
   "source": []
  }
 ],
 "metadata": {
  "kernelspec": {
   "display_name": "TypeScript",
   "language": "typescript",
   "name": "tslab"
  },
  "language_info": {
   "codemirror_mode": {
    "mode": "typescript",
    "name": "javascript",
    "typescript": true
   },
   "file_extension": ".ts",
   "mimetype": "text/typescript",
   "name": "typescript",
   "version": "3.7.2"
  }
 },
 "nbformat": 4,
 "nbformat_minor": 4
}
