{
 "cells": [
  {
   "cell_type": "markdown",
   "metadata": {},
   "source": [
    "# Files\n",
    "- data is usually stored in secondary storage medium such as hard drive, flash drive, cd-rw, etc. using named locations called files\n",
    "- files can be organized into folders\n",
    "- Node.js file system allows you to work with the file system (files and folders) on your computer; while JS code on browser can't access files\n",
    "- to include the File System module, use the rquire('fs') \n",
    "- complete documentation on File System: https://nodejs.org/api/fs.html"
   ]
  },
  {
   "cell_type": "code",
   "execution_count": null,
   "metadata": {},
   "outputs": [],
   "source": [
    "var fs = require('fs');"
   ]
  },
  {
   "cell_type": "markdown",
   "metadata": {},
   "source": [
    "## Common use for the File System module:\n",
    "- Read existing files\n",
    "- Create files\n",
    "- Update files\n",
    "- Delete files\n",
    "- Rename files"
   ]
  },
  {
   "cell_type": "markdown",
   "metadata": {},
   "source": [
    "## Synchronous vs Asynchronous\n",
    "- every method in the fs module has synchronous as well as synchronous ways of working with files\n",
    "- it's recommended to use an asynchronous method instead of synchronous, as the former never blocks a program during its execution, while the latter does"
   ]
  },
  {
   "cell_type": "markdown",
   "metadata": {},
   "source": [
    "## Read data\n",
    "```javascript\n",
    "fs.readFile(path, callback);\n",
    "fs.readFileSync(path) => data\n",
    "```"
   ]
  },
  {
   "cell_type": "code",
   "execution_count": 1,
   "metadata": {},
   "outputs": [],
   "source": [
    "var fileName = './JSDemo/input.txt';"
   ]
  },
  {
   "cell_type": "code",
   "execution_count": 2,
   "metadata": {},
   "outputs": [
    {
     "name": "stdout",
     "output_type": "stream",
     "text": [
      "<Buffer 66 69 72 73 74 20 6c 69 6e 65 0a 68 65 6c 6c 6f 20 74 68 65 72 65 21 20 54 68 69 73 20 69 73 20 73 65 63 6f 6e 64 20 6c 69 6e 65 2e 0a 54 68 69 72 64 ... 49 more bytes>\n",
      "first line\n",
      "hello there! This is second line.\n",
      "Third line is as plain as This.\n",
      "Apple\n",
      "How about ball?\n",
      "\n"
     ]
    }
   ],
   "source": [
    "// asynchronous method\n",
    "var data;\n",
    "fs.readFile(fileName, (err, data) => {\n",
    "    if (err) {\n",
    "        throw err;\n",
    "    }   \n",
    "    console.log(data);\n",
    "    console.log(data.toString());\n",
    "});"
   ]
  },
  {
   "cell_type": "code",
   "execution_count": 3,
   "metadata": {},
   "outputs": [],
   "source": [
    "// Synchronous read\n",
    "var data = fs.readFileSync(fileName);"
   ]
  },
  {
   "cell_type": "code",
   "execution_count": 4,
   "metadata": {},
   "outputs": [
    {
     "name": "stdout",
     "output_type": "stream",
     "text": [
      "first line\n",
      "hello there! This is second line.\n",
      "Third line is as plain as This.\n",
      "Apple\n",
      "How about ball?\n",
      "\n"
     ]
    }
   ],
   "source": [
    "console.log(data.toString());"
   ]
  },
  {
   "cell_type": "markdown",
   "metadata": {},
   "source": [
    "## readline - read line by line"
   ]
  },
  {
   "cell_type": "code",
   "execution_count": 5,
   "metadata": {},
   "outputs": [
    {
     "data": {
      "text/plain": [
       "Interface {\n",
       "  _sawReturnAt: 0,\n",
       "  isCompletionEnabled: true,\n",
       "  _sawKeyPress: false,\n",
       "  _previousKey: null,\n",
       "  escapeCodeTimeout: 500,\n",
       "  _events:\n",
       "   [Object: null prototype] {\n",
       "     close:\n",
       "      { [Function: bound onceWrapper] listener: [Function: onSelfCloseWithoutTerminal] },\n",
       "     line: [Function] },\n",
       "  _eventsCount: 2,\n",
       "  _maxListeners: undefined,\n",
       "  output:\n",
       "   Transform {\n",
       "     _readableState:\n",
       "      ReadableState {\n",
       "        objectMode: false,\n",
       "        highWaterMark: 16384,\n",
       "        buffer: BufferList { head: null, tail: null, length: 0 },\n",
       "        length: 0,\n",
       "        pipes: [SyncWriteStream],\n",
       "        pipesCount: 1,\n",
       "        flowing: true,\n",
       "        ended: false,\n",
       "        endEmitted: false,\n",
       "        reading: false,\n",
       "        sync: false,\n",
       "        needReadable: false,\n",
       "        emittedReadable: false,\n",
       "        readableListening: false,\n",
       "        resumeScheduled: true,\n",
       "        paused: false,\n",
       "        emitClose: true,\n",
       "        autoDestroy: false,\n",
       "        destroyed: false,\n",
       "        defaultEncoding: 'utf8',\n",
       "        awaitDrain: 0,\n",
       "        readingMore: false,\n",
       "        decoder: null,\n",
       "        encoding: null },\n",
       "     readable: true,\n",
       "     _events:\n",
       "      [Object: null prototype] {\n",
       "        prefinish: [Function: prefinish],\n",
       "        end: [Function],\n",
       "        data: [Function: ondata] },\n",
       "     _eventsCount: 3,\n",
       "     _maxListeners: undefined,\n",
       "     _writableState:\n",
       "      WritableState {\n",
       "        objectMode: false,\n",
       "        highWaterMark: 16384,\n",
       "        finalCalled: false,\n",
       "        needDrain: false,\n",
       "        ending: false,\n",
       "        ended: false,\n",
       "        finished: false,\n",
       "        destroyed: false,\n",
       "        decodeStrings: true,\n",
       "        defaultEncoding: 'utf8',\n",
       "        length: 0,\n",
       "        writing: false,\n",
       "        corked: 0,\n",
       "        sync: true,\n",
       "        bufferProcessing: false,\n",
       "        onwrite: [Function: bound onwrite],\n",
       "        writecb: null,\n",
       "        writelen: 0,\n",
       "        bufferedRequest: null,\n",
       "        lastBufferedRequest: null,\n",
       "        pendingcb: 0,\n",
       "        prefinished: false,\n",
       "        errorEmitted: false,\n",
       "        emitClose: true,\n",
       "        autoDestroy: false,\n",
       "        bufferedRequestCount: 0,\n",
       "        corkedRequestsFree: [Object] },\n",
       "     writable: true,\n",
       "     allowHalfOpen: true,\n",
       "     _transformState:\n",
       "      { afterTransform: [Function: bound afterTransform],\n",
       "        needTransform: false,\n",
       "        transforming: false,\n",
       "        writecb: null,\n",
       "        writechunk: null,\n",
       "        writeencoding: null },\n",
       "     _id: 5 },\n",
       "  input:\n",
       "   ReadStream {\n",
       "     _readableState:\n",
       "      ReadableState {\n",
       "        objectMode: false,\n",
       "        highWaterMark: 65536,\n",
       "        buffer: BufferList { head: null, tail: null, length: 0 },\n",
       "        length: 0,\n",
       "        pipes: null,\n",
       "        pipesCount: 0,\n",
       "        flowing: true,\n",
       "        ended: false,\n",
       "        endEmitted: false,\n",
       "        reading: false,\n",
       "        sync: true,\n",
       "        needReadable: false,\n",
       "        emittedReadable: false,\n",
       "        readableListening: false,\n",
       "        resumeScheduled: true,\n",
       "        paused: false,\n",
       "        emitClose: false,\n",
       "        autoDestroy: false,\n",
       "        destroyed: false,\n",
       "        defaultEncoding: 'utf8',\n",
       "        awaitDrain: 0,\n",
       "        readingMore: false,\n",
       "        decoder: null,\n",
       "        encoding: null },\n",
       "     readable: true,\n",
       "     _events:\n",
       "      [Object: null prototype] { end: [Array], data: [Function: ondata] },\n",
       "     _eventsCount: 2,\n",
       "     _maxListeners: undefined,\n",
       "     path: './JSDemo/input.txt',\n",
       "     fd: null,\n",
       "     flags: 'r',\n",
       "     mode: 438,\n",
       "     start: undefined,\n",
       "     end: Infinity,\n",
       "     autoClose: true,\n",
       "     pos: undefined,\n",
       "     bytesRead: 0,\n",
       "     closed: false },\n",
       "  historySize: 30,\n",
       "  removeHistoryDuplicates: false,\n",
       "  crlfDelay: 100,\n",
       "  _prompt: '> ',\n",
       "  terminal: false,\n",
       "  _decoder:\n",
       "   StringDecoder {\n",
       "     encoding: 'utf8',\n",
       "     [Symbol(kNativeDecoder)]: <Buffer 00 00 00 00 00 00 01> },\n",
       "  [Symbol(line object stream)]: undefined }"
      ]
     },
     "execution_count": 5,
     "metadata": {},
     "output_type": "execute_result"
    },
    {
     "name": "stdout",
     "output_type": "stream",
     "text": [
      "Line 1: first line\n",
      "Line 2: hello there! This is second line.\n",
      "Line 3: Third line is as plain as This.\n",
      "Line 4: Apple\n",
      "Line 5: How about ball?\n"
     ]
    }
   ],
   "source": [
    "var readline = require('readline');\n",
    "var rl = readline.createInterface({\n",
    "    input: fs.createReadStream(fileName),\n",
    "    output: process.stdout,\n",
    "});\n",
    "\n",
    "var lineNum = 1;\n",
    "rl.on('line', (line)=> {\n",
    "    console.log(`Line ${lineNum}: ${line}`);\n",
    "    lineNum ++;\n",
    "});"
   ]
  },
  {
   "cell_type": "markdown",
   "metadata": {},
   "source": [
    "## write to file\n",
    "- fs.writeFile(path, data, callback);\n",
    "- replaces the specified file and content if it exists\n",
    "- if the file doesn't exist, a new file is created with the given content"
   ]
  },
  {
   "cell_type": "code",
   "execution_count": 17,
   "metadata": {},
   "outputs": [
    {
     "name": "stdout",
     "output_type": "stream",
     "text": [
      "File created!\n"
     ]
    }
   ],
   "source": [
    "var fs = require('fs');\n",
    "fs.writeFile('output.txt', 'Some content added to the file...', (err) => {\n",
    "   if (err) {\n",
    "       throw err;\n",
    "   } \n",
    "    console.log('File created!');\n",
    "});"
   ]
  },
  {
   "cell_type": "code",
   "execution_count": 18,
   "metadata": {},
   "outputs": [],
   "source": [
    "var data = fs.readFileSync('output.txt');"
   ]
  },
  {
   "cell_type": "code",
   "execution_count": 19,
   "metadata": {},
   "outputs": [
    {
     "name": "stdout",
     "output_type": "stream",
     "text": [
      "Some content added to the file...\n"
     ]
    }
   ],
   "source": [
    "console.log(data.toString());"
   ]
  },
  {
   "cell_type": "markdown",
   "metadata": {},
   "source": [
    "## append or update files\n",
    "- fs.appendFile(path, data, callback)\n",
    "- appends the specified content at the end of the specified file"
   ]
  },
  {
   "cell_type": "code",
   "execution_count": 20,
   "metadata": {},
   "outputs": [
    {
     "name": "stdout",
     "output_type": "stream",
     "text": [
      "Updated!\n"
     ]
    }
   ],
   "source": [
    "var fs = require('fs');\n",
    "fs.appendFile('output.txt', '\\nNext line appended at the end!', (err) => {\n",
    "    if (err) throw err;\n",
    "    console.log('Updated!');\n",
    "});"
   ]
  },
  {
   "cell_type": "code",
   "execution_count": 14,
   "metadata": {},
   "outputs": [],
   "source": [
    "var data = fs.readFileSync('output.txt');"
   ]
  },
  {
   "cell_type": "code",
   "execution_count": 21,
   "metadata": {},
   "outputs": [
    {
     "name": "stdout",
     "output_type": "stream",
     "text": [
      "Some content added to the file...\n"
     ]
    }
   ],
   "source": [
    "console.log(data.toString());"
   ]
  },
  {
   "cell_type": "markdown",
   "metadata": {},
   "source": [
    "## exercise: write a program to copy the content of a file to another file"
   ]
  },
  {
   "cell_type": "markdown",
   "metadata": {},
   "source": [
    "## rename a file\n",
    "- fs.rename(existingFile, newFile, callback);\n",
    "- rename existingFile with newFile\n",
    "- if the file doesn't exist, throws error: no such file or directory"
   ]
  },
  {
   "cell_type": "code",
   "execution_count": 22,
   "metadata": {},
   "outputs": [
    {
     "name": "stdout",
     "output_type": "stream",
     "text": [
      "File renamed!\n"
     ]
    }
   ],
   "source": [
    "var fs = require('fs');\n",
    "fs.rename('output.txt', 'output1.txt', (err) => {\n",
    "    if (err) throw err;\n",
    "    console.log('File renamed!');\n",
    "});"
   ]
  },
  {
   "cell_type": "markdown",
   "metadata": {},
   "source": [
    "# delete a file\n",
    "- fs.unlink(path, callback)\n",
    "- deletes the specified file\n",
    "- if file doesn't exist, error is thrown"
   ]
  },
  {
   "cell_type": "code",
   "execution_count": 25,
   "metadata": {},
   "outputs": [
    {
     "name": "stderr",
     "output_type": "stream",
     "text": [
      "Error: ENOENT: no such file or directory, unlink 'output1.txt'"
     ]
    }
   ],
   "source": [
    "var fs = require('fs');\n",
    "var fileName = 'output1.txt'\n",
    "fs.unlink(fileName, (err) => {\n",
    "    if (err) throw err;\n",
    "    console.log(`${fileName} file deleted!`)\n",
    "});"
   ]
  },
  {
   "cell_type": "markdown",
   "metadata": {},
   "source": [
    "## exercises\n",
    "1. Write a program that reads a file and writes out a new file with the lines in reversed order (i.e. the first line in the old file becomes the last one in the new file.)\n",
    "2. Write a program that reads a file and prints only those lines that contain the substring snake.\n",
    "3. Write a program that reads a text file and produces an output file which is a copy of the file, except the first five columns of each line contain a four digit line number, followed by a space. Start numbering the first line in the output file at 1. Ensure that every line number is formatted to the same width in the output file. Use one of your Node.js programs as test data for this exercise: your output should be a printed and numbered listing of the Node.js program.\n",
    "4. Write a program that undoes the numbering of the previous exercise: it should read a file with numbered lines and produce another file without line numbers."
   ]
  },
  {
   "cell_type": "code",
   "execution_count": null,
   "metadata": {},
   "outputs": [],
   "source": []
  }
 ],
 "metadata": {
  "kernelspec": {
   "display_name": "Javascript (Node.js)",
   "language": "javascript",
   "name": "javascript"
  },
  "language_info": {
   "file_extension": ".js",
   "mimetype": "application/javascript",
   "name": "javascript",
   "version": "11.14.0"
  }
 },
 "nbformat": 4,
 "nbformat_minor": 2
}
