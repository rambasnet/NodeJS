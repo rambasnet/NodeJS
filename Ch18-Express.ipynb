{
 "cells": [
  {
   "cell_type": "markdown",
   "metadata": {},
   "source": [
    "# Express Framework\n",
    "- https://expressjs.com/\n",
    "- Express is a minimal and flexible Node.js web application framework that provides a robust set of features for web and mobile applications\n",
    "- MEAN stack (Mongo, Express, Angular, Node)\n",
    "- facilitates rapid development of Node.js web applications"
   ]
  },
  {
   "cell_type": "markdown",
   "metadata": {},
   "source": [
    "## Installing Express\n",
    "https://expressjs.com/en/starter/installing.html\n",
    "\n",
    "`$ mkdir ExpressDemo` <br />\n",
    "`$ cd ExpressDemo` <br />\n",
    "- Use npm init command to create a package.json file for your app with default values <br>\n",
    "\n",
    "`$ npm init` - go through default by hitting enter all the way <br />\n",
    "- now install express in the expressdemo directory and save it in the dependencies list <br />\n",
    "\n",
    "`$ npm install express --save`"
   ]
  },
  {
   "cell_type": "markdown",
   "metadata": {},
   "source": [
    "## Installing third-party middle layers\n",
    "\n",
    "### body-parser \n",
    "- node.js middleware for handling JSON, Raw Text and URL encoded form data\n",
    "\n",
    "`$ npm install body-parser --save`\n",
    "\n",
    "### cookie-parser \n",
    "- middleware for handling cookies\n",
    "\n",
    "`$ npm install cookie-parser --save`\n",
    "\n",
    "### multer\n",
    "- middleware for handling multipart/form data such as file uploads.\n",
    "\n",
    "`$ npm install multer --save`"
   ]
  },
  {
   "cell_type": "markdown",
   "metadata": {},
   "source": [
    "## Request & Response\n",
    "- request and reponse are the heart of web applicaitons\n",
    "- web app uses client-server architecture where client (browser) sends request and the server (Node.js) accepts requests and sends response back\n",
    "- express app uses callback function whose parameters are <strong>request</strong> and <strong>response</strong> objects\n",
    "```javascript\n",
    "app.get('/', function (req, res) {\n",
    "   // --\n",
    "});\n",
    "```\n",
    "\n",
    "    - <a href =\"https://nodejs.org/api/http.html#http_class_http_clientrequest\">Request Object</a> - The request object represents the HTTP request  and has properties for the request query string, parameters, body, HTTP headers, and others.\n",
    "    - <a href=\"https://nodejs.org/api/http.html#http_class_http_serverresponse\">Response Object </a>- represents HTTP Response that express uses to send data back to client when it gets HTTP request \n",
    "    - print req and res objects to see all the informations contained in those objects"
   ]
  },
  {
   "cell_type": "markdown",
   "metadata": {},
   "source": [
    "## MVC framework\n",
    "- model, view, controller based application architecture\n",
    "https://developer.chrome.com/apps/app_frameworks\n"
   ]
  },
  {
   "cell_type": "markdown",
   "metadata": {},
   "source": [
    "## Basic routing\n",
    "- https://expressjs.com/en/guide/routing.html\n",
    "- Routing refers to determining how an application responds to a client request to a particular endpoint, which is a URI (or path) and a specific HTTP request method (GET, POST, and so on).\n",
    "- Each route can have one or more handler functions, which are executed when the route is matched.\n",
    "- Route definition takes the following structure:\n",
    "\n",
    "```javascript\n",
    "app.METHOD(PATH, HANDLER);\n",
    "```\n",
    "\n",
    "Where:\n",
    "- app is an instance of express\n",
    "- METHOD is an HTTP request method, in lowercase\n",
    "- PATH is a path on the server\n",
    "- HANDLER is the function executed when the route is matched"
   ]
  },
  {
   "cell_type": "markdown",
   "metadata": {},
   "source": [
    "### Respond with Hello World! on the homepage:"
   ]
  },
  {
   "cell_type": "markdown",
   "metadata": {},
   "source": [
    "```javascript\n",
    "app.get('/', function (req, res) {\n",
    "  res.send('Hello World!')\n",
    "});\n",
    "```"
   ]
  },
  {
   "cell_type": "markdown",
   "metadata": {},
   "source": [
    "### Respond to POST request on the root route (/), the application’s home page:"
   ]
  },
  {
   "cell_type": "markdown",
   "metadata": {},
   "source": [
    "```javascript\n",
    "app.post('/', function (req, res) {\n",
    "  res.send('Got a POST request')\n",
    "});\n",
    "```"
   ]
  },
  {
   "cell_type": "markdown",
   "metadata": {},
   "source": [
    "### Respond to a PUT request to the /user route:"
   ]
  },
  {
   "cell_type": "markdown",
   "metadata": {},
   "source": [
    "```javascript\n",
    "app.put('/user', function (req, res) {\n",
    "  res.send('Got a PUT request at /user')\n",
    "});\n",
    "```"
   ]
  },
  {
   "cell_type": "markdown",
   "metadata": {},
   "source": [
    "### Respond to a DELETE request to the /user route:"
   ]
  },
  {
   "cell_type": "markdown",
   "metadata": {},
   "source": [
    "```javascript\n",
    "app.delete('/user', function (req, res) {\n",
    "  res.send('Got a DELETE request at /user')\n",
    "});\n",
    "```"
   ]
  },
  {
   "cell_type": "markdown",
   "metadata": {},
   "source": [
    "## See ExpressDemo folder for various examples\n",
    "- app.js, router.js\n",
    "- node app.js\n",
    "- node router.js"
   ]
  },
  {
   "cell_type": "markdown",
   "metadata": {},
   "source": [
    "## Nodemon daemon\n",
    "- install and use nodemon (node daemon) to not have to restart server everytime after some changes in JS files\n",
    "    - https://github.com/remy/nodemon#nodemon\n",
    "    - npm install nodemon --save\n",
    "    - cd into the app folder and run\n",
    "    - \\$ nodemon app.js"
   ]
  },
  {
   "cell_type": "markdown",
   "metadata": {},
   "source": [
    "## Express app generator\n",
    "- use applcation generator tool express generator to quickly create an applicaiton - https://expressjs.com/en/starter/generator.html\n",
    "\n",
    "    - \\$ npm install -g express-generator\n",
    "    - \\$ express -h\n",
    "- generate myapp express app that uses pug as view engine\n",
    "- default to jade/pug - https://pugjs.org/api/getting-started.html\n",
    "    - \\$ express --view=pug myapp\n",
    "    - \\$ cd myapp\n",
    "    - \\$ npm install\n",
    "- On MAC/Linux\n",
    "    - \\$ DEBUG=myapp:* npm start\n",
    "- On Windows\n",
    "    - \\> set DEBUG=myapp:* & npm start\n",
    "- Then load http://localhost:3000/ in your browser to access the app.\n",
    "\n",
    "- Use nodemon to run express app\n",
    "    - cd into app folder\n",
    "    - $ nodemon ./bin/www\n",
    "    - Or modify package.json file, modify the scripts:\n",
    "        \"scripts\": { \"start: nodemon ./bin/www },\n",
    "        \n",
    "        - $ npm start\n",
    "        - can add DEBUG as shown above\n",
    "    - it'll run node server on localhost:3000"
   ]
  },
  {
   "cell_type": "markdown",
   "metadata": {},
   "source": [
    "## Demo Apps using Express\n",
    "- a simple static site: https://github.com/rambasnet/expressphomepage\n",
    "- static sites and dynamic apps: https://github.com/rambasnet/ExpressDemoProjects"
   ]
  },
  {
   "cell_type": "markdown",
   "metadata": {},
   "source": [
    "## Intro to Pug Templating Framework\n",
    "- https://www.sitepoint.com/a-beginners-guide-to-pug/\n",
    "- https://pugjs.org/api/getting-started.html"
   ]
  },
  {
   "cell_type": "code",
   "execution_count": null,
   "metadata": {},
   "outputs": [],
   "source": []
  }
 ],
 "metadata": {
  "kernelspec": {
   "display_name": "Javascript (Node.js)",
   "language": "javascript",
   "name": "javascript"
  },
  "language_info": {
   "file_extension": ".js",
   "mimetype": "application/javascript",
   "name": "javascript",
   "version": "11.14.0"
  }
 },
 "nbformat": 4,
 "nbformat_minor": 2
}
