{
 "cells": [
  {
   "cell_type": "markdown",
   "metadata": {},
   "source": [
    "# JSON (JavaScript Object Notation)\n",
    " - <strong>J</strong>ava<strong>S</strong>cript <strong>O</strong>bject <strong>N</strong>otation\n",
    " - lightweight data interchange (storing and transporting) format\n",
    " - JSON is \"self-describing\" and easy to understand\n",
    " - JSON is language independent (text only format, that's used by many languages)\n",
    " - see package.json file used by npm, e.g."
   ]
  },
  {
   "cell_type": "code",
   "execution_count": 1,
   "metadata": {},
   "outputs": [],
   "source": [
    "// example of text that has json structure\n",
    "var jsonText = '{firstName: \"John\", lastName: \"Smith\"}';"
   ]
  },
  {
   "cell_type": "markdown",
   "metadata": {},
   "source": [
    "### Example - employee records\n",
    "- following example defines an array of 3 employee records (objects) using JSON notation"
   ]
  },
  {
   "cell_type": "code",
   "execution_count": 2,
   "metadata": {},
   "outputs": [
    {
     "name": "stdout",
     "output_type": "stream",
     "text": [
      "{ employees:\n",
      "   [ { firstName: 'John', lastName: 'Doe' },\n",
      "     { firstName: 'Anna', lastName: 'Smith' },\n",
      "     { firstName: 'Peter', lastName: 'Jones' } ] }\n"
     ]
    }
   ],
   "source": [
    "var emps = {\n",
    "    \"employees\":[\n",
    "        {\"firstName\":\"John\", \"lastName\":\"Doe\"}, \n",
    "        {\"firstName\":\"Anna\", \"lastName\":\"Smith\"},\n",
    "        {\"firstName\":\"Peter\", \"lastName\":\"Jones\"}\n",
    "    ]\n",
    "}\n",
    "console.log(emps);"
   ]
  },
  {
   "cell_type": "markdown",
   "metadata": {},
   "source": [
    "## JSON Syntax Rules\n",
    "- data is in name:value pairs\n",
    "- data is separated by commas\n",
    "- curley braces hold an object\n",
    "- square brackets hold arrays"
   ]
  },
  {
   "cell_type": "markdown",
   "metadata": {},
   "source": [
    "### converting JSON Text to a JS Object\n",
    "- deserializing json string"
   ]
  },
  {
   "cell_type": "code",
   "execution_count": 3,
   "metadata": {},
   "outputs": [],
   "source": [
    "var text = '{ \"employees\" : [' +\n",
    "'{ \"firstName\":\"John\" , \"lastName\":\"Doe\" },' +\n",
    "'{ \"firstName\":\"Anna\" , \"lastName\":\"Smith\" },' +\n",
    "'{ \"firstName\":\"Peter\" , \"lastName\":\"Jones\" } ]}';"
   ]
  },
  {
   "cell_type": "code",
   "execution_count": 4,
   "metadata": {},
   "outputs": [],
   "source": [
    "// JSON is built-in global name\n",
    "var object = JSON.parse(text);"
   ]
  },
  {
   "cell_type": "code",
   "execution_count": 5,
   "metadata": {},
   "outputs": [
    {
     "name": "stdout",
     "output_type": "stream",
     "text": [
      "{ employees:\n",
      "   [ { firstName: 'John', lastName: 'Doe' },\n",
      "     { firstName: 'Anna', lastName: 'Smith' },\n",
      "     { firstName: 'Peter', lastName: 'Jones' } ] }\n"
     ]
    }
   ],
   "source": [
    "console.log(object);"
   ]
  },
  {
   "cell_type": "code",
   "execution_count": 6,
   "metadata": {},
   "outputs": [
    {
     "name": "stdout",
     "output_type": "stream",
     "text": [
      "{ firstName: 'John', lastName: 'Doe' }\n"
     ]
    }
   ],
   "source": [
    "// access the first employee value in employees name\n",
    "console.log(object.employees[0]);"
   ]
  },
  {
   "cell_type": "code",
   "execution_count": 7,
   "metadata": {},
   "outputs": [
    {
     "name": "stdout",
     "output_type": "stream",
     "text": [
      "Anna\n"
     ]
    }
   ],
   "source": [
    "// access the firstName attribute of the 2nd employee\n",
    "console.log(object.employees[1].firstName);"
   ]
  },
  {
   "cell_type": "code",
   "execution_count": 8,
   "metadata": {},
   "outputs": [
    {
     "name": "stdout",
     "output_type": "stream",
     "text": [
      "Smith\n"
     ]
    }
   ],
   "source": [
    "// access the firstName attribute of the 2nd employee\n",
    "console.log(object.employees[1].lastName);"
   ]
  },
  {
   "cell_type": "markdown",
   "metadata": {},
   "source": [
    "## read json file created by npm - package.json"
   ]
  },
  {
   "cell_type": "code",
   "execution_count": 9,
   "metadata": {},
   "outputs": [
    {
     "name": "stdout",
     "output_type": "stream",
     "text": [
      "{\n",
      "  \"name\": \"NodeJSNotebooks\",\n",
      "  \"version\": \"1.0.0\",\n",
      "  \"description\": \"Jupyter notebooks for learning JavaScript(JS)/ECMAScript (ES 6) using Node.js\",\n",
      "  \"main\": \"index.js\",\n",
      "  \"scripts\": {\n",
      "    \"test\": \"echo \\\"Error: no test specified\\\" && exit 1\"\n",
      "  },\n",
      "  \"repository\": {\n",
      "    \"type\": \"git\",\n",
      "    \"url\": \"git+https://github.com/rambasnet/NodeJSNotebooks.git\"\n",
      "  },\n",
      "  \"keywords\": [],\n",
      "  \"author\": \"\",\n",
      "  \"license\": \"ISC\",\n",
      "  \"bugs\": {\n",
      "    \"url\": \"https://github.com/rambasnet/NodeJSNotebooks/issues\"\n",
      "  },\n",
      "  \"homepage\": \"https://github.com/rambasnet/NodeJSNotebooks#readme\",\n",
      "  \"dependencies\": {\n",
      "    \"mongodb\": \"^3.1.8\",\n",
      "    \"readline-sync\": \"^1.4.9\"\n",
      "  }\n",
      "}\n",
      "\n"
     ]
    }
   ],
   "source": [
    "// create json file\n",
    "var fs = require('fs');\n",
    "var data = fs.readFileSync('package.json');\n",
    "console.log(data.toString());"
   ]
  },
  {
   "cell_type": "code",
   "execution_count": 16,
   "metadata": {},
   "outputs": [],
   "source": [
    "var package = JSON.parse(data);"
   ]
  },
  {
   "cell_type": "code",
   "execution_count": 17,
   "metadata": {},
   "outputs": [
    {
     "name": "stdout",
     "output_type": "stream",
     "text": [
      "{ name: 'NodeJSNotebooks',\n",
      "  version: '1.0.0',\n",
      "  description:\n",
      "   'Jupyter notebooks for learning JavaScript(JS)/ECMAScript (ES 6) using Node.js',\n",
      "  main: 'index.js',\n",
      "  scripts: { test: 'echo \"Error: no test specified\" && exit 1' },\n",
      "  repository:\n",
      "   { type: 'git',\n",
      "     url: 'git+https://github.com/rambasnet/NodeJSNotebooks.git' },\n",
      "  keywords: [],\n",
      "  author: '',\n",
      "  license: 'ISC',\n",
      "  bugs:\n",
      "   { url: 'https://github.com/rambasnet/NodeJSNotebooks/issues' },\n",
      "  homepage: 'https://github.com/rambasnet/NodeJSNotebooks#readme',\n",
      "  dependencies: { mongodb: '^3.1.8', 'readline-sync': '^1.4.9' } }\n"
     ]
    }
   ],
   "source": [
    "console.log(package);"
   ]
  },
  {
   "cell_type": "code",
   "execution_count": 18,
   "metadata": {},
   "outputs": [
    {
     "name": "stdout",
     "output_type": "stream",
     "text": [
      "NodeJSNotebooks\n"
     ]
    }
   ],
   "source": [
    "console.log(package.name);"
   ]
  },
  {
   "cell_type": "code",
   "execution_count": 19,
   "metadata": {},
   "outputs": [
    {
     "name": "stdout",
     "output_type": "stream",
     "text": [
      "{ test: 'echo \"Error: no test specified\" && exit 1' }\n"
     ]
    }
   ],
   "source": [
    "console.log(package.scripts);"
   ]
  },
  {
   "cell_type": "code",
   "execution_count": 20,
   "metadata": {},
   "outputs": [
    {
     "name": "stdout",
     "output_type": "stream",
     "text": [
      "echo \"Error: no test specified\" && exit 1\n"
     ]
    }
   ],
   "source": [
    "console.log(package.scripts.test);"
   ]
  },
  {
   "cell_type": "code",
   "execution_count": 21,
   "metadata": {},
   "outputs": [
    {
     "name": "stdout",
     "output_type": "stream",
     "text": [
      "git+https://github.com/rambasnet/NodeJSNotebooks.git\n"
     ]
    }
   ],
   "source": [
    "console.log(package.repository.url);"
   ]
  },
  {
   "cell_type": "markdown",
   "metadata": {},
   "source": [
    "## converting JS object to string\n",
    "- serialize JSON to string\n",
    "- JSON.stringify()\n",
    "- typically done to send objects across the network or store JSON into filesystems"
   ]
  },
  {
   "cell_type": "code",
   "execution_count": 1,
   "metadata": {},
   "outputs": [],
   "source": [
    "// a JavaScript object...:\n",
    "var myObj = {name:\"John\", \"age\":31, \"city\":\"New York\" };"
   ]
  },
  {
   "cell_type": "code",
   "execution_count": 2,
   "metadata": {},
   "outputs": [
    {
     "name": "stdout",
     "output_type": "stream",
     "text": [
      "{\"name\":\"John\",\"age\":31,\"city\":\"New York\"}\n"
     ]
    }
   ],
   "source": [
    "// ...converted into JSON:\n",
    "var myJSON = JSON.stringify(myObj);\n",
    "console.log(myJSON);"
   ]
  },
  {
   "cell_type": "code",
   "execution_count": 23,
   "metadata": {},
   "outputs": [
    {
     "name": "stdout",
     "output_type": "stream",
     "text": [
      "string\n"
     ]
    }
   ],
   "source": [
    "console.log(typeof myJSON);"
   ]
  },
  {
   "cell_type": "code",
   "execution_count": 27,
   "metadata": {},
   "outputs": [],
   "source": [
    "var str1 = JSON.stringify({ x: 5, y: 6 });"
   ]
  },
  {
   "cell_type": "code",
   "execution_count": 28,
   "metadata": {},
   "outputs": [
    {
     "data": {
      "text/plain": [
       "'{\"x\":5,\"y\":6}'"
      ]
     },
     "execution_count": 28,
     "metadata": {},
     "output_type": "execute_result"
    }
   ],
   "source": [
    "str1"
   ]
  },
  {
   "cell_type": "code",
   "execution_count": 29,
   "metadata": {},
   "outputs": [],
   "source": [
    "var str2 = JSON.stringify([new Number(3), new String('false'), new Boolean(false)]);"
   ]
  },
  {
   "cell_type": "code",
   "execution_count": 30,
   "metadata": {},
   "outputs": [
    {
     "data": {
      "text/plain": [
       "'[3,\"false\",false]'"
      ]
     },
     "execution_count": 30,
     "metadata": {},
     "output_type": "execute_result"
    }
   ],
   "source": [
    "str2"
   ]
  },
  {
   "cell_type": "code",
   "execution_count": 31,
   "metadata": {},
   "outputs": [],
   "source": [
    "var str3 = JSON.stringify({ x: [10, undefined, function(){}, Symbol('')] });"
   ]
  },
  {
   "cell_type": "code",
   "execution_count": 46,
   "metadata": {},
   "outputs": [],
   "source": [
    "// can't serialize code\n",
    "var str4 = JSON.stringify({'func': function(x){ return x**2}});"
   ]
  },
  {
   "cell_type": "code",
   "execution_count": 47,
   "metadata": {},
   "outputs": [
    {
     "data": {
      "text/plain": [
       "'{}'"
      ]
     },
     "execution_count": 47,
     "metadata": {},
     "output_type": "execute_result"
    }
   ],
   "source": [
    "str4"
   ]
  },
  {
   "cell_type": "code",
   "execution_count": 48,
   "metadata": {},
   "outputs": [],
   "source": [
    "var str5 = JSON.stringify(new Date(2006, 0, 2, 15, 4, 5)); //year, month, day, hour, min, secs"
   ]
  },
  {
   "cell_type": "code",
   "execution_count": 49,
   "metadata": {},
   "outputs": [
    {
     "data": {
      "text/plain": [
       "'\"2006-01-02T22:04:05.000Z\"'"
      ]
     },
     "execution_count": 49,
     "metadata": {},
     "output_type": "execute_result"
    }
   ],
   "source": [
    "str5"
   ]
  },
  {
   "cell_type": "markdown",
   "metadata": {},
   "source": [
    "## Deserialize string by parsing into JSON objects\n",
    "- typically, receiving end will do this"
   ]
  },
  {
   "cell_type": "code",
   "execution_count": 35,
   "metadata": {},
   "outputs": [],
   "source": [
    "var obj1 = JSON.parse(str1);"
   ]
  },
  {
   "cell_type": "code",
   "execution_count": 38,
   "metadata": {},
   "outputs": [
    {
     "name": "stdout",
     "output_type": "stream",
     "text": [
      "x = 5 y = 6\n"
     ]
    }
   ],
   "source": [
    "console.log(`x = ${obj1.x} y = ${obj1.y}`);"
   ]
  },
  {
   "cell_type": "code",
   "execution_count": 58,
   "metadata": {},
   "outputs": [],
   "source": [
    "var obj5 = JSON.parse(str5);"
   ]
  },
  {
   "cell_type": "code",
   "execution_count": 66,
   "metadata": {},
   "outputs": [
    {
     "data": {
      "text/plain": [
       "2006-01-02T22:04:05.000Z"
      ]
     },
     "execution_count": 66,
     "metadata": {},
     "output_type": "execute_result"
    }
   ],
   "source": [
    "// since obj5 is actually object of Date type; convert it so explictly\n",
    "obj5 = new Date(obj5)"
   ]
  },
  {
   "cell_type": "code",
   "execution_count": 69,
   "metadata": {},
   "outputs": [
    {
     "data": {
      "text/plain": [
       "1"
      ]
     },
     "execution_count": 69,
     "metadata": {},
     "output_type": "execute_result"
    }
   ],
   "source": [
    "obj5.getDay(); //0-6 Sun - Sat"
   ]
  },
  {
   "cell_type": "code",
   "execution_count": 71,
   "metadata": {},
   "outputs": [
    {
     "data": {
      "text/plain": [
       "2006"
      ]
     },
     "execution_count": 71,
     "metadata": {},
     "output_type": "execute_result"
    }
   ],
   "source": [
    "obj5.getFullYear();"
   ]
  },
  {
   "cell_type": "code",
   "execution_count": 72,
   "metadata": {},
   "outputs": [
    {
     "data": {
      "text/plain": [
       "0"
      ]
     },
     "execution_count": 72,
     "metadata": {},
     "output_type": "execute_result"
    }
   ],
   "source": [
    "obj5.getMonth(); // 0-11"
   ]
  },
  {
   "cell_type": "code",
   "execution_count": 73,
   "metadata": {},
   "outputs": [
    {
     "data": {
      "text/plain": [
       "2"
      ]
     },
     "execution_count": 73,
     "metadata": {},
     "output_type": "execute_result"
    }
   ],
   "source": [
    "obj5.getDate(); // 1-31"
   ]
  },
  {
   "cell_type": "code",
   "execution_count": 77,
   "metadata": {},
   "outputs": [
    {
     "name": "stdout",
     "output_type": "stream",
     "text": [
      "H:M:S = 15:4:5\n"
     ]
    }
   ],
   "source": [
    "console.log(`H:M:S = ${obj5.getHours()}:${obj5.getMinutes()}:${obj5.getSeconds()}`);"
   ]
  },
  {
   "cell_type": "markdown",
   "metadata": {},
   "source": [
    "## valid data types\n",
    "- a string\n",
    "- a number\n",
    "- an object (containing valid JSON values)\n",
    "- an array\n",
    "- a boolean\n",
    "- null"
   ]
  },
  {
   "cell_type": "code",
   "execution_count": 8,
   "metadata": {},
   "outputs": [],
   "source": [
    "// stringify JS array\n",
    "var nums = [1, 10, 100];\n",
    "var jsonNum = JSON.stringify(nums);"
   ]
  },
  {
   "cell_type": "code",
   "execution_count": 14,
   "metadata": {},
   "outputs": [
    {
     "data": {
      "text/plain": [
       "'[1,10,100]'"
      ]
     },
     "execution_count": 14,
     "metadata": {},
     "output_type": "execute_result"
    }
   ],
   "source": [
    "jsonNum"
   ]
  },
  {
   "cell_type": "code",
   "execution_count": 17,
   "metadata": {},
   "outputs": [],
   "source": [
    "// parse stringified array into array object\n",
    "var numObj = JSON.parse(jsonNum);"
   ]
  },
  {
   "cell_type": "code",
   "execution_count": 16,
   "metadata": {},
   "outputs": [
    {
     "data": {
      "text/plain": [
       "[ 1, 10, 100 ]"
      ]
     },
     "execution_count": 16,
     "metadata": {},
     "output_type": "execute_result"
    }
   ],
   "source": [
    "numObj"
   ]
  },
  {
   "cell_type": "code",
   "execution_count": 7,
   "metadata": {},
   "outputs": [
    {
     "data": {
      "text/plain": [
       "1"
      ]
     },
     "execution_count": 7,
     "metadata": {},
     "output_type": "execute_result"
    }
   ],
   "source": [
    "numObj[0]"
   ]
  }
 ],
 "metadata": {
  "kernelspec": {
   "display_name": "Javascript (Node.js)",
   "language": "javascript",
   "name": "javascript"
  },
  "language_info": {
   "file_extension": ".js",
   "mimetype": "application/javascript",
   "name": "javascript",
   "version": "11.14.0"
  }
 },
 "nbformat": 4,
 "nbformat_minor": 2
}
