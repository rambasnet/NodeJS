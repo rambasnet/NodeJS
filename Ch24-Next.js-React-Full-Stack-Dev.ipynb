{
 "cells": [
  {
   "cell_type": "markdown",
   "id": "heard-refrigerator",
   "metadata": {},
   "source": [
    "# NEXT.js\n",
    "- React full-stack framework for production\n",
    "- https://nextjs.org/\n",
    "\n",
    "## Learn Next.js\n",
    "- follow the instructions provided here: https://nextjs.org/learn/basics/create-nextjs-app?utm_source=next-site&utm_medium=homepage-cta&utm_campaign=next-website\n",
    "\n",
    "## MongoDB and Next.js App\n",
    "- follow the instructions provided here: https://developer.mongodb.com/how-to/nextjs-with-mongodb/\n",
    "- install create next app script - https://nextjs.org/docs/api-reference/create-next-app\n",
    "- create new project under some organization (create a new organization if one doesn't exist) say Next-JS-Demo in Mongo Atlas\n",
    "- create a new cluster\n",
    "- click ... Load Sample Dataset\n",
    "- add New Database User under Database Access\n",
    "- create the NextJS app (on a folder not within a repository) with create next app\n",
    "    - we'll create a new repository on GitHub to deploy the app to Vercel\n",
    "- see `NextJSDemos/mflix` for a working demo\n",
    "\n",
    "## Deploy\n",
    "- instantly deploy your Next.js site to a public URL with Vercel for free!"
   ]
  },
  {
   "cell_type": "code",
   "execution_count": null,
   "id": "fancy-litigation",
   "metadata": {},
   "outputs": [],
   "source": []
  }
 ],
 "metadata": {
  "kernelspec": {
   "display_name": "Javascript (Node.js)",
   "language": "javascript",
   "name": "javascript"
  },
  "language_info": {
   "file_extension": ".js",
   "mimetype": "application/javascript",
   "name": "javascript",
   "version": "15.12.0"
  }
 },
 "nbformat": 4,
 "nbformat_minor": 5
}
