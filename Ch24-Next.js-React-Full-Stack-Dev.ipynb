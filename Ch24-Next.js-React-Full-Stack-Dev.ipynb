{
 "cells": [
  {
   "cell_type": "markdown",
   "id": "heard-refrigerator",
   "metadata": {},
   "source": [
    "# NEXT.js\n",
    "- React full-stack framework for production\n",
    "- https://nextjs.org/\n",
    "\n",
    "## Learn Next.js\n",
    "- follow the instructions provided here: https://nextjs.org/learn/basics/create-nextjs-app?utm_source=next-site&utm_medium=homepage-cta&utm_campaign=next-website\n",
    "\n",
    "## MongoDB and Next.js App\n",
    "- follow the instruction provided here: https://developer.mongodb.com/how-to/nextjs-with-mongodb/\n",
    "\n",
    "## Deploy\n",
    "- instantly deploy your Next.js site to a public URL with Vercel for free!"
   ]
  },
  {
   "cell_type": "code",
   "execution_count": null,
   "id": "fancy-litigation",
   "metadata": {},
   "outputs": [],
   "source": []
  }
 ],
 "metadata": {
  "kernelspec": {
   "display_name": "Javascript (Node.js)",
   "language": "javascript",
   "name": "javascript"
  },
  "language_info": {
   "file_extension": ".js",
   "mimetype": "application/javascript",
   "name": "javascript",
   "version": "15.12.0"
  }
 },
 "nbformat": 4,
 "nbformat_minor": 5
}
